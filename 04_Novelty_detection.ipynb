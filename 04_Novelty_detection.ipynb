{
 "cells": [
  {
   "cell_type": "markdown",
   "metadata": {},
   "source": [
    "# iTunes music library analysis: Novelty Detection\n",
    "This is the 4th post in a series of posts devoted to analysis of iTunes music library using Scikit-Learn tools.   \n",
    "The purpose of the analysis is to detect tracks in my iTunes music library that would suit my fitness practices, which are \"cycling\", \"yoga\", and \"ballet\". To solve that problem I use machine learning classification algorithms.    \n",
    "\n",
    "The previous posts cover the following steps:\n",
    "1. [00_Summary](http://localhost:8888/notebooks/00_Summary.ipynb) — Summary of this analysis, its goals and methods, installation notes.\n",
    "2. [01_Data_preparation](http://localhost:8888/notebooks/01_Data_preparation.ipynb) — Data gathering and cleaning.\n",
    "3. [02_Data_visualisation](http://localhost:8888/notebooks/02_Data_Visualisation.ipynb) — Visualisation and overview of data.\n",
    "4. [03_Preprocessing](http://localhost:8888/notebooks/03_Preprocessing.ipynb) — Data preprocessing to use it as input for Scikit-learn machine learning algorithms.\n",
    "\n",
    "As a result of previous manipulations I have two databases (DBs): \n",
    "* training DB contains 88 tracks labeled with one of the three classes: \"ballet\", \"cycling\", \"yoga\";\n",
    "* test DB contains 444 non-labeled tracks. \n",
    "\n",
    "The three classes I have in the training set don't cover all classes of music I have in my iTunes music library (test DB). Because of that I can't apply a classification algorithm to the whole test set as it will also assign irrelevant tracks to some class.  \n",
    "\n",
    "In the following notebook I'm going to identify tracks in the unlabeled dataset that fit classes in the training dataset and eliminate tracks that completely unfit the classes. In the first part, part 'a', of the notebook I will provide the algorithm with the whole training dataset — with the three classes at once — to choose the boundary. In the 'b' part of the notebook I will provide the algorithm only with one class at a time. In the end I will compare the results of both approaches.  \n",
    "\n",
    "As a shortcut, in this notebook I import module \"data_processing\" where I perform steps from the [01_Data_preparation](http://localhost:8888/notebooks/01_Data_preparation.ipynb) and [03_Preprocessing](http://localhost:8888/notebooks/03_Preprocessing.ipynb) notebooks.  \n",
    "I start with importing the modules required in the following notebook."
   ]
  },
  {
   "cell_type": "code",
   "execution_count": 141,
   "metadata": {
    "collapsed": true
   },
   "outputs": [],
   "source": [
    "%matplotlib inline\n",
    "import matplotlib\n",
    "import matplotlib.pyplot as plt\n",
    "from IPython.display import display\n",
    "import pandas as pd\n",
    "import numpy as np\n",
    "from sqlitedict import SqliteDict\n",
    "\n",
    "# import my module from the previous notebook\n",
    "import data_processing as prs\n",
    "\n",
    "# set seaborn plot defaults\n",
    "import seaborn as sns; \n",
    "sns.set(palette=\"husl\")\n",
    "sns.set_context(\"notebook\")\n",
    "sns.set_style(\"ticks\")\n",
    "\n",
    "# format floating point numbers\n",
    "# within pandas data structures\n",
    "pd.set_option('float_format', '{:.2f}'.format)"
   ]
  },
  {
   "cell_type": "markdown",
   "metadata": {},
   "source": [
    "## Preprocessing data"
   ]
  },
  {
   "cell_type": "code",
   "execution_count": 142,
   "metadata": {
    "collapsed": false
   },
   "outputs": [],
   "source": [
    "# training DB\n",
    "train_db = SqliteDict('./labeled_tracks')\n",
    "# create a df with training data\n",
    "train_df = prs.read_db_in_pandas(train_db)\n",
    "\n",
    "# test DB\n",
    "test_db = SqliteDict('./itunes_tracks')\n",
    "# create a df with test data\n",
    "test_df = prs.read_db_in_pandas(test_db)\n",
    "\n",
    "# convert both df's to numpy arrays with standardized features\n",
    "train_std, test_std = prs.standardize_data(prs.convert_df_to_array(train_df), \n",
    "                                           prs.convert_df_to_array(test_df))\n"
   ]
  },
  {
   "cell_type": "markdown",
   "metadata": {},
   "source": [
    "## 04a One-Class SVM for novelty detection\n",
    "I use [One-Class SVM](http://scikit-learn.org/stable/modules/generated/sklearn.svm.OneClassSVM.html#sklearn.svm.OneClassSVM) unsupervised algorithm to identify tracks in the unlabeled dataset that fit classes in the training dataset. One-Class SVM is used for novelty detection, that is, given a set of samples (that is, the training set), it will detect the soft boundary of that set so as to classify new points (that is, the test set) as belonging to that set or not. It's important to point out that the algorithm treats the training data as not polluted by outliers.  \n",
    "\n",
    "In this part of the notebook I will provide the algorithm with the whole training dataset — with the three classes at once — to choose the boundary.\n",
    "\n",
    "I use the following parameters: radial basis function, or 'rbf', kernel; 'nu' value has been chosen by trial and error method calculating the error level. 'nu' value is an upper bound on the fraction of training errors and a lower bound of the fraction of support vectors."
   ]
  },
  {
   "cell_type": "code",
   "execution_count": 143,
   "metadata": {
    "collapsed": false
   },
   "outputs": [
    {
     "data": {
      "text/plain": [
       "OneClassSVM(cache_size=200, coef0=0.0, degree=3, gamma=0.0, kernel='rbf',\n",
       "      max_iter=-1, nu=0.07, random_state=None, shrinking=True, tol=0.001,\n",
       "      verbose=False)"
      ]
     },
     "execution_count": 143,
     "metadata": {},
     "output_type": "execute_result"
    }
   ],
   "source": [
    "from sklearn import svm\n",
    "\n",
    "# fit the model\n",
    "svm_model = svm.OneClassSVM(kernel=\"rbf\", nu=0.07)\n",
    "svm_model.fit(train_std)"
   ]
  },
  {
   "cell_type": "markdown",
   "metadata": {},
   "source": [
    "New observations, or test data, can now be sorted as inliers or outliers with a predict method. Inliers are labeled 1, while outliers are labeled -1."
   ]
  },
  {
   "cell_type": "code",
   "execution_count": 144,
   "metadata": {
    "collapsed": false
   },
   "outputs": [
    {
     "name": "stdout",
     "output_type": "stream",
     "text": [
      "Number of tracks that match the training set: 289.\n",
      "Number of tracks outside set boudaries: 155.\n"
     ]
    }
   ],
   "source": [
    "# make prediction\n",
    "test_novelty_pred = svm_model.predict(test_std)\n",
    "\n",
    "# number of tracks outside set boudaries\n",
    "n_error_test = test_novelty_pred[test_novelty_pred == -1].size\n",
    "\n",
    "print (\"Number of tracks that match the training set: {0}.\"\n",
    "       \"\\nNumber of tracks outside set boudaries: {1}.\"\n",
    "       .format((test_novelty_pred.size - n_error_test), \n",
    "               n_error_test))"
   ]
  },
  {
   "cell_type": "markdown",
   "metadata": {},
   "source": [
    "To assess the error of the model I make a prediction for the training set. "
   ]
  },
  {
   "cell_type": "code",
   "execution_count": 145,
   "metadata": {
    "collapsed": false
   },
   "outputs": [
    {
     "name": "stdout",
     "output_type": "stream",
     "text": [
      "15\n"
     ]
    }
   ],
   "source": [
    "# calculate the error\n",
    "error = svm_model.predict(train_std)\n",
    "print error[error == -1].size"
   ]
  },
  {
   "cell_type": "markdown",
   "metadata": {},
   "source": [
    "That means that 15 tracks in the training set were identified as outliers by the model, trained with that same set. This is rather high for the error, almost 17%. Let's plot the data to see what's going on under the hood."
   ]
  },
  {
   "cell_type": "markdown",
   "metadata": {},
   "source": [
    "## Make a plot\n",
    "To visualize the soft boundary of the training set, which One-Class SVM builds, I make a plot.  \n",
    "\n",
    "#### Dimensionality reduction\n",
    "Since it's hard to plot 11 dimensions in a 2 dimensional space, I need to perform dimensionality reduction with a PCA algorithm. Essentially, the PCA algorithm finds the optimal stretch and rotation in 11-dimensional space that allows to see the layout of classes.   \n",
    "\n",
    "I use the function from the previous notebook [03_Preprocessing](http://localhost:8888/notebooks/03_Preprocessing.ipynb). "
   ]
  },
  {
   "cell_type": "code",
   "execution_count": 146,
   "metadata": {
    "collapsed": true
   },
   "outputs": [],
   "source": [
    "# perform dimensionality reduction\n",
    "train_2d, test_2d = prs.reduce_dimensions(train_std, test_std)"
   ]
  },
  {
   "cell_type": "markdown",
   "metadata": {},
   "source": [
    "I retrain One-Class SVM algorithm with 2D data. I use [base.clone](http://scikit-learn.org/stable/modules/generated/sklearn.base.clone.html) function to copy the model in an estimator without actually copying attached data. It yields a new estimator with the same parameters that has not been fit on any data."
   ]
  },
  {
   "cell_type": "code",
   "execution_count": 147,
   "metadata": {
    "collapsed": false
   },
   "outputs": [
    {
     "name": "stdout",
     "output_type": "stream",
     "text": [
      "Number of tracks that match the training set: 301.\n",
      "Number of tracks outside set boudaries: 143.\n"
     ]
    }
   ],
   "source": [
    "from sklearn.base import clone\n",
    "\n",
    "# copy the model\n",
    "svm_model_2d = clone(svm_model)\n",
    "\n",
    "# train the model on a 2d data\n",
    "svm_model_2d.fit(train_2d)\n",
    "\n",
    "# make prediction\n",
    "test_novelty_2d = svm_model_2d.predict(test_2d)\n",
    "\n",
    "# number of tracks outside set boudaries\n",
    "n_error_test_2d = test_novelty_2d[test_novelty_2d == -1].size\n",
    "\n",
    "print (\"Number of tracks that match the training set: {0}.\"\n",
    "       \"\\nNumber of tracks outside set boudaries: {1}.\"\n",
    "       .format((test_novelty_2d.size - n_error_test_2d), \n",
    "               n_error_test_2d))"
   ]
  },
  {
   "cell_type": "markdown",
   "metadata": {},
   "source": [
    "Prediction for the 2-dimensional set differes from the one made for 11-dimensional data. But is not really important for plotting data.\n",
    "\n",
    "#### Plotting 2D data\n",
    "Now data are ready to be plotted. "
   ]
  },
  {
   "cell_type": "code",
   "execution_count": 148,
   "metadata": {
    "collapsed": false,
    "scrolled": true
   },
   "outputs": [
    {
     "data": {
      "image/png": "[encoded data removed]",
      "text/plain": [
       "<matplotlib.figure.Figure at 0x10b4f3f10>"
      ]
     },
     "metadata": {},
     "output_type": "display_data"
    }
   ],
   "source": [
    "# create a mesh to plot in\n",
    "x_min, x_max = train_2d[:, 0].min() - 2, train_2d[:, 0].max() + 2\n",
    "y_min, y_max = train_2d[:, 1].min() - 6, train_2d[:, 1].max() + 4\n",
    "# step size in the mesh\n",
    "h = 0.05 \n",
    "xx, yy = np.meshgrid(np.arange(x_min, x_max, h),\n",
    "                     np.arange(y_min, y_max, h))\n",
    "\n",
    "Z = svm_model_2d.decision_function(np.c_[xx.ravel(), yy.ravel()])\n",
    "Z = Z.reshape(xx.shape)\n",
    "\n",
    "plt.title(\"Novelty Detection\", {'fontsize': 14})\n",
    "\n",
    "plt.contourf(xx, yy, Z, levels=np.linspace(Z.min(), 0, 30), cmap=plt.cm.gist_earth)\n",
    "a = plt.contour(xx, yy, Z, levels=[0], linewidths=1, colors='grey')\n",
    "plt.contourf(xx, yy, Z, levels=[0, Z.max()], colors='grey', alpha=0.6)\n",
    "\n",
    "b1 = plt.scatter(train_2d[:, 0], train_2d[:, 1], c='navy') # train set\n",
    "b2 = plt.scatter(test_2d[:, 0], test_2d[:, 1], c='rosybrown') # test set\n",
    "plt.xlim((-5, 5))\n",
    "plt.ylim((-8, 6))\n",
    "plt.legend([a.collections[0], b1, b2],\n",
    "           [\"Learned Frontier\", \"Training Observations\",\n",
    "            \"Test Observations\"], bbox_to_anchor=(1.05, 1), borderaxespad=0.,\n",
    "           loc=2,\n",
    "           prop=matplotlib.font_manager.FontProperties(size=12))\n",
    "sns.despine()\n",
    "plt.show()"
   ]
  },
  {
   "cell_type": "markdown",
   "metadata": {},
   "source": [
    "This plot shows how One-Class SVM algorithm made decision about which side of the boundary each track lays on. On the plot, 301 tracks lay within the boundary and 143 tracks were left outside. When applied to the full 11-dimensional dataset, the result is a bit different. 289 tracks in the test set match the training, or labeled, data, and 155 tracks don't. \n",
    "\n",
    "In the following posts I'm going to work with these 289 tracks that were identified by One-Class SVM algorithm as a good match to the three classes. I record the result of novelty detection algorithm to the test set and then save on disk. Thus it will be more convenient to load data in the future posts, avoiding most pre-processing steps.  "
   ]
  },
  {
   "cell_type": "code",
   "execution_count": 149,
   "metadata": {
    "collapsed": false,
    "scrolled": true
   },
   "outputs": [
    {
     "name": "stdout",
     "output_type": "stream",
     "text": [
      "Shape before: (444,), number of dimensions: 1\n",
      "Shape after the magic: (444, 1), number of dimensions: 2\n"
     ]
    }
   ],
   "source": [
    "# add novelty results to the set\n",
    "# convert test_novelty_pred from a 1d array into a 2d array\n",
    "print ('Shape before: {}, number of dimensions: {}'\n",
    "        .format(test_novelty_pred.shape, test_novelty_pred.ndim))\n",
    "print ('Shape after the magic: {}, number of dimensions: {}'\n",
    "       .format(test_novelty_pred[:, None].shape, test_novelty_pred[:, None].ndim))"
   ]
  },
  {
   "cell_type": "code",
   "execution_count": 150,
   "metadata": {
    "collapsed": false
   },
   "outputs": [
    {
     "name": "stdout",
     "output_type": "stream",
     "text": [
      "Test set shape before concatenation: (444, 11)\n",
      "Test set shape after concatenation: (444, 12)\n"
     ]
    }
   ],
   "source": [
    "# create new array with results\n",
    "test_svm = np.concatenate((test_std, test_novelty_pred[:, None]), 1)\n",
    "print \"Test set shape before concatenation:\", test_std.shape\n",
    "print \"Test set shape after concatenation:\", test_svm.shape"
   ]
  },
  {
   "cell_type": "code",
   "execution_count": 151,
   "metadata": {
    "collapsed": false
   },
   "outputs": [],
   "source": [
    "# list column names for the DF\n",
    "cols = test_df.select_dtypes(exclude=[object]).columns.tolist()"
   ]
  },
  {
   "cell_type": "code",
   "execution_count": 152,
   "metadata": {
    "collapsed": false
   },
   "outputs": [
    {
     "data": {
      "text/html": [
       "<div>\n",
       "<table border=\"1\" class=\"dataframe\">\n",
       "  <thead>\n",
       "    <tr style=\"text-align: right;\">\n",
       "      <th></th>\n",
       "      <th>acousticness</th>\n",
       "      <th>danceability</th>\n",
       "      <th>energy</th>\n",
       "      <th>instrumentalness</th>\n",
       "      <th>key</th>\n",
       "      <th>loudness</th>\n",
       "      <th>mode</th>\n",
       "      <th>speechiness</th>\n",
       "      <th>tempo</th>\n",
       "      <th>time_signature</th>\n",
       "      <th>valence</th>\n",
       "      <th>match</th>\n",
       "    </tr>\n",
       "  </thead>\n",
       "  <tbody>\n",
       "    <tr>\n",
       "      <th>9</th>\n",
       "      <td>-0.75</td>\n",
       "      <td>0.23</td>\n",
       "      <td>-0.55</td>\n",
       "      <td>-0.53</td>\n",
       "      <td>1.26</td>\n",
       "      <td>-0.82</td>\n",
       "      <td>-1.17</td>\n",
       "      <td>0.82</td>\n",
       "      <td>-1.52</td>\n",
       "      <td>0.43</td>\n",
       "      <td>0.41</td>\n",
       "      <td>1.00</td>\n",
       "    </tr>\n",
       "    <tr>\n",
       "      <th>429</th>\n",
       "      <td>-0.70</td>\n",
       "      <td>0.69</td>\n",
       "      <td>-0.03</td>\n",
       "      <td>-0.51</td>\n",
       "      <td>-1.66</td>\n",
       "      <td>1.15</td>\n",
       "      <td>0.85</td>\n",
       "      <td>-0.76</td>\n",
       "      <td>-0.71</td>\n",
       "      <td>0.43</td>\n",
       "      <td>-0.09</td>\n",
       "      <td>1.00</td>\n",
       "    </tr>\n",
       "    <tr>\n",
       "      <th>440</th>\n",
       "      <td>-1.21</td>\n",
       "      <td>1.89</td>\n",
       "      <td>0.35</td>\n",
       "      <td>-0.52</td>\n",
       "      <td>-1.66</td>\n",
       "      <td>0.79</td>\n",
       "      <td>0.85</td>\n",
       "      <td>-0.89</td>\n",
       "      <td>0.06</td>\n",
       "      <td>0.43</td>\n",
       "      <td>1.01</td>\n",
       "      <td>-1.00</td>\n",
       "    </tr>\n",
       "    <tr>\n",
       "      <th>18</th>\n",
       "      <td>-0.96</td>\n",
       "      <td>1.03</td>\n",
       "      <td>1.35</td>\n",
       "      <td>-0.56</td>\n",
       "      <td>1.55</td>\n",
       "      <td>1.13</td>\n",
       "      <td>0.85</td>\n",
       "      <td>-0.92</td>\n",
       "      <td>-0.55</td>\n",
       "      <td>0.43</td>\n",
       "      <td>0.03</td>\n",
       "      <td>-1.00</td>\n",
       "    </tr>\n",
       "    <tr>\n",
       "      <th>267</th>\n",
       "      <td>-0.99</td>\n",
       "      <td>2.18</td>\n",
       "      <td>0.27</td>\n",
       "      <td>0.56</td>\n",
       "      <td>1.26</td>\n",
       "      <td>0.71</td>\n",
       "      <td>-1.17</td>\n",
       "      <td>0.07</td>\n",
       "      <td>-0.11</td>\n",
       "      <td>0.43</td>\n",
       "      <td>1.31</td>\n",
       "      <td>1.00</td>\n",
       "    </tr>\n",
       "  </tbody>\n",
       "</table>\n",
       "</div>"
      ],
      "text/plain": [
       "     acousticness  danceability  energy  instrumentalness   key  loudness  \\\n",
       "9           -0.75          0.23   -0.55             -0.53  1.26     -0.82   \n",
       "429         -0.70          0.69   -0.03             -0.51 -1.66      1.15   \n",
       "440         -1.21          1.89    0.35             -0.52 -1.66      0.79   \n",
       "18          -0.96          1.03    1.35             -0.56  1.55      1.13   \n",
       "267         -0.99          2.18    0.27              0.56  1.26      0.71   \n",
       "\n",
       "     mode  speechiness  tempo  time_signature  valence  match  \n",
       "9   -1.17         0.82  -1.52            0.43     0.41   1.00  \n",
       "429  0.85        -0.76  -0.71            0.43    -0.09   1.00  \n",
       "440  0.85        -0.89   0.06            0.43     1.01  -1.00  \n",
       "18   0.85        -0.92  -0.55            0.43     0.03  -1.00  \n",
       "267 -1.17         0.07  -0.11            0.43     1.31   1.00  "
      ]
     },
     "execution_count": 152,
     "metadata": {},
     "output_type": "execute_result"
    }
   ],
   "source": [
    "# make new DF with the result of novelty detection\n",
    "test_svm = pd.DataFrame(test_svm, columns=[cols+['match']])\n",
    "test_svm.sample(5)"
   ]
  },
  {
   "cell_type": "markdown",
   "metadata": {},
   "source": [
    "### Save data with HDF5\n",
    "Looking through the Pandas documentation, I came across HDF5. HDF5 allows to treat a local file as a hash and work directly with DataFrames. Very cool. It's trivial to read and write from this file using Pandas.  \n",
    "\n",
    "I save the standardized training and test set with novelty detection results on disk in the table format. Conceptually a table is shaped very much like a DataFrame, with rows and columns. A table may be appended to in the same or other sessions. In addition, delete & query type operations are supported."
   ]
  },
  {
   "cell_type": "code",
   "execution_count": 153,
   "metadata": {
    "collapsed": false,
    "scrolled": true
   },
   "outputs": [],
   "source": [
    "# save test df \n",
    "test_svm.to_hdf('music_data.h5', 'test_svm', format='table')"
   ]
  },
  {
   "cell_type": "code",
   "execution_count": 154,
   "metadata": {
    "collapsed": false
   },
   "outputs": [
    {
     "name": "stdout",
     "output_type": "stream",
     "text": [
      "<class 'pandas.io.pytables.HDFStore'>\n",
      "File path: music_data.h5\n",
      "/test_svm             frame_table  (typ->appendable,nrows->444,ncols->12,indexers->[index])\n",
      "/train_std            frame_table  (typ->appendable,nrows->88,ncols->11,indexers->[index]) \n"
     ]
    }
   ],
   "source": [
    "# convert training set back to DF\n",
    "train_std_df = pd.DataFrame(train_std, columns=cols)\n",
    "\n",
    "# save training df\n",
    "train_std_df.to_hdf('music_data.h5', 'train_std', format='table')\n",
    "\n",
    "# check the result\n",
    "print pd.HDFStore('music_data.h5')"
   ]
  },
  {
   "cell_type": "markdown",
   "metadata": {},
   "source": [
    "## Novelty detection by one class\n",
    "As an experiment, I'm going to provide One-Class SVM algorithm not with the whole training data but only with one class at a time. Thus the algorithm will choose in the test set only those observations that match that particular class. In the following notebooks I will compare the result of this approach with ML classification algorithms.\n",
    "\n",
    "#### Data preparation"
   ]
  },
  {
   "cell_type": "code",
   "execution_count": 155,
   "metadata": {
    "collapsed": false
   },
   "outputs": [],
   "source": [
    "# labels are stored in a separate array\n",
    "target = prs.target_to_numerical_format(train_df)\n",
    "\n",
    "# make Numpy arrays for each class\n",
    "ballet = prs.convert_df_to_array(train_std_df[target == 0])\n",
    "cycling = prs.convert_df_to_array(train_std_df[target == 1])\n",
    "yoga = prs.convert_df_to_array(train_std_df[target == 2])"
   ]
  },
  {
   "cell_type": "markdown",
   "metadata": {},
   "source": [
    "#### One-Class SVM algorithm — 'ballet' class"
   ]
  },
  {
   "cell_type": "code",
   "execution_count": 156,
   "metadata": {
    "collapsed": true
   },
   "outputs": [],
   "source": [
    "def new_observations_by_class(model, data):\n",
    "    \"\"\"Identify matching observations\n",
    "    in the test set.\n",
    "    Return a Numpy array where\n",
    "    inliers are 1, outliers are -1. \n",
    "    \"\"\"\n",
    "    # clone the model\n",
    "    model_c = clone(model)\n",
    "    \n",
    "    # fit the model\n",
    "    model_c.fit(data)\n",
    "    \n",
    "    # make prediction\n",
    "    novelty = model_c.predict(test_std)\n",
    "    \n",
    "    return novelty\n",
    "\n",
    "def novelty_detection_summary(novelty, label):\n",
    "    # number of tracks within boundaries\n",
    "    n = novelty[novelty == 1].size\n",
    "\n",
    "    # number of tracks outside set boudaries\n",
    "    n_error = novelty[novelty == -1].size\n",
    "\n",
    "    print (\"Number of tracks that match the {0} class: {1}.\"\n",
    "           \"\\nNumber of tracks outside the class boudaries: {2}.\"\n",
    "           .format(label, n, n_error))"
   ]
  },
  {
   "cell_type": "code",
   "execution_count": 157,
   "metadata": {
    "collapsed": false
   },
   "outputs": [
    {
     "name": "stdout",
     "output_type": "stream",
     "text": [
      "Number of tracks that match the ballet class: 67.\n",
      "Number of tracks outside the class boudaries: 377.\n"
     ]
    }
   ],
   "source": [
    "# make prediction\n",
    "nov_ballet = new_observations_by_class(svm_model, ballet)\n",
    "\n",
    "# print the result\n",
    "novelty_detection_summary(nov_ballet, 'ballet')"
   ]
  },
  {
   "cell_type": "markdown",
   "metadata": {},
   "source": [
    "#### One-Class SVM algorithm — 'cycling' class"
   ]
  },
  {
   "cell_type": "code",
   "execution_count": 160,
   "metadata": {
    "collapsed": false
   },
   "outputs": [
    {
     "name": "stdout",
     "output_type": "stream",
     "text": [
      "Number of tracks that match the cycling class: 120.\n",
      "Number of tracks outside the class boudaries: 324.\n"
     ]
    }
   ],
   "source": [
    "# make prediction\n",
    "nov_cycling = new_observations_by_class(svm_model, cycling)\n",
    "\n",
    "# print the result\n",
    "novelty_detection_summary(nov_cycling, 'cycling')"
   ]
  },
  {
   "cell_type": "markdown",
   "metadata": {},
   "source": [
    "#### One-Class SVM algorithm — 'yoga' class"
   ]
  },
  {
   "cell_type": "code",
   "execution_count": 161,
   "metadata": {
    "collapsed": false
   },
   "outputs": [
    {
     "name": "stdout",
     "output_type": "stream",
     "text": [
      "Number of tracks that match the yoga class: 24.\n",
      "Number of tracks outside the class boudaries: 420.\n"
     ]
    }
   ],
   "source": [
    "# make prediction\n",
    "nov_yoga = new_observations_by_class(svm_model, yoga)\n",
    "\n",
    "# print the result\n",
    "novelty_detection_summary(nov_yoga, 'yoga')"
   ]
  },
  {
   "cell_type": "code",
   "execution_count": 164,
   "metadata": {
    "collapsed": false
   },
   "outputs": [
    {
     "name": "stdout",
     "output_type": "stream",
     "text": [
      "Sum of all new observations equals to 211.\n"
     ]
    }
   ],
   "source": [
    "print (\"Sum of all new observations equals to {}.\"\n",
    "       .format(nov_ballet[nov_ballet == 1].size + \n",
    "               nov_cycling[nov_cycling == 1].size + \n",
    "               nov_yoga[nov_yoga == 1].size))"
   ]
  },
  {
   "cell_type": "markdown",
   "metadata": {},
   "source": [
    "#### Plot"
   ]
  },
  {
   "cell_type": "markdown",
   "metadata": {},
   "source": [
    "## Summary\n",
    "In this notebook I applied One-Class SVM algorithm to identify tracks in the unlabeled dataset that fit classes in the training dataset and eliminate tracks that completely unfit the classes. As a result, 288 tracks were chosen from the test set as matching the training set. In the following notebooks I will apply different machine learning classification algorithms to label 288 tracks with one of the three classes — \"cycling\", \"ballet\", and \"yoga\"."
   ]
  }
 ],
 "metadata": {
  "kernelspec": {
   "display_name": "Python 2",
   "language": "python",
   "name": "python2"
  },
  "language_info": {
   "codemirror_mode": {
    "name": "ipython",
    "version": 2
   },
   "file_extension": ".py",
   "mimetype": "text/x-python",
   "name": "python",
   "nbconvert_exporter": "python",
   "pygments_lexer": "ipython2",
   "version": "2.7.10"
  }
 },
 "nbformat": 4,
 "nbformat_minor": 0
}
