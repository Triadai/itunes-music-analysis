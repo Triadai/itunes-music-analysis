{
 "cells": [
  {
   "cell_type": "markdown",
   "metadata": {},
   "source": [
    "# iTunes music library analysis: Novelty Detection\n",
    "This is the 4th post in a series of posts devoted to analysis of iTunes music library using Scikit-Learn tools.   \n",
    "The purpose of the analysis is to detect tracks in my iTunes music library that would fit for my fitness practices, which are \"cycling\", \"yoga\", and \"ballet\". To solve that problem I use machine learning classification algorithms.    \n",
    "\n",
    "The previous posts cover the following steps:\n",
    "1. [00_Summary]() — Summary of this analysis, its goals and methods, installation notes.\n",
    "2. [01_Data_preparation]() — Data gathering and cleaning.\n",
    "3. [02_Data_visualisation]() — Visualisation and overview of data.\n",
    "4. [03_Preprocessing]() — Data preprocessing to use it as input for Scikit-learn machine learning algorithms.\n",
    "\n",
    "As a result of previous manipulations I have two databases (DBs): \n",
    "* training DB contains 88 labeled tracks with one of the three classes: \"ballet\", \"cycling\", \"yoga\";\n",
    "* test DB contains 444 non-labeled tracks. \n",
    "\n",
    "The three classes I have in the training set don't cover all classes of music I have in my iTunes music library (test DB). Because of that I can't apply a classification algorithm to the whole test set as it will assign even irrelevant tracks to some class.  \n",
    "\n",
    "In the following notebook I'm going to identify tracks in the unlabeled dataset that fit classes in the training dataset and eliminate tracks that completely unfit the classes. Only then I will perform classification.  \n",
    "\n",
    "For this purpose I use [One-Class SVM](http://scikit-learn.org/stable/modules/generated/sklearn.svm.OneClassSVM.html#sklearn.svm.OneClassSVM) unsupervised algorithm. One-Class SVM is used for novelty detection, that is, given a set of samples (training set), it will detect the soft boundary of that set so as to classify new points (test set) as belonging to that set or not. It's important to point out that the algorithm treats the training data as not polluted by outliers.\n",
    "\n",
    "As a shortcut, in this notebook I import module \"data_cleaning.py\" where I perform steps from the [01_Data_preparation]() notebook. I start with importing the modules required in the following notebook."
   ]
  },
  {
   "cell_type": "code",
   "execution_count": null,
   "metadata": {
    "collapsed": true
   },
   "outputs": [],
   "source": [
    "%matplotlib inline\n",
    "import matplotlib\n",
    "import matplotlib.pyplot as plt\n",
    "from IPython.display import display\n",
    "import pandas as pd\n",
    "import numpy as np\n",
    "from sqlitedict import SqliteDict\n",
    "\n",
    "# import my module from the previous notebook\n",
    "import data_cleaning as cln\n",
    "\n",
    "# set seaborn plot defaults\n",
    "import seaborn as sns; \n",
    "sns.set(palette=\"husl\")\n",
    "sns.set_context(\"notebook\")\n",
    "sns.set_style(\"ticks\")\n",
    "\n",
    "# format floating point numbers\n",
    "# within pandas data structures\n",
    "pd.set_option('float_format', '{:.2f}'.format)"
   ]
  },
  {
   "cell_type": "markdown",
   "metadata": {},
   "source": [
    "I use radial basis function, or 'rbf', kernel; 'nu' value has been chosen by trial and error method. (TODO: add short nu description)\n",
    "\n",
    "\n"
   ]
  }
 ],
 "metadata": {
  "kernelspec": {
   "display_name": "Python 2",
   "language": "python",
   "name": "python2"
  },
  "language_info": {
   "codemirror_mode": {
    "name": "ipython",
    "version": 2
   },
   "file_extension": ".py",
   "mimetype": "text/x-python",
   "name": "python",
   "nbconvert_exporter": "python",
   "pygments_lexer": "ipython2",
   "version": "2.7.10"
  }
 },
 "nbformat": 4,
 "nbformat_minor": 0
}
