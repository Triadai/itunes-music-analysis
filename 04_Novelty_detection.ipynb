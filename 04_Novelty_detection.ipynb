{
 "cells": [
  {
   "cell_type": "markdown",
   "metadata": {},
   "source": [
    "# iTunes music library analysis: Novelty Detection\n",
    "This is the 4th post in a series of posts devoted to analysis of iTunes music library using Scikit-Learn tools.   \n",
    "The purpose of the analysis is to detect tracks in my iTunes music library that would suit my fitness practices, which are \"cycling\", \"yoga\", and \"ballet\". To solve that problem I use machine learning classification algorithms.    \n",
    "\n",
    "The previous posts cover the following steps:\n",
    "1. [00_Summary](http://localhost:8888/notebooks/00_Summary.ipynb) — Summary of this analysis, its goals and methods, installation notes.\n",
    "2. [01_Data_preparation](http://localhost:8888/notebooks/01_Data_preparation.ipynb) — Data gathering and cleaning.\n",
    "3. [02_Data_visualisation](http://localhost:8888/notebooks/02_Data_Visualisation.ipynb) — Visualisation and overview of data.\n",
    "4. [03_Preprocessing](http://localhost:8888/notebooks/03_Preprocessing.ipynb) — Data preprocessing to use it as input for Scikit-learn machine learning algorithms.\n",
    "\n",
    "As a result of previous manipulations I have two databases (DBs): \n",
    "* training DB contains 88 tracks labeled with one of the three classes: \"ballet\", \"cycling\", \"yoga\";\n",
    "* test DB contains 444 non-labeled tracks. \n",
    "\n",
    "The three classes I have in the training set don't cover all classes of music I have in my iTunes music library (test DB). Because of that I can't apply a classification algorithm to the whole test set as it will also assign irrelevant tracks to some class.  \n",
    "\n",
    "In the following notebook I'm going to identify tracks in the unlabeled dataset that fit classes in the training dataset and eliminate tracks that completely unfit the classes. In the first part, part 'a', of the notebook I will provide the algorithm with the whole training dataset — with the three classes at once — to choose the boundary. In the 'b' part of the notebook I will provide the algorithm only with one class at a time. In the end I will compare the results of both approaches.  \n",
    "\n",
    "As a shortcut, in this notebook I import module \"data_processing\" where I perform steps from the [01_Data_preparation](http://localhost:8888/notebooks/01_Data_preparation.ipynb) and [03_Preprocessing](http://localhost:8888/notebooks/03_Preprocessing.ipynb) notebooks.  \n",
    "I start with importing the modules required in the following notebook."
   ]
  },
  {
   "cell_type": "code",
   "execution_count": 2,
   "metadata": {
    "collapsed": true
   },
   "outputs": [],
   "source": [
    "%matplotlib inline\n",
    "import matplotlib\n",
    "import matplotlib.pyplot as plt\n",
    "from IPython.display import display\n",
    "import pandas as pd\n",
    "import numpy as np\n",
    "from sqlitedict import SqliteDict\n",
    "\n",
    "# import my module from the previous notebook\n",
    "import data_processing as prs\n",
    "\n",
    "# set seaborn plot defaults\n",
    "import seaborn as sns; \n",
    "sns.set(palette=\"husl\")\n",
    "sns.set_context(\"notebook\")\n",
    "sns.set_style(\"ticks\")\n",
    "\n",
    "# format floating point numbers\n",
    "# within pandas data structures\n",
    "pd.set_option('float_format', '{:.2f}'.format)"
   ]
  },
  {
   "cell_type": "markdown",
   "metadata": {},
   "source": [
    "## Preprocessing data"
   ]
  },
  {
   "cell_type": "code",
   "execution_count": 3,
   "metadata": {
    "collapsed": false
   },
   "outputs": [],
   "source": [
    "# training DB\n",
    "train_db = SqliteDict('./labeled_tracks')\n",
    "# create a df with training data\n",
    "train_df = prs.read_db_in_pandas(train_db)\n",
    "\n",
    "# test DB\n",
    "test_db = SqliteDict('./itunes_tracks')\n",
    "# create a df with test data\n",
    "test_df = prs.read_db_in_pandas(test_db)\n",
    "\n",
    "# convert both df's to numpy arrays with standardized features\n",
    "train_std, test_std = prs.standardize_data(prs.convert_df_to_array(train_df), \n",
    "                                           prs.convert_df_to_array(test_df))\n"
   ]
  },
  {
   "cell_type": "markdown",
   "metadata": {},
   "source": [
    "## 04a One-Class SVM for novelty detection\n",
    "I use [One-Class SVM](http://scikit-learn.org/stable/modules/generated/sklearn.svm.OneClassSVM.html#sklearn.svm.OneClassSVM) unsupervised algorithm to identify tracks in the unlabeled dataset that fit classes in the training dataset. One-Class SVM is used for novelty detection, that is, given a set of samples (that is, the training set), it will detect the soft boundary of that set so as to classify new points (that is, the test set) as belonging to that set or not. It's important to point out that the algorithm treats the training data as not polluted by outliers.  \n",
    "\n",
    "In this part of the notebook I will provide the algorithm with the whole training dataset — with the three classes at once — to choose the boundary.\n",
    "\n",
    "I use the following parameters: radial basis function, or 'rbf', kernel; 'nu' value has been chosen by trial and error method calculating the error level. 'nu' value is an upper bound on the fraction of training errors and a lower bound of the fraction of support vectors."
   ]
  },
  {
   "cell_type": "code",
   "execution_count": 4,
   "metadata": {
    "collapsed": false
   },
   "outputs": [
    {
     "data": {
      "text/plain": [
       "OneClassSVM(cache_size=200, coef0=0.0, degree=3, gamma=0.0, kernel='rbf',\n",
       "      max_iter=-1, nu=0.07, random_state=None, shrinking=True, tol=0.001,\n",
       "      verbose=False)"
      ]
     },
     "execution_count": 4,
     "metadata": {},
     "output_type": "execute_result"
    }
   ],
   "source": [
    "from sklearn import svm\n",
    "\n",
    "# fit the model\n",
    "svm_model = svm.OneClassSVM(kernel=\"rbf\", nu=0.07)\n",
    "svm_model.fit(train_std)"
   ]
  },
  {
   "cell_type": "markdown",
   "metadata": {},
   "source": [
    "New observations, or test data, can now be sorted as inliers or outliers with a predict method. Inliers are labeled 1, while outliers are labeled -1."
   ]
  },
  {
   "cell_type": "code",
   "execution_count": 5,
   "metadata": {
    "collapsed": false
   },
   "outputs": [
    {
     "name": "stdout",
     "output_type": "stream",
     "text": [
      "Number of tracks that match the training set: 289.\n",
      "Number of tracks outside set boudaries: 155.\n"
     ]
    }
   ],
   "source": [
    "# make prediction\n",
    "test_novelty_pred = svm_model.predict(test_std)\n",
    "\n",
    "# number of tracks outside set boudaries\n",
    "n_error_test = test_novelty_pred[test_novelty_pred == -1].size\n",
    "\n",
    "print (\"Number of tracks that match the training set: {0}.\"\n",
    "       \"\\nNumber of tracks outside set boudaries: {1}.\"\n",
    "       .format((test_novelty_pred.size - n_error_test), \n",
    "               n_error_test))"
   ]
  },
  {
   "cell_type": "markdown",
   "metadata": {},
   "source": [
    "To assess the error of the model I make a prediction for the training set. "
   ]
  },
  {
   "cell_type": "code",
   "execution_count": 6,
   "metadata": {
    "collapsed": false
   },
   "outputs": [
    {
     "name": "stdout",
     "output_type": "stream",
     "text": [
      "15\n"
     ]
    }
   ],
   "source": [
    "# calculate the error\n",
    "error = svm_model.predict(train_std)\n",
    "print error[error == -1].size"
   ]
  },
  {
   "cell_type": "markdown",
   "metadata": {},
   "source": [
    "That means that 15 tracks in the training set were identified as outliers by the model, trained with that same set. This is rather high for the error, almost 17%. Let's plot the data to see what's going on under the hood."
   ]
  },
  {
   "cell_type": "markdown",
   "metadata": {},
   "source": [
    "## Make a plot\n",
    "To visualize the soft boundary of the training set, which One-Class SVM builds, I make a plot.  \n",
    "\n",
    "#### Dimensionality reduction\n",
    "Since it's hard to plot 11 dimensions in a 2 dimensional space, I need to perform dimensionality reduction with a PCA algorithm. Essentially, the PCA algorithm finds the optimal stretch and rotation in 11-dimensional space that allows to see the layout of classes.   \n",
    "\n",
    "I use the function from the previous notebook [03_Preprocessing](http://localhost:8888/notebooks/03_Preprocessing.ipynb). "
   ]
  },
  {
   "cell_type": "code",
   "execution_count": 7,
   "metadata": {
    "collapsed": true
   },
   "outputs": [],
   "source": [
    "# perform dimensionality reduction\n",
    "train_2d, test_2d = prs.reduce_dimensions(train_std, test_std)"
   ]
  },
  {
   "cell_type": "markdown",
   "metadata": {},
   "source": [
    "I retrain One-Class SVM algorithm with 2D data. Otherwise the decision_function will raise an error when plotiing it in 2D space.  \n",
    "I use [base.clone](http://scikit-learn.org/stable/modules/generated/sklearn.base.clone.html) function to copy the model in an estimator without actually copying attached data. It yields a new estimator with the same parameters that has not been fit on any data."
   ]
  },
  {
   "cell_type": "code",
   "execution_count": 8,
   "metadata": {
    "collapsed": false
   },
   "outputs": [
    {
     "name": "stdout",
     "output_type": "stream",
     "text": [
      "Number of tracks that match the training set: 301.\n",
      "Number of tracks outside set boudaries: 143.\n"
     ]
    }
   ],
   "source": [
    "from sklearn.base import clone\n",
    "\n",
    "# copy the model\n",
    "svm_model_2d = clone(svm_model)\n",
    "\n",
    "# train the model on a 2d data\n",
    "svm_model_2d.fit(train_2d)\n",
    "\n",
    "# make prediction\n",
    "test_novelty_2d = svm_model_2d.predict(test_2d)\n",
    "\n",
    "# number of tracks outside set boudaries\n",
    "n_error_test_2d = test_novelty_2d[test_novelty_2d == -1].size\n",
    "\n",
    "print (\"Number of tracks that match the training set: {0}.\"\n",
    "       \"\\nNumber of tracks outside set boudaries: {1}.\"\n",
    "       .format((test_novelty_2d.size - n_error_test_2d), \n",
    "               n_error_test_2d))"
   ]
  },
  {
   "cell_type": "markdown",
   "metadata": {},
   "source": [
    "Prediction for the 2-dimensional set differes from the one made for 11-dimensional data. But is not really important for plotting data.\n",
    "\n",
    "#### Plotting 2D data\n",
    "Now data are ready to be plotted. "
   ]
  },
  {
   "cell_type": "code",
   "execution_count": 182,
   "metadata": {
    "collapsed": false,
    "scrolled": true
   },
   "outputs": [
    {
     "data": {
      "image/png": "[encoded data removed]",
      "text/plain": [
       "<matplotlib.figure.Figure at 0x111c15ed0>"
      ]
     },
     "metadata": {},
     "output_type": "display_data"
    }
   ],
   "source": [
    "def plot_oneclass_svm(model, train_data, test_data, plt_title, ax):\n",
    "    # create a mesh to plot in\n",
    "    x_min, x_max = train_data[:, 0].min() - 5, train_data[:, 0].max() + 5\n",
    "    y_min, y_max = train_data[:, 1].min() - 7, train_data[:, 1].max() + 6\n",
    "    # step size in the mesh\n",
    "    h = 0.05 \n",
    "    xx, yy = np.meshgrid(np.arange(x_min, x_max, h),\n",
    "                         np.arange(y_min, y_max, h))\n",
    "\n",
    "    Z = model.decision_function(np.c_[xx.ravel(), yy.ravel()])\n",
    "    Z = Z.reshape(xx.shape)\n",
    "\n",
    "    ax.set_title(plt_title, {'fontsize': 14})\n",
    "\n",
    "    ax.contourf(xx, yy, Z, levels=np.linspace(Z.min(), 0, 30), cmap=plt.cm.gist_earth)\n",
    "    a = ax.contour(xx, yy, Z, levels=[0], linewidths=1, colors='grey')\n",
    "    ax.contourf(xx, yy, Z, levels=[0, Z.max()], colors='grey', alpha=0.6)\n",
    "\n",
    "    b1 = ax.scatter(test_data[:, 0], test_data[:, 1], c='rosybrown', s=10) # test set\n",
    "    b2 = ax.scatter(train_data[:, 0], train_data[:, 1], c='navy', s=10) # train set\n",
    "    \n",
    "    ax.set_xlim((-5, 6))\n",
    "    ax.set_ylim((-9, 6))\n",
    "    sns.despine()\n",
    "\n",
    "fig, ax = plt.subplots()\n",
    "plt.legend([a.collections[0], b1, b2],\n",
    "               [\"Learned Frontier\", \"Training Observations\",\n",
    "                \"Test Observations\"], bbox_to_anchor=(1.05, 1), borderaxespad=0.,\n",
    "               loc=2,\n",
    "               prop=matplotlib.font_manager.FontProperties(size=12))\n",
    "plot_oneclass_svm(svm_model_2d, train_2d, test_2d, \"One-Class SVM with three classes\", ax=ax)"
   ]
  },
  {
   "cell_type": "markdown",
   "metadata": {},
   "source": [
    "This plot shows how One-Class SVM algorithm made decision about which side of the boundary each track lays on. On the plot, 301 tracks lay within the boundary and 143 tracks were left outside. When applied to the full 11-dimensional dataset, the result is a bit different. 289 tracks in the test set match the training, or labeled, data, and 155 tracks don't. \n",
    "\n",
    "In the following posts I'm going to work with these 289 tracks that were identified by One-Class SVM algorithm as a good match to the three classes. I record the result of novelty detection algorithm to the test set and then save on disk. Thus it will be more convenient to load data in the future posts, avoiding most pre-processing steps.  "
   ]
  },
  {
   "cell_type": "code",
   "execution_count": 10,
   "metadata": {
    "collapsed": false,
    "scrolled": true
   },
   "outputs": [
    {
     "name": "stdout",
     "output_type": "stream",
     "text": [
      "Shape before: (444,), number of dimensions: 1\n",
      "Shape after the magic: (444, 1), number of dimensions: 2\n"
     ]
    }
   ],
   "source": [
    "# add novelty results to the set\n",
    "# convert test_novelty_pred from a 1d array into a 2d array\n",
    "print ('Shape before: {}, number of dimensions: {}'\n",
    "        .format(test_novelty_pred.shape, test_novelty_pred.ndim))\n",
    "print ('Shape after the magic: {}, number of dimensions: {}'\n",
    "       .format(test_novelty_pred[:, None].shape, test_novelty_pred[:, None].ndim))"
   ]
  },
  {
   "cell_type": "code",
   "execution_count": 11,
   "metadata": {
    "collapsed": false
   },
   "outputs": [
    {
     "name": "stdout",
     "output_type": "stream",
     "text": [
      "Test set shape before concatenation: (444, 11)\n",
      "Test set shape after concatenation: (444, 12)\n"
     ]
    }
   ],
   "source": [
    "# create new array with results\n",
    "test_svm = np.concatenate((test_std, test_novelty_pred[:, None]), 1)\n",
    "print \"Test set shape before concatenation:\", test_std.shape\n",
    "print \"Test set shape after concatenation:\", test_svm.shape"
   ]
  },
  {
   "cell_type": "code",
   "execution_count": 12,
   "metadata": {
    "collapsed": false
   },
   "outputs": [],
   "source": [
    "# list column names for the DF\n",
    "cols = test_df.select_dtypes(exclude=[object]).columns.tolist()"
   ]
  },
  {
   "cell_type": "code",
   "execution_count": 13,
   "metadata": {
    "collapsed": false
   },
   "outputs": [
    {
     "data": {
      "text/html": [
       "<div>\n",
       "<table border=\"1\" class=\"dataframe\">\n",
       "  <thead>\n",
       "    <tr style=\"text-align: right;\">\n",
       "      <th></th>\n",
       "      <th>acousticness</th>\n",
       "      <th>danceability</th>\n",
       "      <th>energy</th>\n",
       "      <th>instrumentalness</th>\n",
       "      <th>key</th>\n",
       "      <th>loudness</th>\n",
       "      <th>mode</th>\n",
       "      <th>speechiness</th>\n",
       "      <th>tempo</th>\n",
       "      <th>time_signature</th>\n",
       "      <th>valence</th>\n",
       "      <th>match</th>\n",
       "    </tr>\n",
       "  </thead>\n",
       "  <tbody>\n",
       "    <tr>\n",
       "      <th>343</th>\n",
       "      <td>0.54</td>\n",
       "      <td>0.37</td>\n",
       "      <td>-0.56</td>\n",
       "      <td>-0.41</td>\n",
       "      <td>-0.49</td>\n",
       "      <td>0.06</td>\n",
       "      <td>0.85</td>\n",
       "      <td>-0.48</td>\n",
       "      <td>0.56</td>\n",
       "      <td>0.43</td>\n",
       "      <td>-0.85</td>\n",
       "      <td>1.00</td>\n",
       "    </tr>\n",
       "    <tr>\n",
       "      <th>2</th>\n",
       "      <td>0.72</td>\n",
       "      <td>1.91</td>\n",
       "      <td>-0.55</td>\n",
       "      <td>1.14</td>\n",
       "      <td>0.39</td>\n",
       "      <td>-0.34</td>\n",
       "      <td>0.85</td>\n",
       "      <td>-0.09</td>\n",
       "      <td>0.30</td>\n",
       "      <td>0.43</td>\n",
       "      <td>1.25</td>\n",
       "      <td>1.00</td>\n",
       "    </tr>\n",
       "    <tr>\n",
       "      <th>12</th>\n",
       "      <td>-0.28</td>\n",
       "      <td>-0.95</td>\n",
       "      <td>-0.60</td>\n",
       "      <td>1.12</td>\n",
       "      <td>1.26</td>\n",
       "      <td>0.18</td>\n",
       "      <td>-1.17</td>\n",
       "      <td>-0.81</td>\n",
       "      <td>0.64</td>\n",
       "      <td>-0.88</td>\n",
       "      <td>-0.01</td>\n",
       "      <td>1.00</td>\n",
       "    </tr>\n",
       "    <tr>\n",
       "      <th>261</th>\n",
       "      <td>-1.19</td>\n",
       "      <td>0.43</td>\n",
       "      <td>1.31</td>\n",
       "      <td>-0.31</td>\n",
       "      <td>-1.08</td>\n",
       "      <td>0.64</td>\n",
       "      <td>0.85</td>\n",
       "      <td>-0.87</td>\n",
       "      <td>0.05</td>\n",
       "      <td>0.43</td>\n",
       "      <td>2.02</td>\n",
       "      <td>1.00</td>\n",
       "    </tr>\n",
       "    <tr>\n",
       "      <th>423</th>\n",
       "      <td>-0.50</td>\n",
       "      <td>0.09</td>\n",
       "      <td>0.91</td>\n",
       "      <td>-0.87</td>\n",
       "      <td>0.39</td>\n",
       "      <td>1.02</td>\n",
       "      <td>0.85</td>\n",
       "      <td>1.05</td>\n",
       "      <td>0.92</td>\n",
       "      <td>0.43</td>\n",
       "      <td>0.80</td>\n",
       "      <td>1.00</td>\n",
       "    </tr>\n",
       "  </tbody>\n",
       "</table>\n",
       "</div>"
      ],
      "text/plain": [
       "     acousticness  danceability  energy  instrumentalness   key  loudness  \\\n",
       "343          0.54          0.37   -0.56             -0.41 -0.49      0.06   \n",
       "2            0.72          1.91   -0.55              1.14  0.39     -0.34   \n",
       "12          -0.28         -0.95   -0.60              1.12  1.26      0.18   \n",
       "261         -1.19          0.43    1.31             -0.31 -1.08      0.64   \n",
       "423         -0.50          0.09    0.91             -0.87  0.39      1.02   \n",
       "\n",
       "     mode  speechiness  tempo  time_signature  valence  match  \n",
       "343  0.85        -0.48   0.56            0.43    -0.85   1.00  \n",
       "2    0.85        -0.09   0.30            0.43     1.25   1.00  \n",
       "12  -1.17        -0.81   0.64           -0.88    -0.01   1.00  \n",
       "261  0.85        -0.87   0.05            0.43     2.02   1.00  \n",
       "423  0.85         1.05   0.92            0.43     0.80   1.00  "
      ]
     },
     "execution_count": 13,
     "metadata": {},
     "output_type": "execute_result"
    }
   ],
   "source": [
    "# make new DF with the result of novelty detection\n",
    "test_svm = pd.DataFrame(test_svm, columns=[cols+['match']])\n",
    "test_svm.sample(5)"
   ]
  },
  {
   "cell_type": "markdown",
   "metadata": {},
   "source": [
    "### Save data with HDF5\n",
    "Looking through the Pandas documentation, I came across HDF5. HDF5 allows to treat a local file as a hash and work directly with DataFrames. Very cool. It's trivial to read and write from this file using Pandas.  \n",
    "\n",
    "I save the standardized training and test set with novelty detection results on disk in the table format. Conceptually a table is shaped very much like a DataFrame, with rows and columns. A table may be appended to in the same or other sessions. In addition, delete & query type operations are supported."
   ]
  },
  {
   "cell_type": "code",
   "execution_count": 153,
   "metadata": {
    "collapsed": false,
    "scrolled": true
   },
   "outputs": [],
   "source": [
    "# save test df \n",
    "test_svm.to_hdf('music_data.h5', 'test_svm', format='table')"
   ]
  },
  {
   "cell_type": "code",
   "execution_count": 15,
   "metadata": {
    "collapsed": false
   },
   "outputs": [
    {
     "name": "stdout",
     "output_type": "stream",
     "text": [
      "<class 'pandas.io.pytables.HDFStore'>\n",
      "File path: music_data.h5\n",
      "/test_svm             frame_table  (typ->appendable,nrows->444,ncols->12,indexers->[index])\n",
      "/train_std            frame_table  (typ->appendable,nrows->88,ncols->11,indexers->[index]) \n"
     ]
    }
   ],
   "source": [
    "# convert training set back to DF\n",
    "train_std_df = pd.DataFrame(train_std, columns=cols)\n",
    "\n",
    "# save training df\n",
    "train_std_df.to_hdf('music_data.h5', 'train_std', format='table')\n",
    "\n",
    "# check the result\n",
    "print pd.HDFStore('music_data.h5')"
   ]
  },
  {
   "cell_type": "markdown",
   "metadata": {},
   "source": [
    "## Novelty detection by one class\n",
    "As an experiment, I'm going to provide One-Class SVM algorithm not with the whole training data but only with one class at a time. Thus the algorithm will choose in the test set only observations that match that particular class. I will also filter for every class unique inliers that match only that one class.  \n",
    "\n",
    "In the following notebooks I will compare the result of this approach with ML classification algorithms.\n",
    "\n",
    "#### Data preparation"
   ]
  },
  {
   "cell_type": "code",
   "execution_count": 17,
   "metadata": {
    "collapsed": false
   },
   "outputs": [],
   "source": [
    "# labels are stored in a separate array\n",
    "target = prs.target_to_numerical_format(train_df)\n",
    "\n",
    "# make Numpy arrays for each class\n",
    "ballet = prs.convert_df_to_array(train_std_df[target == 0])\n",
    "cycling = prs.convert_df_to_array(train_std_df[target == 1])\n",
    "yoga = prs.convert_df_to_array(train_std_df[target == 2])"
   ]
  },
  {
   "cell_type": "code",
   "execution_count": 26,
   "metadata": {
    "collapsed": true
   },
   "outputs": [],
   "source": [
    "def new_observations_by_class(model, data, test_data):\n",
    "    \"\"\"Identify matching observations\n",
    "    in the test set.\n",
    "    Return a Numpy array where\n",
    "    inliers are 1, outliers are -1. \n",
    "    \"\"\"\n",
    "    # clone the model\n",
    "    model_c = clone(model)\n",
    "    \n",
    "    # fit the model\n",
    "    model_c.fit(data)\n",
    "    \n",
    "    # make prediction\n",
    "    novelty = model_c.predict(test_data)\n",
    "    \n",
    "    return novelty\n",
    "\n",
    "def novelty_detection_summary(novelty, label):\n",
    "    # number of tracks within boundaries\n",
    "    n = novelty[novelty == 1].size\n",
    "\n",
    "    # number of tracks outside set boudaries\n",
    "    n_error = novelty[novelty == -1].size\n",
    "\n",
    "    print (\"Number of tracks that match the {0} class: {1}.\"\n",
    "           \"\\nNumber of tracks outside the class boudaries: {2}.\"\n",
    "           .format(label, n, n_error))"
   ]
  },
  {
   "cell_type": "markdown",
   "metadata": {},
   "source": [
    "#### One-Class SVM algorithm — 'ballet' class"
   ]
  },
  {
   "cell_type": "code",
   "execution_count": 57,
   "metadata": {
    "collapsed": false
   },
   "outputs": [
    {
     "name": "stdout",
     "output_type": "stream",
     "text": [
      "Number of tracks that match the ballet class: 67.\n",
      "Number of tracks outside the class boudaries: 377.\n"
     ]
    }
   ],
   "source": [
    "# make prediction\n",
    "nov_ballet = new_observations_by_class(svm_model, \n",
    "                                       ballet, \n",
    "                                       test_std)\n",
    "\n",
    "# print the result\n",
    "novelty_detection_summary(nov_ballet, 'ballet')"
   ]
  },
  {
   "cell_type": "markdown",
   "metadata": {},
   "source": [
    "#### One-Class SVM algorithm — 'cycling' class"
   ]
  },
  {
   "cell_type": "code",
   "execution_count": 103,
   "metadata": {
    "collapsed": false
   },
   "outputs": [
    {
     "name": "stdout",
     "output_type": "stream",
     "text": [
      "Number of tracks that match the cycling class: 120.\n",
      "Number of tracks outside the class boudaries: 324.\n"
     ]
    }
   ],
   "source": [
    "# make prediction\n",
    "nov_cycling = new_observations_by_class(svm_model, \n",
    "                                        cycling, \n",
    "                                        test_std)\n",
    "\n",
    "# print the result\n",
    "novelty_detection_summary(nov_cycling, 'cycling')"
   ]
  },
  {
   "cell_type": "markdown",
   "metadata": {},
   "source": [
    "#### One-Class SVM algorithm — 'yoga' class"
   ]
  },
  {
   "cell_type": "code",
   "execution_count": 29,
   "metadata": {
    "collapsed": false
   },
   "outputs": [
    {
     "name": "stdout",
     "output_type": "stream",
     "text": [
      "Number of tracks that match the yoga class: 24.\n",
      "Number of tracks outside the class boudaries: 420.\n"
     ]
    }
   ],
   "source": [
    "# make prediction\n",
    "nov_yoga = new_observations_by_class(svm_model, \n",
    "                                     yoga, test_std)\n",
    "\n",
    "# print the result\n",
    "novelty_detection_summary(nov_yoga, 'yoga')"
   ]
  },
  {
   "cell_type": "markdown",
   "metadata": {},
   "source": [
    "#### Unique new observations \n",
    "I want to filter for every class unique new observations that match only that one class. To do that I exclude from the test set observations matching two other classes.   "
   ]
  },
  {
   "cell_type": "code",
   "execution_count": 117,
   "metadata": {
    "collapsed": false
   },
   "outputs": [
    {
     "name": "stdout",
     "output_type": "stream",
     "text": [
      "Number of tracks that match the ballet class: 67.\n",
      "Number of unique tracks that match only the ballet class: 41.\n"
     ]
    }
   ],
   "source": [
    "ballet_unique = new_observations_by_class(svm_model, \n",
    "                                        ballet, \n",
    "                                        test_std[(nov_cycling == -1) & \n",
    "                                                 (nov_yoga == -1)])\n",
    "\n",
    "print (\"Number of tracks that match the {0} class: {1}.\"\n",
    "       \"\\nNumber of unique tracks that match only the {0} class: {2}.\"\n",
    "       .format('ballet', nov_ballet[nov_ballet == 1].size,\n",
    "              ballet_unique[ballet_unique == 1].size))"
   ]
  },
  {
   "cell_type": "code",
   "execution_count": 116,
   "metadata": {
    "collapsed": false
   },
   "outputs": [
    {
     "name": "stdout",
     "output_type": "stream",
     "text": [
      "Number of tracks that match the cycling class: 120.\n",
      "Number of unique tracks that match only the cycling class: 115.\n"
     ]
    }
   ],
   "source": [
    "cycling_unique = new_observations_by_class(svm_model, \n",
    "                                        cycling, \n",
    "                                        test_std[(nov_ballet == -1) & \n",
    "                                                 (nov_yoga == -1)])\n",
    "\n",
    "print (\"Number of tracks that match the {0} class: {1}.\"\n",
    "       \"\\nNumber of unique tracks that match only the {0} class: {2}.\"\n",
    "       .format('cycling', nov_cycling[nov_cycling == 1].size,\n",
    "              cycling_unique[cycling_unique == 1].size))"
   ]
  },
  {
   "cell_type": "code",
   "execution_count": 118,
   "metadata": {
    "collapsed": false
   },
   "outputs": [
    {
     "name": "stdout",
     "output_type": "stream",
     "text": [
      "Number of tracks that match the yoga class: 24.\n",
      "Number of unique tracks that match only the yoga class: 3.\n"
     ]
    }
   ],
   "source": [
    "yoga_unique = new_observations_by_class(svm_model, \n",
    "                                        yoga, \n",
    "                                        test_std[(nov_cycling == -1) & \n",
    "                                                 (nov_ballet == -1)])\n",
    "\n",
    "print (\"Number of tracks that match the {0} class: {1}.\"\n",
    "       \"\\nNumber of unique tracks that match only the {0} class: {2}.\"\n",
    "       .format('yoga', nov_yoga[nov_yoga == 1].size,\n",
    "              yoga_unique[yoga_unique == 1].size))"
   ]
  },
  {
   "cell_type": "code",
   "execution_count": 132,
   "metadata": {
    "collapsed": false
   },
   "outputs": [
    {
     "name": "stdout",
     "output_type": "stream",
     "text": [
      "Sum of all new observations equals to 185.\n",
      "Sum of unique new observations equals to 159.\n"
     ]
    }
   ],
   "source": [
    "print (\"Sum of new observations equals to {}.\"\n",
    "       .format(len(test_std[(nov_ballet == 1) | \n",
    "                            (nov_cycling == 1) | \n",
    "                            (nov_yoga == 1)])))\n",
    "       \n",
    "print (\"Sum of unique new observations equals to {}.\"\n",
    "       .format(ballet_unique[ballet_unique == 1].size + \n",
    "               cycling_unique[cycling_unique == 1].size + \n",
    "               yoga_unique[yoga_unique == 1].size))"
   ]
  },
  {
   "cell_type": "markdown",
   "metadata": {},
   "source": [
    "When One-Class SVM algorithm is provided with labeled data class by class and not all classes together, the soft boundary is tighter and the prediction is narrower. When I provided the algorithm with all classes in one go, 289 track were chosen as matching. However when I provided it with classes one by one, sum of matching tracks reduced to 185. \n",
    "\n",
    "## Make a plot\n",
    "It turned out to be quite challenging to plot that boundary in a 2D space. I attampted to use the same approach as in the 4a part of the notebook, that is to reduce dimensions of both sets to 2D using PCA algorithm, retrain the One-Class SVM algorithm with the new 2D data, plot the result. However when I apply One-Class SVM algorithm to a 2D data, the prediction is few times higher than for the 11D data. \n",
    "\n",
    "### One-Class SVM with 2D data\n",
    "I retrain PCA algorithm with every class separately because this way the algorithm will find better projection for the class."
   ]
  },
  {
   "cell_type": "code",
   "execution_count": 93,
   "metadata": {
    "collapsed": false
   },
   "outputs": [],
   "source": [
    "# make 2D arrays for each class\n",
    "ballet_2d, test_ballet = prs.reduce_dimensions(ballet, test_std)\n",
    "cycling_2d, test_cycling = prs.reduce_dimensions(cycling, test_std)\n",
    "yoga_2d, test_yoga = prs.reduce_dimensions(yoga, test_std)"
   ]
  },
  {
   "cell_type": "markdown",
   "metadata": {},
   "source": [
    "#### Predictions for 2D data\n",
    "##### 'ballet' class"
   ]
  },
  {
   "cell_type": "code",
   "execution_count": 149,
   "metadata": {
    "collapsed": false
   },
   "outputs": [
    {
     "name": "stdout",
     "output_type": "stream",
     "text": [
      "2-dimensional data\n",
      "Number of tracks that match the ballet class: 228.\n",
      "Number of tracks outside the class boudaries: 216.\n"
     ]
    }
   ],
   "source": [
    "# copy the model\n",
    "svm_model_ballet = clone(svm_model)\n",
    "\n",
    "# train the model on a 2d data\n",
    "svm_model_ballet.fit(ballet_2d)\n",
    "\n",
    "# make prediction\n",
    "ballet_pred_2d = svm_model_ballet.predict(test_ballet)\n",
    "\n",
    "print \"2-dimensional data\"\n",
    "novelty_detection_summary(ballet_pred_2d, 'ballet')"
   ]
  },
  {
   "cell_type": "markdown",
   "metadata": {},
   "source": [
    "##### 'cycling' class"
   ]
  },
  {
   "cell_type": "code",
   "execution_count": 150,
   "metadata": {
    "collapsed": false
   },
   "outputs": [
    {
     "name": "stdout",
     "output_type": "stream",
     "text": [
      "2-dimensional data\n",
      "Number of tracks that match the cycling class: 229.\n",
      "Number of tracks outside the class boudaries: 215.\n"
     ]
    }
   ],
   "source": [
    "# copy the model\n",
    "svm_model_cy = clone(svm_model)\n",
    "\n",
    "# train the model on a 2d data\n",
    "svm_model_cy.fit(cycling_2d)\n",
    "\n",
    "# make prediction\n",
    "cycling_pred_2d = svm_model_cy.predict(test_cycling)\n",
    "\n",
    "print \"2-dimensional data\"\n",
    "novelty_detection_summary(cycling_pred_2d, 'cycling')"
   ]
  },
  {
   "cell_type": "markdown",
   "metadata": {},
   "source": [
    "##### 'yoga' class"
   ]
  },
  {
   "cell_type": "code",
   "execution_count": 151,
   "metadata": {
    "collapsed": false
   },
   "outputs": [
    {
     "name": "stdout",
     "output_type": "stream",
     "text": [
      "2-dimensional data\n",
      "Number of tracks that match the yoga class: 58.\n",
      "Number of tracks outside the class boudaries: 386.\n"
     ]
    }
   ],
   "source": [
    "# copy the model\n",
    "svm_model_yoga = clone(svm_model)\n",
    "\n",
    "# train the model on a 2d data\n",
    "svm_model_yoga.fit(yoga_2d)\n",
    "\n",
    "# make prediction\n",
    "yoga_pred_2d = svm_model_yoga.predict(test_yoga)\n",
    "\n",
    "print \"2-dimensional data\"\n",
    "novelty_detection_summary(yoga_pred_2d, 'yoga')"
   ]
  },
  {
   "cell_type": "markdown",
   "metadata": {},
   "source": [
    "#### Plot 2D data"
   ]
  },
  {
   "cell_type": "code",
   "execution_count": 183,
   "metadata": {
    "collapsed": false
   },
   "outputs": [
    {
     "data": {
      "text/plain": [
       "<matplotlib.legend.Legend at 0x1116a7c50>"
      ]
     },
     "execution_count": 183,
     "metadata": {},
     "output_type": "execute_result"
    },
    {
     "data": {
      "image/png": "[encoded data removed]",
      "text/plain": [
       "<matplotlib.figure.Figure at 0x1126cc650>"
      ]
     },
     "metadata": {},
     "output_type": "display_data"
    }
   ],
   "source": [
    "fig, (ax1, ax2, ax3) = plt.subplots(ncols=3, figsize=(15,4))\n",
    "# plot_oneclass_svm(svm_model_ballet, ballet_2d, test_ballet, t, ax)\n",
    "\n",
    "# plot_oneclass_svm(model, train_data, test_data, plt_title, ax\n",
    "\n",
    "for n,m,ax,d,t in zip(('ballet', 'cycling', 'yoga'), #class labels\n",
    "                        (svm_model_ballet, svm_model_cy, svm_model_yoga), #  model\n",
    "                        (ax1, ax2, ax3),\n",
    "                        (ballet_2d, cycling_2d, yoga_2d), # class data\n",
    "                        (test_ballet, test_cycling, test_yoga)): # test data\n",
    "    plot_oneclass_svm(m, d, t, n, ax)\n",
    "\n",
    "plt.legend([a.collections[0], b1, b2],\n",
    "               [\"Learned Frontier\", \"Training Observations\",\n",
    "                \"Test Observations\"], bbox_to_anchor=(1.05, 1), borderaxespad=0.,\n",
    "               loc=2,\n",
    "               prop=matplotlib.font_manager.FontProperties(size=12))"
   ]
  },
  {
   "cell_type": "markdown",
   "metadata": {},
   "source": [
    "The plot above doesn't really represent the decision bounary of One-Class SVM algorithm. The result for the 11-dimensional data differs a lot from the 2D data. But still the plot gives some intuition about the prediction logic. \n",
    "\n",
    "## Summary\n",
    "In this notebook I applied One-Class SVM algorithm to identify tracks in the unlabeled dataset that fit classes in the training dataset and eliminate tracks that completely unfit the classes. \n",
    "\n",
    "In the first part, part 'a', of the notebook I provided the algorithm with the whole training dataset — with the three classes at once — to choose the boundary. As a result, 289 tracks were chosen from the test set as matching the training set.  \n",
    "\n",
    "In the 'b' part of the notebook I provided the algorithm only with one class at a time. As a result of this approach only 211 tracks were chosen from the test set as mathcing the training set, among which 67 tracks were identified as belonging to 'ballet' class, 120 tracks — to 'cycling' class, and 24 tracks — to 'yoga' class. \n",
    "\n",
    "In the following notebooks I will apply different machine learning classification algorithms to label 288 tracks with one of the three classes — \"cycling\", \"ballet\", and \"yoga\". In the end I will compare the results with predictions made by One-Class SVM algorithm trained with one class at a time."
   ]
  }
 ],
 "metadata": {
  "kernelspec": {
   "display_name": "Python 2",
   "language": "python",
   "name": "python2"
  },
  "language_info": {
   "codemirror_mode": {
    "name": "ipython",
    "version": 2
   },
   "file_extension": ".py",
   "mimetype": "text/x-python",
   "name": "python",
   "nbconvert_exporter": "python",
   "pygments_lexer": "ipython2",
   "version": "2.7.10"
  }
 },
 "nbformat": 4,
 "nbformat_minor": 0
}
