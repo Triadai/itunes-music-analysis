{
 "cells": [
  {
   "cell_type": "markdown",
   "metadata": {},
   "source": [
    "# iTunes music library analysis\n",
    "\n",
    "## A scientific way of creating playlists for fitness classes\n",
    "— March 2016 —\n",
    "\n",
    "### 1. Goals (Why?)\n",
    "1.1. Explore the basics of Scikit-Learn tools, including:\n",
    "* Classification algorithms;\n",
    "* Novelty detection;\n",
    "* Model validation;\n",
    "* Dimesionality reduction. \n",
    "\n",
    "A good song for the practice gives mood, rhythm, flow to the class. \n",
    "\n",
    "\n",
    "### 2. Analysis overview (How?)\n",
    "\n",
    "### 3. Installation notes\n",
    "This notebook requires the following packages:    \n",
    "* numpy version 1.5 or later: http://www.numpy.org/\n",
    "* pandas version 0.17.0 or later: http://pandas.pydata.org/\n",
    "* scipy version 0.10 or later: http://www.scipy.org/\n",
    "* matplotlib version 1.3 or later: http://matplotlib.org/\n",
    "* scikit-learn version 0.14 or later: http://scikit-learn.org\n",
    "* ipython version 2.0 or later, with notebook support: http://ipython.org\n",
    "* seaborn version 0.6 or later: https://stanford.edu/~mwaskom/software/seaborn/#\n",
    "* pyechonest version 9.0.0 or later: https://github.com/echonest/pyechonest\n",
    "* pyItunes library: https://github.com/liamks/pyitunes\n",
    "* sqlitedict library: https://github.com/piskvorky/sqlitedict\n",
    "\n",
    "### 4. Notebook listing\n",
    "You can view materials using the nbviewer service.\n",
    "\n",
    "Note, however, that you cannot modify or run the contents within nbviewer. To modify them, first download the repository, change to the notebooks directory, and run ipython notebook. For more information on the IPython notebook, see http://ipython.org/notebook.html"
   ]
  },
  {
   "cell_type": "code",
   "execution_count": null,
   "metadata": {
    "collapsed": true
   },
   "outputs": [],
   "source": []
  }
 ],
 "metadata": {
  "kernelspec": {
   "display_name": "Python 2",
   "language": "python",
   "name": "python2"
  },
  "language_info": {
   "codemirror_mode": {
    "name": "ipython",
    "version": 2
   },
   "file_extension": ".py",
   "mimetype": "text/x-python",
   "name": "python",
   "nbconvert_exporter": "python",
   "pygments_lexer": "ipython2",
   "version": "2.7.10"
  }
 },
 "nbformat": 4,
 "nbformat_minor": 0
}
