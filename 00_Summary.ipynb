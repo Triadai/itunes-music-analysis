{
 "cells": [
  {
   "cell_type": "markdown",
   "metadata": {},
   "source": [
    "# Machine Learning for music playlists\n",
    "\n",
    "## Creating music playlists in iTunes with Scikit-Learn tools\n",
    "— March 2016 —\n",
    "\n",
    "### 1. Analysis overview\n",
    "This is a series of posts devoted to analysis of iTunes music library using **[Scikit-Learn](http://scikit-learn.org)** tools and the **[Echo Nest API](http://the.echonest.com/)**.\n",
    "\n",
    "The purpose of the analysis is to detect tracks in my iTunes music library that would suit my fitness practices, which are \"cycling\", \"yoga\", and \"ballet\". The reason I chose these categories is that I wanted to have two very different classes of songs (\"yoga\" and \"cycling\") and one more alike class — \"ballet\" — that might float between the other two classes. I'd like to find out what attributes make that difference.   \n",
    "\n",
    "To solve that problem I use Scikit-Learn machine learning classification algorithms.\n",
    "\n",
    "\n",
    "### 2. Goals\n",
    "2.1. Build music playlists from my iTunes music library for my fitness practices.\n",
    "\n",
    "2.2. Explore the basics of Scikit-Learn tools, including:\n",
    "* Classification algorithms;\n",
    "* One-Class SVM for novelty detection;\n",
    "* Model validation;\n",
    "* Data Standardization;\n",
    "* Dimensionality reduction.\n",
    "\n",
    "2.3. Explore the Echo Nest API and track attributes. \n",
    "\n",
    "2.4. Document the learning process step-by-step for myself and for other newbies at data analysis. Please take into consideration that I'm a greenhorn not only at data analysis but also at Python. \n",
    "\n",
    "### 3. Contents\n",
    "The series of posts includes the following notebooks:  \n",
    "[00_Summary](http://localhost:8888/notebooks/00_Summary.ipynb) — Summary of this analysis, its goals and methods, installation notes.  \n",
    "[01_Data_preparation](http://localhost:8888/notebooks/01_Data_preparation.ipynb) — Data gathering and cleaning.  \n",
    "[02_Data_visualisation](http://localhost:8888/notebooks/02_Data_Visualisation.ipynb) — Visualisation and overview of data.  \n",
    "[03_Preprocessing](http://localhost:8888/notebooks/03_Preprocessing.ipynb) — Data preprocessing to use it as input for Scikit-learn machine learning algorithms.  \n",
    "[04_Novelty_detection](http://localhost:8888/notebooks/04_Novelty_detection.ipynb) — Apply One-Class SVM algorithm to identify matching tracks in the unlabeled dataset.  \n",
    "[]()  \n",
    "  \n",
    "\n",
    "### 4. Installation notes\n",
    "This notebook requires the following packages:    \n",
    "* numpy version 1.5 or later: http://www.numpy.org/\n",
    "* pandas version 0.17.0 or later: http://pandas.pydata.org/\n",
    "* scipy version 0.10 or later: http://www.scipy.org/\n",
    "* matplotlib version 1.3 or later: http://matplotlib.org/\n",
    "* scikit-learn version 0.14 or later: http://scikit-learn.org\n",
    "* ipython version 2.0 or later, with notebook support: http://ipython.org\n",
    "* seaborn version 0.7.0 or later: https://stanford.edu/~mwaskom/software/seaborn/#\n",
    "* pyechonest version 9.0.0 or later: https://github.com/echonest/pyechonest\n",
    "* pyItunes library: https://github.com/liamks/pyitunes\n",
    "* sqlitedict library: https://github.com/piskvorky/sqlitedict\n",
    "* HDF5 requires several libraries, detailed instructions for installation can be found in [this blog post](http://rustyrazorblade.com/2014/11/getting-started-with-pandas-and-hdf5/). \n",
    "\n",
    "### 4. Notebook listing\n",
    "You can view materials using the nbviewer service.\n",
    "\n",
    "Note, however, that you cannot modify or run the contents within nbviewer. To modify them, first download the repository, change to the notebooks directory, and run ipython notebook. For more information on the IPython notebook, see http://ipython.org/notebook.html"
   ]
  }
 ],
 "metadata": {
  "kernelspec": {
   "display_name": "Python 2",
   "language": "python",
   "name": "python2"
  },
  "language_info": {
   "codemirror_mode": {
    "name": "ipython",
    "version": 2
   },
   "file_extension": ".py",
   "mimetype": "text/x-python",
   "name": "python",
   "nbconvert_exporter": "python",
   "pygments_lexer": "ipython2",
   "version": "2.7.10"
  }
 },
 "nbformat": 4,
 "nbformat_minor": 0
}
