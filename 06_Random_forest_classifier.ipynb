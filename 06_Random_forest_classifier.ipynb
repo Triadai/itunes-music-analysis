{
 "cells": [
  {
   "cell_type": "markdown",
   "metadata": {},
   "source": [
    "# 06. Machine Learning for music playlists: Random forest classification\n",
    "This is the 6th post in a series of posts devoted to analysis of iTunes music library using Scikit-Learn tools.   \n",
    "The purpose of the analysis is to detect tracks in my iTunes music library that would suit my fitness practices, which are \"cycling\", \"yoga\", and \"ballet\". To solve that problem I use supervised ML classification techniques. \n",
    "\n",
    "Previous posts cover the following steps:\n",
    "* [00_Summary](http://localhost:8888/notebooks/00_Summary.ipynb) — Summary of this analysis, its goals and methods, installation notes.\n",
    "* [01_Data_preparation](http://localhost:8888/notebooks/01_Data_preparation.ipynb) — Data gathering and cleaning.\n",
    "* [02_Data_visualisation](http://localhost:8888/notebooks/02_Data_Visualisation.ipynb) — Visualisation and overview of data.\n",
    "* [03_Preprocessing](http://localhost:8888/notebooks/03_Preprocessing.ipynb) — Data preprocessing to use it as input for Scikit-learn machine learning algorithms.\n",
    "* [04_Novelty_detection](http://localhost:8888/notebooks/04_Novelty_detection.ipynb) — One-Class SVM algorithm to identify matching tracks in the unlabeled dataset.\n",
    "* [05_kNN_classifier](http://localhost:8888/notebooks/05_kNN_classifier.ipynb) — K-nearest neighbors classification to assign class labels to 289 tracks in the test set.\n",
    "\n",
    "I have two tables in HDF5 format: \n",
    "* training set contains 88 tracks labeled with one of the three classes: \"ballet\", \"cycling\", \"yoga\". Labels are stored as a pandas Series;\n",
    "* test set contains 289 tracks labeled as matching the training set and 155 tracks as non-matching. In the [04_Novelty_detection](http://localhost:8888/notebooks/04_Novelty_detection.ipynb) notebook I used One-Class SVM to choose tracks in the test set that match training data. As a result, each track was identified either as matching or not.\n",
    "\n",
    "In this post I continue testing different supervised ML classifiers. This time I apply **[Random Forest classifier](http://scikit-learn.org/stable/modules/generated/sklearn.ensemble.RandomForestClassifier.html)** to assign every track in the matching group one of the classes. \n",
    "\n",
    "As a shortcut, I import modules:\n",
    "* \"data_processing\" with functions from the [01_Data_preparation](http://localhost:8888/notebooks/01_Data_preparation.ipynb) and [03_Preprocessing](http://localhost:8888/notebooks/03_Preprocessing.ipynb) notebooks;\n",
    "* \"estimator_handling\" with functions from the [05_kNN_classification](http://localhost:8888/notebooks/05_KNN_classification.ipynb) notebook. In this post I will not go into detail about algorithms I used in the previous post [05_kNN_classification](http://localhost:8888/notebooks/05_KNN_classification.ipynb).\n",
    "\n",
    "I start with importing the modules required in the following notebook."
   ]
  },
  {
   "cell_type": "code",
   "execution_count": 1,
   "metadata": {
    "collapsed": false
   },
   "outputs": [],
   "source": [
    "%matplotlib inline\n",
    "import matplotlib\n",
    "import matplotlib.pyplot as plt\n",
    "from IPython.display import display\n",
    "import pandas as pd\n",
    "import numpy as np\n",
    "\n",
    "# import my modules\n",
    "import data_processing as prs\n",
    "import estimator_handling as esh\n",
    "\n",
    "# set seaborn plot defaults\n",
    "import seaborn as sns; \n",
    "sns.set(palette=\"husl\")\n",
    "sns.set_context(\"notebook\")\n",
    "sns.set_style(\"ticks\")\n",
    "\n",
    "# format floating point numbers\n",
    "# within pandas data structures\n",
    "pd.set_option('float_format', '{:.2f}'.format)"
   ]
  },
  {
   "cell_type": "markdown",
   "metadata": {},
   "source": [
    "### Read in data"
   ]
  },
  {
   "cell_type": "code",
   "execution_count": 2,
   "metadata": {
    "collapsed": false
   },
   "outputs": [
    {
     "data": {
      "text/plain": [
       "<class 'pandas.io.pytables.HDFStore'>\n",
       "File path: music_data.h5\n",
       "/knn_df               frame_table  (typ->appendable,nrows->289,ncols->14,indexers->[index])\n",
       "/rfc_df               frame_table  (typ->appendable,nrows->289,ncols->14,indexers->[index])\n",
       "/target               series       (shape->[88])                                           \n",
       "/test_svm             frame_table  (typ->appendable,nrows->444,ncols->12,indexers->[index])\n",
       "/train_std            frame_table  (typ->appendable,nrows->88,ncols->11,indexers->[index]) "
      ]
     },
     "execution_count": 2,
     "metadata": {},
     "output_type": "execute_result"
    }
   ],
   "source": [
    "# open an hdf5 file\n",
    "store = pd.HDFStore('music_data.h5')\n",
    "store"
   ]
  },
  {
   "cell_type": "markdown",
   "metadata": {},
   "source": [
    "Both sets are stored as pandas DataFrames. I convert these to numpy arrays because Scikit-Learn algorithms expect a numpy array as input. I also save index in the test set as a column when converting it to a numpy array. Thus it will be easier to identify each track after classification, where I'll be using only tracks labeled as matching.\n",
    "Data in both sets were standardized in the pre-processing step."
   ]
  },
  {
   "cell_type": "code",
   "execution_count": 3,
   "metadata": {
    "collapsed": true
   },
   "outputs": [],
   "source": [
    "# get training data (standardized) and convert to numpy array\n",
    "train_std = prs.convert_df_to_array(store['train_std'])\n",
    "\n",
    "# get test data (standardized) and convert to numpy array\n",
    "test_std = prs.convert_df_to_array(store['test_svm'].reset_index())\n",
    "\n",
    "# matching tracks\n",
    "match_test = test_std[(test_std[:, 12] == 1)]\n",
    "\n",
    "# target data as numpy array\n",
    "target = store['target'].values\n",
    "\n",
    "# list class labels\n",
    "labels = ['ballet', 'cycling', 'yoga']"
   ]
  },
  {
   "cell_type": "code",
   "execution_count": 4,
   "metadata": {
    "collapsed": false
   },
   "outputs": [
    {
     "name": "stdout",
     "output_type": "stream",
     "text": [
      "Data overview: \n",
      "Train data shape: (88, 11)\n",
      "Test data shape: (444, 13)\n",
      "Test data only with matching tracks: (289, 13)\n"
     ]
    }
   ],
   "source": [
    "print \"Data overview: \"\n",
    "print \"Train data shape:\", train_std.shape\n",
    "print \"Test data shape:\", test_std.shape\n",
    "print \"Test data only with matching tracks:\", match_test.shape"
   ]
  },
  {
   "cell_type": "markdown",
   "metadata": {},
   "source": [
    "## Random Forest Classifier\n",
    "Random forests are an example of an ensemble learner built on decision trees. The estimator builds multiple decision trees on various sub-samples of the dataset and let them vote on how to classify inputs. The estimator uses averaging to improve the predictive accuracy and control over-fitting. In training a decision tree classifier, the algorithm looks at the features and decides which \"splits\" contain the most information."
   ]
  },
  {
   "cell_type": "code",
   "execution_count": 5,
   "metadata": {
    "collapsed": true
   },
   "outputs": [],
   "source": [
    "from sklearn.ensemble import RandomForestClassifier"
   ]
  },
  {
   "cell_type": "markdown",
   "metadata": {},
   "source": [
    "The process I use for classification task is as follows:\n",
    "1. Tune parameters using GridSearchCV.\n",
    "2. Create and train the model.\n",
    "3. Estimate model accuracy score.\n",
    "4. Make predictions and estimate probability.\n",
    "5. Record the result to the set and DF.\n",
    "6. Review the results.\n",
    "7. Visualize the model.\n",
    "8. Apply probability threshold. \n",
    "9. Summary\n",
    "\n",
    "### 1. Tune parameters using GridSearchCV\n",
    "I start with GridSearchCV parameter tuning to choose: \n",
    "* the number of trees in the forest (n_estimators: 10, 50 or 100), \n",
    "* the optimal number of features considered at each step a branch is made (max_features: 50%, 70% or 100% of features); \n",
    "* the maximum number of branches (max_depth: 5 levels, 8 levels or no limitations)."
   ]
  },
  {
   "cell_type": "code",
   "execution_count": 6,
   "metadata": {
    "collapsed": false,
    "scrolled": true
   },
   "outputs": [
    {
     "data": {
      "text/plain": [
       "[mean: 0.75000, std: 0.06023, params: {'max_features': 0.7, 'n_estimators': 10, 'max_depth': 5.0},\n",
       " mean: 0.75000, std: 0.07207, params: {'max_features': 1.0, 'n_estimators': 10, 'max_depth': 8.0},\n",
       " mean: 0.76136, std: 0.12289, params: {'max_features': 0.5, 'n_estimators': 10, 'max_depth': 8.0},\n",
       " mean: 0.77273, std: 0.06794, params: {'max_features': 1.0, 'n_estimators': 10, 'max_depth': 5.0},\n",
       " mean: 0.77273, std: 0.05011, params: {'max_features': 1.0, 'n_estimators': 50, 'max_depth': 5.0},\n",
       " mean: 0.77273, std: 0.10390, params: {'max_features': 0.7, 'n_estimators': 10, 'max_depth': 8.0},\n",
       " mean: 0.78409, std: 0.05968, params: {'max_features': 0.7, 'n_estimators': 100, 'max_depth': 8.0},\n",
       " mean: 0.78409, std: 0.09764, params: {'max_features': 1.0, 'n_estimators': 10, 'max_depth': None},\n",
       " mean: 0.79545, std: 0.08469, params: {'max_features': 0.5, 'n_estimators': 10, 'max_depth': 5.0},\n",
       " mean: 0.79545, std: 0.07967, params: {'max_features': 0.7, 'n_estimators': 50, 'max_depth': 5.0},\n",
       " mean: 0.80682, std: 0.05852, params: {'max_features': 0.5, 'n_estimators': 100, 'max_depth': 5.0},\n",
       " mean: 0.80682, std: 0.04527, params: {'max_features': 0.7, 'n_estimators': 100, 'max_depth': 5.0},\n",
       " mean: 0.80682, std: 0.05353, params: {'max_features': 0.5, 'n_estimators': 50, 'max_depth': 8.0},\n",
       " mean: 0.80682, std: 0.04799, params: {'max_features': 0.5, 'n_estimators': 10, 'max_depth': None},\n",
       " mean: 0.80682, std: 0.03043, params: {'max_features': 0.7, 'n_estimators': 100, 'max_depth': None},\n",
       " mean: 0.81818, std: 0.03765, params: {'max_features': 1.0, 'n_estimators': 100, 'max_depth': 5.0},\n",
       " mean: 0.81818, std: 0.05809, params: {'max_features': 0.5, 'n_estimators': 100, 'max_depth': 8.0},\n",
       " mean: 0.81818, std: 0.06229, params: {'max_features': 0.7, 'n_estimators': 50, 'max_depth': 8.0},\n",
       " mean: 0.81818, std: 0.03765, params: {'max_features': 1.0, 'n_estimators': 50, 'max_depth': 8.0},\n",
       " mean: 0.81818, std: 0.05025, params: {'max_features': 0.5, 'n_estimators': 50, 'max_depth': None},\n",
       " mean: 0.81818, std: 0.08616, params: {'max_features': 0.7, 'n_estimators': 10, 'max_depth': None},\n",
       " mean: 0.82955, std: 0.07584, params: {'max_features': 0.5, 'n_estimators': 50, 'max_depth': 5.0},\n",
       " mean: 0.82955, std: 0.03193, params: {'max_features': 0.5, 'n_estimators': 100, 'max_depth': None},\n",
       " mean: 0.82955, std: 0.07463, params: {'max_features': 0.7, 'n_estimators': 50, 'max_depth': None},\n",
       " mean: 0.82955, std: 0.07463, params: {'max_features': 1.0, 'n_estimators': 50, 'max_depth': None},\n",
       " mean: 0.82955, std: 0.06692, params: {'max_features': 1.0, 'n_estimators': 100, 'max_depth': None},\n",
       " mean: 0.85227, std: 0.04661, params: {'max_features': 1.0, 'n_estimators': 100, 'max_depth': 8.0}]"
      ]
     },
     "execution_count": 6,
     "metadata": {},
     "output_type": "execute_result"
    }
   ],
   "source": [
    "from sklearn.grid_search import GridSearchCV\n",
    "\n",
    "# tune parameters\n",
    "parameter_grid = {'n_estimators': [10, 50, 100],\n",
    "                  'max_features': [0.5, 0.7, 1.],\n",
    "                  'max_depth': [5., 8., None]}\n",
    "\n",
    "grid_search = GridSearchCV(RandomForestClassifier(), \n",
    "                           parameter_grid, cv=6)\n",
    "\n",
    "grid_search.fit(train_std, target)\n",
    "\n",
    "# review the result\n",
    "sorted(grid_search.grid_scores_, \n",
    "       key=lambda x: x.mean_validation_score)"
   ]
  },
  {
   "cell_type": "code",
   "execution_count": 7,
   "metadata": {
    "collapsed": false
   },
   "outputs": [
    {
     "name": "stdout",
     "output_type": "stream",
     "text": [
      "The best-performing tuning parameters\n",
      "Best score: 0.8523;\n",
      "Number of trees: 100;\n",
      "Max features: 100%;\n",
      "Max branches: 8.0.\n"
     ]
    }
   ],
   "source": [
    "# define the winner\n",
    "rfc_best_score = grid_search.best_score_\n",
    "best_params = grid_search.best_params_\n",
    "n_estimators = best_params['n_estimators']\n",
    "max_features = best_params['max_features']\n",
    "max_depth = best_params['max_depth']\n",
    "\n",
    "print (\"The best-performing tuning parameters\"\n",
    "       \"\\nBest score: {0:.4f};\"\n",
    "       \"\\nNumber of trees: {1};\"\n",
    "       \"\\nMax features: {2:.0%};\"\n",
    "       \"\\nMax branches: {3}.\"\n",
    "       .format(rfc_best_score,\n",
    "               n_estimators,\n",
    "               max_features,\n",
    "              max_depth))"
   ]
  },
  {
   "cell_type": "markdown",
   "metadata": {},
   "source": [
    "### 2. Create and train the model\n",
    "Next I create a model using the parameters defined by GridSearchCV."
   ]
  },
  {
   "cell_type": "code",
   "execution_count": 8,
   "metadata": {
    "collapsed": false
   },
   "outputs": [
    {
     "data": {
      "text/plain": [
       "RandomForestClassifier(bootstrap=True, class_weight=None, criterion='gini',\n",
       "            max_depth=8.0, max_features=1.0, max_leaf_nodes=None,\n",
       "            min_samples_leaf=1, min_samples_split=2,\n",
       "            min_weight_fraction_leaf=0.0, n_estimators=100, n_jobs=1,\n",
       "            oob_score=False, random_state=0, verbose=0, warm_start=False)"
      ]
     },
     "execution_count": 8,
     "metadata": {},
     "output_type": "execute_result"
    }
   ],
   "source": [
    "# create the model\n",
    "rfc = RandomForestClassifier(n_estimators=n_estimators, \n",
    "                             random_state=0,\n",
    "                             max_features=max_features, \n",
    "                             max_depth=max_depth)\n",
    "\n",
    "# train the model\n",
    "rfc.fit(train_std, target)"
   ]
  },
  {
   "cell_type": "markdown",
   "metadata": {},
   "source": [
    "### 3. Estimate model accuracy score\n",
    "I use 10-fold cross validation."
   ]
  },
  {
   "cell_type": "code",
   "execution_count": 9,
   "metadata": {
    "collapsed": true
   },
   "outputs": [],
   "source": [
    "from sklearn.cross_validation import cross_val_score\n",
    "\n",
    "# calculate model accuracy score\n",
    "cvs = cross_val_score(rfc, train_std, target, \n",
    "                    scoring='accuracy', cv=10).mean()"
   ]
  },
  {
   "cell_type": "code",
   "execution_count": 10,
   "metadata": {
    "collapsed": false
   },
   "outputs": [
    {
     "name": "stdout",
     "output_type": "stream",
     "text": [
      "Random Forest classification model accuracy score: 0.828\n",
      "Model report \n",
      "             precision    recall  f1-score   support\n",
      "\n",
      "     ballet       0.74      0.85      0.79        34\n",
      "    cycling       0.94      0.97      0.95        31\n",
      "       yoga       0.82      0.61      0.70        23\n",
      "\n",
      "avg / total       0.83      0.83      0.83        88\n",
      "\n"
     ]
    }
   ],
   "source": [
    "# Build a text report showing the main classification metrics\n",
    "from sklearn.cross_validation import cross_val_predict\n",
    "from sklearn.metrics import classification_report\n",
    "    \n",
    "predicted = cross_val_predict(rfc, train_std, \n",
    "                            target, cv=10)\n",
    "\n",
    "print (\"Random Forest classification model \"\n",
    "       \"accuracy score: {:.3f}\"\n",
    "       .format(cvs))\n",
    "print \"Model report \\n\", \n",
    "print classification_report(target, predicted, \n",
    "                            target_names=labels)"
   ]
  },
  {
   "cell_type": "markdown",
   "metadata": {},
   "source": [
    "The overall accuracy of the model is high. All three classes have high scores. \n",
    "\n",
    "The \"cycling\" class has the highest precision and recall ratio. That means that the pureness of model prediction for that class is 0.97 (3% of tracks assigned this class have a different label). At the same time 97% of tracks belonging to that class were identified correctly by the model.\n",
    "\n",
    "The \"ballet\" class is easier to identify (88% of tracks belonging to that class were identified correctly by the model) however the precision ratio is a bit lower (0.76). It looks like some tracks from the \"yoga\" class were assigned the \"ballet\" label.\n",
    "\n",
    "The \"yoga\" class has the lowest recall ratio. The precision ratio, however, is high. That means that just 17% of tracks assigned the \"yoga\" label have a different label but at the same time 35% of tracks with the \"yoga\" label were assigned a different class.\n",
    "\n",
    "### 4. Make predictions and estimate probability\n",
    "Satisfied with the model performance on the training set, I apply it to the test set to make predictions using predict method. "
   ]
  },
  {
   "cell_type": "code",
   "execution_count": 11,
   "metadata": {
    "collapsed": true
   },
   "outputs": [],
   "source": [
    "# make predictions\n",
    "# exclude index and novelty result\n",
    "rfc_output = rfc.predict(match_test[:, 1:12])"
   ]
  },
  {
   "cell_type": "markdown",
   "metadata": {},
   "source": [
    "Random Forest classifier has predict_proba method that can predict the probability of class membership. For every query point it will calculate the probablity of belonging to each class. I use that [function](http://localhost:8888/notebooks/05_KNN_classification.ipynb#4.-Make-predictions-and-estimate-probability) from the previous post."
   ]
  },
  {
   "cell_type": "code",
   "execution_count": 12,
   "metadata": {
    "collapsed": false,
    "scrolled": false
   },
   "outputs": [],
   "source": [
    "# classification probability\n",
    "rfc_prob = esh.class_prob(rfc, match_test[:, 1:12])"
   ]
  },
  {
   "cell_type": "markdown",
   "metadata": {
    "collapsed": true
   },
   "source": [
    "### 5. Record the result\n",
    "I add the model prediction and probability to the matching set and then to the DF. I store the resulting dataframe as a hdf5 file. "
   ]
  },
  {
   "cell_type": "code",
   "execution_count": 13,
   "metadata": {
    "collapsed": false
   },
   "outputs": [
    {
     "name": "stdout",
     "output_type": "stream",
     "text": [
      "(289, 15)\n",
      "\n",
      "Sample of the resulting set: \n"
     ]
    },
    {
     "data": {
      "text/plain": [
       "array([[ 0.        , -1.20843788,  0.63488137,  1.25808605, -0.88779748,\n",
       "        -0.49132844,  0.78719594, -1.1740436 , -0.39262975, -0.74488995,\n",
       "         0.43101536,  0.57687657,  1.        ,  1.        ,  0.9       ],\n",
       "       [ 1.        , -0.2793643 , -0.95059729, -0.59717964,  1.12009741,\n",
       "         1.26151896,  0.17775694, -1.1740436 , -0.80693268,  0.63767235,\n",
       "        -0.87689333, -0.01472446,  1.        ,  0.        ,  0.74      ],\n",
       "       [ 2.        ,  0.72038789,  1.90749621, -0.54831972,  1.14486486,\n",
       "         0.38509526, -0.33955242,  0.85175712, -0.08956489,  0.29581684,\n",
       "         0.43101536,  1.24591181,  1.        ,  0.        ,  0.63      ]])"
      ]
     },
     "execution_count": 13,
     "metadata": {},
     "output_type": "execute_result"
    }
   ],
   "source": [
    "# add the result to the matching set\n",
    "rfc_set = np.concatenate((match_test, rfc_output[:, None], rfc_prob), 1)\n",
    "\n",
    "# review the result\n",
    "print rfc_set.shape\n",
    "print \"\\nSample of the resulting set: \"\n",
    "rfc_set[:3]"
   ]
  },
  {
   "cell_type": "code",
   "execution_count": 14,
   "metadata": {
    "collapsed": false
   },
   "outputs": [
    {
     "data": {
      "text/html": [
       "<div>\n",
       "<table border=\"1\" class=\"dataframe\">\n",
       "  <thead>\n",
       "    <tr style=\"text-align: right;\">\n",
       "      <th></th>\n",
       "      <th>acousticness</th>\n",
       "      <th>danceability</th>\n",
       "      <th>energy</th>\n",
       "      <th>instrumentalness</th>\n",
       "      <th>key</th>\n",
       "      <th>loudness</th>\n",
       "      <th>mode</th>\n",
       "      <th>speechiness</th>\n",
       "      <th>tempo</th>\n",
       "      <th>time_signature</th>\n",
       "      <th>valence</th>\n",
       "      <th>match</th>\n",
       "      <th>label</th>\n",
       "      <th>prob</th>\n",
       "    </tr>\n",
       "    <tr>\n",
       "      <th>index</th>\n",
       "      <th></th>\n",
       "      <th></th>\n",
       "      <th></th>\n",
       "      <th></th>\n",
       "      <th></th>\n",
       "      <th></th>\n",
       "      <th></th>\n",
       "      <th></th>\n",
       "      <th></th>\n",
       "      <th></th>\n",
       "      <th></th>\n",
       "      <th></th>\n",
       "      <th></th>\n",
       "      <th></th>\n",
       "    </tr>\n",
       "  </thead>\n",
       "  <tbody>\n",
       "    <tr>\n",
       "      <th>82</th>\n",
       "      <td>-0.58</td>\n",
       "      <td>0.74</td>\n",
       "      <td>0.46</td>\n",
       "      <td>-0.91</td>\n",
       "      <td>1.26</td>\n",
       "      <td>0.17</td>\n",
       "      <td>0.85</td>\n",
       "      <td>-0.41</td>\n",
       "      <td>-0.86</td>\n",
       "      <td>0.43</td>\n",
       "      <td>1.34</td>\n",
       "      <td>1</td>\n",
       "      <td>1</td>\n",
       "      <td>0.82</td>\n",
       "    </tr>\n",
       "    <tr>\n",
       "      <th>17</th>\n",
       "      <td>-0.26</td>\n",
       "      <td>1.27</td>\n",
       "      <td>0.62</td>\n",
       "      <td>-0.83</td>\n",
       "      <td>-1.37</td>\n",
       "      <td>0.78</td>\n",
       "      <td>0.85</td>\n",
       "      <td>-0.97</td>\n",
       "      <td>0.44</td>\n",
       "      <td>0.43</td>\n",
       "      <td>0.67</td>\n",
       "      <td>1</td>\n",
       "      <td>1</td>\n",
       "      <td>0.97</td>\n",
       "    </tr>\n",
       "    <tr>\n",
       "      <th>147</th>\n",
       "      <td>-0.94</td>\n",
       "      <td>0.50</td>\n",
       "      <td>1.17</td>\n",
       "      <td>0.69</td>\n",
       "      <td>-1.37</td>\n",
       "      <td>0.09</td>\n",
       "      <td>0.85</td>\n",
       "      <td>3.40</td>\n",
       "      <td>-0.08</td>\n",
       "      <td>0.43</td>\n",
       "      <td>-0.26</td>\n",
       "      <td>1</td>\n",
       "      <td>0</td>\n",
       "      <td>0.81</td>\n",
       "    </tr>\n",
       "  </tbody>\n",
       "</table>\n",
       "</div>"
      ],
      "text/plain": [
       "       acousticness  danceability  energy  instrumentalness   key  loudness  \\\n",
       "index                                                                         \n",
       "82            -0.58          0.74    0.46             -0.91  1.26      0.17   \n",
       "17            -0.26          1.27    0.62             -0.83 -1.37      0.78   \n",
       "147           -0.94          0.50    1.17              0.69 -1.37      0.09   \n",
       "\n",
       "       mode  speechiness  tempo  time_signature  valence  match  label  prob  \n",
       "index                                                                         \n",
       "82     0.85        -0.41  -0.86            0.43     1.34      1      1  0.82  \n",
       "17     0.85        -0.97   0.44            0.43     0.67      1      1  0.97  \n",
       "147    0.85         3.40  -0.08            0.43    -0.26      1      0  0.81  "
      ]
     },
     "execution_count": 14,
     "metadata": {},
     "output_type": "execute_result"
    }
   ],
   "source": [
    "# transform the set back into pandas dataframe\n",
    "rfc_df = esh.nparray_to_df(rfc_set, store)\n",
    "\n",
    "# review the result\n",
    "rfc_df.sample(3)"
   ]
  },
  {
   "cell_type": "code",
   "execution_count": 15,
   "metadata": {
    "collapsed": false
   },
   "outputs": [],
   "source": [
    "# save in HDF5\n",
    "rfc_df.to_hdf('music_data.h5', 'rfc_df', format='table')"
   ]
  },
  {
   "cell_type": "markdown",
   "metadata": {},
   "source": [
    "### 6. Review the result\n",
    "I use [that function](http://localhost:8888/notebooks/05_KNN_classification.ipynb#6.-Review-the-result) from the previous post."
   ]
  },
  {
   "cell_type": "code",
   "execution_count": 16,
   "metadata": {
    "collapsed": false,
    "scrolled": true
   },
   "outputs": [
    {
     "name": "stdout",
     "output_type": "stream",
     "text": [
      "Summary of the Random Forest classifier performance\n",
      "\n",
      "Model: \n",
      "RandomForestClassifier(bootstrap=True, class_weight=None, criterion='gini',\n",
      "            max_depth=8.0, max_features=1.0, max_leaf_nodes=None,\n",
      "            min_samples_leaf=1, min_samples_split=2,\n",
      "            min_weight_fraction_leaf=0.0, n_estimators=100, n_jobs=1,\n",
      "            oob_score=False, random_state=0, verbose=0, warm_start=False)\n",
      "\n",
      "Model accuracy score: 0.828\n",
      "\n",
      "Number of tracks in the test set: 289.\n",
      "Number of tracks assigned to the \"ballet\" class: 121, or 41.87% of all tracks.\n",
      "Number of tracks assigned to the \"cycling\" class: 156, or 53.98% of all tracks.\n",
      "Number of tracks assigned to the \"yoga\" class: 12, or 4.15% of all tracks.\n",
      "\n",
      "Mean probability for each category\n",
      "label\n",
      "0   0.72\n",
      "1   0.87\n",
      "2   0.76\n",
      "Name: prob, dtype: float64\n"
     ]
    }
   ],
   "source": [
    "# print the summary\n",
    "esh.model_summary(rfc_df, rfc, 'Random Forest', labels, cvs)"
   ]
  },
  {
   "cell_type": "markdown",
   "metadata": {
    "collapsed": true
   },
   "source": [
    "The \"cycling\" class has the highest mean probability, which means that on average tracks are assigned this class with 82% certainty. At the same time this is the most popular class — almost 60% of all tracks in the test set are assigned the \"cycling\" class.\n",
    "The \"ballet\" class is doing alright. Almost 40% of all tracks are assigned this class label with 70% certainty on average.\n",
    "The \"yoga\" class has the fewest representatives in the test set. Only 12 tracks were assigned this class label. The mean probability is the lowest among the three classes (68%).\n",
    "\n",
    "### 7. Visualize the model\n",
    "To visualize the model I apply the function that was used by Jake VanderPlas for his [Scikit-learn tutorial](https://github.com/jakevdp/sklearn_pycon2015) at PyCon 2015."
   ]
  },
  {
   "cell_type": "code",
   "execution_count": 78,
   "metadata": {
    "collapsed": false
   },
   "outputs": [],
   "source": [
    "def visualize_tree(estimator, X, y, test, labels,\n",
    "                   boundaries=False):\n",
    "    \n",
    "    # clone the estimator to apply it to a 2d data\n",
    "    from sklearn.base import clone\n",
    "    model = clone(estimator)\n",
    "    model.fit(X, y)\n",
    "\n",
    "    xlim = (test[:, 0].min() - 0.1, test[:, 0].max() + 0.1)\n",
    "    ylim = (test[:, 1].min() - 0.1, test[:, 1].max() + 0.1)\n",
    "\n",
    "    x_min, x_max = xlim\n",
    "    y_min, y_max = ylim\n",
    "    xx, yy = np.meshgrid(np.linspace(x_min, x_max, 100),\n",
    "                         np.linspace(y_min, y_max, 100))\n",
    "    Z = model.predict(np.c_[xx.ravel(), yy.ravel()])\n",
    "\n",
    "    # put the result into a color plot\n",
    "    Z = Z.reshape(xx.shape)\n",
    "    plt.figure()\n",
    "    plt.pcolormesh(xx, yy, Z, alpha=0.4, cmap='YlGnBu')\n",
    "    plt.clim(y.min(), y.max())\n",
    "\n",
    "    # plot the training points\n",
    "    for l,c in zip(range(0,3), \n",
    "                   ('olive', 'teal', 'purple')):\n",
    "        plt.scatter(X[y==l, 0], \n",
    "                    X[y==l, 1],\n",
    "                    c=c, s=50, \n",
    "                    label=labels[l])\n",
    "    \n",
    "    # plot test points\n",
    "    plt.scatter(test[:,0], test[:, 1], \n",
    "                c='tan', s=20, alpha=0.7,\n",
    "               label='test observations')\n",
    "\n",
    "    plt.xlim(x_min, x_max)\n",
    "    plt.ylim(y_min, y_max)        \n",
    "    plt.clim(y.min(), y.max())\n",
    "    \n",
    "    plt.title(\"Random Forest classifier decision boundaries\")\n",
    "    plt.legend(bbox_to_anchor=(1.05, 1), borderaxespad=0.,\n",
    "               loc=2)\n",
    "    sns.despine()\n",
    "    \n",
    "    # plot the decision boundaries\n",
    "    def plot_boundaries(i, xlim, ylim):\n",
    "        if i < 0:\n",
    "            return\n",
    "\n",
    "        tree = model.tree_\n",
    "        \n",
    "        if tree.feature[i] == 0:\n",
    "            plt.plot([tree.threshold[i], tree.threshold[i]], ylim, '-k')\n",
    "            plot_boundaries(tree.children_left[i],\n",
    "                            [xlim[0], tree.threshold[i]], ylim)\n",
    "            plot_boundaries(tree.children_right[i],\n",
    "                            [tree.threshold[i], xlim[1]], ylim)\n",
    "        \n",
    "        elif tree.feature[i] == 1:\n",
    "            plt.plot(xlim, [tree.threshold[i], tree.threshold[i]], '-k')\n",
    "            plot_boundaries(tree.children_left[i], xlim,\n",
    "                            [ylim[0], tree.threshold[i]])\n",
    "            plot_boundaries(tree.children_right[i], xlim,\n",
    "                            [tree.threshold[i], ylim[1]])\n",
    "            \n",
    "    if boundaries:\n",
    "        plot_boundaries(0, plt.xlim(), plt.ylim())"
   ]
  },
  {
   "cell_type": "markdown",
   "metadata": {},
   "source": [
    "Since it's hard to plot 11 dimensions in a 2 dimensional space, I need to perform dimensionality reduction with a PCA algorithm. I use that [function](http://localhost:8888/notebooks/03_Preprocessing.ipynb#Dimensionality-reduction) from the previous notebook [03_Preprocessing](http://localhost:8888/notebooks/03_Preprocessing.ipynb)."
   ]
  },
  {
   "cell_type": "code",
   "execution_count": 18,
   "metadata": {
    "collapsed": false
   },
   "outputs": [],
   "source": [
    "# reduce dimensions\n",
    "train_2d, match_2d = prs.reduce_dimensions(train_std, match_test[:, 1:12])"
   ]
  },
  {
   "cell_type": "code",
   "execution_count": 79,
   "metadata": {
    "collapsed": false,
    "scrolled": true
   },
   "outputs": [
    {
     "data": {
      "image/png": "[encoded data removed]",
      "text/plain": [
       "<matplotlib.figure.Figure at 0x109a38390>"
      ]
     },
     "metadata": {},
     "output_type": "display_data"
    }
   ],
   "source": [
    "# plot random forest classifier\n",
    "visualize_tree(rfc, train_2d, target, match_2d, labels)"
   ]
  },
  {
   "cell_type": "markdown",
   "metadata": {},
   "source": [
    "### 7. Apply probability threshold\n",
    "In my playlists I want to keep only tracks with high probability of class membership. To decide on the threshold for  probability estimate I plot number of tracks in each class with a threshold varying from 0 to 100%. \n",
    "#### Make a plot"
   ]
  },
  {
   "cell_type": "code",
   "execution_count": 20,
   "metadata": {
    "collapsed": false
   },
   "outputs": [
    {
     "data": {
      "image/png": "[encoded data removed]",
      "text/plain": [
       "<matplotlib.figure.Figure at 0x101a38750>"
      ]
     },
     "metadata": {},
     "output_type": "display_data"
    }
   ],
   "source": [
    "# threshold values\n",
    "xs = list(a / 10.0 for a in range(11))\n",
    "\n",
    "# all classes\n",
    "total = [len(esh.prob_with_threshold(rfc_df, i)) for i in xs]\n",
    "line_total = plt.plot(xs, total, linewidth=2, label='total')\n",
    "\n",
    "for lb in labels:\n",
    "    lb_sum = [esh.sum_category(esh.prob_with_threshold(rfc_df, i), \n",
    "                             labels.index(lb)) for i in xs]\n",
    "    line_lb = plt.plot(xs, lb_sum, linewidth=2, label=lb)\n",
    "\n",
    "plt.ylabel('Number of tracks')\n",
    "plt.xlabel('Probability')\n",
    "plt.legend()\n",
    "sns.despine(top=True, right=False)\n",
    "plt.show()"
   ]
  },
  {
   "cell_type": "markdown",
   "metadata": {
    "collapsed": true
   },
   "source": [
    "As in the [previous post](http://localhost:8888/notebooks/05_KNN_classification.ipynb#Make-a-plot), I apply the 0.7 probability threshold to data and review the result. It filters out some tracks in each class, eliminating tracks with lower certainty of class membership and, thus, making the playlists more accurate."
   ]
  },
  {
   "cell_type": "code",
   "execution_count": 80,
   "metadata": {
    "collapsed": false
   },
   "outputs": [
    {
     "name": "stdout",
     "output_type": "stream",
     "text": [
      "Total number of tracks to classify: 289.\n",
      "Number of tracks with 0.7 probability of class membership: 212.\n",
      "Among which...\n",
      "...assigned the \"ballet\" class: 66 (121 without the threshold).\n",
      "...assigned the \"cycling\" class: 138 (156 without the threshold).\n",
      "...assigned the \"yoga\" class: 8 (12 without the threshold).\n",
      "\n",
      "Mean probability for each class\n",
      "label\n",
      "0   0.84\n",
      "1   0.91\n",
      "2   0.86\n",
      "Name: prob, dtype: float64\n"
     ]
    }
   ],
   "source": [
    "# print summary \n",
    "esh.summary_of_prob_with_thres(rfc_df, 0.7, labels)"
   ]
  },
  {
   "cell_type": "markdown",
   "metadata": {},
   "source": [
    "### Summary\n",
    "In this notebook I applied **Random Forest classification** tecnique to identify class membership of every track in the matching group and assign a class label. I started by tuning model parameters using scikit-learn tool GridSearchCV. I estimated model accuracy using K-fold cross validation tecnique.  \n",
    "\n",
    "The estimated **model accuracy score** equals **0.786**.  \n",
    "\n",
    "Model prediction results: \n",
    "* \"ballet\" class: 112, or 38.75% of all tracks.\n",
    "* \"cycling\" class: 172, or 59.52% of all tracks.\n",
    "* \"yoga\" class: 5, or 1.73% of all tracks.\n",
    "\n",
    "The \"cycling\" class has the highest mean probability, which means that on average tracks are assigned this class with 83% certainty. At the same time this is the most popular class — almost 60% of all tracks in the test set are assigned the \"cycling\" class. \n",
    "\n",
    "The \"ballet\" class is doing alright. Almost 40% of all tracks are assigned this class label with 72% certainty on average. \n",
    "\n",
    "The \"yoga\" class has the fewest representatives in the test set. Only 5 tracks were assigned this class label. The mean probability is the lowest among the three classes (63%).\n",
    "\n",
    "I applied 0.7 probability threshold to model predictions of class membership. As a result the \"ballet\" class lost 35% of tracks (73 are left), the \"cycling\" class lost about 24% (131 tracks left), and the \"yoga\" class is left with only 2 tracks (60% lost).\n",
    "\n",
    "Data and results of this classification are stored in a HDF5 file. \n",
    "\n",
    "In the next post I'm going to try Support Vector Classifier. In the end I will compare the results of all applied classifiers."
   ]
  }
 ],
 "metadata": {
  "kernelspec": {
   "display_name": "Python 2",
   "language": "python",
   "name": "python2"
  },
  "language_info": {
   "codemirror_mode": {
    "name": "ipython",
    "version": 2
   },
   "file_extension": ".py",
   "mimetype": "text/x-python",
   "name": "python",
   "nbconvert_exporter": "python",
   "pygments_lexer": "ipython2",
   "version": "2.7.10"
  }
 },
 "nbformat": 4,
 "nbformat_minor": 0
}
