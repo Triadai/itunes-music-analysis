{
 "cells": [
  {
   "cell_type": "markdown",
   "metadata": {},
   "source": [
    "# 05. Machine Learning for music playlists: K-nearest neighbors classification\n",
    "This is the 5th post of a series of posts devoted to analysis of iTunes music library using Scikit-Learn tools.   \n",
    "The purpose of the analysis is to detect tracks in my iTunes music library that would suit my fitness practices, which are \"cycling\", \"yoga\", and \"ballet\". To solve that problem I use supervised ML classification techniques. \n",
    "\n",
    "The previous posts cover the following steps:\n",
    "1. [00_Summary](http://localhost:8888/notebooks/00_Summary.ipynb) — Summary of this analysis, its goals and methods, installation notes.\n",
    "2. [01_Data_preparation](http://localhost:8888/notebooks/01_Data_preparation.ipynb) — Data gathering and cleaning.\n",
    "3. [02_Data_visualisation](http://localhost:8888/notebooks/02_Data_Visualisation.ipynb) — Visualisation and overview of data.\n",
    "4. [03_Preprocessing](http://localhost:8888/notebooks/03_Preprocessing.ipynb) — Data preprocessing to use it as input for Scikit-learn machine learning algorithms.\n",
    "5. [04_Novelty_detection](http://localhost:8888/notebooks/04_Novelty_detection.ipynb) — Apply One-Class SVM algorithm to identify matching tracks in the unlabeled dataset.\n",
    "\n",
    "As a result of previous manipulations I have two tables in HDF5 format: \n",
    "* training set contains 88 tracks labeled with one of the three classes: \"ballet\", \"cycling\", \"yoga\". Labels are stored as a pandas Series;\n",
    "* test set contains 289 tracks labeled as matching the training set and 155 tracks as non-matching. In the [04_Novelty_detection](http://localhost:8888/notebooks/04_Novelty_detection.ipynb) NB I used One-Class SVM to choose tracks in the test set that match training data. As a result, each track was identified either as matching or not.\n",
    "\n",
    "In this post I apply [k neighbours classification](http://scikit-learn.org/stable/modules/neighbors.html#classification) to assign every track in the matching group one of the classes. \n",
    "\n",
    "As a shortcut, in this notebook I import module \"data_processing\" where I perform steps from the [01_Data_preparation](http://localhost:8888/notebooks/01_Data_preparation.ipynb) and [03_Preprocessing](http://localhost:8888/notebooks/03_Preprocessing.ipynb) notebooks.  \n",
    "I start with importing the modules required in the following notebook."
   ]
  },
  {
   "cell_type": "code",
   "execution_count": 174,
   "metadata": {
    "collapsed": true
   },
   "outputs": [],
   "source": [
    "from __future__ import division\n",
    "%matplotlib inline\n",
    "import matplotlib\n",
    "import matplotlib.pyplot as plt\n",
    "from IPython.display import display\n",
    "import pandas as pd\n",
    "import numpy as np\n",
    "\n",
    "# import my module from the previous notebook\n",
    "import data_processing as prs\n",
    "\n",
    "# set seaborn plot defaults\n",
    "import seaborn as sns; \n",
    "sns.set(palette=\"husl\")\n",
    "sns.set_context(\"notebook\")\n",
    "sns.set_style(\"ticks\")\n",
    "\n",
    "# format floating point numbers\n",
    "# within pandas data structures\n",
    "pd.set_option('float_format', '{:.2f}'.format)\n",
    "\n",
    "# nearest neighbours algorithm\n",
    "from sklearn import neighbors"
   ]
  },
  {
   "cell_type": "markdown",
   "metadata": {},
   "source": [
    "### Read in data"
   ]
  },
  {
   "cell_type": "code",
   "execution_count": 33,
   "metadata": {
    "collapsed": false
   },
   "outputs": [
    {
     "data": {
      "text/plain": [
       "<class 'pandas.io.pytables.HDFStore'>\n",
       "File path: music_data.h5\n",
       "/target               series       (shape->[88])                                           \n",
       "/test_svm             frame_table  (typ->appendable,nrows->444,ncols->12,indexers->[index])\n",
       "/train_std            frame_table  (typ->appendable,nrows->88,ncols->11,indexers->[index]) "
      ]
     },
     "execution_count": 33,
     "metadata": {},
     "output_type": "execute_result"
    }
   ],
   "source": [
    "# open an hdf5 file\n",
    "store = pd.HDFStore('music_data.h5')\n",
    "store"
   ]
  },
  {
   "cell_type": "markdown",
   "metadata": {},
   "source": [
    "Both sets are stored as pandas DataFrames. I convert these to numpy arrays because Scikit-Learn algorithms expect a numpy array as input. I also save index in the test set as a column when converting it to a numpy array. Thus it will be easier to identify each track after classification, where I'll be using only tracks labeled as matching. \n",
    "\n",
    "Data in both sets were standardized in the pre-processing step."
   ]
  },
  {
   "cell_type": "code",
   "execution_count": 149,
   "metadata": {
    "collapsed": true
   },
   "outputs": [],
   "source": [
    "# get training data (standardized) and convert to numpy array\n",
    "train_std = prs.convert_df_to_array(store['train_std'])\n",
    "\n",
    "# get test data (standardized) and convert to numpy array\n",
    "test_std = prs.convert_df_to_array(store['test_svm'].reset_index())\n",
    "\n",
    "# set with matching tracks\n",
    "match_test = test_std[(test_std[:, 12] == 1)]\n",
    "\n",
    "# target data as numpy array\n",
    "target = store['target'].values\n",
    "\n",
    "# list class labels\n",
    "labels = ['ballet', 'cycling', 'yoga']"
   ]
  },
  {
   "cell_type": "code",
   "execution_count": 46,
   "metadata": {
    "collapsed": false,
    "scrolled": true
   },
   "outputs": [
    {
     "name": "stdout",
     "output_type": "stream",
     "text": [
      "Data overview: \n",
      "Train data shape: (88, 11)\n",
      "Test data shape: (444, 13)\n",
      "Test data only with matching tracks: (289, 13)\n"
     ]
    }
   ],
   "source": [
    "print \"Data overview: \"\n",
    "print \"Train data shape:\", train_std.shape\n",
    "print \"Test data shape:\", test_std.shape\n",
    "print \"Test data only with matching tracks:\", match_test.shape"
   ]
  },
  {
   "cell_type": "markdown",
   "metadata": {},
   "source": [
    "## K-nearest neighbors classification\n",
    "Nearest neighbors classification algorithm computes a class for every query point (that is, unlabeled observation) based on a simple majority of class representatives within the nearest labeled neighbors. In Scikit_Learn [KNeighborsClassifier](http://scikit-learn.org/stable/modules/generated/sklearn.neighbors.KNeighborsClassifier.html#sklearn.neighbors.KNeighborsClassifier) number of nearest neighbors of each query point — *k* — is specified in model parameters.\n",
    "\n",
    "The process I use for classification task is as follows:\n",
    "1. Tune parameters using GridSearchCV.\n",
    "2. Create and train the model.\n",
    "3. Estimate model accuracy score.\n",
    "4. Make predictions and estimate probability.\n",
    "5. Record the result to the set and DF.\n",
    "6. Review the results.\n",
    "7. Apply probability threshold. \n",
    "\n",
    "### 1. Tune parameters using GridSearchCV\n",
    "[GridSearchCV](http://scikit-learn.org/stable/modules/generated/sklearn.grid_search.GridSearchCV.html) performs an exhaustive search over specified parameter values for an estimator. I use it to test the desired range of input parameters, and review the performance of each set of values on a cross-validation basis. "
   ]
  },
  {
   "cell_type": "code",
   "execution_count": 27,
   "metadata": {
    "collapsed": false
   },
   "outputs": [
    {
     "data": {
      "text/plain": [
       "[mean: 0.81818, std: 0.11593, params: {'n_neighbors': 3, 'weights': 'uniform', 'algorithm': 'auto'},\n",
       " mean: 0.80682, std: 0.11825, params: {'n_neighbors': 3, 'weights': 'distance', 'algorithm': 'auto'},\n",
       " mean: 0.79545, std: 0.11954, params: {'n_neighbors': 5, 'weights': 'uniform', 'algorithm': 'auto'},\n",
       " mean: 0.79545, std: 0.11328, params: {'n_neighbors': 5, 'weights': 'distance', 'algorithm': 'auto'},\n",
       " mean: 0.82955, std: 0.12676, params: {'n_neighbors': 7, 'weights': 'uniform', 'algorithm': 'auto'},\n",
       " mean: 0.84091, std: 0.12716, params: {'n_neighbors': 7, 'weights': 'distance', 'algorithm': 'auto'},\n",
       " mean: 0.81818, std: 0.11593, params: {'n_neighbors': 3, 'weights': 'uniform', 'algorithm': 'ball_tree'},\n",
       " mean: 0.80682, std: 0.11825, params: {'n_neighbors': 3, 'weights': 'distance', 'algorithm': 'ball_tree'},\n",
       " mean: 0.79545, std: 0.11954, params: {'n_neighbors': 5, 'weights': 'uniform', 'algorithm': 'ball_tree'},\n",
       " mean: 0.79545, std: 0.11328, params: {'n_neighbors': 5, 'weights': 'distance', 'algorithm': 'ball_tree'},\n",
       " mean: 0.82955, std: 0.12676, params: {'n_neighbors': 7, 'weights': 'uniform', 'algorithm': 'ball_tree'},\n",
       " mean: 0.84091, std: 0.12716, params: {'n_neighbors': 7, 'weights': 'distance', 'algorithm': 'ball_tree'},\n",
       " mean: 0.81818, std: 0.11593, params: {'n_neighbors': 3, 'weights': 'uniform', 'algorithm': 'kd_tree'},\n",
       " mean: 0.80682, std: 0.11825, params: {'n_neighbors': 3, 'weights': 'distance', 'algorithm': 'kd_tree'},\n",
       " mean: 0.79545, std: 0.11954, params: {'n_neighbors': 5, 'weights': 'uniform', 'algorithm': 'kd_tree'},\n",
       " mean: 0.79545, std: 0.11328, params: {'n_neighbors': 5, 'weights': 'distance', 'algorithm': 'kd_tree'},\n",
       " mean: 0.82955, std: 0.12676, params: {'n_neighbors': 7, 'weights': 'uniform', 'algorithm': 'kd_tree'},\n",
       " mean: 0.84091, std: 0.12716, params: {'n_neighbors': 7, 'weights': 'distance', 'algorithm': 'kd_tree'},\n",
       " mean: 0.81818, std: 0.11593, params: {'n_neighbors': 3, 'weights': 'uniform', 'algorithm': 'brute'},\n",
       " mean: 0.80682, std: 0.11825, params: {'n_neighbors': 3, 'weights': 'distance', 'algorithm': 'brute'},\n",
       " mean: 0.79545, std: 0.11954, params: {'n_neighbors': 5, 'weights': 'uniform', 'algorithm': 'brute'},\n",
       " mean: 0.79545, std: 0.11328, params: {'n_neighbors': 5, 'weights': 'distance', 'algorithm': 'brute'},\n",
       " mean: 0.82955, std: 0.12676, params: {'n_neighbors': 7, 'weights': 'uniform', 'algorithm': 'brute'},\n",
       " mean: 0.84091, std: 0.12716, params: {'n_neighbors': 7, 'weights': 'distance', 'algorithm': 'brute'}]"
      ]
     },
     "execution_count": 27,
     "metadata": {},
     "output_type": "execute_result"
    }
   ],
   "source": [
    "from sklearn.grid_search import GridSearchCV\n",
    "\n",
    "# tune parameters\n",
    "parameter_grid = {'n_neighbors': [3, 5, 7],\n",
    "                  'weights': ['uniform', 'distance'],\n",
    "                 'algorithm': ['auto', 'ball_tree', \n",
    "                               'kd_tree', 'brute']}\n",
    "\n",
    "grid_search = GridSearchCV(neighbors.KNeighborsClassifier(), \n",
    "                           parameter_grid, cv=6)\n",
    "\n",
    "grid_search.fit(train_std, target)\n",
    "\n",
    "# review the result\n",
    "grid_search.grid_scores_"
   ]
  },
  {
   "cell_type": "code",
   "execution_count": 29,
   "metadata": {
    "collapsed": false
   },
   "outputs": [
    {
     "name": "stdout",
     "output_type": "stream",
     "text": [
      "The best-performing tuning parameters\n",
      "Best score: 0.840909090909;\n",
      "Best parameters: {'n_neighbors': 7, 'weights': 'distance', 'algorithm': 'auto'}.\n"
     ]
    }
   ],
   "source": [
    "# sort the results \n",
    "sorted(grid_search.grid_scores_, \n",
    "       key=lambda x: x.mean_validation_score)\n",
    "\n",
    "knn_best_score = grid_search.best_score_\n",
    "best_params = grid_search.best_params_\n",
    "\n",
    "# print the winner\n",
    "print (\"The best-performing tuning parameters\"\n",
    "       \"\\nBest score: {0};\"\n",
    "       \"\\nBest parameters: {1}.\"\n",
    "       .format(knn_best_score, \n",
    "               best_params\n",
    "              ))"
   ]
  },
  {
   "cell_type": "markdown",
   "metadata": {},
   "source": [
    "### 2. Create and train the model\n",
    "Next I create a model using the parameters defined by GridSearchCV."
   ]
  },
  {
   "cell_type": "code",
   "execution_count": 47,
   "metadata": {
    "collapsed": false
   },
   "outputs": [
    {
     "data": {
      "text/plain": [
       "KNeighborsClassifier(algorithm='auto', leaf_size=30, metric='minkowski',\n",
       "           metric_params=None, n_neighbors=7, p=2, weights='distance')"
      ]
     },
     "execution_count": 47,
     "metadata": {},
     "output_type": "execute_result"
    }
   ],
   "source": [
    "# create the model\n",
    "n_neighbors = best_params['n_neighbors']\n",
    "weights = best_params['weights']\n",
    "algorithm = best_params['algorithm']\n",
    "knn = neighbors.KNeighborsClassifier(n_neighbors=n_neighbors, \n",
    "                                     weights=weights, \n",
    "                                     algorithm=algorithm)\n",
    "\n",
    "# train the model\n",
    "knn.fit(train_std, target)"
   ]
  },
  {
   "cell_type": "markdown",
   "metadata": {},
   "source": [
    "### 3. Estimate model accuracy score\n",
    "One of the most important pieces of machine learning is model validation: that is, checking how well the model fits a given dataset. I can not automatically assess the accuracy of predictions made for the test set, because it is non-labeled data. A better way to test a model is to use a hold-out part of the labeled set which doesn't enter the training.  \n",
    "\n",
    "Scikit-Learn provides a great tool for model validation — [K-fold cross-validation](http://scikit-learn.org/stable/modules/generated/sklearn.cross_validation.cross_val_score.html#sklearn.cross_validation.cross_val_score) module, which splits the data into K chunks and performs K fits, where each chunk gets a turn as the validation set. K is defined by the cv parameter. I use 10-fold cross validation. "
   ]
  },
  {
   "cell_type": "code",
   "execution_count": 150,
   "metadata": {
    "collapsed": false
   },
   "outputs": [],
   "source": [
    "from sklearn.cross_validation import cross_val_score\n",
    "\n",
    "# calculate model accuracy score\n",
    "cvs = cross_val_score(knn, train_std, target, \n",
    "                    scoring='accuracy', cv=10).mean()"
   ]
  },
  {
   "cell_type": "code",
   "execution_count": 153,
   "metadata": {
    "collapsed": false
   },
   "outputs": [
    {
     "name": "stdout",
     "output_type": "stream",
     "text": [
      "K-neighbors classification model accuracy score: 0.786\n",
      "Model report \n",
      "             precision    recall  f1-score   support\n",
      "\n",
      "     ballet       0.76      0.74      0.75        34\n",
      "    cycling       0.84      1.00      0.91        31\n",
      "       yoga       0.78      0.61      0.68        23\n",
      "\n",
      "avg / total       0.79      0.80      0.79        88\n",
      "\n"
     ]
    }
   ],
   "source": [
    "# Build a text report showing the main classification metrics\n",
    "from sklearn.cross_validation import cross_val_predict\n",
    "from sklearn.metrics import classification_report\n",
    "    \n",
    "predicted = cross_val_predict(knn, train_std, \n",
    "                            target, cv=10)\n",
    "\n",
    "print (\"K-neighbors classification model \"\n",
    "       \"accuracy score: {:.3f}\"\n",
    "       .format(model_cross_valid(knn, train_std, target)))\n",
    "print \"Model report \\n\", \n",
    "print classification_report(target, predicted, \n",
    "                            target_names=labels)"
   ]
  },
  {
   "cell_type": "markdown",
   "metadata": {},
   "source": [
    "Let me explain the above numbers. \n",
    "\n",
    "The *precision* is the ratio of true positives to the sum of true and false positives. The precision is intuitively the ability of the classifier not to label as positive a sample that is negative.  \n",
    "In this case \"cycling\" class has the highest precision. That means that the pureness of model prediction for that class is 84% (16% of tracks assigned this class had a different label), whereas for the \"ballet\" class it equals 76%, which still is pretty high.\n",
    "\n",
    "The *recall* is the ratio of true positives to the sum of true positives and false negatives. The recall is intuitively the ability of the classifier to find all the positive samples. \n",
    "The \"cycling\" class has the highest possible score. All tracks belonging to that class were identified correctly by the model. The \"yoga\" class has the lowest ratio. The precision ratio, however, is rather high. That means that just 22% of tracks assigned the \"yoga\" class had a different label but at the same time 40% of tracks with the \"yoga\" label were assigned a different class.  \n",
    "\n",
    "The *F1-score* can be interpreted as a weighted average of the precision and recall, where an F1 score reaches its best value at 1 and worst score at 0.\n",
    "\n",
    "The *support* is the number of occurrences of each class in y_true. This is the number of tracks in each class. \n",
    "\n",
    "The overall accuracy of the model is high. The \"cycling\" class proves itself as the easiest to predict and the \"yoga\", on the contrary, has the least accurate predictions.\n",
    "\n",
    "### 4. Make predictions and estimate probability\n",
    "Satisfied with the model performance on the training set, I apply it to the test set to make predictions using predict method. "
   ]
  },
  {
   "cell_type": "code",
   "execution_count": 132,
   "metadata": {
    "collapsed": true
   },
   "outputs": [],
   "source": [
    "# make predictions\n",
    "# exclude index and novelty result\n",
    "knn_output = knn.predict(match_test[:, 1:12])"
   ]
  },
  {
   "cell_type": "markdown",
   "metadata": {},
   "source": [
    "Nearest neighbors classifier has predict_proba method that can predict the probability of class membership. For every query point it will calculate the probablity of belonging to each class."
   ]
  },
  {
   "cell_type": "code",
   "execution_count": 130,
   "metadata": {
    "collapsed": true
   },
   "outputs": [],
   "source": [
    "def class_prob(model):\n",
    "    \"\"\"Calculate probability for \n",
    "    every class and return an array\n",
    "    with highest probability for each\n",
    "    track. \n",
    "    \"\"\"\n",
    "    probability = model.predict_proba(match_test[:, 1:12])\n",
    "    \n",
    "    # make a list of highest probabilities\n",
    "    max_proba = np.asarray([x.max() for x in probability])\n",
    "    return max_proba[:, None]"
   ]
  },
  {
   "cell_type": "code",
   "execution_count": 133,
   "metadata": {
    "collapsed": true
   },
   "outputs": [],
   "source": [
    "# classification probability\n",
    "knn_prob = class_prob(knn)"
   ]
  },
  {
   "cell_type": "markdown",
   "metadata": {},
   "source": [
    "### 5. Record the result\n",
    "I add the model prediction and probability to the matching set and then to the DF. I store the resulting dataframe as a hdf5 file. "
   ]
  },
  {
   "cell_type": "code",
   "execution_count": 136,
   "metadata": {
    "collapsed": false
   },
   "outputs": [
    {
     "name": "stdout",
     "output_type": "stream",
     "text": [
      "(289, 15)\n",
      "\n",
      "Sample of the resulting set: \n"
     ]
    },
    {
     "data": {
      "text/plain": [
       "array([[ 0.        , -1.20843788,  0.63488137,  1.25808605, -0.88779748,\n",
       "        -0.49132844,  0.78719594, -1.1740436 , -0.39262975, -0.74488995,\n",
       "         0.43101536,  0.57687657,  1.        ,  1.        ,  0.66406856],\n",
       "       [ 1.        , -0.2793643 , -0.95059729, -0.59717964,  1.12009741,\n",
       "         1.26151896,  0.17775694, -1.1740436 , -0.80693268,  0.63767235,\n",
       "        -0.87689333, -0.01472446,  1.        ,  0.        ,  0.83478127],\n",
       "       [ 2.        ,  0.72038789,  1.90749621, -0.54831972,  1.14486486,\n",
       "         0.38509526, -0.33955242,  0.85175712, -0.08956489,  0.29581684,\n",
       "         0.43101536,  1.24591181,  1.        ,  0.        ,  0.53629557]])"
      ]
     },
     "execution_count": 136,
     "metadata": {},
     "output_type": "execute_result"
    }
   ],
   "source": [
    "# add the result to the matching set\n",
    "knn_set = np.concatenate((match_test, knn_output[:, None], knn_prob), 1)\n",
    "\n",
    "# review the result\n",
    "print knn_set.shape\n",
    "print \"\\nSample of the resulting set: \"\n",
    "knn_set[:3]"
   ]
  },
  {
   "cell_type": "code",
   "execution_count": 139,
   "metadata": {
    "collapsed": true
   },
   "outputs": [],
   "source": [
    "# transform the set back into pandas dataframe\n",
    "def nparray_to_df(data):\n",
    "    \"\"\"Transform dataset in numpy array format to a df.\n",
    "    Return the df.\n",
    "    \"\"\"\n",
    "    # make a list of column names\n",
    "    li = (['index'] + \n",
    "          store['train_std'].columns.tolist() + \n",
    "          ['match', 'label', 'prob'])\n",
    "    \n",
    "    # transform set into a DF\n",
    "    df = pd.DataFrame(data, columns=li)\n",
    "    \n",
    "    # change column type to integer\n",
    "    df[['index', 'match', 'label']] = df[['index', 'match', 'label']].astype(int)\n",
    "    \n",
    "    # change index to the original index\n",
    "    df = df.set_index(['index'])\n",
    "\n",
    "    return df"
   ]
  },
  {
   "cell_type": "code",
   "execution_count": 141,
   "metadata": {
    "collapsed": false
   },
   "outputs": [
    {
     "data": {
      "text/html": [
       "<div>\n",
       "<table border=\"1\" class=\"dataframe\">\n",
       "  <thead>\n",
       "    <tr style=\"text-align: right;\">\n",
       "      <th></th>\n",
       "      <th>acousticness</th>\n",
       "      <th>danceability</th>\n",
       "      <th>energy</th>\n",
       "      <th>instrumentalness</th>\n",
       "      <th>key</th>\n",
       "      <th>loudness</th>\n",
       "      <th>mode</th>\n",
       "      <th>speechiness</th>\n",
       "      <th>tempo</th>\n",
       "      <th>time_signature</th>\n",
       "      <th>valence</th>\n",
       "      <th>match</th>\n",
       "      <th>label</th>\n",
       "      <th>prob</th>\n",
       "    </tr>\n",
       "    <tr>\n",
       "      <th>index</th>\n",
       "      <th></th>\n",
       "      <th></th>\n",
       "      <th></th>\n",
       "      <th></th>\n",
       "      <th></th>\n",
       "      <th></th>\n",
       "      <th></th>\n",
       "      <th></th>\n",
       "      <th></th>\n",
       "      <th></th>\n",
       "      <th></th>\n",
       "      <th></th>\n",
       "      <th></th>\n",
       "      <th></th>\n",
       "    </tr>\n",
       "  </thead>\n",
       "  <tbody>\n",
       "    <tr>\n",
       "      <th>47</th>\n",
       "      <td>-0.54</td>\n",
       "      <td>0.43</td>\n",
       "      <td>-0.00</td>\n",
       "      <td>1.25</td>\n",
       "      <td>0.09</td>\n",
       "      <td>0.42</td>\n",
       "      <td>0.85</td>\n",
       "      <td>0.12</td>\n",
       "      <td>0.12</td>\n",
       "      <td>0.43</td>\n",
       "      <td>0.72</td>\n",
       "      <td>1</td>\n",
       "      <td>1</td>\n",
       "      <td>0.69</td>\n",
       "    </tr>\n",
       "    <tr>\n",
       "      <th>324</th>\n",
       "      <td>0.17</td>\n",
       "      <td>0.26</td>\n",
       "      <td>-0.89</td>\n",
       "      <td>-0.91</td>\n",
       "      <td>-0.20</td>\n",
       "      <td>-0.24</td>\n",
       "      <td>0.85</td>\n",
       "      <td>-1.03</td>\n",
       "      <td>-0.84</td>\n",
       "      <td>-0.88</td>\n",
       "      <td>-0.57</td>\n",
       "      <td>1</td>\n",
       "      <td>0</td>\n",
       "      <td>1.00</td>\n",
       "    </tr>\n",
       "    <tr>\n",
       "      <th>253</th>\n",
       "      <td>-1.19</td>\n",
       "      <td>1.11</td>\n",
       "      <td>0.91</td>\n",
       "      <td>-0.33</td>\n",
       "      <td>-1.66</td>\n",
       "      <td>0.96</td>\n",
       "      <td>0.85</td>\n",
       "      <td>-0.23</td>\n",
       "      <td>-0.07</td>\n",
       "      <td>0.43</td>\n",
       "      <td>1.36</td>\n",
       "      <td>1</td>\n",
       "      <td>1</td>\n",
       "      <td>1.00</td>\n",
       "    </tr>\n",
       "  </tbody>\n",
       "</table>\n",
       "</div>"
      ],
      "text/plain": [
       "       acousticness  danceability  energy  instrumentalness   key  loudness  \\\n",
       "index                                                                         \n",
       "47            -0.54          0.43   -0.00              1.25  0.09      0.42   \n",
       "324            0.17          0.26   -0.89             -0.91 -0.20     -0.24   \n",
       "253           -1.19          1.11    0.91             -0.33 -1.66      0.96   \n",
       "\n",
       "       mode  speechiness  tempo  time_signature  valence  match  label  prob  \n",
       "index                                                                         \n",
       "47     0.85         0.12   0.12            0.43     0.72      1      1  0.69  \n",
       "324    0.85        -1.03  -0.84           -0.88    -0.57      1      0  1.00  \n",
       "253    0.85        -0.23  -0.07            0.43     1.36      1      1  1.00  "
      ]
     },
     "execution_count": 141,
     "metadata": {},
     "output_type": "execute_result"
    }
   ],
   "source": [
    "# make a df for data with KNN results\n",
    "knn_df = nparray_to_df(knn_set)\n",
    "\n",
    "# review the result\n",
    "knn_df.sample(3)"
   ]
  },
  {
   "cell_type": "code",
   "execution_count": 143,
   "metadata": {
    "collapsed": true
   },
   "outputs": [],
   "source": [
    "# save in HDF5\n",
    "knn_df.to_hdf('music_data.h5', 'knn_df', format='table')"
   ]
  },
  {
   "cell_type": "markdown",
   "metadata": {},
   "source": [
    "### 6. Review the result"
   ]
  },
  {
   "cell_type": "code",
   "execution_count": 173,
   "metadata": {
    "collapsed": true
   },
   "outputs": [],
   "source": [
    "def model_summary(df, model, model_name, labels):\n",
    "    print (\"Summary of the {} classifier \"\n",
    "           \"performance\\n\".format(model_name))\n",
    "    print \"Model: \"\n",
    "    print model\n",
    "    print (\"\\nModel accuracy score: {:.3f}\"\n",
    "           .format(cvs))\n",
    "    # drop 'match' column as it's not relevant here\n",
    "    df = df.drop('match', 1)\n",
    "    print (\"\\nNumber of tracks in the test set: {}.\"\n",
    "           .format(len(df)))\n",
    "    for lb in labels:\n",
    "        print (\"Number of tracks assigned to the \\\"{}\\\" class: {}, or {:.2%} of all tracks.\"\n",
    "               .format(lb, len(df[df['label'] == labels.index(lb)]),\n",
    "                      (len(df[df['label'] == labels.index(lb)])/len(df))))\n",
    "    print \"\\nMean probability for each category\"\n",
    "    grouped = df.groupby(['label'])\n",
    "    print grouped['prob'].mean()"
   ]
  },
  {
   "cell_type": "code",
   "execution_count": 172,
   "metadata": {
    "collapsed": false
   },
   "outputs": [
    {
     "data": {
      "text/plain": [
       "0.5951557093425606"
      ]
     },
     "execution_count": 172,
     "metadata": {},
     "output_type": "execute_result"
    }
   ],
   "source": [
    "len(knn_df[knn_df['label'] == labels.index('cycling')])/len(knn_df)"
   ]
  },
  {
   "cell_type": "code",
   "execution_count": 175,
   "metadata": {
    "collapsed": false,
    "scrolled": true
   },
   "outputs": [
    {
     "name": "stdout",
     "output_type": "stream",
     "text": [
      "Summary of the K-Nearest Neighbors classifier performance\n",
      "\n",
      "Model: \n",
      "KNeighborsClassifier(algorithm='auto', leaf_size=30, metric='minkowski',\n",
      "           metric_params=None, n_neighbors=7, p=2, weights='distance')\n",
      "\n",
      "Model accuracy score: 0.786\n",
      "\n",
      "Number of tracks in the test set: 289.\n",
      "Number of tracks assigned to the \"ballet\" class: 112, or 38.75% of all tracks.\n",
      "Number of tracks assigned to the \"cycling\" class: 172, or 59.52% of all tracks.\n",
      "Number of tracks assigned to the \"yoga\" class: 5, or 1.73% of all tracks.\n",
      "\n",
      "Mean probability for each category\n",
      "label\n",
      "0   0.72\n",
      "1   0.83\n",
      "2   0.64\n",
      "Name: prob, dtype: float64\n"
     ]
    }
   ],
   "source": [
    "# print the summary\n",
    "model_summary(knn_df, knn, 'K-Nearest Neighbors', labels)"
   ]
  },
  {
   "cell_type": "markdown",
   "metadata": {},
   "source": [
    "The \"cycling\" class has the highest mean probability, which means that on average tracks are assigned this class with 83% certainty. At the same time this is the most popular class — almost 60% of all tracks in the test set are assigned the \"cycling\" class. \n",
    "\n",
    "The \"ballet\" class is doing alright. Almost 40% of all tracks are assigned this class label with 72% certainty on average. \n",
    "\n",
    "The \"yoga\" class has the fewest representatives in the test set. Only 5 tracks were assigned this class label. The mean probability is the lowest among the three classes.  \n",
    "\n",
    "### 6. Apply probability threshold\n",
    "In my playlists I want to keep only tracks with high probability of class membership. To decide on the threshold for  probability estimate I plot number of tracks in each class with a threshold varying from 0 to 100%. "
   ]
  },
  {
   "cell_type": "code",
   "execution_count": 186,
   "metadata": {
    "collapsed": true
   },
   "outputs": [],
   "source": [
    "def prob_with_threshold(df, threshold):\n",
    "    \"\"\"Returns a df with class probability\n",
    "    higher than a threshold.\n",
    "    \"\"\"\n",
    "    # drop 'match' column as it's not relevant here\n",
    "    df = df.drop('match', 1)\n",
    "    \n",
    "    prob_thres = df[df['prob'] >= threshold]\n",
    "    return prob_thres\n",
    "\n",
    "def sum_category(df, index):\n",
    "    \"\"\"Returns number of tracks in a category\n",
    "    \"\"\"\n",
    "    category_size = len(df[df['label'] == index])\n",
    "    return category_size"
   ]
  },
  {
   "cell_type": "markdown",
   "metadata": {},
   "source": [
    "#### Make a plot"
   ]
  },
  {
   "cell_type": "code",
   "execution_count": 188,
   "metadata": {
    "collapsed": false
   },
   "outputs": [
    {
     "data": {
      "image/png": "[encoded data removed]",
      "text/plain": [
       "<matplotlib.figure.Figure at 0x10f12df50>"
      ]
     },
     "metadata": {},
     "output_type": "display_data"
    }
   ],
   "source": [
    "# threshold values\n",
    "xs = list(a / 10.0 for a in range(11))\n",
    "\n",
    "# all classes\n",
    "total = [len(prob_with_threshold(knn_df, i)) for i in xs]\n",
    "line_total = plt.plot(xs, total, linewidth=2, label='total')\n",
    "\n",
    "for lb in labels:\n",
    "    lb_sum = [sum_category(prob_with_threshold(knn_df, i), \n",
    "                             labels.index(lb)) for i in xs]\n",
    "    line_lb = plt.plot(xs, lb_sum, linewidth=2, label=lb)\n",
    "\n",
    "plt.ylabel('Number of tracks')\n",
    "plt.xlabel('Probability')\n",
    "plt.legend()\n",
    "sns.despine()\n",
    "plt.show()"
   ]
  },
  {
   "cell_type": "markdown",
   "metadata": {},
   "source": [
    "Looking at the plot, I'd say that 0.7 is a good value for the probability threshold. It filters out some tracks in each class, eliminating tracks with lower certainty of class membership and, thus, making the playlists more accurate. Setting the value to 0.8 and higher leaves the \"yoga\" class without any tracks at all and excludes big part of tracks in two other classes. \n",
    "\n",
    "I apply the 0.7 probability threshold to data and review the result."
   ]
  },
  {
   "cell_type": "code",
   "execution_count": 192,
   "metadata": {
    "collapsed": true
   },
   "outputs": [],
   "source": [
    "def summary_of_prob_with_thres(df, threshold, labels):\n",
    "    df_prob = prob_with_threshold(knn_df, 0.7)\n",
    "    print (\"Total number of tracks to classify: {}.\"\n",
    "           .format(len(df)))\n",
    "    print (\"Number of tracks with {} probability \"\n",
    "          \"of class membership: {}.\"\n",
    "          .format(threshold, len(df_prob)))\n",
    "    print \"Among which...\"\n",
    "    for lb in labels:\n",
    "        print (\"...assigned the \\\"{}\\\" class: {} ({} without the threshold).\"\n",
    "               .format(lb, len(df_prob[df_prob['label'] == labels.index(lb)]),\n",
    "                      len(df[df['label'] == labels.index(lb)])))\n",
    "    print \"\\nMean probability for each class\"\n",
    "    grouped = df_prob.groupby(['label'])\n",
    "    print grouped['prob'].mean()"
   ]
  },
  {
   "cell_type": "code",
   "execution_count": 193,
   "metadata": {
    "collapsed": false,
    "scrolled": true
   },
   "outputs": [
    {
     "name": "stdout",
     "output_type": "stream",
     "text": [
      "Total number of tracks to classify: 289.\n",
      "Number of tracks with 0.7 probability of class membership: 206.\n",
      "Among which...\n",
      "...assigned the \"ballet\" class: 73 (112 without the threshold).\n",
      "...assigned the \"cycling\" class: 131 (172 without the threshold).\n",
      "...assigned the \"yoga\" class: 2 (5 without the threshold).\n",
      "\n",
      "Mean probability for each class\n",
      "label\n",
      "0   0.80\n",
      "1   0.90\n",
      "2   0.72\n",
      "Name: prob, dtype: float64\n"
     ]
    }
   ],
   "source": [
    "# print summary \n",
    "summary_of_prob_with_thres(knn_df, 0.7, labels)"
   ]
  },
  {
   "cell_type": "markdown",
   "metadata": {},
   "source": [
    "### Summary\n",
    "In this notebook I applied k-neighbors classification tecnique to identify class membership of every track in the matching group and assign a class label. "
   ]
  }
 ],
 "metadata": {
  "kernelspec": {
   "display_name": "Python 2",
   "language": "python",
   "name": "python2"
  },
  "language_info": {
   "codemirror_mode": {
    "name": "ipython",
    "version": 2
   },
   "file_extension": ".py",
   "mimetype": "text/x-python",
   "name": "python",
   "nbconvert_exporter": "python",
   "pygments_lexer": "ipython2",
   "version": "2.7.10"
  }
 },
 "nbformat": 4,
 "nbformat_minor": 0
}
