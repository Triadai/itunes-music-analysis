{
 "cells": [
  {
   "cell_type": "markdown",
   "metadata": {},
   "source": [
    "## Music Analysis\n",
    "\n",
    "### An analysis of music for my pilates classes"
   ]
  },
  {
   "cell_type": "markdown",
   "metadata": {},
   "source": [
    "Why... How...\n",
    "\n",
    "I believe that the good song for the practice is the one I do not hear, or pay attention to. It gives the mood, the rhythm, the flow. But my brain should not catch it. The song should be around, not whithin.\n",
    "\n",
    "— January 2016 —"
   ]
  },
  {
   "cell_type": "markdown",
   "metadata": {},
   "source": [
    "### Summary"
   ]
  },
  {
   "cell_type": "markdown",
   "metadata": {},
   "source": [
    "#### Preliminaries\n",
    "\n",
    "I use pandas and matplotlib..."
   ]
  },
  {
   "cell_type": "code",
   "execution_count": 364,
   "metadata": {
    "collapsed": true
   },
   "outputs": [],
   "source": [
    "%matplotlib inline\n",
    "import matplotlib.pyplot as plt\n",
    "from IPython.display import display\n",
    "import pandas as pd\n",
    "\n",
    "# set seaborn plot defaults\n",
    "import seaborn as sns; seaborn.set()\n",
    "\n",
    "# format floating point numbers\n",
    "pd.set_option('float_format', '{:.2f}'.format)"
   ]
  },
  {
   "cell_type": "markdown",
   "metadata": {},
   "source": [
    "The hero and the foundation of my analysis is the Echo Nest library. "
   ]
  },
  {
   "cell_type": "code",
   "execution_count": 365,
   "metadata": {
    "collapsed": true
   },
   "outputs": [],
   "source": [
    "from pyechonest import config\n",
    "config.ECHO_NEST_API_KEY=\"1RNDIJ5SITBKZFDCT\""
   ]
  },
  {
   "cell_type": "markdown",
   "metadata": {},
   "source": [
    "I made a list of hand picked songs that match the rhythm of my classes. I use this list as...  \n",
    "I saved the data as a sqlite dictionary and use the sqlitedict library to access it."
   ]
  },
  {
   "cell_type": "code",
   "execution_count": 91,
   "metadata": {
    "collapsed": true
   },
   "outputs": [],
   "source": [
    "from sqlitedict import SqliteDict\n",
    "db = SqliteDict('./chosen_tracks', autocommit=True)"
   ]
  },
  {
   "cell_type": "code",
   "execution_count": 397,
   "metadata": {
    "collapsed": false
   },
   "outputs": [
    {
     "name": "stdout",
     "output_type": "stream",
     "text": [
      "128\n"
     ]
    }
   ],
   "source": [
    "# remove\n",
    "csv_file = 'Yoga Music  - Sheet1.csv'\n",
    "\n",
    "def add_songs_from_csv(csv_file, db):\n",
    "    data = pd.read_csv(csv_file, index_col='Song', encoding='utf_8', header=0)\n",
    "    for item in data.index:\n",
    "        artist = data.loc[item]['Artist']\n",
    "        song_cat = data.loc[item]['Category']\n",
    "        if not db.get(item):\n",
    "            db[item] = {'artist' : artist, 'category' : song_cat}\n",
    "    print len(db)\n",
    "add_songs_from_csv(csv_file, db)"
   ]
  },
  {
   "cell_type": "code",
   "execution_count": 92,
   "metadata": {
    "collapsed": true
   },
   "outputs": [],
   "source": [
    "# remove\n",
    "\"\"\" Add a new song by hand to the db\n",
    "\"\"\"\n",
    "db['Any Other Name'] = {'artist' : 'Thomas Newman', 'category' : 'yoga'}"
   ]
  },
  {
   "cell_type": "markdown",
   "metadata": {},
   "source": [
    "Using the Echo Nest library is super easy and straighforward."
   ]
  },
  {
   "cell_type": "code",
   "execution_count": 371,
   "metadata": {
    "collapsed": false
   },
   "outputs": [],
   "source": [
    "def get_song_data(artist_name, song_title):\n",
    "    from pyechonest import song\n",
    "    \"\"\" The library has limitations and \n",
    "    doesn't provide data for every artist or song.\n",
    "    I gracefully handle missing items with a \n",
    "    \"try-except\" block.\n",
    "    \"\"\"\n",
    "    try: \n",
    "        result = song.search(artist=artist_name, \n",
    "                             title=song_title)\n",
    "        song_result = result[0]\n",
    "        song_data = song_result.audio_summary\n",
    "        return song_data\n",
    "    \n",
    "    except IndexError as e:\n",
    "        print 'No data for the song', song_title\n",
    "        return None\n",
    "    \n",
    "def add_song_data_to_db(song_title, song_data, db):\n",
    "    \"\"\" Add song data we get from Echo Nest \n",
    "    to the DB.\n",
    "    \"\"\"\n",
    "    song_val = {'time_signature' : song_data['time_signature'],\n",
    "                'energy' : song_data['energy'],\n",
    "                'tempo' : song_data['tempo'], \n",
    "                'speechiness' : song_data['speechiness'],\n",
    "                'acousticness' : song_data['acousticness'], \n",
    "                'danceability' : song_data['danceability'],\n",
    "                'instrumentalness' : song_data['instrumentalness'],\n",
    "                'key' : song_data['key'],\n",
    "                'loudness' : song_data['loudness'],\n",
    "                'valence' : song_data['valence'],\n",
    "                'mode' : song_data['mode']}\n",
    "    value = db[song_title]\n",
    "    value.update(song_val)\n",
    "    db[song_title] = value\n",
    "    print 'Saved', song_title, db[song_title]\n",
    "            \n",
    "def check_data_in_db(db):\n",
    "    \"\"\" Look for new songs in the DB and get \n",
    "    song attributes from the Echo Nest library.\n",
    "    \"\"\"\n",
    "    for song_title, value in db.iteritems():\n",
    "        # Check if the attributes have been added\n",
    "        if value.get('tempo') or value.get('No_data'): \n",
    "            pass\n",
    "        else:\n",
    "            song_data = get_song_data(value['artist'], \n",
    "                                      song_title)\n",
    "            # If the song is in the Echo Nest base, \n",
    "            # I add the data to the DB.\n",
    "            if song_data:\n",
    "                add_song_data_to_db(song_title, \n",
    "                                    song_data, db)\n",
    "            # If not, I add 'No_data' tag for the song. \n",
    "            else:\n",
    "                song_val = {'No_data' : True}\n",
    "                value.update(song_val)\n",
    "                db[song_title] = value"
   ]
  },
  {
   "cell_type": "code",
   "execution_count": 398,
   "metadata": {
    "collapsed": false,
    "scrolled": true
   },
   "outputs": [
    {
     "name": "stdout",
     "output_type": "stream",
     "text": [
      "No data for the song Wear your seat belt\n"
     ]
    }
   ],
   "source": [
    "# call the function\n",
    "check_data_in_db(db)"
   ]
  },
  {
   "cell_type": "code",
   "execution_count": 391,
   "metadata": {
    "collapsed": false
   },
   "outputs": [
    {
     "name": "stdout",
     "output_type": "stream",
     "text": [
      "91\n"
     ]
    }
   ],
   "source": [
    "# remove\n",
    "\"\"\" Count the number of 'good' \n",
    "songs in the DB. \n",
    "\"\"\"\n",
    "count = 0\n",
    "for k, v in db.iteritems():\n",
    "    if v.get('tempo'):\n",
    "        count += 1\n",
    "    else: continue\n",
    "print count"
   ]
  },
  {
   "cell_type": "markdown",
   "metadata": {},
   "source": [
    "### Data overview  \n",
    "  \n",
    "Next we read in data from the database and take a look at what we're working with."
   ]
  },
  {
   "cell_type": "code",
   "execution_count": 529,
   "metadata": {
    "collapsed": false
   },
   "outputs": [],
   "source": [
    "def read_db_in_pandas(db):\n",
    "    \"\"\" Read the DB.\"\"\"\n",
    "    # Transpose data to have keys as index.\n",
    "    df = pd.DataFrame(dict(db)).T\n",
    "\n",
    "    # Remove rows with no data for a song.\n",
    "    df_clean = df[df['No_data'] != 1]\n",
    "\n",
    "    # Convert columns into numbers.\n",
    "    df_clean = df_clean.convert_objects(convert_numeric=True)\n",
    "    \n",
    "    # Remove the 'No_data' column. \n",
    "    df_clean = df_clean.drop('No_data', 1)\n",
    "    return df_clean\n",
    "\n",
    "df = read_db_in_pandas(db)"
   ]
  },
  {
   "cell_type": "code",
   "execution_count": 530,
   "metadata": {
    "collapsed": false,
    "scrolled": true
   },
   "outputs": [
    {
     "name": "stdout",
     "output_type": "stream",
     "text": [
      "There are 128 items in the dataset.\n",
      "37 items have no data available.\n",
      "We are left with 91 songs to use as a base model.\n",
      "\n",
      "Below is a random sample of the dataset.\n"
     ]
    },
    {
     "data": {
      "text/html": [
       "<div>\n",
       "<table border=\"1\" class=\"dataframe\">\n",
       "  <thead>\n",
       "    <tr style=\"text-align: right;\">\n",
       "      <th></th>\n",
       "      <th>acousticness</th>\n",
       "      <th>artist</th>\n",
       "      <th>category</th>\n",
       "      <th>danceability</th>\n",
       "      <th>energy</th>\n",
       "      <th>instrumentalness</th>\n",
       "      <th>key</th>\n",
       "      <th>loudness</th>\n",
       "      <th>mode</th>\n",
       "      <th>speechiness</th>\n",
       "      <th>tempo</th>\n",
       "      <th>time_signature</th>\n",
       "      <th>valence</th>\n",
       "    </tr>\n",
       "  </thead>\n",
       "  <tbody>\n",
       "    <tr>\n",
       "      <th>Too Much time together</th>\n",
       "      <td>0.26</td>\n",
       "      <td>San Cisco</td>\n",
       "      <td>cycling</td>\n",
       "      <td>0.56</td>\n",
       "      <td>0.84</td>\n",
       "      <td>0.00</td>\n",
       "      <td>2</td>\n",
       "      <td>-5.35</td>\n",
       "      <td>1</td>\n",
       "      <td>0.05</td>\n",
       "      <td>154.88</td>\n",
       "      <td>4</td>\n",
       "      <td>0.96</td>\n",
       "    </tr>\n",
       "    <tr>\n",
       "      <th>Bittersweet (Part 2 - Gat)</th>\n",
       "      <td>0.85</td>\n",
       "      <td>Stevin McNamara</td>\n",
       "      <td>yoga</td>\n",
       "      <td>0.85</td>\n",
       "      <td>0.22</td>\n",
       "      <td>0.92</td>\n",
       "      <td>7</td>\n",
       "      <td>-17.54</td>\n",
       "      <td>1</td>\n",
       "      <td>0.05</td>\n",
       "      <td>114.05</td>\n",
       "      <td>4</td>\n",
       "      <td>0.12</td>\n",
       "    </tr>\n",
       "    <tr>\n",
       "      <th>Ladder Of Lights</th>\n",
       "      <td>0.74</td>\n",
       "      <td>Cypher 7</td>\n",
       "      <td>focus</td>\n",
       "      <td>0.62</td>\n",
       "      <td>0.21</td>\n",
       "      <td>0.91</td>\n",
       "      <td>5</td>\n",
       "      <td>-22.58</td>\n",
       "      <td>0</td>\n",
       "      <td>0.03</td>\n",
       "      <td>128.97</td>\n",
       "      <td>3</td>\n",
       "      <td>0.17</td>\n",
       "    </tr>\n",
       "    <tr>\n",
       "      <th>Lounge Me</th>\n",
       "      <td>0.01</td>\n",
       "      <td>Sunsphere</td>\n",
       "      <td>focus</td>\n",
       "      <td>0.68</td>\n",
       "      <td>0.64</td>\n",
       "      <td>0.89</td>\n",
       "      <td>10</td>\n",
       "      <td>-11.41</td>\n",
       "      <td>0</td>\n",
       "      <td>0.05</td>\n",
       "      <td>97.97</td>\n",
       "      <td>4</td>\n",
       "      <td>0.54</td>\n",
       "    </tr>\n",
       "  </tbody>\n",
       "</table>\n",
       "</div>"
      ],
      "text/plain": [
       "                            acousticness           artist category  \\\n",
       "Too Much time together              0.26        San Cisco  cycling   \n",
       "Bittersweet (Part 2 - Gat)          0.85  Stevin McNamara     yoga   \n",
       "Ladder Of Lights                    0.74         Cypher 7    focus   \n",
       "Lounge Me                           0.01        Sunsphere    focus   \n",
       "\n",
       "                            danceability  energy  instrumentalness  key  \\\n",
       "Too Much time together              0.56    0.84              0.00    2   \n",
       "Bittersweet (Part 2 - Gat)          0.85    0.22              0.92    7   \n",
       "Ladder Of Lights                    0.62    0.21              0.91    5   \n",
       "Lounge Me                           0.68    0.64              0.89   10   \n",
       "\n",
       "                            loudness  mode  speechiness  tempo  \\\n",
       "Too Much time together         -5.35     1         0.05 154.88   \n",
       "Bittersweet (Part 2 - Gat)    -17.54     1         0.05 114.05   \n",
       "Ladder Of Lights              -22.58     0         0.03 128.97   \n",
       "Lounge Me                     -11.41     0         0.05  97.97   \n",
       "\n",
       "                            time_signature  valence  \n",
       "Too Much time together                   4     0.96  \n",
       "Bittersweet (Part 2 - Gat)               4     0.12  \n",
       "Ladder Of Lights                         3     0.17  \n",
       "Lounge Me                                4     0.54  "
      ]
     },
     "execution_count": 530,
     "metadata": {},
     "output_type": "execute_result"
    }
   ],
   "source": [
    "print (\"There are {0} items in the dataset.\"\n",
    "       .format(len(db)))\n",
    "print (\"{0} items have no data available.\"\n",
    "       .format(len(db) - len(df)))\n",
    "print (\"We are left with {0} songs to use as a base model.\"\n",
    "       .format(len(df)))\n",
    "print \"\\nBelow is a random sample of the dataset.\"\n",
    "df.sample(n=4)"
   ]
  },
  {
   "cell_type": "markdown",
   "metadata": {},
   "source": [
    "The dataset contains songs in three categories: yoga, focus, and cycling. \n",
    "Let's examine songs labeled with 'yoga', which I use both for my pilates and yoga practices. "
   ]
  },
  {
   "cell_type": "code",
   "execution_count": 494,
   "metadata": {
    "collapsed": false
   },
   "outputs": [
    {
     "data": {
      "text/html": [
       "<div>\n",
       "<table border=\"1\" class=\"dataframe\">\n",
       "  <thead>\n",
       "    <tr style=\"text-align: right;\">\n",
       "      <th></th>\n",
       "      <th>acousticness</th>\n",
       "      <th>danceability</th>\n",
       "      <th>energy</th>\n",
       "      <th>instrumentalness</th>\n",
       "      <th>key</th>\n",
       "      <th>loudness</th>\n",
       "      <th>mode</th>\n",
       "      <th>speechiness</th>\n",
       "      <th>tempo</th>\n",
       "      <th>time_signature</th>\n",
       "      <th>valence</th>\n",
       "    </tr>\n",
       "  </thead>\n",
       "  <tbody>\n",
       "    <tr>\n",
       "      <th>count</th>\n",
       "      <td>31.00</td>\n",
       "      <td>31.00</td>\n",
       "      <td>31.00</td>\n",
       "      <td>31.00</td>\n",
       "      <td>31.00</td>\n",
       "      <td>31.00</td>\n",
       "      <td>31.00</td>\n",
       "      <td>31.00</td>\n",
       "      <td>31.00</td>\n",
       "      <td>31.00</td>\n",
       "      <td>31.00</td>\n",
       "    </tr>\n",
       "    <tr>\n",
       "      <th>mean</th>\n",
       "      <td>0.84</td>\n",
       "      <td>0.44</td>\n",
       "      <td>0.19</td>\n",
       "      <td>0.81</td>\n",
       "      <td>5.84</td>\n",
       "      <td>-19.55</td>\n",
       "      <td>0.68</td>\n",
       "      <td>0.04</td>\n",
       "      <td>110.50</td>\n",
       "      <td>3.39</td>\n",
       "      <td>0.23</td>\n",
       "    </tr>\n",
       "    <tr>\n",
       "      <th>std</th>\n",
       "      <td>0.22</td>\n",
       "      <td>0.19</td>\n",
       "      <td>0.14</td>\n",
       "      <td>0.25</td>\n",
       "      <td>2.97</td>\n",
       "      <td>5.85</td>\n",
       "      <td>0.48</td>\n",
       "      <td>0.01</td>\n",
       "      <td>27.25</td>\n",
       "      <td>1.05</td>\n",
       "      <td>0.21</td>\n",
       "    </tr>\n",
       "    <tr>\n",
       "      <th>min</th>\n",
       "      <td>0.19</td>\n",
       "      <td>0.06</td>\n",
       "      <td>0.01</td>\n",
       "      <td>0.00</td>\n",
       "      <td>0.00</td>\n",
       "      <td>-35.78</td>\n",
       "      <td>0.00</td>\n",
       "      <td>0.03</td>\n",
       "      <td>57.83</td>\n",
       "      <td>1.00</td>\n",
       "      <td>0.03</td>\n",
       "    </tr>\n",
       "    <tr>\n",
       "      <th>25%</th>\n",
       "      <td>0.84</td>\n",
       "      <td>0.36</td>\n",
       "      <td>0.10</td>\n",
       "      <td>0.83</td>\n",
       "      <td>3.00</td>\n",
       "      <td>-21.37</td>\n",
       "      <td>0.00</td>\n",
       "      <td>0.04</td>\n",
       "      <td>94.06</td>\n",
       "      <td>3.00</td>\n",
       "      <td>0.07</td>\n",
       "    </tr>\n",
       "    <tr>\n",
       "      <th>50%</th>\n",
       "      <td>0.91</td>\n",
       "      <td>0.41</td>\n",
       "      <td>0.19</td>\n",
       "      <td>0.90</td>\n",
       "      <td>6.00</td>\n",
       "      <td>-18.39</td>\n",
       "      <td>1.00</td>\n",
       "      <td>0.04</td>\n",
       "      <td>110.64</td>\n",
       "      <td>4.00</td>\n",
       "      <td>0.15</td>\n",
       "    </tr>\n",
       "    <tr>\n",
       "      <th>75%</th>\n",
       "      <td>0.98</td>\n",
       "      <td>0.57</td>\n",
       "      <td>0.26</td>\n",
       "      <td>0.94</td>\n",
       "      <td>8.50</td>\n",
       "      <td>-15.60</td>\n",
       "      <td>1.00</td>\n",
       "      <td>0.05</td>\n",
       "      <td>130.26</td>\n",
       "      <td>4.00</td>\n",
       "      <td>0.34</td>\n",
       "    </tr>\n",
       "    <tr>\n",
       "      <th>max</th>\n",
       "      <td>0.99</td>\n",
       "      <td>0.85</td>\n",
       "      <td>0.56</td>\n",
       "      <td>0.98</td>\n",
       "      <td>10.00</td>\n",
       "      <td>-11.17</td>\n",
       "      <td>1.00</td>\n",
       "      <td>0.10</td>\n",
       "      <td>175.70</td>\n",
       "      <td>5.00</td>\n",
       "      <td>0.81</td>\n",
       "    </tr>\n",
       "  </tbody>\n",
       "</table>\n",
       "</div>"
      ],
      "text/plain": [
       "       acousticness  danceability  energy  instrumentalness   key  loudness  \\\n",
       "count         31.00         31.00   31.00             31.00 31.00     31.00   \n",
       "mean           0.84          0.44    0.19              0.81  5.84    -19.55   \n",
       "std            0.22          0.19    0.14              0.25  2.97      5.85   \n",
       "min            0.19          0.06    0.01              0.00  0.00    -35.78   \n",
       "25%            0.84          0.36    0.10              0.83  3.00    -21.37   \n",
       "50%            0.91          0.41    0.19              0.90  6.00    -18.39   \n",
       "75%            0.98          0.57    0.26              0.94  8.50    -15.60   \n",
       "max            0.99          0.85    0.56              0.98 10.00    -11.17   \n",
       "\n",
       "       mode  speechiness  tempo  time_signature  valence  \n",
       "count 31.00        31.00  31.00           31.00    31.00  \n",
       "mean   0.68         0.04 110.50            3.39     0.23  \n",
       "std    0.48         0.01  27.25            1.05     0.21  \n",
       "min    0.00         0.03  57.83            1.00     0.03  \n",
       "25%    0.00         0.04  94.06            3.00     0.07  \n",
       "50%    1.00         0.04 110.64            4.00     0.15  \n",
       "75%    1.00         0.05 130.26            4.00     0.34  \n",
       "max    1.00         0.10 175.70            5.00     0.81  "
      ]
     },
     "execution_count": 494,
     "metadata": {},
     "output_type": "execute_result"
    }
   ],
   "source": [
    "df_yoga = df[df['category'] == 'yoga']\n",
    "yoga_descr = df_yoga.describe()\n",
    "yoga_descr"
   ]
  },
  {
   "cell_type": "markdown",
   "metadata": {},
   "source": [
    "These data might speak for themselves for an ace musician but I've no idea how to assess the level of the tempo or valence here. Is it high? Low? How different is it? To make it clearer I'll compare these data to another sample that contains more energetic music for cycling. "
   ]
  },
  {
   "cell_type": "code",
   "execution_count": 495,
   "metadata": {
    "collapsed": false,
    "scrolled": true
   },
   "outputs": [
    {
     "data": {
      "text/html": [
       "<div>\n",
       "<table border=\"1\" class=\"dataframe\">\n",
       "  <thead>\n",
       "    <tr style=\"text-align: right;\">\n",
       "      <th></th>\n",
       "      <th></th>\n",
       "      <th>acousticness</th>\n",
       "      <th>danceability</th>\n",
       "      <th>energy</th>\n",
       "      <th>instrumentalness</th>\n",
       "      <th>key</th>\n",
       "      <th>loudness</th>\n",
       "      <th>mode</th>\n",
       "      <th>speechiness</th>\n",
       "      <th>tempo</th>\n",
       "      <th>time_signature</th>\n",
       "      <th>valence</th>\n",
       "    </tr>\n",
       "    <tr>\n",
       "      <th>measures</th>\n",
       "      <th>category</th>\n",
       "      <th></th>\n",
       "      <th></th>\n",
       "      <th></th>\n",
       "      <th></th>\n",
       "      <th></th>\n",
       "      <th></th>\n",
       "      <th></th>\n",
       "      <th></th>\n",
       "      <th></th>\n",
       "      <th></th>\n",
       "      <th></th>\n",
       "    </tr>\n",
       "  </thead>\n",
       "  <tbody>\n",
       "    <tr>\n",
       "      <th rowspan=\"2\" valign=\"top\">count</th>\n",
       "      <th>yoga</th>\n",
       "      <td>31.00</td>\n",
       "      <td>31.00</td>\n",
       "      <td>31.00</td>\n",
       "      <td>31.00</td>\n",
       "      <td>31.00</td>\n",
       "      <td>31.00</td>\n",
       "      <td>31.00</td>\n",
       "      <td>31.00</td>\n",
       "      <td>31.00</td>\n",
       "      <td>31.00</td>\n",
       "      <td>31.00</td>\n",
       "    </tr>\n",
       "    <tr>\n",
       "      <th>cycling</th>\n",
       "      <td>26.00</td>\n",
       "      <td>26.00</td>\n",
       "      <td>26.00</td>\n",
       "      <td>26.00</td>\n",
       "      <td>26.00</td>\n",
       "      <td>26.00</td>\n",
       "      <td>26.00</td>\n",
       "      <td>26.00</td>\n",
       "      <td>26.00</td>\n",
       "      <td>26.00</td>\n",
       "      <td>26.00</td>\n",
       "    </tr>\n",
       "    <tr>\n",
       "      <th rowspan=\"2\" valign=\"top\">mean</th>\n",
       "      <th>yoga</th>\n",
       "      <td>0.84</td>\n",
       "      <td>0.44</td>\n",
       "      <td>0.19</td>\n",
       "      <td>0.81</td>\n",
       "      <td>5.84</td>\n",
       "      <td>-19.55</td>\n",
       "      <td>0.68</td>\n",
       "      <td>0.04</td>\n",
       "      <td>110.50</td>\n",
       "      <td>3.39</td>\n",
       "      <td>0.23</td>\n",
       "    </tr>\n",
       "    <tr>\n",
       "      <th>cycling</th>\n",
       "      <td>0.11</td>\n",
       "      <td>0.60</td>\n",
       "      <td>0.79</td>\n",
       "      <td>0.08</td>\n",
       "      <td>5.58</td>\n",
       "      <td>-5.97</td>\n",
       "      <td>0.77</td>\n",
       "      <td>0.06</td>\n",
       "      <td>136.66</td>\n",
       "      <td>4.00</td>\n",
       "      <td>0.70</td>\n",
       "    </tr>\n",
       "    <tr>\n",
       "      <th rowspan=\"2\" valign=\"top\">std</th>\n",
       "      <th>yoga</th>\n",
       "      <td>0.22</td>\n",
       "      <td>0.19</td>\n",
       "      <td>0.14</td>\n",
       "      <td>0.25</td>\n",
       "      <td>2.97</td>\n",
       "      <td>5.85</td>\n",
       "      <td>0.48</td>\n",
       "      <td>0.01</td>\n",
       "      <td>27.25</td>\n",
       "      <td>1.05</td>\n",
       "      <td>0.21</td>\n",
       "    </tr>\n",
       "    <tr>\n",
       "      <th>cycling</th>\n",
       "      <td>0.22</td>\n",
       "      <td>0.14</td>\n",
       "      <td>0.14</td>\n",
       "      <td>0.19</td>\n",
       "      <td>4.06</td>\n",
       "      <td>2.51</td>\n",
       "      <td>0.43</td>\n",
       "      <td>0.03</td>\n",
       "      <td>22.40</td>\n",
       "      <td>0.00</td>\n",
       "      <td>0.21</td>\n",
       "    </tr>\n",
       "    <tr>\n",
       "      <th rowspan=\"2\" valign=\"top\">min</th>\n",
       "      <th>yoga</th>\n",
       "      <td>0.19</td>\n",
       "      <td>0.06</td>\n",
       "      <td>0.01</td>\n",
       "      <td>0.00</td>\n",
       "      <td>0.00</td>\n",
       "      <td>-35.78</td>\n",
       "      <td>0.00</td>\n",
       "      <td>0.03</td>\n",
       "      <td>57.83</td>\n",
       "      <td>1.00</td>\n",
       "      <td>0.03</td>\n",
       "    </tr>\n",
       "    <tr>\n",
       "      <th>cycling</th>\n",
       "      <td>0.00</td>\n",
       "      <td>0.39</td>\n",
       "      <td>0.44</td>\n",
       "      <td>0.00</td>\n",
       "      <td>0.00</td>\n",
       "      <td>-13.79</td>\n",
       "      <td>0.00</td>\n",
       "      <td>0.03</td>\n",
       "      <td>86.01</td>\n",
       "      <td>4.00</td>\n",
       "      <td>0.26</td>\n",
       "    </tr>\n",
       "    <tr>\n",
       "      <th rowspan=\"2\" valign=\"top\">25%</th>\n",
       "      <th>yoga</th>\n",
       "      <td>0.84</td>\n",
       "      <td>0.36</td>\n",
       "      <td>0.10</td>\n",
       "      <td>0.83</td>\n",
       "      <td>3.00</td>\n",
       "      <td>-21.37</td>\n",
       "      <td>0.00</td>\n",
       "      <td>0.04</td>\n",
       "      <td>94.06</td>\n",
       "      <td>3.00</td>\n",
       "      <td>0.07</td>\n",
       "    </tr>\n",
       "    <tr>\n",
       "      <th>cycling</th>\n",
       "      <td>0.00</td>\n",
       "      <td>0.48</td>\n",
       "      <td>0.67</td>\n",
       "      <td>0.00</td>\n",
       "      <td>1.25</td>\n",
       "      <td>-6.81</td>\n",
       "      <td>1.00</td>\n",
       "      <td>0.04</td>\n",
       "      <td>122.24</td>\n",
       "      <td>4.00</td>\n",
       "      <td>0.58</td>\n",
       "    </tr>\n",
       "    <tr>\n",
       "      <th rowspan=\"2\" valign=\"top\">50%</th>\n",
       "      <th>yoga</th>\n",
       "      <td>0.91</td>\n",
       "      <td>0.41</td>\n",
       "      <td>0.19</td>\n",
       "      <td>0.90</td>\n",
       "      <td>6.00</td>\n",
       "      <td>-18.39</td>\n",
       "      <td>1.00</td>\n",
       "      <td>0.04</td>\n",
       "      <td>110.64</td>\n",
       "      <td>4.00</td>\n",
       "      <td>0.15</td>\n",
       "    </tr>\n",
       "    <tr>\n",
       "      <th>cycling</th>\n",
       "      <td>0.02</td>\n",
       "      <td>0.60</td>\n",
       "      <td>0.83</td>\n",
       "      <td>0.00</td>\n",
       "      <td>6.50</td>\n",
       "      <td>-5.33</td>\n",
       "      <td>1.00</td>\n",
       "      <td>0.05</td>\n",
       "      <td>133.00</td>\n",
       "      <td>4.00</td>\n",
       "      <td>0.74</td>\n",
       "    </tr>\n",
       "    <tr>\n",
       "      <th rowspan=\"2\" valign=\"top\">75%</th>\n",
       "      <th>yoga</th>\n",
       "      <td>0.98</td>\n",
       "      <td>0.57</td>\n",
       "      <td>0.26</td>\n",
       "      <td>0.94</td>\n",
       "      <td>8.50</td>\n",
       "      <td>-15.60</td>\n",
       "      <td>1.00</td>\n",
       "      <td>0.05</td>\n",
       "      <td>130.26</td>\n",
       "      <td>4.00</td>\n",
       "      <td>0.34</td>\n",
       "    </tr>\n",
       "    <tr>\n",
       "      <th>cycling</th>\n",
       "      <td>0.09</td>\n",
       "      <td>0.67</td>\n",
       "      <td>0.90</td>\n",
       "      <td>0.05</td>\n",
       "      <td>9.00</td>\n",
       "      <td>-4.82</td>\n",
       "      <td>1.00</td>\n",
       "      <td>0.06</td>\n",
       "      <td>146.96</td>\n",
       "      <td>4.00</td>\n",
       "      <td>0.88</td>\n",
       "    </tr>\n",
       "    <tr>\n",
       "      <th rowspan=\"2\" valign=\"top\">max</th>\n",
       "      <th>yoga</th>\n",
       "      <td>0.99</td>\n",
       "      <td>0.85</td>\n",
       "      <td>0.56</td>\n",
       "      <td>0.98</td>\n",
       "      <td>10.00</td>\n",
       "      <td>-11.17</td>\n",
       "      <td>1.00</td>\n",
       "      <td>0.10</td>\n",
       "      <td>175.70</td>\n",
       "      <td>5.00</td>\n",
       "      <td>0.81</td>\n",
       "    </tr>\n",
       "    <tr>\n",
       "      <th>cycling</th>\n",
       "      <td>0.95</td>\n",
       "      <td>0.95</td>\n",
       "      <td>0.98</td>\n",
       "      <td>0.86</td>\n",
       "      <td>11.00</td>\n",
       "      <td>-1.84</td>\n",
       "      <td>1.00</td>\n",
       "      <td>0.17</td>\n",
       "      <td>190.04</td>\n",
       "      <td>4.00</td>\n",
       "      <td>0.97</td>\n",
       "    </tr>\n",
       "  </tbody>\n",
       "</table>\n",
       "</div>"
      ],
      "text/plain": [
       "                   acousticness  danceability  energy  instrumentalness   key  \\\n",
       "measures category                                                               \n",
       "count    yoga             31.00         31.00   31.00             31.00 31.00   \n",
       "         cycling          26.00         26.00   26.00             26.00 26.00   \n",
       "mean     yoga              0.84          0.44    0.19              0.81  5.84   \n",
       "         cycling           0.11          0.60    0.79              0.08  5.58   \n",
       "std      yoga              0.22          0.19    0.14              0.25  2.97   \n",
       "         cycling           0.22          0.14    0.14              0.19  4.06   \n",
       "min      yoga              0.19          0.06    0.01              0.00  0.00   \n",
       "         cycling           0.00          0.39    0.44              0.00  0.00   \n",
       "25%      yoga              0.84          0.36    0.10              0.83  3.00   \n",
       "         cycling           0.00          0.48    0.67              0.00  1.25   \n",
       "50%      yoga              0.91          0.41    0.19              0.90  6.00   \n",
       "         cycling           0.02          0.60    0.83              0.00  6.50   \n",
       "75%      yoga              0.98          0.57    0.26              0.94  8.50   \n",
       "         cycling           0.09          0.67    0.90              0.05  9.00   \n",
       "max      yoga              0.99          0.85    0.56              0.98 10.00   \n",
       "         cycling           0.95          0.95    0.98              0.86 11.00   \n",
       "\n",
       "                   loudness  mode  speechiness  tempo  time_signature  valence  \n",
       "measures category                                                               \n",
       "count    yoga         31.00 31.00        31.00  31.00           31.00    31.00  \n",
       "         cycling      26.00 26.00        26.00  26.00           26.00    26.00  \n",
       "mean     yoga        -19.55  0.68         0.04 110.50            3.39     0.23  \n",
       "         cycling      -5.97  0.77         0.06 136.66            4.00     0.70  \n",
       "std      yoga          5.85  0.48         0.01  27.25            1.05     0.21  \n",
       "         cycling       2.51  0.43         0.03  22.40            0.00     0.21  \n",
       "min      yoga        -35.78  0.00         0.03  57.83            1.00     0.03  \n",
       "         cycling     -13.79  0.00         0.03  86.01            4.00     0.26  \n",
       "25%      yoga        -21.37  0.00         0.04  94.06            3.00     0.07  \n",
       "         cycling      -6.81  1.00         0.04 122.24            4.00     0.58  \n",
       "50%      yoga        -18.39  1.00         0.04 110.64            4.00     0.15  \n",
       "         cycling      -5.33  1.00         0.05 133.00            4.00     0.74  \n",
       "75%      yoga        -15.60  1.00         0.05 130.26            4.00     0.34  \n",
       "         cycling      -4.82  1.00         0.06 146.96            4.00     0.88  \n",
       "max      yoga        -11.17  1.00         0.10 175.70            5.00     0.81  \n",
       "         cycling      -1.84  1.00         0.17 190.04            4.00     0.97  "
      ]
     },
     "execution_count": 495,
     "metadata": {},
     "output_type": "execute_result"
    }
   ],
   "source": [
    "# make a DF for a 'cycling' label\n",
    "df_cycling = df[df['category'] == 'cycling']\n",
    "# basic statistical calculations\n",
    "cycling_descr = df_cycling.describe()\n",
    "# concatenate into one table for the convenience\n",
    "result = pd.concat([yoga_descr, cycling_descr], \n",
    "                   keys=['yoga', 'cycling'], \n",
    "                   names=['category', 'measures'])\n",
    "# sort the table to make it more readable\n",
    "result.sortlevel(level=1).reorder_levels(['measures', 'category'])"
   ]
  },
  {
   "cell_type": "markdown",
   "metadata": {},
   "source": [
    "This table gives...\n",
    "Next step is to visualize the data."
   ]
  },
  {
   "cell_type": "markdown",
   "metadata": {},
   "source": [
    "First I create a new column in the DF where I'll label each song with a number. There is a special function in sklearn for this operation - LabelBinarizer() - but I'll go with this solution."
   ]
  },
  {
   "cell_type": "code",
   "execution_count": 531,
   "metadata": {
    "collapsed": false
   },
   "outputs": [],
   "source": [
    "def label_categories(row):\n",
    "    # make a list of categories\n",
    "    categories = list(pd.unique(df.category.ravel()))\n",
    "    for item in categories:\n",
    "        if row['category'] == item:\n",
    "            return categories.index(item) \n",
    "        \n",
    "df['num_cat'] = df.apply (lambda row: label_categories(row), axis=1)"
   ]
  },
  {
   "cell_type": "markdown",
   "metadata": {},
   "source": [
    "Let's plot the data."
   ]
  },
  {
   "cell_type": "code",
   "execution_count": 532,
   "metadata": {
    "collapsed": false,
    "scrolled": false
   },
   "outputs": [
    {
     "data": {
      "image/png": "[encoded data removed]",
      "text/plain": [
       "<matplotlib.figure.Figure at 0x10f24d4d0>"
      ]
     },
     "metadata": {},
     "output_type": "display_data"
    }
   ],
   "source": [
    "# list columns with numeric values\n",
    "cols = df.select_dtypes(exclude=[object]).columns\n",
    "\n",
    "# the formatter will label the colorbar with categories\n",
    "formatter = plt.FuncFormatter(lambda i, \n",
    "                               *args: df.category[int(i)])\n",
    "\n",
    "\"\"\"I can change index to see the relationship\n",
    "between different variables. \n",
    "\"\"\"\n",
    "x_index = 0\n",
    "y_index = 2\n",
    "\n",
    "# make a plot\n",
    "plt.scatter(df[cols[x_index]], df[cols[y_index]],\n",
    "            c=df.num_cat, cmap=plt.cm.get_cmap('RdYlBu', 3))\n",
    "plt.colorbar(ticks=[0, 1, 2], format=formatter)\n",
    "plt.clim(-0.5, 2.5)\n",
    "plt.xlabel(cols[x_index])\n",
    "plt.ylabel(cols[y_index]);"
   ]
  },
  {
   "cell_type": "markdown",
   "metadata": {
    "collapsed": false
   },
   "source": [
    "Ironically, the 'focus' category is the least focused. "
   ]
  },
  {
   "cell_type": "markdown",
   "metadata": {},
   "source": [
    "Before I start working with scikit-learn library, I need to rearrange the dataset a bit."
   ]
  },
  {
   "cell_type": "code",
   "execution_count": 535,
   "metadata": {
    "collapsed": false
   },
   "outputs": [
    {
     "name": "stdout",
     "output_type": "stream",
     "text": [
      "<class 'pandas.core.frame.DataFrame'>\n",
      "Index: 91 entries, 1957 to they move on tracks of never-ending light\n",
      "Data columns (total 12 columns):\n",
      "num_cat             91 non-null int64\n",
      "acousticness        91 non-null float64\n",
      "danceability        91 non-null float64\n",
      "energy              91 non-null float64\n",
      "instrumentalness    91 non-null float64\n",
      "key                 91 non-null int64\n",
      "loudness            91 non-null float64\n",
      "mode                91 non-null int64\n",
      "speechiness         91 non-null float64\n",
      "tempo               91 non-null float64\n",
      "time_signature      91 non-null int64\n",
      "valence             91 non-null float64\n",
      "dtypes: float64(8), int64(4)\n",
      "memory usage: 9.2+ KB\n"
     ]
    }
   ],
   "source": [
    "# keep values only in numerical form\n",
    "df_matrix = df[cols]\n",
    "\n",
    "# move the label column to the left-most column\n",
    "cols_list = df_matrix.columns.tolist()\n",
    "cols_list = [cols_list[-1]] + cols_list[0:-1]\n",
    "df_matrix = df_matrix[cols_list]\n",
    "\n",
    "# review of the dataset\n",
    "df_matrix.info()"
   ]
  },
  {
   "cell_type": "markdown",
   "metadata": {},
   "source": [
    "Finally, we convert the processed training data from a Pandas dataframe into a numerical (Numpy) array."
   ]
  },
  {
   "cell_type": "code",
   "execution_count": 537,
   "metadata": {
    "collapsed": true
   },
   "outputs": [],
   "source": [
    "train_data = df_matrix.values"
   ]
  },
  {
   "cell_type": "markdown",
   "metadata": {},
   "source": [
    "Here we'll be using the Random Forest model."
   ]
  },
  {
   "cell_type": "code",
   "execution_count": 538,
   "metadata": {
    "collapsed": true
   },
   "outputs": [],
   "source": [
    "from sklearn.ensemble import RandomForestClassifier\n",
    "\n",
    "model = RandomForestClassifier(n_estimators = 100)"
   ]
  },
  {
   "cell_type": "markdown",
   "metadata": {},
   "source": [
    "We use the processed training data to 'train' (or 'fit') our model. The column num_cat will be our second input, and the set of other features as the first."
   ]
  },
  {
   "cell_type": "code",
   "execution_count": 540,
   "metadata": {
    "collapsed": true
   },
   "outputs": [],
   "source": [
    "model = model.fit(train_data[0:,1:], train_data[0:,0])"
   ]
  },
  {
   "cell_type": "markdown",
   "metadata": {},
   "source": [
    "#### Making predictions\n",
    "We first load the test data."
   ]
  },
  {
   "cell_type": "code",
   "execution_count": 576,
   "metadata": {
    "collapsed": false
   },
   "outputs": [],
   "source": [
    "# read xml with itunes music\n",
    "xml_file = 'itunes_library.xml'\n"
   ]
  },
  {
   "cell_type": "code",
   "execution_count": null,
   "metadata": {
    "collapsed": true
   },
   "outputs": [],
   "source": [
    "from bs4 import BeautifulSoup\n",
    "soup = BeautifulSoup(open(xml_file), 'xml')"
   ]
  },
  {
   "cell_type": "code",
   "execution_count": 577,
   "metadata": {
    "collapsed": false
   },
   "outputs": [
    {
     "name": "stdout",
     "output_type": "stream",
     "text": [
      "<Element 'dict' at 0x11527d690>\n"
     ]
    }
   ],
   "source": [
    "import xml.etree.ElementTree as etree\n",
    "tree = etree.parse(xml_file)\n",
    "root = tree.getroot()\n"
   ]
  },
  {
   "cell_type": "code",
   "execution_count": 586,
   "metadata": {
    "collapsed": false
   },
   "outputs": [],
   "source": [
    "els = [element for element in tree.findall('.//dict')]"
   ]
  },
  {
   "cell_type": "code",
   "execution_count": 590,
   "metadata": {
    "collapsed": false
   },
   "outputs": [],
   "source": [
    "e = els[0]\n",
    "e."
   ]
  },
  {
   "cell_type": "code",
   "execution_count": 499,
   "metadata": {
    "collapsed": false
   },
   "outputs": [],
   "source": [
    "from sklearn_pandas import DataFrameMapper\n",
    "import numpy as np\n",
    "import sklearn.preprocessing, sklearn.decomposition, \\\n",
    "sklearn.linear_model, sklearn.pipeline, sklearn.metrics"
   ]
  },
  {
   "cell_type": "code",
   "execution_count": 500,
   "metadata": {
    "collapsed": false
   },
   "outputs": [],
   "source": [
    "mapper = DataFrameMapper([\n",
    "        ('num_cat', None),\n",
    "        ([u'acousticness', u'danceability', \n",
    "          u'energy', u'instrumentalness', \n",
    "          u'key', u'loudness', u'mode', \n",
    "          u'speechiness', u'tempo', \n",
    "          u'time_signature', u'valence'], sklearn.preprocessing.StandardScaler())\n",
    "        ])"
   ]
  },
  {
   "cell_type": "markdown",
   "metadata": {},
   "source": [
    "This is the sample of the data after the performed transformations."
   ]
  },
  {
   "cell_type": "code",
   "execution_count": 501,
   "metadata": {
    "collapsed": false
   },
   "outputs": [
    {
     "data": {
      "text/plain": [
       "array([[ 0.  ,  0.34, -0.25,  0.6 , -1.57, -1.38,  0.71,  0.72, -0.79,\n",
       "         2.2 ,  0.36,  0.73],\n",
       "       [ 1.  ,  0.63, -1.24,  0.37,  0.91,  1.17, -0.38, -1.39,  1.47,\n",
       "        -0.1 ,  0.36, -1.05]])"
      ]
     },
     "execution_count": 501,
     "metadata": {},
     "output_type": "execute_result"
    }
   ],
   "source": [
    "df_matrix = np.round(mapper.fit_transform(df.copy()), 2)\n",
    "df_matrix[:2]"
   ]
  },
  {
   "cell_type": "code",
   "execution_count": 502,
   "metadata": {
    "collapsed": false,
    "scrolled": false
   },
   "outputs": [
    {
     "name": "stdout",
     "output_type": "stream",
     "text": [
      "We have 91 rows and 12 columns in the matrix.\n"
     ]
    }
   ],
   "source": [
    "# The shape of the resulting matrix\n",
    "n_samples, n_features = df_matrix.shape\n",
    "print (\"We have {0} rows and {1} columns in the matrix.\"\n",
    "       .format(n_samples, n_features))"
   ]
  },
  {
   "cell_type": "code",
   "execution_count": 505,
   "metadata": {
    "collapsed": false
   },
   "outputs": [
    {
     "data": {
      "text/plain": [
       "<function view>"
      ]
     },
     "execution_count": 505,
     "metadata": {},
     "output_type": "execute_result"
    }
   ],
   "source": []
  },
  {
   "cell_type": "code",
   "execution_count": null,
   "metadata": {
    "collapsed": true
   },
   "outputs": [],
   "source": [
    "from sklearn.decomposition import PCA\n",
    "pca = PCA(n_components=2)\n",
    "X, y = iris.data, iris.target"
   ]
  },
  {
   "cell_type": "code",
   "execution_count": 332,
   "metadata": {
    "collapsed": false
   },
   "outputs": [
    {
     "data": {
      "image/png": "[encoded data removed]",
      "text/plain": [
       "<matplotlib.figure.Figure at 0x10e50edd0>"
      ]
     },
     "metadata": {},
     "output_type": "display_data"
    }
   ],
   "source": [
    "# Make a custom sequential palette using the cubehelix system\n",
    "# pal = sns.cubehelix_palette(4, 1.5, .75, light=.6, dark=.2)\n",
    "\n",
    "# # Plot tip as a function of toal bill across days\n",
    "# g = sns.lmplot(x=\"acousticness\", y=\"danceability\", hue=\"category\", data=df,\n",
    "#                palette=pal, size=7)"
   ]
  },
  {
   "cell_type": "code",
   "execution_count": 363,
   "metadata": {
    "collapsed": true
   },
   "outputs": [],
   "source": []
  },
  {
   "cell_type": "code",
   "execution_count": null,
   "metadata": {
    "collapsed": true
   },
   "outputs": [],
   "source": []
  }
 ],
 "metadata": {
  "kernelspec": {
   "display_name": "Python 2",
   "language": "python",
   "name": "python2"
  },
  "language_info": {
   "codemirror_mode": {
    "name": "ipython",
    "version": 2
   },
   "file_extension": ".py",
   "mimetype": "text/x-python",
   "name": "python",
   "nbconvert_exporter": "python",
   "pygments_lexer": "ipython2",
   "version": "2.7.10"
  }
 },
 "nbformat": 4,
 "nbformat_minor": 0
}
