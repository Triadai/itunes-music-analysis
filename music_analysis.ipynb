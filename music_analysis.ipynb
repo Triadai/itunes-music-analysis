{
 "cells": [
  {
   "cell_type": "markdown",
   "metadata": {},
   "source": [
    "# iTunes music library analysis\n",
    "\n",
    "## A scientific way of creating playlists for fitness classes"
   ]
  },
  {
   "cell_type": "markdown",
   "metadata": {},
   "source": [
    "Why... How...\n",
    "\n",
    "I believe that the good song for the practice is the one I do not hear, or pay attention to. It gives the mood, the rhythm, the flow. But my brain should not catch it. The song should be around, not whithin.\n",
    "\n",
    "— February 2016 —"
   ]
  },
  {
   "cell_type": "markdown",
   "metadata": {},
   "source": [
    "## Summary"
   ]
  },
  {
   "cell_type": "markdown",
   "metadata": {},
   "source": [
    "Bla-Bla-Bla"
   ]
  },
  {
   "cell_type": "markdown",
   "metadata": {},
   "source": [
    "## Research in detail"
   ]
  },
  {
   "cell_type": "markdown",
   "metadata": {},
   "source": [
    "#### Preliminaries\n",
    "\n",
    "I use pandas and matplotlib..."
   ]
  },
  {
   "cell_type": "code",
   "execution_count": 1,
   "metadata": {
    "collapsed": false,
    "scrolled": true
   },
   "outputs": [],
   "source": [
    "%matplotlib inline\n",
    "import matplotlib\n",
    "import matplotlib.pyplot as plt\n",
    "from IPython.display import display\n",
    "import pandas as pd\n",
    "import numpy as np\n",
    "\n",
    "# set seaborn plot defaults\n",
    "import seaborn as sns; sns.set()\n",
    "\n",
    "# format floating point numbers\n",
    "pd.set_option('float_format', '{:.2f}'.format)"
   ]
  },
  {
   "cell_type": "markdown",
   "metadata": {},
   "source": [
    "The hero and the foundation of my analysis is the Echo Nest library. "
   ]
  },
  {
   "cell_type": "code",
   "execution_count": 2,
   "metadata": {
    "collapsed": true
   },
   "outputs": [],
   "source": [
    "from pyechonest import config\n",
    "config.ECHO_NEST_API_KEY=\"1RNDIJ5SITBKZFDCT\""
   ]
  },
  {
   "cell_type": "markdown",
   "metadata": {},
   "source": [
    "### Data preparation"
   ]
  },
  {
   "cell_type": "markdown",
   "metadata": {},
   "source": [
    "For this research I need two datasets. The first one is my iTunes music library. The library serves me as a test dataset. \n",
    "\n",
    "For the training dataset I made a list of hand picked songs and labaled each song with one of the three classes: \"yoga\", \"cycling\", and \"focus\". The reason I chose these categories for the training dataset is that I wanted to have two very different groups of songs (\"yoga\" and \"cycling\") and one more alike group—focus—that might sound similar to the 'yoga' group but at the same time is very different for me. I'd like to find out what song attributes make that difference.\n",
    "\n",
    "I will start by processing the test data. iTunes xml file contains information that's stored in the iTunes database of the songs in the library. "
   ]
  },
  {
   "cell_type": "markdown",
   "metadata": {},
   "source": [
    "#### Test dataset"
   ]
  },
  {
   "cell_type": "code",
   "execution_count": 187,
   "metadata": {
    "collapsed": true
   },
   "outputs": [],
   "source": [
    "# iTunes xml file -> where does it come from?\n",
    "xml_file = 'itunes_library.xml'"
   ]
  },
  {
   "cell_type": "markdown",
   "metadata": {},
   "source": [
    "To parse my iTunes library xml file I use [pyItunes](https://github.com/liamks/pyitunes) module."
   ]
  },
  {
   "cell_type": "code",
   "execution_count": 4,
   "metadata": {
    "collapsed": false
   },
   "outputs": [],
   "source": [
    "def get_itunes_song(song):\n",
    "    \"\"\"check the validity of the song, \n",
    "    exclude podcasts and songs \n",
    "    missing artist's name.\n",
    "    \"\"\"\n",
    "    if (song.genre == 'Podcast' or \n",
    "        song.genre == u'iTunes U' or \n",
    "        song.kind != 'MPEG audio file' or \n",
    "        not song.artist): \n",
    "        return None \n",
    "    else:\n",
    "        return song.name, song.artist\n",
    "\n",
    "def parse_itunes_xml(db, xml_file):\n",
    "    \"\"\"parse xml and get song's title\n",
    "    and artist's name.\n",
    "    \"\"\"\n",
    "    from pyItunes import Library\n",
    "    l = Library(xml_file)\n",
    "    \n",
    "    for id, song in l.songs.items():\n",
    "        try:\n",
    "            song_title, artist = get_itunes_song(song)\n",
    "            if not db.get(song_title):\n",
    "                db[song_title] = {'artist' : artist}\n",
    "        except TypeError as e:\n",
    "            continue"
   ]
  },
  {
   "cell_type": "markdown",
   "metadata": {},
   "source": [
    "I save the data as a sqlite database (DB) and use the [sqlitedict](https://github.com/piskvorky/sqlitedict) library to access it. (Why?)"
   ]
  },
  {
   "cell_type": "code",
   "execution_count": 5,
   "metadata": {
    "collapsed": false
   },
   "outputs": [],
   "source": [
    "# DB with songs from iTunes library\n",
    "from sqlitedict import SqliteDict\n",
    "idb = SqliteDict('./itunes_tracks', autocommit=True)\n",
    "\n",
    "# call parse_itunes_xml function and \n",
    "# write the data into the DB.\n",
    "# TODO: uncomment\n",
    "# parse_itunes_xml(idb, xml_file)"
   ]
  },
  {
   "cell_type": "markdown",
   "metadata": {},
   "source": [
    "The next step is to get song attributes from the Echo Nest API.  \n",
    "\n",
    "In the analysis I use the following track attributes:\n",
    "\n",
    "* **Acousticness** represents the likelihood a recording was created by solely acoustic means such as voice and acoustic instruments as opposed to electronically such as with synthesized, amplified, or effected instruments;\n",
    "* **Danceability** describes how suitable a track is for dancing using a number of musical elements (tempo, rhythm stability, beat strength, and overall regularity);\n",
    "* **Energy** represents a perceptual measure of intensity and powerful activity released throughout the track;\n",
    "* **Instrumentalnes** is a measure of how likely a song is to be instrumental;\n",
    "* **Key** identifies the tonic triad, the chord, major or minor;\n",
    "* **Loudness** measureas the overall loudness of a track in decibels (dB);\n",
    "* **Mode** indicates the modality (major or minor) of a track, the type of scale from which its melodic content is derived;\n",
    "* **Speechiness** detects the presence of spoken words in a track;\n",
    "* **Tempo** is the speed or pace of a given piece (in beats per minute);\n",
    "* **Time signature** specifies how many beats are in each bar (or measure);\n",
    "* **Valence** describes the musical positiveness conveyed by a track. Tracks with high valence sound more positive (e.g., happy, cheerful, euphoric), while tracks with low valence sound more negative (e.g. sad, depressed, angry).\n",
    "\n",
    "Using the Echo Nest python library [pyechonest](https://github.com/echonest/pyechonest) is super easy and straighforward.  \n",
    "\n",
    "The library doesn't provide data for every artist or song. I handle missing items with a \"try-except\" block."
   ]
  },
  {
   "cell_type": "code",
   "execution_count": 189,
   "metadata": {
    "collapsed": false
   },
   "outputs": [],
   "source": [
    "def get_song_data(artist_name, song_title):\n",
    "    \"\"\" Get track data from the Echo Nest\n",
    "    database.\n",
    "    \"\"\"\n",
    "    from pyechonest import song\n",
    "    try: \n",
    "        result = song.search(artist=artist_name, \n",
    "                             title=song_title)\n",
    "        song_result = result[0]\n",
    "        song_data = song_result.audio_summary\n",
    "        return song_data\n",
    "    \n",
    "    except IndexError as e:\n",
    "        print 'No data for the song', song_title\n",
    "        return None\n",
    "    \n",
    "def add_song_data_to_db(song_title, song_data, db):\n",
    "    \"\"\" Add song data we get from Echo Nest \n",
    "    to the DB.\n",
    "    \"\"\"\n",
    "    song_val = {'time_signature' : song_data['time_signature'],\n",
    "                'energy' : song_data['energy'],\n",
    "                'tempo' : song_data['tempo'], \n",
    "                'speechiness' : song_data['speechiness'],\n",
    "                'acousticness' : song_data['acousticness'], \n",
    "                'danceability' : song_data['danceability'],\n",
    "                'instrumentalness' : song_data['instrumentalness'],\n",
    "                'key' : song_data['key'],\n",
    "                'loudness' : song_data['loudness'],\n",
    "                'valence' : song_data['valence'],\n",
    "                'mode' : song_data['mode']}\n",
    "    value = db[song_title]\n",
    "    value.update(song_val)\n",
    "    db[song_title] = value\n",
    "    \n",
    "# TODO: add_song_data should return value, the db update happens in a single place        \n",
    "def set_echonest_attributes(db):\n",
    "    \"\"\"Look for new songs in the DB and get \n",
    "    song attributes from the Echo Nest library.\n",
    "    \"\"\"\n",
    "    from time import sleep\n",
    "\n",
    "    for song_title, value in db.iteritems():\n",
    "        # Check if the attributes have been already added\n",
    "        if value.get('tempo') or value.get('No_data'): \n",
    "            pass\n",
    "        else:\n",
    "            song_data = get_song_data(value['artist'], \n",
    "                                      song_title)\n",
    "            # If the song is in the Echo Nest base, \n",
    "            # I add the data to the DB.\n",
    "            if song_data:\n",
    "                add_song_data_to_db(song_title, \n",
    "                                    song_data, db)\n",
    "            # If not, I add 'No_data' key to the song. \n",
    "            else:\n",
    "                song_val = {'No_data' : True}\n",
    "                value.update(song_val)\n",
    "                db[song_title] = value\n",
    "            # Echo Nest limits number of requests to 20 per minute\n",
    "            sleep(8) "
   ]
  },
  {
   "cell_type": "code",
   "execution_count": 7,
   "metadata": {
    "collapsed": false
   },
   "outputs": [],
   "source": [
    "# Call check_data_in_db function and \n",
    "# write the Echo Nest data into the DB.\n",
    "\n",
    "# set_echonest_attributes(idb)"
   ]
  },
  {
   "cell_type": "markdown",
   "metadata": {},
   "source": [
    "#### Training dataset\n",
    "\n",
    "I use Pandas read_csv function to read csv file and write it into the sqlite dictionary. (What csv file? Where does it come from? make DataFrame.head of it)\n",
    "\n",
    "    chosen_tracks_df = pd.read_csv('my_shiny_file_of_chosen_tracks.csv')\n",
    "    chosen_tracks_df.head()"
   ]
  },
  {
   "cell_type": "code",
   "execution_count": 8,
   "metadata": {
    "collapsed": true
   },
   "outputs": [],
   "source": [
    "train_db = SqliteDict('./chosen_tracks', autocommit=True)"
   ]
  },
  {
   "cell_type": "code",
   "execution_count": 9,
   "metadata": {
    "collapsed": false,
    "scrolled": false
   },
   "outputs": [],
   "source": [
    "# Call check_data_in_db function and \n",
    "# write the Echo Nest data into the DB.\n",
    "\n",
    "# set_echonest_attributes(train_db)"
   ]
  },
  {
   "cell_type": "markdown",
   "metadata": {},
   "source": [
    "## Data overview  \n",
    "  \n",
    "Now I have two sets with song data. Next I read in data from both databases and take a look at what I'm working with."
   ]
  },
  {
   "cell_type": "code",
   "execution_count": 10,
   "metadata": {
    "collapsed": false
   },
   "outputs": [],
   "source": [
    "def read_db_in_pandas(db):\n",
    "    \"\"\" Read the DB and return \n",
    "    cleaned version.\n",
    "    \"\"\"\n",
    "    # transpose data to have dict keys (song names) \n",
    "    # as index\n",
    "    df = pd.DataFrame(dict(db)).T\n",
    "    \n",
    "    # remove rows with no data for a song\n",
    "    df_clean = df[df['No_data'] != 1]\n",
    "    \n",
    "    # convert columns into numbers\n",
    "    df_clean = df_clean.convert_objects(convert_numeric=True)\n",
    "\n",
    "    # convert index into a column\n",
    "    df_clean.reset_index(level=0, inplace=True)\n",
    "    df_clean.rename(columns = {'index': 'song_title'}, \n",
    "                    inplace=True)\n",
    "    \n",
    "    # remove the 'No_data' column\n",
    "    df_clean.drop('No_data', 1, \n",
    "                  inplace=True)\n",
    "    return df_clean"
   ]
  },
  {
   "cell_type": "markdown",
   "metadata": {},
   "source": [
    "### Test data"
   ]
  },
  {
   "cell_type": "code",
   "execution_count": 11,
   "metadata": {
    "collapsed": false,
    "scrolled": false
   },
   "outputs": [],
   "source": [
    "test_df = read_db_in_pandas(idb)"
   ]
  },
  {
   "cell_type": "code",
   "execution_count": 12,
   "metadata": {
    "collapsed": false
   },
   "outputs": [
    {
     "name": "stdout",
     "output_type": "stream",
     "text": [
      "There are 554 items in the dataset.\n",
      "223 items have no data available in the Echo Nest DB.\n",
      "We are left with 331 songs to use as a test set.\n",
      "\n",
      "Below is a random sample of the dataset.\n"
     ]
    },
    {
     "data": {
      "text/html": [
       "<div>\n",
       "<table border=\"1\" class=\"dataframe\">\n",
       "  <thead>\n",
       "    <tr style=\"text-align: right;\">\n",
       "      <th></th>\n",
       "      <th>song_title</th>\n",
       "      <th>acousticness</th>\n",
       "      <th>artist</th>\n",
       "      <th>danceability</th>\n",
       "      <th>energy</th>\n",
       "      <th>instrumentalness</th>\n",
       "      <th>key</th>\n",
       "      <th>loudness</th>\n",
       "      <th>mode</th>\n",
       "      <th>speechiness</th>\n",
       "      <th>tempo</th>\n",
       "      <th>time_signature</th>\n",
       "      <th>valence</th>\n",
       "    </tr>\n",
       "  </thead>\n",
       "  <tbody>\n",
       "    <tr>\n",
       "      <th>329</th>\n",
       "      <td>trust me</td>\n",
       "      <td>0.10</td>\n",
       "      <td>The Streets</td>\n",
       "      <td>0.64</td>\n",
       "      <td>0.99</td>\n",
       "      <td>0.00</td>\n",
       "      <td>1</td>\n",
       "      <td>-3.21</td>\n",
       "      <td>1</td>\n",
       "      <td>0.23</td>\n",
       "      <td>120.04</td>\n",
       "      <td>4</td>\n",
       "      <td>0.78</td>\n",
       "    </tr>\n",
       "    <tr>\n",
       "      <th>248</th>\n",
       "      <td>Stylo</td>\n",
       "      <td>0.01</td>\n",
       "      <td>Gorillaz</td>\n",
       "      <td>0.68</td>\n",
       "      <td>0.62</td>\n",
       "      <td>0.00</td>\n",
       "      <td>10</td>\n",
       "      <td>-9.06</td>\n",
       "      <td>0</td>\n",
       "      <td>0.06</td>\n",
       "      <td>100.23</td>\n",
       "      <td>4</td>\n",
       "      <td>0.85</td>\n",
       "    </tr>\n",
       "    <tr>\n",
       "      <th>271</th>\n",
       "      <td>The Wind</td>\n",
       "      <td>0.34</td>\n",
       "      <td>PJ Harvey</td>\n",
       "      <td>0.67</td>\n",
       "      <td>0.21</td>\n",
       "      <td>0.80</td>\n",
       "      <td>4</td>\n",
       "      <td>-29.23</td>\n",
       "      <td>0</td>\n",
       "      <td>0.04</td>\n",
       "      <td>110.01</td>\n",
       "      <td>4</td>\n",
       "      <td>0.51</td>\n",
       "    </tr>\n",
       "    <tr>\n",
       "      <th>256</th>\n",
       "      <td>Take</td>\n",
       "      <td>0.66</td>\n",
       "      <td>tunng</td>\n",
       "      <td>0.74</td>\n",
       "      <td>0.43</td>\n",
       "      <td>0.00</td>\n",
       "      <td>1</td>\n",
       "      <td>-10.33</td>\n",
       "      <td>0</td>\n",
       "      <td>0.05</td>\n",
       "      <td>120.06</td>\n",
       "      <td>4</td>\n",
       "      <td>0.25</td>\n",
       "    </tr>\n",
       "  </tbody>\n",
       "</table>\n",
       "</div>"
      ],
      "text/plain": [
       "    song_title  acousticness       artist  danceability  energy  \\\n",
       "329   trust me          0.10  The Streets          0.64    0.99   \n",
       "248      Stylo          0.01     Gorillaz          0.68    0.62   \n",
       "271   The Wind          0.34    PJ Harvey          0.67    0.21   \n",
       "256       Take          0.66        tunng          0.74    0.43   \n",
       "\n",
       "     instrumentalness  key  loudness  mode  speechiness  tempo  \\\n",
       "329              0.00    1     -3.21     1         0.23 120.04   \n",
       "248              0.00   10     -9.06     0         0.06 100.23   \n",
       "271              0.80    4    -29.23     0         0.04 110.01   \n",
       "256              0.00    1    -10.33     0         0.05 120.06   \n",
       "\n",
       "     time_signature  valence  \n",
       "329               4     0.78  \n",
       "248               4     0.85  \n",
       "271               4     0.51  \n",
       "256               4     0.25  "
      ]
     },
     "execution_count": 12,
     "metadata": {},
     "output_type": "execute_result"
    }
   ],
   "source": [
    "# format floating point numbers \n",
    "# within pandas data structures\n",
    "pd.set_option('float_format', '{:.2f}'.format)\n",
    "\n",
    "print (\"There are {0} items in the dataset.\"\n",
    "       .format(len(idb)))\n",
    "print (\"{0} items have no data available \" \n",
    "       \"in the Echo Nest DB.\"\n",
    "       .format(len(idb) - len(test_df)))\n",
    "print (\"We are left with {0} songs to use as a test set.\"\n",
    "       .format(len(test_df)))\n",
    "print \"\\nBelow is a random sample of the dataset.\"\n",
    "test_df.sample(n=4)"
   ]
  },
  {
   "cell_type": "markdown",
   "metadata": {},
   "source": [
    "I visualize the data to see if there are any patterns. I can change index (x_index, y_index) in simple_df_plot function to see the relationship between different variables (e.g. DataFrame column index)."
   ]
  },
  {
   "cell_type": "code",
   "execution_count": 190,
   "metadata": {
    "collapsed": false
   },
   "outputs": [
    {
     "data": {
      "image/png": "[encoded data removed]",
      "text/plain": [
       "<matplotlib.figure.Figure at 0x1107f6a50>"
      ]
     },
     "metadata": {},
     "output_type": "display_data"
    }
   ],
   "source": [
    "def simple_df_plot(df, x_index, y_index):\n",
    "    # list columns with numeric values\n",
    "    cols = df.select_dtypes(exclude=[object]).columns\n",
    "    x = df[cols[x_index]]\n",
    "    y = df[cols[y_index]]\n",
    "    \n",
    "    plt.scatter(x, y)\n",
    "    plt.clim(0, 1.5)\n",
    "    plt.xlabel(cols[x_index])\n",
    "    plt.ylabel(cols[y_index]);\n",
    "    \n",
    "    # add a trendline\n",
    "    from scipy.stats import linregress\n",
    "    regressionline = linregress(x, y)\n",
    "    slope = regressionline[0]\n",
    "    intercept = regressionline[1]\n",
    "    z = np.linspace(-0.1, 1.1, 100)\n",
    "    plt.plot(z, slope*z + intercept, 'm')\n",
    "    \n",
    "# make a plot of (1 - danceability, 10 - valence)\n",
    "simple_df_plot(test_df, 1, 10)"
   ]
  },
  {
   "cell_type": "markdown",
   "metadata": {},
   "source": [
    "It seems there's a correlation between danceability (x_index = 1) of the track and its valence (y_index = 10), which sounds reasonable. \n",
    "\n",
    "I've also noticed that there is a negative correlation between acousticness (x_index = 0) and energy (y_index = 2): the higher the enegry of the track is the lower is its acousticness. "
   ]
  },
  {
   "cell_type": "code",
   "execution_count": 15,
   "metadata": {
    "collapsed": false
   },
   "outputs": [
    {
     "data": {
      "image/png": "[encoded data removed]",
      "text/plain": [
       "<matplotlib.figure.Figure at 0x10e152250>"
      ]
     },
     "metadata": {},
     "output_type": "display_data"
    }
   ],
   "source": [
    "simple_df_plot(test_df, 0, 2)"
   ]
  },
  {
   "cell_type": "markdown",
   "metadata": {},
   "source": [
    "I'll explore this later... Let's move on to the training data. (TODO: Need a conclusion here instead.)"
   ]
  },
  {
   "cell_type": "markdown",
   "metadata": {},
   "source": [
    "\n",
    "### Training data"
   ]
  },
  {
   "cell_type": "code",
   "execution_count": 191,
   "metadata": {
    "collapsed": false
   },
   "outputs": [],
   "source": [
    "train_df = read_db_in_pandas(train_db) # TODO: need short description how the data has been acquired."
   ]
  },
  {
   "cell_type": "code",
   "execution_count": 17,
   "metadata": {
    "collapsed": false,
    "scrolled": false
   },
   "outputs": [
    {
     "name": "stdout",
     "output_type": "stream",
     "text": [
      "There are 128 items in the dataset.\n",
      "37 items have no data available in the Echo Nest DB.\n",
      "We are left with 91 songs to use as training data.\n",
      "\n",
      "Below is a random sample of the dataset.\n"
     ]
    },
    {
     "data": {
      "text/html": [
       "<div>\n",
       "<table border=\"1\" class=\"dataframe\">\n",
       "  <thead>\n",
       "    <tr style=\"text-align: right;\">\n",
       "      <th></th>\n",
       "      <th>song_title</th>\n",
       "      <th>acousticness</th>\n",
       "      <th>artist</th>\n",
       "      <th>category</th>\n",
       "      <th>danceability</th>\n",
       "      <th>energy</th>\n",
       "      <th>instrumentalness</th>\n",
       "      <th>key</th>\n",
       "      <th>loudness</th>\n",
       "      <th>mode</th>\n",
       "      <th>speechiness</th>\n",
       "      <th>tempo</th>\n",
       "      <th>time_signature</th>\n",
       "      <th>valence</th>\n",
       "    </tr>\n",
       "  </thead>\n",
       "  <tbody>\n",
       "    <tr>\n",
       "      <th>12</th>\n",
       "      <td>Bless This Morning Year</td>\n",
       "      <td>0.96</td>\n",
       "      <td>Helios</td>\n",
       "      <td>yoga</td>\n",
       "      <td>0.55</td>\n",
       "      <td>0.17</td>\n",
       "      <td>0.93</td>\n",
       "      <td>3</td>\n",
       "      <td>-16.83</td>\n",
       "      <td>0</td>\n",
       "      <td>0.03</td>\n",
       "      <td>100.00</td>\n",
       "      <td>4</td>\n",
       "      <td>0.04</td>\n",
       "    </tr>\n",
       "    <tr>\n",
       "      <th>71</th>\n",
       "      <td>TV Queen</td>\n",
       "      <td>0.00</td>\n",
       "      <td>Wild nothing</td>\n",
       "      <td>cycling</td>\n",
       "      <td>0.44</td>\n",
       "      <td>0.86</td>\n",
       "      <td>0.21</td>\n",
       "      <td>9</td>\n",
       "      <td>-5.90</td>\n",
       "      <td>1</td>\n",
       "      <td>0.05</td>\n",
       "      <td>134.95</td>\n",
       "      <td>4</td>\n",
       "      <td>0.72</td>\n",
       "    </tr>\n",
       "    <tr>\n",
       "      <th>51</th>\n",
       "      <td>Narayani A</td>\n",
       "      <td>0.83</td>\n",
       "      <td>Suns of Arqa</td>\n",
       "      <td>yoga</td>\n",
       "      <td>0.36</td>\n",
       "      <td>0.41</td>\n",
       "      <td>0.88</td>\n",
       "      <td>9</td>\n",
       "      <td>-12.99</td>\n",
       "      <td>1</td>\n",
       "      <td>0.03</td>\n",
       "      <td>110.00</td>\n",
       "      <td>3</td>\n",
       "      <td>0.15</td>\n",
       "    </tr>\n",
       "    <tr>\n",
       "      <th>86</th>\n",
       "      <td>Where you at</td>\n",
       "      <td>0.00</td>\n",
       "      <td>The Bohicas</td>\n",
       "      <td>cycling</td>\n",
       "      <td>0.44</td>\n",
       "      <td>0.92</td>\n",
       "      <td>0.10</td>\n",
       "      <td>0</td>\n",
       "      <td>-5.31</td>\n",
       "      <td>1</td>\n",
       "      <td>0.06</td>\n",
       "      <td>172.99</td>\n",
       "      <td>4</td>\n",
       "      <td>0.71</td>\n",
       "    </tr>\n",
       "  </tbody>\n",
       "</table>\n",
       "</div>"
      ],
      "text/plain": [
       "                 song_title  acousticness        artist category  \\\n",
       "12  Bless This Morning Year          0.96        Helios     yoga   \n",
       "71                 TV Queen          0.00  Wild nothing  cycling   \n",
       "51               Narayani A          0.83  Suns of Arqa     yoga   \n",
       "86             Where you at          0.00   The Bohicas  cycling   \n",
       "\n",
       "    danceability  energy  instrumentalness  key  loudness  mode  speechiness  \\\n",
       "12          0.55    0.17              0.93    3    -16.83     0         0.03   \n",
       "71          0.44    0.86              0.21    9     -5.90     1         0.05   \n",
       "51          0.36    0.41              0.88    9    -12.99     1         0.03   \n",
       "86          0.44    0.92              0.10    0     -5.31     1         0.06   \n",
       "\n",
       "    tempo  time_signature  valence  \n",
       "12 100.00               4     0.04  \n",
       "71 134.95               4     0.72  \n",
       "51 110.00               3     0.15  \n",
       "86 172.99               4     0.71  "
      ]
     },
     "execution_count": 17,
     "metadata": {},
     "output_type": "execute_result"
    }
   ],
   "source": [
    "print (\"There are {0} items in the dataset.\"\n",
    "       .format(len(train_db)))\n",
    "print (\"{0} items have no data available \"\n",
    "       \"in the Echo Nest DB.\"\n",
    "       .format(len(train_db) - len(train_df)))\n",
    "print (\"We are left with {0} songs to use as training data.\"\n",
    "       .format(len(train_df)))\n",
    "print \"\\nBelow is a random sample of the dataset.\"\n",
    "train_df.sample(n=4)"
   ]
  },
  {
   "cell_type": "code",
   "execution_count": 18,
   "metadata": {
    "collapsed": false
   },
   "outputs": [
    {
     "name": "stdout",
     "output_type": "stream",
     "text": [
      "Tracks in the dataset belong to 3 categories: cycling, focus, yoga.\n",
      "26 tracks represent 'cycling' category.\n",
      "34 tracks represent 'focus' category.\n",
      "31 tracks represent 'yoga' category.\n"
     ]
    }
   ],
   "source": [
    "# list of categories\n",
    "categories = list(pd.unique(train_df.category.ravel()))\n",
    "print (\"Tracks in the dataset belong \" \n",
    "       \"to {} categories: {}.\"\n",
    "       .format(len(categories), \", \".join(categories)))\n",
    "\n",
    "# count tracks in each category\n",
    "cat_count = pd.value_counts(train_df.category.ravel())\n",
    "\n",
    "# print categories\n",
    "for category in categories:\n",
    "    print (\"{} tracks represent \\'{}\\' category.\"\n",
    "           .format(cat_count[category], category))"
   ]
  },
  {
   "cell_type": "markdown",
   "metadata": {},
   "source": [
    "I'll compare the three groups. "
   ]
  },
  {
   "cell_type": "code",
   "execution_count": 192,
   "metadata": {
    "collapsed": false
   },
   "outputs": [
    {
     "data": {
      "text/html": [
       "<div>\n",
       "<table border=\"1\" class=\"dataframe\">\n",
       "  <thead>\n",
       "    <tr style=\"text-align: right;\">\n",
       "      <th></th>\n",
       "      <th></th>\n",
       "      <th>acousticness</th>\n",
       "      <th>danceability</th>\n",
       "      <th>energy</th>\n",
       "      <th>instrumentalness</th>\n",
       "      <th>key</th>\n",
       "      <th>loudness</th>\n",
       "      <th>mode</th>\n",
       "      <th>speechiness</th>\n",
       "      <th>tempo</th>\n",
       "      <th>time_signature</th>\n",
       "      <th>valence</th>\n",
       "    </tr>\n",
       "    <tr>\n",
       "      <th>measures</th>\n",
       "      <th>category</th>\n",
       "      <th></th>\n",
       "      <th></th>\n",
       "      <th></th>\n",
       "      <th></th>\n",
       "      <th></th>\n",
       "      <th></th>\n",
       "      <th></th>\n",
       "      <th></th>\n",
       "      <th></th>\n",
       "      <th></th>\n",
       "      <th></th>\n",
       "    </tr>\n",
       "  </thead>\n",
       "  <tbody>\n",
       "    <tr>\n",
       "      <th rowspan=\"3\" valign=\"top\">mean</th>\n",
       "      <th>cycling</th>\n",
       "      <td>0.11</td>\n",
       "      <td>0.60</td>\n",
       "      <td>0.79</td>\n",
       "      <td>0.08</td>\n",
       "      <td>5.58</td>\n",
       "      <td>-5.97</td>\n",
       "      <td>0.77</td>\n",
       "      <td>0.06</td>\n",
       "      <td>136.66</td>\n",
       "      <td>4.00</td>\n",
       "      <td>0.70</td>\n",
       "    </tr>\n",
       "    <tr>\n",
       "      <th>focus</th>\n",
       "      <td>0.56</td>\n",
       "      <td>0.33</td>\n",
       "      <td>0.33</td>\n",
       "      <td>0.88</td>\n",
       "      <td>6.09</td>\n",
       "      <td>-19.40</td>\n",
       "      <td>0.56</td>\n",
       "      <td>0.05</td>\n",
       "      <td>113.51</td>\n",
       "      <td>3.76</td>\n",
       "      <td>0.21</td>\n",
       "    </tr>\n",
       "    <tr>\n",
       "      <th>yoga</th>\n",
       "      <td>0.84</td>\n",
       "      <td>0.44</td>\n",
       "      <td>0.19</td>\n",
       "      <td>0.81</td>\n",
       "      <td>5.84</td>\n",
       "      <td>-19.55</td>\n",
       "      <td>0.68</td>\n",
       "      <td>0.04</td>\n",
       "      <td>110.50</td>\n",
       "      <td>3.39</td>\n",
       "      <td>0.23</td>\n",
       "    </tr>\n",
       "    <tr>\n",
       "      <th rowspan=\"3\" valign=\"top\">std</th>\n",
       "      <th>cycling</th>\n",
       "      <td>0.22</td>\n",
       "      <td>0.14</td>\n",
       "      <td>0.14</td>\n",
       "      <td>0.19</td>\n",
       "      <td>4.06</td>\n",
       "      <td>2.51</td>\n",
       "      <td>0.43</td>\n",
       "      <td>0.03</td>\n",
       "      <td>22.40</td>\n",
       "      <td>0.00</td>\n",
       "      <td>0.21</td>\n",
       "    </tr>\n",
       "    <tr>\n",
       "      <th>focus</th>\n",
       "      <td>0.37</td>\n",
       "      <td>0.23</td>\n",
       "      <td>0.23</td>\n",
       "      <td>0.16</td>\n",
       "      <td>3.71</td>\n",
       "      <td>6.69</td>\n",
       "      <td>0.50</td>\n",
       "      <td>0.03</td>\n",
       "      <td>38.17</td>\n",
       "      <td>0.85</td>\n",
       "      <td>0.20</td>\n",
       "    </tr>\n",
       "    <tr>\n",
       "      <th>yoga</th>\n",
       "      <td>0.22</td>\n",
       "      <td>0.19</td>\n",
       "      <td>0.14</td>\n",
       "      <td>0.25</td>\n",
       "      <td>2.97</td>\n",
       "      <td>5.85</td>\n",
       "      <td>0.48</td>\n",
       "      <td>0.01</td>\n",
       "      <td>27.25</td>\n",
       "      <td>1.05</td>\n",
       "      <td>0.21</td>\n",
       "    </tr>\n",
       "  </tbody>\n",
       "</table>\n",
       "</div>"
      ],
      "text/plain": [
       "                   acousticness  danceability  energy  instrumentalness  key  \\\n",
       "measures category                                                              \n",
       "mean     cycling           0.11          0.60    0.79              0.08 5.58   \n",
       "         focus             0.56          0.33    0.33              0.88 6.09   \n",
       "         yoga              0.84          0.44    0.19              0.81 5.84   \n",
       "std      cycling           0.22          0.14    0.14              0.19 4.06   \n",
       "         focus             0.37          0.23    0.23              0.16 3.71   \n",
       "         yoga              0.22          0.19    0.14              0.25 2.97   \n",
       "\n",
       "                   loudness  mode  speechiness  tempo  time_signature  valence  \n",
       "measures category                                                               \n",
       "mean     cycling      -5.97  0.77         0.06 136.66            4.00     0.70  \n",
       "         focus       -19.40  0.56         0.05 113.51            3.76     0.21  \n",
       "         yoga        -19.55  0.68         0.04 110.50            3.39     0.23  \n",
       "std      cycling       2.51  0.43         0.03  22.40            0.00     0.21  \n",
       "         focus         6.69  0.50         0.03  38.17            0.85     0.20  \n",
       "         yoga          5.85  0.48         0.01  27.25            1.05     0.21  "
      ]
     },
     "execution_count": 192,
     "metadata": {},
     "output_type": "execute_result"
    }
   ],
   "source": [
    "# TODO: Should use groupby function\n",
    "\n",
    "def group_and_describe(category):\n",
    "    # describe each category\n",
    "    group = train_df[train_df['category'] == category]\n",
    "    group_descr = group.describe(percentiles=None).loc[['mean', 'std']]\n",
    "    return group_descr\n",
    "\n",
    "grouped_df = [group_and_describe(category) for category in categories]\n",
    "\n",
    "result = pd.concat(grouped_df, \n",
    "                   keys=categories, \n",
    "                   names=['category', 'measures'])\n",
    "# sort the table to make it more readable\n",
    "result.sortlevel(level=1).reorder_levels(['measures', 'category'])"
   ]
  },
  {
   "cell_type": "markdown",
   "metadata": {},
   "source": [
    "This table gives...  \n",
    "Next step is to visualize the data. (TODO: visualize the table above)"
   ]
  },
  {
   "cell_type": "markdown",
   "metadata": {},
   "source": [
    "First I create a new column in the DF where I'll assign a numeric class to each track."
   ]
  },
  {
   "cell_type": "code",
   "execution_count": 193,
   "metadata": {
    "collapsed": false
   },
   "outputs": [],
   "source": [
    "def label_categories(row):\n",
    "    # make a list of categories\n",
    "    categories = list(pd.unique(train_df.category.ravel()))\n",
    "    for item in categories:\n",
    "        if row['category'] == item:\n",
    "            return categories.index(item) \n",
    "        \n",
    "train_df['num_cat'] = train_df.apply(lambda row: label_categories(row), axis=1)"
   ]
  },
  {
   "cell_type": "markdown",
   "metadata": {},
   "source": [
    "Let's plot the data. (TODO: explain. Let's plot what?)"
   ]
  },
  {
   "cell_type": "code",
   "execution_count": 21,
   "metadata": {
    "collapsed": false,
    "scrolled": false
   },
   "outputs": [
    {
     "data": {
      "image/png": "[encoded data removed]",
      "text/plain": [
       "<matplotlib.figure.Figure at 0x10e605990>"
      ]
     },
     "metadata": {},
     "output_type": "display_data"
    }
   ],
   "source": [
    "def plot_df_categories(df, x_index, y_index):\n",
    "    # list columns with numeric values\n",
    "    cols = df.select_dtypes(exclude=[object]).columns\n",
    "    \n",
    "    # list of categories\n",
    "    cat_li = np.sort(df.category.unique()).tolist()\n",
    "    # the formatter will label the colorbar with categories\n",
    "    formatter = plt.FuncFormatter(lambda i, \n",
    "                                   *args: cat_li[int(i)])\n",
    "    plt.scatter(df[cols[x_index]], \n",
    "                df[cols[y_index]],\n",
    "                c=df.num_cat, \n",
    "                cmap=plt.cm.get_cmap('RdYlBu', 3))\n",
    "    plt.colorbar(ticks=[0, 1, 2], \n",
    "                 format=formatter)\n",
    "    plt.clim(-0.5, 2.5)\n",
    "    plt.xlabel(cols[x_index])\n",
    "    plt.ylabel(cols[y_index]);\n",
    "    \n",
    "#plot the data\n",
    "plot_df_categories(train_df, 0, 2)"
   ]
  },
  {
   "cell_type": "markdown",
   "metadata": {
    "collapsed": false
   },
   "source": [
    "As expected, 'yoga' and 'cycling' form two separate groups. Tracks in the 'cycling' group tend to be more energetic and less acoustic. Tracks in the 'yoga' groupd have high level of acousticness and low level of energy. \n",
    "\n",
    "Ironically, the 'focus' class is the least focused. (TODO: add more plots from plot_df_categories -OR- add multi scatterplot)"
   ]
  },
  {
   "cell_type": "markdown",
   "metadata": {},
   "source": [
    "### Cleaning data"
   ]
  },
  {
   "cell_type": "markdown",
   "metadata": {},
   "source": [
    "Before I start working with scikit-learn library, I need to rearrange both datasets a bit. (TODO: Why?)\n",
    "#### — Training set —"
   ]
  },
  {
   "cell_type": "code",
   "execution_count": 22,
   "metadata": {
    "collapsed": false
   },
   "outputs": [
    {
     "data": {
      "text/html": [
       "<div>\n",
       "<table border=\"1\" class=\"dataframe\">\n",
       "  <thead>\n",
       "    <tr style=\"text-align: right;\">\n",
       "      <th></th>\n",
       "      <th>acousticness</th>\n",
       "      <th>danceability</th>\n",
       "      <th>energy</th>\n",
       "      <th>instrumentalness</th>\n",
       "      <th>key</th>\n",
       "      <th>loudness</th>\n",
       "      <th>mode</th>\n",
       "      <th>speechiness</th>\n",
       "      <th>tempo</th>\n",
       "      <th>time_signature</th>\n",
       "      <th>valence</th>\n",
       "    </tr>\n",
       "  </thead>\n",
       "  <tbody>\n",
       "    <tr>\n",
       "      <th>0</th>\n",
       "      <td>0.34</td>\n",
       "      <td>-0.25</td>\n",
       "      <td>0.60</td>\n",
       "      <td>-1.57</td>\n",
       "      <td>-1.38</td>\n",
       "      <td>0.71</td>\n",
       "      <td>0.72</td>\n",
       "      <td>-0.79</td>\n",
       "      <td>2.20</td>\n",
       "      <td>0.36</td>\n",
       "      <td>0.73</td>\n",
       "    </tr>\n",
       "    <tr>\n",
       "      <th>1</th>\n",
       "      <td>0.63</td>\n",
       "      <td>-1.24</td>\n",
       "      <td>0.37</td>\n",
       "      <td>0.91</td>\n",
       "      <td>1.17</td>\n",
       "      <td>-0.38</td>\n",
       "      <td>-1.39</td>\n",
       "      <td>1.47</td>\n",
       "      <td>-0.10</td>\n",
       "      <td>0.36</td>\n",
       "      <td>-1.05</td>\n",
       "    </tr>\n",
       "    <tr>\n",
       "      <th>2</th>\n",
       "      <td>1.12</td>\n",
       "      <td>-1.57</td>\n",
       "      <td>-1.34</td>\n",
       "      <td>0.84</td>\n",
       "      <td>0.04</td>\n",
       "      <td>-1.67</td>\n",
       "      <td>0.72</td>\n",
       "      <td>-0.46</td>\n",
       "      <td>-0.97</td>\n",
       "      <td>0.36</td>\n",
       "      <td>-1.07</td>\n",
       "    </tr>\n",
       "    <tr>\n",
       "      <th>3</th>\n",
       "      <td>0.76</td>\n",
       "      <td>-1.03</td>\n",
       "      <td>0.15</td>\n",
       "      <td>0.77</td>\n",
       "      <td>-1.38</td>\n",
       "      <td>-0.46</td>\n",
       "      <td>0.72</td>\n",
       "      <td>-0.49</td>\n",
       "      <td>-0.92</td>\n",
       "      <td>0.36</td>\n",
       "      <td>-0.46</td>\n",
       "    </tr>\n",
       "    <tr>\n",
       "      <th>4</th>\n",
       "      <td>1.16</td>\n",
       "      <td>-1.21</td>\n",
       "      <td>-0.92</td>\n",
       "      <td>0.81</td>\n",
       "      <td>0.89</td>\n",
       "      <td>-0.49</td>\n",
       "      <td>-1.39</td>\n",
       "      <td>-0.44</td>\n",
       "      <td>0.48</td>\n",
       "      <td>0.36</td>\n",
       "      <td>-1.07</td>\n",
       "    </tr>\n",
       "  </tbody>\n",
       "</table>\n",
       "</div>"
      ],
      "text/plain": [
       "   acousticness  danceability  energy  instrumentalness   key  loudness  mode  \\\n",
       "0          0.34         -0.25    0.60             -1.57 -1.38      0.71  0.72   \n",
       "1          0.63         -1.24    0.37              0.91  1.17     -0.38 -1.39   \n",
       "2          1.12         -1.57   -1.34              0.84  0.04     -1.67  0.72   \n",
       "3          0.76         -1.03    0.15              0.77 -1.38     -0.46  0.72   \n",
       "4          1.16         -1.21   -0.92              0.81  0.89     -0.49 -1.39   \n",
       "\n",
       "   speechiness  tempo  time_signature  valence  \n",
       "0        -0.79   2.20            0.36     0.73  \n",
       "1         1.47  -0.10            0.36    -1.05  \n",
       "2        -0.46  -0.97            0.36    -1.07  \n",
       "3        -0.49  -0.92            0.36    -0.46  \n",
       "4        -0.44   0.48            0.36    -1.07  "
      ]
     },
     "execution_count": 22,
     "metadata": {},
     "output_type": "execute_result"
    }
   ],
   "source": [
    "# Training dataset\n",
    "\n",
    "# target data\n",
    "target = train_df.num_cat\n",
    "\n",
    "# keep only numerical values\n",
    "cols = train_df.select_dtypes(exclude=[object]).columns\n",
    "train_matrix = train_df[cols]\n",
    "\n",
    "# remove target column\n",
    "train_matrix = train_matrix.drop(['num_cat'], axis=1)\n",
    "\n",
    "# standardize features\n",
    "train_matrix = train_matrix.apply(lambda x: (x - np.mean(x)) \n",
    "                                               / np.std(x))\n",
    "# review the set\n",
    "train_matrix.head()"
   ]
  },
  {
   "cell_type": "markdown",
   "metadata": {},
   "source": [
    "#### — Test set —"
   ]
  },
  {
   "cell_type": "code",
   "execution_count": 23,
   "metadata": {
    "collapsed": false,
    "scrolled": true
   },
   "outputs": [
    {
     "data": {
      "text/html": [
       "<div>\n",
       "<table border=\"1\" class=\"dataframe\">\n",
       "  <thead>\n",
       "    <tr style=\"text-align: right;\">\n",
       "      <th></th>\n",
       "      <th>acousticness</th>\n",
       "      <th>danceability</th>\n",
       "      <th>energy</th>\n",
       "      <th>instrumentalness</th>\n",
       "      <th>key</th>\n",
       "      <th>loudness</th>\n",
       "      <th>mode</th>\n",
       "      <th>speechiness</th>\n",
       "      <th>tempo</th>\n",
       "      <th>time_signature</th>\n",
       "      <th>valence</th>\n",
       "    </tr>\n",
       "  </thead>\n",
       "  <tbody>\n",
       "    <tr>\n",
       "      <th>0</th>\n",
       "      <td>-0.91</td>\n",
       "      <td>-0.03</td>\n",
       "      <td>0.72</td>\n",
       "      <td>-0.37</td>\n",
       "      <td>-0.31</td>\n",
       "      <td>0.24</td>\n",
       "      <td>-1.13</td>\n",
       "      <td>-0.48</td>\n",
       "      <td>-0.78</td>\n",
       "      <td>0.15</td>\n",
       "      <td>0.48</td>\n",
       "    </tr>\n",
       "    <tr>\n",
       "      <th>1</th>\n",
       "      <td>0.41</td>\n",
       "      <td>-1.91</td>\n",
       "      <td>-1.60</td>\n",
       "      <td>1.75</td>\n",
       "      <td>1.33</td>\n",
       "      <td>-0.54</td>\n",
       "      <td>-1.13</td>\n",
       "      <td>-0.45</td>\n",
       "      <td>0.95</td>\n",
       "      <td>-3.33</td>\n",
       "      <td>-0.60</td>\n",
       "    </tr>\n",
       "    <tr>\n",
       "      <th>2</th>\n",
       "      <td>1.84</td>\n",
       "      <td>1.24</td>\n",
       "      <td>-1.53</td>\n",
       "      <td>1.78</td>\n",
       "      <td>0.51</td>\n",
       "      <td>-1.38</td>\n",
       "      <td>0.89</td>\n",
       "      <td>-0.20</td>\n",
       "      <td>0.52</td>\n",
       "      <td>0.15</td>\n",
       "      <td>0.80</td>\n",
       "    </tr>\n",
       "    <tr>\n",
       "      <th>3</th>\n",
       "      <td>-0.80</td>\n",
       "      <td>-2.01</td>\n",
       "      <td>0.13</td>\n",
       "      <td>-0.74</td>\n",
       "      <td>1.06</td>\n",
       "      <td>0.44</td>\n",
       "      <td>0.89</td>\n",
       "      <td>-0.29</td>\n",
       "      <td>0.24</td>\n",
       "      <td>-3.33</td>\n",
       "      <td>0.89</td>\n",
       "    </tr>\n",
       "    <tr>\n",
       "      <th>4</th>\n",
       "      <td>1.35</td>\n",
       "      <td>-1.85</td>\n",
       "      <td>-1.06</td>\n",
       "      <td>1.57</td>\n",
       "      <td>-1.40</td>\n",
       "      <td>-2.67</td>\n",
       "      <td>-1.13</td>\n",
       "      <td>-0.18</td>\n",
       "      <td>-0.09</td>\n",
       "      <td>0.15</td>\n",
       "      <td>-1.50</td>\n",
       "    </tr>\n",
       "  </tbody>\n",
       "</table>\n",
       "</div>"
      ],
      "text/plain": [
       "   acousticness  danceability  energy  instrumentalness   key  loudness  mode  \\\n",
       "0         -0.91         -0.03    0.72             -0.37 -0.31      0.24 -1.13   \n",
       "1          0.41         -1.91   -1.60              1.75  1.33     -0.54 -1.13   \n",
       "2          1.84          1.24   -1.53              1.78  0.51     -1.38  0.89   \n",
       "3         -0.80         -2.01    0.13             -0.74  1.06      0.44  0.89   \n",
       "4          1.35         -1.85   -1.06              1.57 -1.40     -2.67 -1.13   \n",
       "\n",
       "   speechiness  tempo  time_signature  valence  \n",
       "0        -0.48  -0.78            0.15     0.48  \n",
       "1        -0.45   0.95           -3.33    -0.60  \n",
       "2        -0.20   0.52            0.15     0.80  \n",
       "3        -0.29   0.24           -3.33     0.89  \n",
       "4        -0.18  -0.09            0.15    -1.50  "
      ]
     },
     "execution_count": 23,
     "metadata": {},
     "output_type": "execute_result"
    }
   ],
   "source": [
    "# keep only numerical values\n",
    "cols = test_df.select_dtypes(exclude=[object]).columns\n",
    "test_matrix = test_df[cols]\n",
    "\n",
    "# standardize features\n",
    "test_matrix = test_matrix.apply(lambda x: (x - np.mean(x)) \n",
    "                                / np.std(x))\n",
    "\n",
    "# review the dataset\n",
    "test_matrix.head()"
   ]
  },
  {
   "cell_type": "markdown",
   "metadata": {},
   "source": [
    "Finally, we convert the processed training data from a Pandas dataframe into a numerical (Numpy) array. (TODO: Why?)"
   ]
  },
  {
   "cell_type": "code",
   "execution_count": 197,
   "metadata": {
    "collapsed": false
   },
   "outputs": [],
   "source": [
    "train_data = np.nan_to_num(train_matrix.values)\n",
    "test_data = np.nan_to_num(test_matrix.values)"
   ]
  },
  {
   "cell_type": "markdown",
   "metadata": {},
   "source": [
    "## Novelty detection\n",
    "\n",
    "I start my analysis with choosing tracks from the test set that match classes in the training set. For this purpose I use one-class SVM unsupervised algorithm (TODO: link the algo). One-class SVM is used for novelty detection, that is, given a set of samples (training set), it will detect the soft boundary of that set so as to classify new points (test set) as belonging to that set or not.\n",
    "\n",
    "It's important to point out that the algorithm treats the training data as not polluted by outliers.\n",
    "\n",
    "I use radial basis function, or 'rbf', kernel; 'nu' value has been chosen by trial and error method. (TODO: add short nu description)"
   ]
  },
  {
   "cell_type": "code",
   "execution_count": 25,
   "metadata": {
    "collapsed": false
   },
   "outputs": [
    {
     "data": {
      "text/plain": [
       "OneClassSVM(cache_size=200, coef0=0.0, degree=3, gamma=0.0, kernel='rbf',\n",
       "      max_iter=-1, nu=0.07, random_state=None, shrinking=True, tol=0.001,\n",
       "      verbose=False)"
      ]
     },
     "execution_count": 25,
     "metadata": {},
     "output_type": "execute_result"
    }
   ],
   "source": [
    "from sklearn import svm\n",
    "\n",
    "# fit the model\n",
    "svm_model = svm.OneClassSVM(kernel=\"rbf\", nu=0.07)\n",
    "svm_model.fit(train_data)"
   ]
  },
  {
   "cell_type": "code",
   "execution_count": 26,
   "metadata": {
    "collapsed": true
   },
   "outputs": [],
   "source": [
    "# new observations, or test data, can now be sorted \n",
    "# as inliers or outliers with a predict method\n",
    "y_pred_test = svm_model.predict(test_data)\n",
    "\n",
    "# number of tracks outside set boudaries\n",
    "# inliers are labeled 1, while outliers are labeled -1\n",
    "n_error_test = y_pred_test[y_pred_test == -1].size"
   ]
  },
  {
   "cell_type": "code",
   "execution_count": 27,
   "metadata": {
    "collapsed": false,
    "scrolled": true
   },
   "outputs": [
    {
     "name": "stdout",
     "output_type": "stream",
     "text": [
      "Number of tracks that match the training set: 185.\n",
      "Number of tracks outside set boudaries: 146.\n"
     ]
    }
   ],
   "source": [
    "print (\"Number of tracks that match the training set: {0}.\"\n",
    "       \"\\nNumber of tracks outside set boudaries: {1}.\"\n",
    "       .format((y_pred_test.size - n_error_test), \n",
    "               n_error_test))"
   ]
  },
  {
   "cell_type": "markdown",
   "metadata": {},
   "source": [
    "### Plot the result\n",
    "(TODO: add \"it's hard to plot 11-dimention array (whatever) to 2d plot so... ) To visualtise the algorithm I first need to perform dimensionality reduction first. I use Principal Component Analysis, or PCA to transform the set to 2 dimensions. "
   ]
  },
  {
   "cell_type": "code",
   "execution_count": 28,
   "metadata": {
    "collapsed": false
   },
   "outputs": [
    {
     "name": "stdout",
     "output_type": "stream",
     "text": [
      "Original dataset shape: (91, 11)\n",
      "Reduced dataset shape: (91, 2)\n"
     ]
    }
   ],
   "source": [
    "# apply PCA to the training set\n",
    "from sklearn.decomposition import PCA\n",
    "pca = PCA(n_components=2, whiten=True)\n",
    "X = pca.fit_transform(train_data)\n",
    "\n",
    "# print the result\n",
    "print \"Original dataset shape:\", train_data.shape\n",
    "print \"Reduced dataset shape:\", X.shape"
   ]
  },
  {
   "cell_type": "code",
   "execution_count": 29,
   "metadata": {
    "collapsed": false
   },
   "outputs": [
    {
     "name": "stdout",
     "output_type": "stream",
     "text": [
      "Meaning of the 2 components:\n",
      "-0.392 x acousticness + 0.311 x danceability + 0.421 x energy + -0.392 x instrumentalness + -0.021 x key + 0.425 x loudness + 0.076 x mode + 0.152 x speechiness + 0.214 x tempo + 0.142 x time_signature + 0.377 x valence\n",
      "0.218 x acousticness + 0.180 x danceability + -0.097 x energy + -0.044 x instrumentalness + -0.674 x key + -0.056 x loudness + 0.398 x mode + -0.476 x speechiness + 0.182 x tempo + -0.016 x time_signature + 0.182 x valence\n"
     ]
    },
    {
     "data": {
      "image/png": "[encoded data removed]",
      "text/plain": [
       "<matplotlib.figure.Figure at 0x10e152810>"
      ]
     },
     "metadata": {},
     "output_type": "display_data"
    }
   ],
   "source": [
    "import pylab as pl\n",
    "pl.scatter(X[:, 0], X[:, 1], \n",
    "           c=target, cmap='RdYlBu')\n",
    "\n",
    "print(\"Meaning of the 2 components:\")\n",
    "for component in pca.components_:\n",
    "    print(\" + \".join(\"%.3f x %s\" % (value, name)\n",
    "                     for value, name in zip(component,\n",
    "                                            train_matrix.columns)))"
   ]
  },
  {
   "cell_type": "markdown",
   "metadata": {},
   "source": [
    "This plot gives an idea of the relationship between the classes. Essentially, the PCA algorithm found the optimal stretch and rotation in 11-dimensional space that allows to see the layout of classes."
   ]
  },
  {
   "cell_type": "markdown",
   "metadata": {},
   "source": [
    "Apply PCA to the test set."
   ]
  },
  {
   "cell_type": "code",
   "execution_count": 198,
   "metadata": {
    "collapsed": false
   },
   "outputs": [
    {
     "name": "stdout",
     "output_type": "stream",
     "text": [
      "Original dataset shape: (331, 11)\n",
      "Reduced dataset shape: (331, 2)\n"
     ]
    }
   ],
   "source": [
    "# apply PCA to the test set\n",
    "y = pca.fit_transform(test_data)\n",
    "\n",
    "# print the result\n",
    "print \"Original dataset shape:\", test_data.shape\n",
    "print \"Reduced dataset shape:\", y.shape"
   ]
  },
  {
   "cell_type": "markdown",
   "metadata": {},
   "source": [
    "(TODO: Why refit svm_model?)"
   ]
  },
  {
   "cell_type": "code",
   "execution_count": 31,
   "metadata": {
    "collapsed": true
   },
   "outputs": [],
   "source": [
    "# fit the OneClassSVM model\n",
    "# 2D data\n",
    "svm_model.fit(X)\n",
    "y_pred_train2d = svm_model.predict(X)\n",
    "y_pred_test2d = svm_model.predict(y)\n",
    "# n_error_train = y_pred_train[y_pred_train == -1].size\n",
    "# n_error_test = y_pred_test[y_pred_test == -1].size"
   ]
  },
  {
   "cell_type": "code",
   "execution_count": 32,
   "metadata": {
    "collapsed": false
   },
   "outputs": [
    {
     "data": {
      "image/png": "[encoded data removed]",
      "text/plain": [
       "<matplotlib.figure.Figure at 0x10eed51d0>"
      ]
     },
     "metadata": {},
     "output_type": "display_data"
    }
   ],
   "source": [
    "# make a plot \n",
    "\n",
    "h = 0.02  # step size in the mesh\n",
    "# create a mesh to plot in\n",
    "x_min, x_max = X[:, 0].min() - 4, X[:, 0].max() + 6\n",
    "y_min, y_max = X[:, 1].min() - 3, X[:, 1].max() + 3\n",
    "xx, yy = np.meshgrid(np.arange(x_min, x_max, h),\n",
    "                     np.arange(y_min, y_max, h))\n",
    "\n",
    "Z = svm_model.decision_function(np.c_[xx.ravel(), yy.ravel()])\n",
    "Z = Z.reshape(xx.shape)\n",
    "\n",
    "plt.title(\"Novelty Detection\", {'fontsize': 14})\n",
    "\n",
    "plt.contourf(xx, yy, Z, levels=np.linspace(Z.min(), 0, 7), cmap=plt.cm.gist_earth)\n",
    "a = plt.contour(xx, yy, Z, levels=[0], linewidths=2, colors='grey')\n",
    "plt.contourf(xx, yy, Z, levels=[0, Z.max()])\n",
    "\n",
    "b1 = plt.scatter(X[:, 0], X[:, 1], c='green') # train set\n",
    "b2 = plt.scatter(y[:, 0], y[:, 1], c='yellow') # test set\n",
    "plt.axis('tight')\n",
    "plt.xlim((-4, 4))\n",
    "plt.ylim((-6, 4))\n",
    "plt.legend([a.collections[0], b1, b2],\n",
    "           [\"Learned Frontier\", \"Training Observations\",\n",
    "            \"New Observations\"], bbox_to_anchor=(1.05, 1), borderaxespad=0.,\n",
    "           loc=2,\n",
    "           prop=matplotlib.font_manager.FontProperties(size=13))\n",
    "plt.show()"
   ]
  },
  {
   "cell_type": "code",
   "execution_count": 33,
   "metadata": {
    "collapsed": true
   },
   "outputs": [],
   "source": [
    "# To-do: Summary"
   ]
  },
  {
   "cell_type": "markdown",
   "metadata": {},
   "source": [
    "### Save the results"
   ]
  },
  {
   "cell_type": "markdown",
   "metadata": {},
   "source": [
    "Next step is to classify tracks that match the training set.  \n",
    "First, I record the result of novelty detection algorithm to the test dataframe and to the test set. "
   ]
  },
  {
   "cell_type": "code",
   "execution_count": 34,
   "metadata": {
    "collapsed": false,
    "scrolled": false
   },
   "outputs": [
    {
     "data": {
      "text/html": [
       "<div>\n",
       "<table border=\"1\" class=\"dataframe\">\n",
       "  <thead>\n",
       "    <tr style=\"text-align: right;\">\n",
       "      <th></th>\n",
       "      <th>song_title</th>\n",
       "      <th>acousticness</th>\n",
       "      <th>artist</th>\n",
       "      <th>danceability</th>\n",
       "      <th>energy</th>\n",
       "      <th>instrumentalness</th>\n",
       "      <th>key</th>\n",
       "      <th>loudness</th>\n",
       "      <th>mode</th>\n",
       "      <th>speechiness</th>\n",
       "      <th>tempo</th>\n",
       "      <th>time_signature</th>\n",
       "      <th>valence</th>\n",
       "      <th>match</th>\n",
       "    </tr>\n",
       "  </thead>\n",
       "  <tbody>\n",
       "    <tr>\n",
       "      <th>0</th>\n",
       "      <td>ADDICTIVE</td>\n",
       "      <td>0.00</td>\n",
       "      <td>Faithless</td>\n",
       "      <td>0.60</td>\n",
       "      <td>0.79</td>\n",
       "      <td>0.14</td>\n",
       "      <td>4</td>\n",
       "      <td>-8.00</td>\n",
       "      <td>0</td>\n",
       "      <td>0.03</td>\n",
       "      <td>98.97</td>\n",
       "      <td>4</td>\n",
       "      <td>0.64</td>\n",
       "      <td>1.00</td>\n",
       "    </tr>\n",
       "    <tr>\n",
       "      <th>1</th>\n",
       "      <td>ANOTHER NIGHT IN</td>\n",
       "      <td>0.39</td>\n",
       "      <td>TINDERSTICKS</td>\n",
       "      <td>0.31</td>\n",
       "      <td>0.30</td>\n",
       "      <td>0.85</td>\n",
       "      <td>10</td>\n",
       "      <td>-11.28</td>\n",
       "      <td>0</td>\n",
       "      <td>0.03</td>\n",
       "      <td>142.21</td>\n",
       "      <td>3</td>\n",
       "      <td>0.37</td>\n",
       "      <td>-1.00</td>\n",
       "    </tr>\n",
       "    <tr>\n",
       "      <th>2</th>\n",
       "      <td>After All Is Said and Done</td>\n",
       "      <td>0.80</td>\n",
       "      <td>Junip</td>\n",
       "      <td>0.80</td>\n",
       "      <td>0.31</td>\n",
       "      <td>0.86</td>\n",
       "      <td>7</td>\n",
       "      <td>-14.80</td>\n",
       "      <td>1</td>\n",
       "      <td>0.05</td>\n",
       "      <td>131.53</td>\n",
       "      <td>4</td>\n",
       "      <td>0.72</td>\n",
       "      <td>-1.00</td>\n",
       "    </tr>\n",
       "    <tr>\n",
       "      <th>3</th>\n",
       "      <td>All My Loving</td>\n",
       "      <td>0.04</td>\n",
       "      <td>The Beatles</td>\n",
       "      <td>0.30</td>\n",
       "      <td>0.67</td>\n",
       "      <td>0.01</td>\n",
       "      <td>9</td>\n",
       "      <td>-7.17</td>\n",
       "      <td>1</td>\n",
       "      <td>0.04</td>\n",
       "      <td>124.46</td>\n",
       "      <td>3</td>\n",
       "      <td>0.74</td>\n",
       "      <td>-1.00</td>\n",
       "    </tr>\n",
       "    <tr>\n",
       "      <th>4</th>\n",
       "      <td>Almost Fell</td>\n",
       "      <td>0.66</td>\n",
       "      <td>Nicolas Jaar</td>\n",
       "      <td>0.32</td>\n",
       "      <td>0.41</td>\n",
       "      <td>0.79</td>\n",
       "      <td>0</td>\n",
       "      <td>-20.17</td>\n",
       "      <td>0</td>\n",
       "      <td>0.05</td>\n",
       "      <td>116.17</td>\n",
       "      <td>4</td>\n",
       "      <td>0.14</td>\n",
       "      <td>-1.00</td>\n",
       "    </tr>\n",
       "  </tbody>\n",
       "</table>\n",
       "</div>"
      ],
      "text/plain": [
       "                   song_title  acousticness        artist  danceability  \\\n",
       "0                   ADDICTIVE          0.00     Faithless          0.60   \n",
       "1            ANOTHER NIGHT IN          0.39  TINDERSTICKS          0.31   \n",
       "2  After All Is Said and Done          0.80         Junip          0.80   \n",
       "3               All My Loving          0.04   The Beatles          0.30   \n",
       "4                 Almost Fell          0.66  Nicolas Jaar          0.32   \n",
       "\n",
       "   energy  instrumentalness  key  loudness  mode  speechiness  tempo  \\\n",
       "0    0.79              0.14    4     -8.00     0         0.03  98.97   \n",
       "1    0.30              0.85   10    -11.28     0         0.03 142.21   \n",
       "2    0.31              0.86    7    -14.80     1         0.05 131.53   \n",
       "3    0.67              0.01    9     -7.17     1         0.04 124.46   \n",
       "4    0.41              0.79    0    -20.17     0         0.05 116.17   \n",
       "\n",
       "   time_signature  valence  match  \n",
       "0               4     0.64   1.00  \n",
       "1               3     0.37  -1.00  \n",
       "2               4     0.72  -1.00  \n",
       "3               3     0.74  -1.00  \n",
       "4               4     0.14  -1.00  "
      ]
     },
     "execution_count": 34,
     "metadata": {},
     "output_type": "execute_result"
    }
   ],
   "source": [
    "# add to the DF\n",
    "match = pd.DataFrame({'match': y_pred_test})\n",
    "test_result_df = pd.concat([test_df, match], axis=1)\n",
    "test_result_df.head()"
   ]
  },
  {
   "cell_type": "code",
   "execution_count": 35,
   "metadata": {
    "collapsed": false
   },
   "outputs": [
    {
     "name": "stdout",
     "output_type": "stream",
     "text": [
      "Before: (331,)\n",
      "After the magic:  (331, 1)\n",
      "Test set shape:  (331, 11)\n"
     ]
    }
   ],
   "source": [
    "# add novelty results to the set\n",
    "# convert y_pred_test from a 1d array into a 2d array\n",
    "print 'Before:', y_pred_test.shape\n",
    "print 'After the magic: ', y_pred_test[:, None].shape\n",
    "print 'Test set shape: ', test_data.shape"
   ]
  },
  {
   "cell_type": "code",
   "execution_count": 36,
   "metadata": {
    "collapsed": false
   },
   "outputs": [
    {
     "data": {
      "text/plain": [
       "(331, 12)"
      ]
     },
     "execution_count": 36,
     "metadata": {},
     "output_type": "execute_result"
    }
   ],
   "source": [
    "# create new array with results\n",
    "post_svm_test = np.concatenate((test_data, y_pred_test[:, None]), 1)\n",
    "post_svm_test.shape"
   ]
  },
  {
   "cell_type": "code",
   "execution_count": 37,
   "metadata": {
    "collapsed": false
   },
   "outputs": [
    {
     "data": {
      "text/plain": [
       "array([[ 0.        , -0.91413013, -0.03034728,  0.72251053, -0.37112459,\n",
       "        -0.30922548,  0.23948681, -1.12566571, -0.47534994, -0.78282769,\n",
       "         0.14698618,  0.48169486,  1.        ],\n",
       "       [ 1.        ,  0.4141471 , -1.91387049, -1.6011356 ,  1.74694552,\n",
       "         1.33281141, -0.54391301, -1.12566571, -0.44520947,  0.9529425 ,\n",
       "        -3.32818717, -0.60456148, -1.        ],\n",
       "       [ 2.        ,  1.83629482,  1.24130056, -1.53144213,  1.77772202,\n",
       "         0.51179297, -1.3826734 ,  0.88836321, -0.20106329,  0.52414909,\n",
       "         0.14698618,  0.80421917, -1.        ]])"
      ]
     },
     "execution_count": 37,
     "metadata": {},
     "output_type": "execute_result"
    }
   ],
   "source": [
    "# add index to the set\n",
    "set_index = np.asarray(range(331))[:, None]\n",
    "post_svm_test = np.concatenate((set_index, post_svm_test), 1)\n",
    "\n",
    "# review the result \n",
    "post_svm_test[:3]"
   ]
  },
  {
   "cell_type": "code",
   "execution_count": 38,
   "metadata": {
    "collapsed": false
   },
   "outputs": [
    {
     "data": {
      "text/plain": [
       "(185, 13)"
      ]
     },
     "execution_count": 38,
     "metadata": {},
     "output_type": "execute_result"
    }
   ],
   "source": [
    "# keep only matching items\n",
    "matching_test = post_svm_test[post_svm_test[:, 12] == 1]\n",
    "\n",
    "# review the result\n",
    "matching_test.shape"
   ]
  },
  {
   "cell_type": "markdown",
   "metadata": {},
   "source": [
    "## Classification"
   ]
  },
  {
   "cell_type": "markdown",
   "metadata": {},
   "source": [
    "I'm going to compare the result of three different models:\n",
    "1. K nearest neighbors classification\n",
    "2. Random Forest Classification\n",
    "3. SVC\n",
    "\n",
    "The algorithm I use is as follows:\n",
    "1. Tune parameters using GridSearchCV.  \n",
    "I use GridSearchCV to test the desired range of input parameters, and review the performance of each set of values on a cross-validation basis. \n",
    "2. Create and train the model.\n",
    "3. Estimate model accuracy score.\n",
    "4. Record the result to the set and DF.\n",
    "5. Estimate classification probability.\n",
    "6. Review the results."
   ]
  },
  {
   "cell_type": "markdown",
   "metadata": {},
   "source": [
    "### K nearest neighbors\n",
    "#### 1. Tune parameters with GridSearchCV"
   ]
  },
  {
   "cell_type": "code",
   "execution_count": 39,
   "metadata": {
    "collapsed": false,
    "scrolled": true
   },
   "outputs": [
    {
     "name": "stdout",
     "output_type": "stream",
     "text": [
      "Fitting 5 folds for each of 6 candidates, totalling 30 fits\n",
      "[CV] n_neighbors=3, weights=uniform ..................................\n",
      "[CV] ......... n_neighbors=3, weights=uniform, score=0.650000 -   0.0s\n",
      "[CV] n_neighbors=3, weights=uniform ..................................\n",
      "[CV] ......... n_neighbors=3, weights=uniform, score=0.777778 -   0.0s\n",
      "[CV] n_neighbors=3, weights=uniform ..................................\n",
      "[CV] ......... n_neighbors=3, weights=uniform, score=0.611111 -   0.0s\n",
      "[CV] n_neighbors=3, weights=uniform ..................................\n",
      "[CV] ......... n_neighbors=3, weights=uniform, score=0.611111 -   0.0s\n",
      "[CV] n_neighbors=3, weights=uniform ..................................\n",
      "[CV] ......... n_neighbors=3, weights=uniform, score=0.588235 -   0.0s\n",
      "[CV] n_neighbors=3, weights=distance .................................\n",
      "[CV] ........ n_neighbors=3, weights=distance, score=0.650000 -   0.0s\n",
      "[CV] n_neighbors=3, weights=distance .................................\n",
      "[CV] ........ n_neighbors=3, weights=distance, score=0.777778 -   0.0s\n",
      "[CV] n_neighbors=3, weights=distance .................................\n",
      "[CV] ........ n_neighbors=3, weights=distance, score=0.611111 -   0.0s\n",
      "[CV] n_neighbors=3, weights=distance .................................\n",
      "[CV] ........ n_neighbors=3, weights=distance, score=0.611111 -   0.0s\n",
      "[CV] n_neighbors=3, weights=distance .................................\n",
      "[CV] ........ n_neighbors=3, weights=distance, score=0.647059 -   0.0s\n",
      "[CV] n_neighbors=5, weights=uniform ..................................\n",
      "[CV] ......... n_neighbors=5, weights=uniform, score=0.650000 -   0.0s\n",
      "[CV] n_neighbors=5, weights=uniform ..................................\n",
      "[CV] ......... n_neighbors=5, weights=uniform, score=0.722222 -   0.0s\n",
      "[CV] n_neighbors=5, weights=uniform ..................................\n",
      "[CV] ......... n_neighbors=5, weights=uniform, score=0.722222 -   0.0s\n",
      "[CV] n_neighbors=5, weights=uniform ..................................\n",
      "[CV] ......... n_neighbors=5, weights=uniform, score=0.666667 -   0.0s\n",
      "[CV] n_neighbors=5, weights=uniform ..................................\n",
      "[CV] ......... n_neighbors=5, weights=uniform, score=0.647059 -   0.0s\n",
      "[CV] n_neighbors=5, weights=distance .................................\n",
      "[CV] ........ n_neighbors=5, weights=distance, score=0.650000 -   0.0s\n",
      "[CV] n_neighbors=5, weights=distance .................................\n",
      "[CV] ........ n_neighbors=5, weights=distance, score=0.722222 -   0.0s\n",
      "[CV] n_neighbors=5, weights=distance .................................\n",
      "[CV] ........ n_neighbors=5, weights=distance, score=0.722222 -   0.0s\n",
      "[CV] n_neighbors=5, weights=distance .................................\n",
      "[CV] ........ n_neighbors=5, weights=distance, score=0.666667 -   0.0s\n",
      "[CV] n_neighbors=5, weights=distance .................................\n",
      "[CV] ........ n_neighbors=5, weights=distance, score=0.647059 -   0.0s"
     ]
    },
    {
     "name": "stderr",
     "output_type": "stream",
     "text": [
      "[Parallel(n_jobs=1)]: Done   1 jobs       | elapsed:    0.0s\n",
      "[Parallel(n_jobs=1)]: Done  30 out of  30 | elapsed:    0.1s finished\n"
     ]
    },
    {
     "name": "stdout",
     "output_type": "stream",
     "text": [
      "\n",
      "[CV] n_neighbors=7, weights=uniform ..................................\n",
      "[CV] ......... n_neighbors=7, weights=uniform, score=0.600000 -   0.0s\n",
      "[CV] n_neighbors=7, weights=uniform ..................................\n",
      "[CV] ......... n_neighbors=7, weights=uniform, score=0.722222 -   0.0s\n",
      "[CV] n_neighbors=7, weights=uniform ..................................\n",
      "[CV] ......... n_neighbors=7, weights=uniform, score=0.722222 -   0.0s\n",
      "[CV] n_neighbors=7, weights=uniform ..................................\n",
      "[CV] ......... n_neighbors=7, weights=uniform, score=0.777778 -   0.0s\n",
      "[CV] n_neighbors=7, weights=uniform ..................................\n",
      "[CV] ......... n_neighbors=7, weights=uniform, score=0.705882 -   0.0s\n",
      "[CV] n_neighbors=7, weights=distance .................................\n",
      "[CV] ........ n_neighbors=7, weights=distance, score=0.600000 -   0.0s\n",
      "[CV] n_neighbors=7, weights=distance .................................\n",
      "[CV] ........ n_neighbors=7, weights=distance, score=0.722222 -   0.0s\n",
      "[CV] n_neighbors=7, weights=distance .................................\n",
      "[CV] ........ n_neighbors=7, weights=distance, score=0.666667 -   0.0s\n",
      "[CV] n_neighbors=7, weights=distance .................................\n",
      "[CV] ........ n_neighbors=7, weights=distance, score=0.777778 -   0.0s\n",
      "[CV] n_neighbors=7, weights=distance .................................\n",
      "[CV] ........ n_neighbors=7, weights=distance, score=0.705882 -   0.0s\n"
     ]
    },
    {
     "data": {
      "text/plain": [
       "[mean: 0.64835, std: 0.06803, params: {'n_neighbors': 3, 'weights': 'uniform'},\n",
       " mean: 0.65934, std: 0.06151, params: {'n_neighbors': 3, 'weights': 'distance'},\n",
       " mean: 0.68132, std: 0.03381, params: {'n_neighbors': 5, 'weights': 'uniform'},\n",
       " mean: 0.68132, std: 0.03381, params: {'n_neighbors': 5, 'weights': 'distance'},\n",
       " mean: 0.70330, std: 0.05816, params: {'n_neighbors': 7, 'weights': 'uniform'},\n",
       " mean: 0.69231, std: 0.05923, params: {'n_neighbors': 7, 'weights': 'distance'}]"
      ]
     },
     "execution_count": 39,
     "metadata": {},
     "output_type": "execute_result"
    }
   ],
   "source": [
    "from sklearn import neighbors\n",
    "from sklearn.grid_search import GridSearchCV\n",
    "\n",
    "# tune parameters\n",
    "parameter_grid = {\n",
    "    'n_neighbors': [3, 5, 7],\n",
    "    'weights': ['uniform', 'distance'],\n",
    "}\n",
    "grid_search = GridSearchCV(neighbors.KNeighborsClassifier(), parameter_grid,\n",
    "                            cv=5, verbose=3)\n",
    "\n",
    "grid_search.fit(train_data, target)\n",
    "\n",
    "# review the result\n",
    "grid_search.grid_scores_"
   ]
  },
  {
   "cell_type": "code",
   "execution_count": 40,
   "metadata": {
    "collapsed": false
   },
   "outputs": [
    {
     "name": "stdout",
     "output_type": "stream",
     "text": [
      "The best-performing tuning parameters\n",
      "Best score: 0.703296703297;\n",
      "Best parameters: {'n_neighbors': 7, 'weights': 'uniform'}.\n"
     ]
    }
   ],
   "source": [
    "# sort the results \n",
    "sorted(grid_search.grid_scores_, \n",
    "       key=lambda x: x.mean_validation_score)\n",
    "\n",
    "knn_best_score = grid_search.best_score_\n",
    "best_params = grid_search.best_params_\n",
    "\n",
    "# print the winner\n",
    "print (\"The best-performing tuning parameters\"\n",
    "       \"\\nBest score: {0};\"\n",
    "       \"\\nBest parameters: {1}.\"\n",
    "       .format(knn_best_score, \n",
    "               best_params\n",
    "              ))"
   ]
  },
  {
   "cell_type": "markdown",
   "metadata": {},
   "source": [
    "#### 2. Create and train the model"
   ]
  },
  {
   "cell_type": "code",
   "execution_count": 41,
   "metadata": {
    "collapsed": false,
    "scrolled": true
   },
   "outputs": [],
   "source": [
    "# create the model\n",
    "n_neighbors = best_params['n_neighbors']\n",
    "weights = best_params['weights']\n",
    "knn = neighbors.KNeighborsClassifier(n_neighbors=n_neighbors, \n",
    "                                     weights=weights)\n",
    "\n",
    "# train the model\n",
    "knn.fit(train_data, target)\n",
    "\n",
    "# make predictions\n",
    "def make_predictions(model):\n",
    "    # exclude index and novelty result\n",
    "    output = model.predict(matching_test[:, 1:12])\n",
    "    return output\n",
    "\n",
    "knn_output = make_predictions(knn)"
   ]
  },
  {
   "cell_type": "markdown",
   "metadata": {},
   "source": [
    "#### 3. Estimate model accuracy score"
   ]
  },
  {
   "cell_type": "code",
   "execution_count": 149,
   "metadata": {
    "collapsed": false
   },
   "outputs": [
    {
     "name": "stdout",
     "output_type": "stream",
     "text": [
      "Model accuracy score:  0.709\n",
      "Model report \n",
      "             precision    recall  f1-score   support\n",
      "\n",
      "    cycling       0.89      0.96      0.93        26\n",
      "      focus       0.65      0.50      0.57        34\n",
      "       yoga       0.59      0.71      0.65        31\n",
      "\n",
      "avg / total       0.70      0.70      0.70        91\n",
      "\n"
     ]
    }
   ],
   "source": [
    "def model_cross_valid(model):\n",
    "    \"\"\"Calculate model accuracy score\n",
    "    using 2-fold cross-validation\n",
    "    \"\"\"\n",
    "    from sklearn.cross_validation import cross_val_score\n",
    "\n",
    "    cv = cross_val_score(model, train_data, target, \n",
    "                         scoring='accuracy', cv=10)\n",
    "\n",
    "    # calculate model accuracy score\n",
    "    acc_score = cv.mean()\n",
    "\n",
    "    return acc_score\n",
    "\n",
    "def model_cross_report(model):\n",
    "    \"\"\"Build a text report showing \n",
    "    the main classification metrics\n",
    "    \"\"\"\n",
    "    from sklearn.cross_validation import cross_val_predict\n",
    "    \n",
    "    predicted = cross_val_predict(model, train_data, \n",
    "                                  target, cv=10)\n",
    "    \n",
    "    return classification_report(target, predicted, \n",
    "                                 target_names=categories)\n",
    "\n",
    "print \"Model accuracy score: \", round(model_cross_valid(knn), 4)\n",
    "print \"Model report \\n\", \n",
    "print model_cross_report(knn)"
   ]
  },
  {
   "cell_type": "markdown",
   "metadata": {},
   "source": [
    "#### 4. Record the result"
   ]
  },
  {
   "cell_type": "code",
   "execution_count": 43,
   "metadata": {
    "collapsed": false
   },
   "outputs": [
    {
     "name": "stdout",
     "output_type": "stream",
     "text": [
      "(185, 14)\n",
      "\n",
      "Sample of the resulting set: \n"
     ]
    },
    {
     "data": {
      "text/plain": [
       "array([[ 0.        , -0.91413013, -0.03034728,  0.72251053, -0.37112459,\n",
       "        -0.30922548,  0.23948681, -1.12566571, -0.47534994, -0.78282769,\n",
       "         0.14698618,  0.48169486,  1.        ,  2.        ],\n",
       "       [ 5.        ,  0.01360409, -0.9682168 ,  0.53129353,  1.621278  ,\n",
       "        -1.40391673, -0.83837398,  0.88836321, -0.4813949 , -0.9197766 ,\n",
       "         0.14698618,  0.37836404,  1.        ,  1.        ],\n",
       "       [ 6.        , -0.86516501, -0.49455548,  0.97420375, -0.58770287,\n",
       "         0.51179297, -0.07072329,  0.88836321, -0.35674215,  0.25587216,\n",
       "         0.14698618,  0.89006287,  1.        ,  0.        ]])"
      ]
     },
     "execution_count": 43,
     "metadata": {},
     "output_type": "execute_result"
    }
   ],
   "source": [
    "# add the result to the matching set\n",
    "knn_set = np.concatenate((matching_test, knn_output[:, None]), 1)\n",
    "\n",
    "# review the result\n",
    "print knn_set.shape\n",
    "print \"\\nSample of the resulting set: \"\n",
    "knn_set[:3]"
   ]
  },
  {
   "cell_type": "markdown",
   "metadata": {},
   "source": [
    "#### 5. Estimate probability"
   ]
  },
  {
   "cell_type": "code",
   "execution_count": 44,
   "metadata": {
    "collapsed": false,
    "scrolled": true
   },
   "outputs": [],
   "source": [
    "def class_proba(model):\n",
    "    \"\"\"Calculate probability for \n",
    "    every class and return an array\n",
    "    with highest probability for each\n",
    "    track. \n",
    "    \"\"\"\n",
    "    probability = model.predict_proba(matching_test[:, 1:12])\n",
    "    \n",
    "    # make a list of highest probabilities\n",
    "    max_proba = np.asarray([x.max() for x in probability])\n",
    "    return max_proba[:, None]"
   ]
  },
  {
   "cell_type": "code",
   "execution_count": 45,
   "metadata": {
    "collapsed": false,
    "scrolled": true
   },
   "outputs": [],
   "source": [
    "# kNN classification probability\n",
    "max_proba = class_proba(knn)\n",
    "\n",
    "# add probability to the set\n",
    "knn_set = np.concatenate((knn_set, max_proba), 1)"
   ]
  },
  {
   "cell_type": "markdown",
   "metadata": {},
   "source": [
    "#### 6. Review the result\n",
    "I transform the set back into pandas dataframe for easier manipulations."
   ]
  },
  {
   "cell_type": "code",
   "execution_count": 162,
   "metadata": {
    "collapsed": false
   },
   "outputs": [],
   "source": [
    "def review_df(dataset):\n",
    "    \"\"\"Transform dataset into a df.\n",
    "    Return the df.\n",
    "    \"\"\"\n",
    "    # make a list of column names\n",
    "    li = (['index'] + \n",
    "          train_matrix.columns.tolist() + \n",
    "          ['match', 'num_cat', 'probability'])\n",
    "    \n",
    "    # transform set into a DF\n",
    "    df = pd.DataFrame(dataset, columns=li)\n",
    "    \n",
    "    # change column type to integer\n",
    "    df[['index', 'match', 'num_cat']] = df[['index', 'match', 'num_cat']].astype(int)\n",
    "    \n",
    "    # change index to the original index\n",
    "    df = df.set_index(['index'])\n",
    "\n",
    "    return df\n",
    "\n",
    "\n",
    "def model_summary(df, model, model_name):\n",
    "    print (\"Summary of the {} algorithm \"\n",
    "           \"performance\\n\".format(model_name))\n",
    "    print \"Model: \"\n",
    "    print model\n",
    "    print (\"\\nAccuracy score: {}\"\n",
    "           .format(round(model_cross_valid(model), \n",
    "                         4)))\n",
    "    \n",
    "    # drop 'match' column as it's not relevant here\n",
    "    df = df.drop(match, 1)\n",
    "    print (\"\\nNumber of tracks in the test set: {}.\"\n",
    "           .format(len(df)))\n",
    "    for category in categories:\n",
    "        print (\"Number of tracks assigned to the \\\"{}\\\" class: {}.\"\n",
    "               .format(category, \n",
    "                      len(df[df['num_cat'] == categories.index(category)])))\n",
    "    print \"\\nMean probability for each category\"\n",
    "    grouped = df.groupby(['num_cat'])\n",
    "    print grouped['probability'].mean()"
   ]
  },
  {
   "cell_type": "code",
   "execution_count": 163,
   "metadata": {
    "collapsed": false
   },
   "outputs": [
    {
     "name": "stdout",
     "output_type": "stream",
     "text": [
      "Summary of the K-Nearest Neighbors algorithm performance\n",
      "\n",
      "Model: \n",
      "KNeighborsClassifier(algorithm='auto', leaf_size=30, metric='minkowski',\n",
      "           metric_params=None, n_neighbors=7, p=2, weights='uniform')\n",
      "\n",
      "Accuracy score: 0.709\n",
      "\n",
      "Number of tracks in the test set: 185.\n",
      "Number of tracks assigned to the \"cycling\" class: 87.\n",
      "Number of tracks assigned to the \"focus\" class: 48.\n",
      "Number of tracks assigned to the \"yoga\" class: 50.\n",
      "\n",
      "Mean probability for each category\n",
      "num_cat\n",
      "0   0.75\n",
      "1   0.58\n",
      "2   0.68\n",
      "Name: probability, dtype: float64\n"
     ]
    }
   ],
   "source": [
    "knn_df = review_df(knn_set)\n",
    "model_summary(knn_df, knn, 'K-Nearest Neighbors')"
   ]
  },
  {
   "cell_type": "markdown",
   "metadata": {},
   "source": [
    "As expected, the most certain class is \"cycling\" and the least \"focused\" is the \"focus\" class. \n",
    "Now let's add a minimum value for probability (70%) and review the result. "
   ]
  },
  {
   "cell_type": "code",
   "execution_count": 165,
   "metadata": {
    "collapsed": true
   },
   "outputs": [],
   "source": [
    "# add a minimum value for probability\n",
    "def high_proba_df(df, threshold):\n",
    "    \"\"\"Returns a df with class probability\n",
    "    higher than a threshold\n",
    "    \"\"\"\n",
    "    # drop 'match' column as it's not relevant here\n",
    "    df = df.drop(match, 1)\n",
    "    \n",
    "    high_proba = df[df['probability'] >= threshold]\n",
    "    return high_proba\n",
    "\n",
    "def sum_category(df, index):\n",
    "    \"\"\"Returns number of tracks in a category\n",
    "    \"\"\"\n",
    "    category_size = len(df[df['num_cat'] == index])\n",
    "    return category_size \n",
    "    \n",
    "def print_summary_of_high_proba(df):\n",
    "    print (\"Number of tracks with high probability \"\n",
    "          \"of being assiged to a correct class: {}.\"\n",
    "          .format(len(df)))\n",
    "    print \"Among which...\"\n",
    "    for category in categories:\n",
    "        print (\"...assigned to the \\\"{}\\\" class: {}.\"\n",
    "               .format(category, \n",
    "                      len(df[df['num_cat'] == categories.index(category)])))\n",
    "    print \"\\nMean probability for each category\"\n",
    "    grouped = df.groupby(['num_cat'])\n",
    "    print grouped['probability'].mean()"
   ]
  },
  {
   "cell_type": "code",
   "execution_count": 166,
   "metadata": {
    "collapsed": false,
    "scrolled": true
   },
   "outputs": [
    {
     "name": "stdout",
     "output_type": "stream",
     "text": [
      "Number of tracks with high probability of being assiged to a correct class: 108.\n",
      "Among which...\n",
      "...assigned to the \"cycling\" class: 60.\n",
      "...assigned to the \"focus\" class: 15.\n",
      "...assigned to the \"yoga\" class: 33.\n",
      "\n",
      "Mean probability for each category\n",
      "num_cat\n",
      "0   0.86\n",
      "1   0.73\n",
      "2   0.75\n",
      "Name: probability, dtype: float64\n"
     ]
    }
   ],
   "source": [
    "# print summary \n",
    "print_summary_of_high_proba(high_proba_df(knn_df, 0.7))"
   ]
  },
  {
   "cell_type": "code",
   "execution_count": 185,
   "metadata": {
    "collapsed": false
   },
   "outputs": [
    {
     "data": {
      "image/png": "[encoded data removed]",
      "text/plain": [
       "<matplotlib.figure.Figure at 0x110db3050>"
      ]
     },
     "metadata": {},
     "output_type": "display_data"
    }
   ],
   "source": [
    "# plot\n",
    "xs = list(a / 10.0 for a in range(10))\n",
    "\n",
    "# all classes\n",
    "total = [len(high_proba_df(knn_df, i)) for i in xs]\n",
    "line_total = plt.plot(xs, total, linewidth=2)\n",
    "\n",
    "# cycling class\n",
    "cycling_class = [sum_category(high_proba_df(knn_df, i), 0) for i in xs]\n",
    "line_cycling = plt.plot(xs, cycling_class, linewidth=2)\n",
    "\n",
    "plt.show()"
   ]
  },
  {
   "cell_type": "markdown",
   "metadata": {},
   "source": [
    "### Random Forest Classifier"
   ]
  },
  {
   "cell_type": "markdown",
   "metadata": {},
   "source": [
    "The next model I use is Random Forest Classifier. \n",
    "\n",
    "#### 1. Tune parameters with GridSearchCV\n",
    "I start with GridSearchCV parameter tuning to choose the optimal number of features considered at each step a branch is made (max_features: 50%, 70% or 100% of features) and the maximum number of branches (max_depth: 5 levels, 8 levels or no limitations)."
   ]
  },
  {
   "cell_type": "code",
   "execution_count": 174,
   "metadata": {
    "collapsed": false
   },
   "outputs": [
    {
     "data": {
      "text/plain": [
       "[0.0, 0.1, 0.2, 0.3, 0.4, 0.5, 0.6, 0.7, 0.8, 0.9]"
      ]
     },
     "execution_count": 174,
     "metadata": {},
     "output_type": "execute_result"
    }
   ],
   "source": [
    "list(x / 10.0 for x in range(10))"
   ]
  },
  {
   "cell_type": "code",
   "execution_count": 67,
   "metadata": {
    "collapsed": false,
    "scrolled": true
   },
   "outputs": [
    {
     "name": "stdout",
     "output_type": "stream",
     "text": [
      "Fitting 5 folds for each of 9 candidates, totalling 45 fits\n",
      "[CV] max_features=0.5, max_depth=5.0 .................................\n",
      "[CV] ........ max_features=0.5, max_depth=5.0, score=0.700000 -   0.1s\n",
      "[CV] max_features=0.5, max_depth=5.0 .................................\n",
      "[CV] ........ max_features=0.5, max_depth=5.0, score=0.833333 -   0.1s\n",
      "[CV] max_features=0.5, max_depth=5.0 .................................\n",
      "[CV] ........ max_features=0.5, max_depth=5.0, score=0.777778 -   0.2s\n",
      "[CV] max_features=0.5, max_depth=5.0 .................................\n",
      "[CV] ........ max_features=0.5, max_depth=5.0, score=0.722222 -   0.2s\n",
      "[CV] max_features=0.5, max_depth=5.0 .................................\n",
      "[CV] ........ max_features=0.5, max_depth=5.0, score=0.823529 -   0.1s\n",
      "[CV] max_features=0.7, max_depth=5.0 .................................\n",
      "[CV] ........ max_features=0.7, max_depth=5.0, score=0.700000 -   0.1s\n",
      "[CV] max_features=0.7, max_depth=5.0 .................................\n",
      "[CV] ........ max_features=0.7, max_depth=5.0, score=0.777778 -   0.1s\n",
      "[CV] max_features=0.7, max_depth=5.0 .................................\n",
      "[CV] ........ max_features=0.7, max_depth=5.0, score=0.722222 -   0.1s\n",
      "[CV] max_features=0.7, max_depth=5.0 .................................\n",
      "[CV] ........ max_features=0.7, max_depth=5.0, score=0.666667 -   0.1s\n",
      "[CV] max_features=0.7, max_depth=5.0 .................................\n",
      "[CV] ........ max_features=0.7, max_depth=5.0, score=0.823529 -   0.1s\n",
      "[CV] max_features=1.0, max_depth=5.0 .................................\n",
      "[CV] ........ max_features=1.0, max_depth=5.0, score=0.700000 -   0.1s\n",
      "[CV] max_features=1.0, max_depth=5.0 .................................\n",
      "[CV] ........ max_features=1.0, max_depth=5.0, score=0.722222 -   0.1s\n",
      "[CV] max_features=1.0, max_depth=5.0 .................................\n",
      "[CV] ........ max_features=1.0, max_depth=5.0, score=0.611111 -   0.1s\n",
      "[CV] max_features=1.0, max_depth=5.0 .................................\n",
      "[CV] ........ max_features=1.0, max_depth=5.0, score=0.666667 -   0.1s\n",
      "[CV] max_features=1.0, max_depth=5.0 .................................\n",
      "[CV] ........ max_features=1.0, max_depth=5.0, score=0.823529 -   0.1s\n",
      "[CV] max_features=0.5, max_depth=8.0 .................................\n",
      "[CV] ........ max_features=0.5, max_depth=8.0, score=0.700000 -   0.1s\n",
      "[CV] max_features=0.5, max_depth=8.0 .................................\n",
      "[CV] ........ max_features=0.5, max_depth=8.0, score=0.833333 -   0.1s\n",
      "[CV] max_features=0.5, max_depth=8.0 .................................\n",
      "[CV] ........ max_features=0.5, max_depth=8.0, score=0.722222 -   0.1s\n",
      "[CV] max_features=0.5, max_depth=8.0 .................................\n",
      "[CV] ........ max_features=0.5, max_depth=8.0, score=0.666667 -   0.1s\n",
      "[CV] max_features=0.5, max_depth=8.0 .................................\n",
      "[CV] ........ max_features=0.5, max_depth=8.0, score=0.823529 -   0.1s\n",
      "[CV] max_features=0.7, max_depth=8.0 .................................\n",
      "[CV] ........ max_features=0.7, max_depth=8.0, score=0.700000 -   0.1s\n",
      "[CV] max_features=0.7, max_depth=8.0 .................................\n",
      "[CV] ........ max_features=0.7, max_depth=8.0, score=0.777778 -   0.1s\n",
      "[CV] max_features=0.7, max_depth=8.0 .................................\n",
      "[CV] ........ max_features=0.7, max_depth=8.0, score=0.722222 -   0.1s\n",
      "[CV] max_features=0.7, max_depth=8.0 .................................\n",
      "[CV] ........ max_features=0.7, max_depth=8.0, score=0.666667 -   0.1s\n",
      "[CV] max_features=0.7, max_depth=8.0 .................................\n",
      "[CV] ........ max_features=0.7, max_depth=8.0, score=0.823529 -   0.1s\n",
      "[CV] max_features=1.0, max_depth=8.0 .................................\n",
      "[CV] ........ max_features=1.0, max_depth=8.0, score=0.650000 -   0.1s\n",
      "[CV] max_features=1.0, max_depth=8.0 .................................\n",
      "[CV] ........ max_features=1.0, max_depth=8.0, score=0.666667 -   0.1s\n",
      "[CV] max_features=1.0, max_depth=8.0 .................................\n",
      "[CV] ........ max_features=1.0, max_depth=8.0, score=0.666667 -   0.1s\n",
      "[CV] max_features=1.0, max_depth=8.0 .................................\n",
      "[CV] ........ max_features=1.0, max_depth=8.0, score=0.666667 -   0.1s\n",
      "[CV] max_features=1.0, max_depth=8.0 .................................\n",
      "[CV] ........ max_features=1.0, max_depth=8.0, score=0.764706 -   0.1s\n",
      "[CV] max_features=0.5, max_depth=None ................................\n",
      "[CV] ....... max_features=0.5, max_depth=None, score=0.700000 -   0.1s\n",
      "[CV] max_features=0.5, max_depth=None ................................\n",
      "[CV] ....... max_features=0.5, max_depth=None, score=0.722222 -   0.1s"
     ]
    },
    {
     "name": "stderr",
     "output_type": "stream",
     "text": [
      "[Parallel(n_jobs=1)]: Done   1 jobs       | elapsed:    0.1s\n",
      "[Parallel(n_jobs=1)]: Done  32 jobs       | elapsed:    3.8s\n"
     ]
    },
    {
     "name": "stdout",
     "output_type": "stream",
     "text": [
      "\n",
      "[CV] max_features=0.5, max_depth=None ................................\n",
      "[CV] ....... max_features=0.5, max_depth=None, score=0.666667 -   0.2s\n",
      "[CV] max_features=0.5, max_depth=None ................................\n",
      "[CV] ....... max_features=0.5, max_depth=None, score=0.777778 -   0.1s\n",
      "[CV] max_features=0.5, max_depth=None ................................\n",
      "[CV] ....... max_features=0.5, max_depth=None, score=0.823529 -   0.1s\n",
      "[CV] max_features=0.7, max_depth=None ................................\n",
      "[CV] ....... max_features=0.7, max_depth=None, score=0.700000 -   0.1s\n",
      "[CV] max_features=0.7, max_depth=None ................................\n",
      "[CV] ....... max_features=0.7, max_depth=None, score=0.833333 -   0.1s\n",
      "[CV] max_features=0.7, max_depth=None ................................\n",
      "[CV] ....... max_features=0.7, max_depth=None, score=0.722222 -   0.1s\n",
      "[CV] max_features=0.7, max_depth=None ................................\n",
      "[CV] ....... max_features=0.7, max_depth=None, score=0.666667 -   0.1s\n",
      "[CV] max_features=0.7, max_depth=None ................................\n",
      "[CV] ....... max_features=0.7, max_depth=None, score=0.823529 -   0.1s\n",
      "[CV] max_features=1.0, max_depth=None ................................\n",
      "[CV] ....... max_features=1.0, max_depth=None, score=0.650000 -   0.1s\n",
      "[CV] max_features=1.0, max_depth=None ................................\n",
      "[CV] ....... max_features=1.0, max_depth=None, score=0.888889 -   0.1s\n",
      "[CV] max_features=1.0, max_depth=None ................................\n",
      "[CV] ....... max_features=1.0, max_depth=None, score=0.666667 -   0.1s\n",
      "[CV] max_features=1.0, max_depth=None ................................\n",
      "[CV] ....... max_features=1.0, max_depth=None, score=0.666667 -   0.1s\n",
      "[CV] max_features=1.0, max_depth=None ................................\n",
      "[CV] ....... max_features=1.0, max_depth=None, score=0.764706 -   0.1s\n"
     ]
    },
    {
     "name": "stderr",
     "output_type": "stream",
     "text": [
      "[Parallel(n_jobs=1)]: Done  45 out of  45 | elapsed:    5.1s finished\n"
     ]
    },
    {
     "data": {
      "text/plain": [
       "[mean: 0.76923, std: 0.05312, params: {'max_features': 0.5, 'max_depth': 5.0},\n",
       " mean: 0.73626, std: 0.05600, params: {'max_features': 0.7, 'max_depth': 5.0},\n",
       " mean: 0.70330, std: 0.07022, params: {'max_features': 1.0, 'max_depth': 5.0},\n",
       " mean: 0.74725, std: 0.06718, params: {'max_features': 0.5, 'max_depth': 8.0},\n",
       " mean: 0.73626, std: 0.05600, params: {'max_features': 0.7, 'max_depth': 8.0},\n",
       " mean: 0.68132, std: 0.04139, params: {'max_features': 1.0, 'max_depth': 8.0},\n",
       " mean: 0.73626, std: 0.05600, params: {'max_features': 0.5, 'max_depth': None},\n",
       " mean: 0.74725, std: 0.06718, params: {'max_features': 0.7, 'max_depth': None},\n",
       " mean: 0.72527, std: 0.09038, params: {'max_features': 1.0, 'max_depth': None}]"
      ]
     },
     "execution_count": 67,
     "metadata": {},
     "output_type": "execute_result"
    }
   ],
   "source": [
    "from sklearn.ensemble import RandomForestClassifier\n",
    "\n",
    "# tune parameters\n",
    "parameter_grid = {\n",
    "    'max_features': [0.5, 0.7, 1.],\n",
    "    'max_depth': [5., 8., None]\n",
    "}\n",
    "\n",
    "grid_search = GridSearchCV(RandomForestClassifier(n_estimators = 100), \n",
    "                           parameter_grid, \n",
    "                           cv=5, verbose=3)\n",
    "\n",
    "grid_search.fit(train_data, target)\n",
    "\n",
    "# review the results\n",
    "grid_search.grid_scores_"
   ]
  },
  {
   "cell_type": "code",
   "execution_count": 68,
   "metadata": {
    "collapsed": false
   },
   "outputs": [
    {
     "name": "stdout",
     "output_type": "stream",
     "text": [
      "The best-performing tuning parameters\n",
      "Best score: 0.769230769231;\n",
      "Max features: 50.0%;\n",
      "Max depth: 5.0.\n"
     ]
    }
   ],
   "source": [
    "# sort the results \n",
    "sorted(grid_search.grid_scores_, \n",
    "       key=lambda x: x.mean_validation_score)\n",
    "\n",
    "# print the winner\n",
    "rfc_best_score = grid_search.best_score_\n",
    "best_params = grid_search.best_params_\n",
    "max_features = best_params['max_features']\n",
    "max_depth = best_params['max_depth']\n",
    "print (\"The best-performing tuning parameters\"\n",
    "       \"\\nBest score: {0};\"\n",
    "       \"\\nMax features: {1}%;\"\n",
    "       \"\\nMax depth: {2}.\"\n",
    "       .format(rfc_best_score, \n",
    "               max_features*100,\n",
    "              max_depth))"
   ]
  },
  {
   "cell_type": "markdown",
   "metadata": {},
   "source": [
    "#### 2. Create and train the model"
   ]
  },
  {
   "cell_type": "code",
   "execution_count": 100,
   "metadata": {
    "collapsed": true
   },
   "outputs": [],
   "source": [
    "# create the model\n",
    "rfc = RandomForestClassifier(n_estimators=100, \n",
    "                             random_state=0,\n",
    "                             max_features=max_features, \n",
    "                             max_depth=max_depth)\n",
    "\n",
    "# train the model\n",
    "rfc.fit(train_data, target)\n",
    "\n",
    "# make predictions\n",
    "rfc_output = make_predictions(rfc)"
   ]
  },
  {
   "cell_type": "markdown",
   "metadata": {},
   "source": [
    "#### Random Forest Visualization\n",
    "To visualize the model I apply the function that was used by Jake VanderPlas for his [Scikit-learn tutorial](https://github.com/jakevdp/sklearn_pycon2015) at PyCon 2015."
   ]
  },
  {
   "cell_type": "code",
   "execution_count": 101,
   "metadata": {
    "collapsed": true
   },
   "outputs": [],
   "source": [
    "# the function\n",
    "def visualize_tree(estimator, X, y, boundaries=True,\n",
    "                   xlim=None, ylim=None):\n",
    "    \n",
    "    # clone the estimator to apply it to a 2d data\n",
    "    from sklearn.base import clone\n",
    "    model = clone(estimator)\n",
    "    model.fit(X, y)\n",
    "\n",
    "    if xlim is None:\n",
    "        xlim = (X[:, 0].min() - 0.1, X[:, 0].max() + 0.1)\n",
    "    if ylim is None:\n",
    "        ylim = (X[:, 1].min() - 0.1, X[:, 1].max() + 0.1)\n",
    "\n",
    "    x_min, x_max = xlim\n",
    "    y_min, y_max = ylim\n",
    "    xx, yy = np.meshgrid(np.linspace(x_min, x_max, 100),\n",
    "                         np.linspace(y_min, y_max, 100))\n",
    "    Z = model.predict(np.c_[xx.ravel(), yy.ravel()])\n",
    "\n",
    "    # Put the result into a color plot\n",
    "    Z = Z.reshape(xx.shape)\n",
    "    plt.figure()\n",
    "    plt.pcolormesh(xx, yy, Z, alpha=0.2, cmap='rainbow')\n",
    "    plt.clim(y.min(), y.max())\n",
    "\n",
    "    # Plot also the training points\n",
    "    plt.scatter(X[:, 0], X[:, 1], c=y, s=50, cmap='rainbow')\n",
    "    plt.axis('off')\n",
    "\n",
    "    plt.xlim(x_min, x_max)\n",
    "    plt.ylim(y_min, y_max)        \n",
    "    plt.clim(y.min(), y.max())\n",
    "    \n",
    "    # Plot the decision boundaries\n",
    "    def plot_boundaries(i, xlim, ylim):\n",
    "        if i < 0:\n",
    "            return\n",
    "\n",
    "        tree = model.tree_\n",
    "        \n",
    "        if tree.feature[i] == 0:\n",
    "            plt.plot([tree.threshold[i], tree.threshold[i]], ylim, '-k')\n",
    "            plot_boundaries(tree.children_left[i],\n",
    "                            [xlim[0], tree.threshold[i]], ylim)\n",
    "            plot_boundaries(tree.children_right[i],\n",
    "                            [tree.threshold[i], xlim[1]], ylim)\n",
    "        \n",
    "        elif tree.feature[i] == 1:\n",
    "            plt.plot(xlim, [tree.threshold[i], tree.threshold[i]], '-k')\n",
    "            plot_boundaries(tree.children_left[i], xlim,\n",
    "                            [ylim[0], tree.threshold[i]])\n",
    "            plot_boundaries(tree.children_right[i], xlim,\n",
    "                            [tree.threshold[i], ylim[1]])\n",
    "            \n",
    "    if boundaries:\n",
    "        plot_boundaries(0, plt.xlim(), plt.ylim())"
   ]
  },
  {
   "cell_type": "code",
   "execution_count": 109,
   "metadata": {
    "collapsed": false,
    "scrolled": true
   },
   "outputs": [
    {
     "data": {
      "image/png": "[encoded data removed]",
      "text/plain": [
       "<matplotlib.figure.Figure at 0x10e14c090>"
      ]
     },
     "metadata": {},
     "output_type": "display_data"
    }
   ],
   "source": [
    "# I use previously processed test set \n",
    "# with reduced number of dimensions \"X\"\n",
    "visualize_tree(rfc, X, target, boundaries=False);"
   ]
  },
  {
   "cell_type": "markdown",
   "metadata": {},
   "source": [
    "#### 3. Estimate model accuracy score"
   ]
  },
  {
   "cell_type": "code",
   "execution_count": 151,
   "metadata": {
    "collapsed": false
   },
   "outputs": [
    {
     "name": "stdout",
     "output_type": "stream",
     "text": [
      "RFC accuracy score:  0.7264\n",
      "Model report \n",
      "             precision    recall  f1-score   support\n",
      "\n",
      "    cycling       1.00      0.96      0.98        26\n",
      "      focus       0.64      0.68      0.66        34\n",
      "       yoga       0.60      0.58      0.59        31\n",
      "\n",
      "avg / total       0.73      0.73      0.73        91\n",
      "\n"
     ]
    }
   ],
   "source": [
    "print \"RFC accuracy score: \", round(model_cross_valid(rfc), 4)\n",
    "print \"Model report \\n\", \n",
    "print model_cross_report(rfc)"
   ]
  },
  {
   "cell_type": "markdown",
   "metadata": {},
   "source": [
    "#### 4. Record the result"
   ]
  },
  {
   "cell_type": "code",
   "execution_count": 114,
   "metadata": {
    "collapsed": false
   },
   "outputs": [
    {
     "name": "stdout",
     "output_type": "stream",
     "text": [
      "(185, 14)\n",
      "\n",
      "Sample of the resulting set: \n"
     ]
    },
    {
     "data": {
      "text/plain": [
       "array([[ 0.        , -0.91413013, -0.03034728,  0.72251053, -0.37112459,\n",
       "        -0.30922548,  0.23948681, -1.12566571, -0.47534994, -0.78282769,\n",
       "         0.14698618,  0.48169486,  1.        ,  1.        ],\n",
       "       [ 5.        ,  0.01360409, -0.9682168 ,  0.53129353,  1.621278  ,\n",
       "        -1.40391673, -0.83837398,  0.88836321, -0.4813949 , -0.9197766 ,\n",
       "         0.14698618,  0.37836404,  1.        ,  1.        ],\n",
       "       [ 6.        , -0.86516501, -0.49455548,  0.97420375, -0.58770287,\n",
       "         0.51179297, -0.07072329,  0.88836321, -0.35674215,  0.25587216,\n",
       "         0.14698618,  0.89006287,  1.        ,  0.        ]])"
      ]
     },
     "execution_count": 114,
     "metadata": {},
     "output_type": "execute_result"
    }
   ],
   "source": [
    "# add the result to the matching set\n",
    "rfc_set = np.concatenate((matching_test, rfc_output[:, None]), 1)\n",
    "\n",
    "# review the result\n",
    "print rfc_set.shape\n",
    "print \"\\nSample of the resulting set: \"\n",
    "rfc_set[:3]"
   ]
  },
  {
   "cell_type": "markdown",
   "metadata": {},
   "source": [
    "#### 5. Estimate probability"
   ]
  },
  {
   "cell_type": "code",
   "execution_count": 115,
   "metadata": {
    "collapsed": false
   },
   "outputs": [],
   "source": [
    "# RFC classification probability\n",
    "rfc_proba = class_proba(rfc)\n",
    "\n",
    "# add probability to the set\n",
    "rfc_set = np.concatenate((rfc_set, rfc_proba), 1)"
   ]
  },
  {
   "cell_type": "markdown",
   "metadata": {},
   "source": [
    "#### 6. Review the result\n",
    "I transform the set back into pandas dataframe for easier manipulations."
   ]
  },
  {
   "cell_type": "code",
   "execution_count": 117,
   "metadata": {
    "collapsed": false
   },
   "outputs": [
    {
     "name": "stdout",
     "output_type": "stream",
     "text": [
      "Summary of the Random Forest Classification model performance\n",
      "\n",
      "Model: \n",
      "RandomForestClassifier(bootstrap=True, class_weight=None, criterion='gini',\n",
      "            max_depth=5.0, max_features=0.5, max_leaf_nodes=None,\n",
      "            min_samples_leaf=1, min_samples_split=2,\n",
      "            min_weight_fraction_leaf=0.0, n_estimators=100, n_jobs=1,\n",
      "            oob_score=False, random_state=0, verbose=0, warm_start=False)\n",
      "\n",
      "Accuracy score: 0.7264\n",
      "\n",
      "Number of tracks in the test set: 185.\n",
      "Number of tracks assigned to the \"cycling\" class: 76.\n",
      "Number of tracks assigned to the \"focus\" class: 76.\n",
      "Number of tracks assigned to the \"yoga\" class: 33.\n",
      "\n",
      "Mean probability for each category\n",
      "num_cat\n",
      "0   0.66\n",
      "1   0.57\n",
      "2   0.57\n",
      "Name: probability, dtype: float64\n"
     ]
    }
   ],
   "source": [
    "rfc_df = review_df(rfc_set)\n",
    "model_summary(rfc_df, rfc, 'Random Forest Classification')"
   ]
  },
  {
   "cell_type": "code",
   "execution_count": 168,
   "metadata": {
    "collapsed": false
   },
   "outputs": [
    {
     "name": "stdout",
     "output_type": "stream",
     "text": [
      "Number of tracks with high probability of being assiged to a correct class: 50.\n",
      "Among which...\n",
      "...assigned to the \"cycling\" class: 30.\n",
      "...assigned to the \"focus\" class: 16.\n",
      "...assigned to the \"yoga\" class: 4.\n",
      "\n",
      "Mean probability for each category\n",
      "num_cat\n",
      "0   0.85\n",
      "1   0.77\n",
      "2   0.75\n",
      "Name: probability, dtype: float64\n"
     ]
    }
   ],
   "source": [
    "# add a minimum value for probability\n",
    "print_summary_of_high_proba(high_proba_df(rfc_df, 0.7))"
   ]
  },
  {
   "cell_type": "markdown",
   "metadata": {},
   "source": [
    "### Support Vector Machine Classifier\n",
    "#### 1. Tune parameters with GridSearchCV"
   ]
  },
  {
   "cell_type": "code",
   "execution_count": 119,
   "metadata": {
    "collapsed": false,
    "scrolled": true
   },
   "outputs": [
    {
     "name": "stdout",
     "output_type": "stream",
     "text": [
      "Fitting 5 folds for each of 9 candidates, totalling 45 fits\n",
      "[CV] C=1.0, gamma=0.05 ...............................................\n",
      "[CV] ...................... C=1.0, gamma=0.05, score=0.700000 -   0.0s\n",
      "[CV] C=1.0, gamma=0.05 ...............................................\n",
      "[CV] ...................... C=1.0, gamma=0.05, score=0.833333 -   0.0s\n",
      "[CV] C=1.0, gamma=0.05 ...............................................\n",
      "[CV] ...................... C=1.0, gamma=0.05, score=0.666667 -   0.0s\n",
      "[CV] C=1.0, gamma=0.05 ...............................................\n",
      "[CV] ...................... C=1.0, gamma=0.05, score=0.833333 -   0.0s\n",
      "[CV] C=1.0, gamma=0.05 ...............................................\n",
      "[CV] ...................... C=1.0, gamma=0.05, score=0.764706 -   0.0s\n",
      "[CV] C=1.0, gamma=0.1 ................................................\n",
      "[CV] ....................... C=1.0, gamma=0.1, score=0.700000 -   0.0s\n",
      "[CV] C=1.0, gamma=0.1 ................................................\n",
      "[CV] ....................... C=1.0, gamma=0.1, score=0.888889 -   0.0s\n",
      "[CV] C=1.0, gamma=0.1 ................................................\n",
      "[CV] ....................... C=1.0, gamma=0.1, score=0.722222 -   0.0s\n",
      "[CV] C=1.0, gamma=0.1 ................................................\n",
      "[CV] ....................... C=1.0, gamma=0.1, score=0.888889 -   0.0s\n",
      "[CV] C=1.0, gamma=0.1 ................................................\n",
      "[CV] ....................... C=1.0, gamma=0.1, score=0.764706 -   0.0s\n",
      "[CV] C=1.0, gamma=1.0 ................................................\n",
      "[CV] ....................... C=1.0, gamma=1.0, score=0.600000 -   0.0s\n",
      "[CV] C=1.0, gamma=1.0 ................................................\n",
      "[CV] ....................... C=1.0, gamma=1.0, score=0.444444 -   0.0s\n",
      "[CV] C=1.0, gamma=1.0 ................................................\n",
      "[CV] ....................... C=1.0, gamma=1.0, score=0.388889 -   0.0s\n",
      "[CV] C=1.0, gamma=1.0 ................................................\n",
      "[CV] ....................... C=1.0, gamma=1.0, score=0.444444 -   0.0s\n",
      "[CV] C=1.0, gamma=1.0 ................................................\n",
      "[CV] ....................... C=1.0, gamma=1.0, score=0.470588 -   0.0s\n",
      "[CV] C=5.0, gamma=0.05 ...............................................\n",
      "[CV] ...................... C=5.0, gamma=0.05, score=0.700000 -   0.0s\n",
      "[CV] C=5.0, gamma=0.05 ...............................................\n",
      "[CV] ...................... C=5.0, gamma=0.05, score=0.888889 -   0.0s\n",
      "[CV] C=5.0, gamma=0.05 ...............................................\n",
      "[CV] ...................... C=5.0, gamma=0.05, score=0.777778 -   0.0s\n",
      "[CV] C=5.0, gamma=0.05 ...............................................\n",
      "[CV] ...................... C=5.0, gamma=0.05, score=0.777778 -   0.0s\n",
      "[CV] C=5.0, gamma=0.05 ...............................................\n",
      "[CV] ...................... C=5.0, gamma=0.05, score=0.705882 -   0.0s\n",
      "[CV] C=5.0, gamma=0.1 ................................................\n",
      "[CV] ....................... C=5.0, gamma=0.1, score=0.700000 -   0.0s\n",
      "[CV] C=5.0, gamma=0.1 ................................................\n",
      "[CV] ....................... C=5.0, gamma=0.1, score=0.722222 -   0.0s\n",
      "[CV] C=5.0, gamma=0.1 ................................................"
     ]
    },
    {
     "name": "stderr",
     "output_type": "stream",
     "text": [
      "[Parallel(n_jobs=1)]: Done   1 jobs       | elapsed:    0.0s\n",
      "[Parallel(n_jobs=1)]: Done  32 jobs       | elapsed:    0.1s\n"
     ]
    },
    {
     "name": "stdout",
     "output_type": "stream",
     "text": [
      "\n",
      "[CV] ....................... C=5.0, gamma=0.1, score=0.777778 -   0.0s\n",
      "[CV] C=5.0, gamma=0.1 ................................................\n",
      "[CV] ....................... C=5.0, gamma=0.1, score=0.666667 -   0.0s\n",
      "[CV] C=5.0, gamma=0.1 ................................................\n",
      "[CV] ....................... C=5.0, gamma=0.1, score=0.588235 -   0.0s\n",
      "[CV] C=5.0, gamma=1.0 ................................................\n",
      "[CV] ....................... C=5.0, gamma=1.0, score=0.550000 -   0.0s\n",
      "[CV] C=5.0, gamma=1.0 ................................................\n",
      "[CV] ....................... C=5.0, gamma=1.0, score=0.444444 -   0.0s\n",
      "[CV] C=5.0, gamma=1.0 ................................................\n",
      "[CV] ....................... C=5.0, gamma=1.0, score=0.555556 -   0.0s\n",
      "[CV] C=5.0, gamma=1.0 ................................................\n",
      "[CV] ....................... C=5.0, gamma=1.0, score=0.500000 -   0.0s\n",
      "[CV] C=5.0, gamma=1.0 ................................................\n",
      "[CV] ....................... C=5.0, gamma=1.0, score=0.529412 -   0.0s\n",
      "[CV] C=10.0, gamma=0.05 ..............................................\n",
      "[CV] ..................... C=10.0, gamma=0.05, score=0.700000 -   0.0s\n",
      "[CV] C=10.0, gamma=0.05 ..............................................\n",
      "[CV] ..................... C=10.0, gamma=0.05, score=0.777778 -   0.0s\n",
      "[CV] C=10.0, gamma=0.05 ..............................................\n",
      "[CV] ..................... C=10.0, gamma=0.05, score=0.777778 -   0.0s\n",
      "[CV] C=10.0, gamma=0.05 ..............................................\n",
      "[CV] ..................... C=10.0, gamma=0.05, score=0.722222 -   0.0s\n",
      "[CV] C=10.0, gamma=0.05 ..............................................\n",
      "[CV] ..................... C=10.0, gamma=0.05, score=0.647059 -   0.0s\n",
      "[CV] C=10.0, gamma=0.1 ...............................................\n",
      "[CV] ...................... C=10.0, gamma=0.1, score=0.650000 -   0.0s\n",
      "[CV] C=10.0, gamma=0.1 ...............................................\n",
      "[CV] ...................... C=10.0, gamma=0.1, score=0.777778 -   0.0s\n",
      "[CV] C=10.0, gamma=0.1 ...............................................\n",
      "[CV] ...................... C=10.0, gamma=0.1, score=0.777778 -   0.0s\n",
      "[CV] C=10.0, gamma=0.1 ...............................................\n",
      "[CV] ...................... C=10.0, gamma=0.1, score=0.666667 -   0.0s\n",
      "[CV] C=10.0, gamma=0.1 ...............................................\n",
      "[CV] ...................... C=10.0, gamma=0.1, score=0.588235 -   0.0s\n",
      "[CV] C=10.0, gamma=1.0 ...............................................\n",
      "[CV] ...................... C=10.0, gamma=1.0, score=0.550000 -   0.0s\n",
      "[CV] C=10.0, gamma=1.0 ...............................................\n",
      "[CV] ...................... C=10.0, gamma=1.0, score=0.444444 -   0.0s\n",
      "[CV] C=10.0, gamma=1.0 ...............................................\n",
      "[CV] ...................... C=10.0, gamma=1.0, score=0.555556 -   0.0s\n",
      "[CV] C=10.0, gamma=1.0 ...............................................\n",
      "[CV] ...................... C=10.0, gamma=1.0, score=0.500000 -   0.0s\n",
      "[CV] C=10.0, gamma=1.0 ...............................................\n",
      "[CV] ...................... C=10.0, gamma=1.0, score=0.529412 -   0.0s\n"
     ]
    },
    {
     "name": "stderr",
     "output_type": "stream",
     "text": [
      "[Parallel(n_jobs=1)]: Done  45 out of  45 | elapsed:    0.1s finished\n"
     ]
    },
    {
     "data": {
      "text/plain": [
       "[mean: 0.75824, std: 0.06795, params: {'C': 1.0, 'gamma': 0.05},\n",
       " mean: 0.79121, std: 0.08105, params: {'C': 1.0, 'gamma': 0.1},\n",
       " mean: 0.47253, std: 0.07041, params: {'C': 1.0, 'gamma': 1.0},\n",
       " mean: 0.76923, std: 0.06822, params: {'C': 5.0, 'gamma': 0.05},\n",
       " mean: 0.69231, std: 0.06283, params: {'C': 5.0, 'gamma': 0.1},\n",
       " mean: 0.51648, std: 0.04069, params: {'C': 5.0, 'gamma': 1.0},\n",
       " mean: 0.72527, std: 0.04956, params: {'C': 10.0, 'gamma': 0.05},\n",
       " mean: 0.69231, std: 0.07468, params: {'C': 10.0, 'gamma': 0.1},\n",
       " mean: 0.51648, std: 0.04069, params: {'C': 10.0, 'gamma': 1.0}]"
      ]
     },
     "execution_count": 119,
     "metadata": {},
     "output_type": "execute_result"
    }
   ],
   "source": [
    "from sklearn.svm import SVC\n",
    "\n",
    "# tune parameters\n",
    "parameter_grid = {\n",
    "    'C': [1., 5., 10.],\n",
    "    'gamma': [0.05, 0.1, 1.],\n",
    "}\n",
    "\n",
    "grid_search = GridSearchCV(SVC(kernel='rbf'), \n",
    "                           parameter_grid, \n",
    "                           cv=5, verbose=3)\n",
    "\n",
    "grid_search.fit(train_data, target)\n",
    "\n",
    "# review the result\n",
    "grid_search.grid_scores_"
   ]
  },
  {
   "cell_type": "code",
   "execution_count": 120,
   "metadata": {
    "collapsed": false
   },
   "outputs": [
    {
     "name": "stdout",
     "output_type": "stream",
     "text": [
      "The best-performing tuning parameters\n",
      "Best score: 0.791208791209;\n",
      "Best parameters: {'C': 1.0, 'gamma': 0.1}.\n"
     ]
    }
   ],
   "source": [
    "# sort the results \n",
    "sorted(grid_search.grid_scores_, \n",
    "       key=lambda x: x.mean_validation_score)\n",
    "\n",
    "svc_best_score = grid_search.best_score_\n",
    "best_params = grid_search.best_params_\n",
    "\n",
    "# print the winner\n",
    "print (\"The best-performing tuning parameters\"\n",
    "       \"\\nBest score: {0};\"\n",
    "       \"\\nBest parameters: {1}.\"\n",
    "       .format(svc_best_score, \n",
    "               best_params))"
   ]
  },
  {
   "cell_type": "markdown",
   "metadata": {},
   "source": [
    "#### 2. Create and train the model\n",
    "Training SVMs with probability=True can be quite a lot more expensive than a vanilla, non-probabilistic SVM. But since it's a small set it doesn't make much difference. "
   ]
  },
  {
   "cell_type": "code",
   "execution_count": 121,
   "metadata": {
    "collapsed": true
   },
   "outputs": [],
   "source": [
    "# create the model\n",
    "svc = SVC(kernel='rbf', \n",
    "                C=best_params['C'], \n",
    "               gamma=best_params['gamma'],\n",
    "               probability=True)\n",
    "\n",
    "# train the model\n",
    "svc.fit(train_data, target)\n",
    "\n",
    "# make predictions\n",
    "svc_output = make_predictions(svc)"
   ]
  },
  {
   "cell_type": "markdown",
   "metadata": {},
   "source": [
    "#### 3. Estimate model accuracy score"
   ]
  },
  {
   "cell_type": "code",
   "execution_count": 153,
   "metadata": {
    "collapsed": false,
    "scrolled": true
   },
   "outputs": [
    {
     "name": "stdout",
     "output_type": "stream",
     "text": [
      "SVC accuracy score:  0.7626\n",
      "Model report \n",
      "             precision    recall  f1-score   support\n",
      "\n",
      "    cycling       1.00      0.92      0.96        26\n",
      "      focus       0.69      0.71      0.70        34\n",
      "       yoga       0.66      0.68      0.67        31\n",
      "\n",
      "avg / total       0.77      0.76      0.76        91\n",
      "\n"
     ]
    }
   ],
   "source": [
    "print \"SVC accuracy score: \", round(model_cross_valid(svc), 4)\n",
    "print \"Model report \\n\", \n",
    "print model_cross_report(svc)"
   ]
  },
  {
   "cell_type": "markdown",
   "metadata": {},
   "source": [
    "#### 4. Record the result"
   ]
  },
  {
   "cell_type": "code",
   "execution_count": 123,
   "metadata": {
    "collapsed": false
   },
   "outputs": [
    {
     "name": "stdout",
     "output_type": "stream",
     "text": [
      "(185, 14)\n",
      "\n",
      "Sample of the resulting set: \n"
     ]
    },
    {
     "data": {
      "text/plain": [
       "array([[ 0.        , -0.91413013, -0.03034728,  0.72251053, -0.37112459,\n",
       "        -0.30922548,  0.23948681, -1.12566571, -0.47534994, -0.78282769,\n",
       "         0.14698618,  0.48169486,  1.        ,  1.        ],\n",
       "       [ 5.        ,  0.01360409, -0.9682168 ,  0.53129353,  1.621278  ,\n",
       "        -1.40391673, -0.83837398,  0.88836321, -0.4813949 , -0.9197766 ,\n",
       "         0.14698618,  0.37836404,  1.        ,  1.        ],\n",
       "       [ 6.        , -0.86516501, -0.49455548,  0.97420375, -0.58770287,\n",
       "         0.51179297, -0.07072329,  0.88836321, -0.35674215,  0.25587216,\n",
       "         0.14698618,  0.89006287,  1.        ,  0.        ]])"
      ]
     },
     "execution_count": 123,
     "metadata": {},
     "output_type": "execute_result"
    }
   ],
   "source": [
    "# add the result to the matching set\n",
    "svc_set = np.concatenate((matching_test, svc_output[:, None]), 1)\n",
    "\n",
    "# review the result\n",
    "print svc_set.shape\n",
    "print \"\\nSample of the resulting set: \"\n",
    "svc_set[:3]"
   ]
  },
  {
   "cell_type": "markdown",
   "metadata": {},
   "source": [
    "#### 5. Estimate probability"
   ]
  },
  {
   "cell_type": "code",
   "execution_count": 124,
   "metadata": {
    "collapsed": false
   },
   "outputs": [],
   "source": [
    "# SVC classification probability\n",
    "max_proba = class_proba(svc)\n",
    "\n",
    "# add probability to the set\n",
    "svc_set = np.concatenate((svc_set, max_proba), 1)"
   ]
  },
  {
   "cell_type": "markdown",
   "metadata": {},
   "source": [
    "#### 6. Review the result\n",
    "I transform the set back into pandas dataframe for easier manipulations."
   ]
  },
  {
   "cell_type": "code",
   "execution_count": 125,
   "metadata": {
    "collapsed": false
   },
   "outputs": [
    {
     "name": "stdout",
     "output_type": "stream",
     "text": [
      "Summary of the SVC model performance\n",
      "\n",
      "Model: \n",
      "SVC(C=1.0, cache_size=200, class_weight=None, coef0=0.0, degree=3, gamma=0.1,\n",
      "  kernel='rbf', max_iter=-1, probability=True, random_state=None,\n",
      "  shrinking=True, tol=0.001, verbose=False)\n",
      "\n",
      "Accuracy score: 0.7626\n",
      "\n",
      "Number of tracks in the test set: 185.\n",
      "Number of tracks assigned to the \"cycling\" class: 64.\n",
      "Number of tracks assigned to the \"focus\" class: 72.\n",
      "Number of tracks assigned to the \"yoga\" class: 49.\n",
      "\n",
      "Mean probability for each category\n",
      "num_cat\n",
      "0   0.72\n",
      "1   0.53\n",
      "2   0.56\n",
      "Name: probability, dtype: float64\n"
     ]
    }
   ],
   "source": [
    "svc_df = review_df(svc_set)\n",
    "model_summary(svc_df, svc, 'SVC')"
   ]
  },
  {
   "cell_type": "code",
   "execution_count": 167,
   "metadata": {
    "collapsed": false
   },
   "outputs": [
    {
     "name": "stdout",
     "output_type": "stream",
     "text": [
      "Number of tracks with high probability of being assiged to a correct class: 51.\n",
      "Among which...\n",
      "...assigned to the \"cycling\" class: 39.\n",
      "...assigned to the \"focus\" class: 5.\n",
      "...assigned to the \"yoga\" class: 7.\n",
      "\n",
      "Mean probability for each category\n",
      "num_cat\n",
      "0   0.82\n",
      "1   0.72\n",
      "2   0.74\n",
      "Name: probability, dtype: float64\n"
     ]
    }
   ],
   "source": [
    "# add a minimum value for probability\n",
    "print_summary_of_high_proba(high_proba_df(svc_df, 0.7))"
   ]
  },
  {
   "cell_type": "markdown",
   "metadata": {},
   "source": [
    "## START HERE!!!\n",
    "To do: \n",
    "1. Plot validation curve\n",
    "2. Plot diff probabilities\n",
    "3. Make a copy of the notebook and try the same calculations with 2 classes, yoga and cycling. \n",
    "4. Try novelty detection class by class"
   ]
  },
  {
   "cell_type": "code",
   "execution_count": 127,
   "metadata": {
    "collapsed": false
   },
   "outputs": [
    {
     "data": {
      "image/png": "[encoded data removed]",
      "text/plain": [
       "<matplotlib.figure.Figure at 0x10efd1f90>"
      ]
     },
     "metadata": {},
     "output_type": "display_data"
    }
   ],
   "source": [
    "from sklearn.learning_curve import validation_curve\n",
    "\n",
    "param_range = np.logspace(-4, 4, 5)\n",
    "train_scores, test_scores = validation_curve(\n",
    "    SVC(), train_data, target, param_name=\"gamma\", param_range=param_range,\n",
    "    cv=10, scoring=\"accuracy\", n_jobs=1)\n",
    "train_scores_mean = np.mean(train_scores, axis=1)\n",
    "train_scores_std = np.std(train_scores, axis=1)\n",
    "test_scores_mean = np.mean(test_scores, axis=1)\n",
    "test_scores_std = np.std(test_scores, axis=1)\n",
    "\n",
    "plt.title(\"Validation Curve with SVC\")\n",
    "plt.xlabel(\"$\\gamma$\")\n",
    "plt.ylabel(\"Score\")\n",
    "plt.ylim(0.0, 1.1)\n",
    "plt.semilogx(param_range, train_scores_mean, label=\"Training score\", color=\"r\")\n",
    "plt.fill_between(param_range, train_scores_mean - train_scores_std,\n",
    "                 train_scores_mean + train_scores_std, alpha=0.2, color=\"r\")\n",
    "plt.semilogx(param_range, test_scores_mean, label=\"Cross-validation score\",\n",
    "             color=\"g\")\n",
    "plt.fill_between(param_range, test_scores_mean - test_scores_std,\n",
    "                 test_scores_mean + test_scores_std, alpha=0.2, color=\"g\")\n",
    "plt.legend(loc=\"best\")\n",
    "plt.show()"
   ]
  },
  {
   "cell_type": "code",
   "execution_count": 128,
   "metadata": {
    "collapsed": false
   },
   "outputs": [
    {
     "ename": "NameError",
     "evalue": "name 'degree' is not defined",
     "output_type": "error",
     "traceback": [
      "\u001b[0;31m---------------------------------------------------------------------------\u001b[0m",
      "\u001b[0;31mNameError\u001b[0m                                 Traceback (most recent call last)",
      "\u001b[0;32m<ipython-input-128-f93ac22d199c>\u001b[0m in \u001b[0;36m<module>\u001b[0;34m()\u001b[0m\n\u001b[1;32m      5\u001b[0m                      facecolor=lines[0].get_color(), alpha=0.2)\n\u001b[1;32m      6\u001b[0m \u001b[0;34m\u001b[0m\u001b[0m\n\u001b[0;32m----> 7\u001b[0;31m \u001b[0mplot_with_err\u001b[0m\u001b[0;34m(\u001b[0m\u001b[0mdegree\u001b[0m\u001b[0;34m,\u001b[0m \u001b[0mval_train\u001b[0m\u001b[0;34m,\u001b[0m \u001b[0mlabel\u001b[0m\u001b[0;34m=\u001b[0m\u001b[0;34m'training scores'\u001b[0m\u001b[0;34m)\u001b[0m\u001b[0;34m\u001b[0m\u001b[0m\n\u001b[0m\u001b[1;32m      8\u001b[0m \u001b[0mplot_with_err\u001b[0m\u001b[0;34m(\u001b[0m\u001b[0mdegree\u001b[0m\u001b[0;34m,\u001b[0m \u001b[0mval_test\u001b[0m\u001b[0;34m,\u001b[0m \u001b[0mlabel\u001b[0m\u001b[0;34m=\u001b[0m\u001b[0;34m'validation scores'\u001b[0m\u001b[0;34m)\u001b[0m\u001b[0;34m\u001b[0m\u001b[0m\n\u001b[1;32m      9\u001b[0m \u001b[0mplt\u001b[0m\u001b[0;34m.\u001b[0m\u001b[0mxlabel\u001b[0m\u001b[0;34m(\u001b[0m\u001b[0;34m'degree'\u001b[0m\u001b[0;34m)\u001b[0m\u001b[0;34m;\u001b[0m \u001b[0mplt\u001b[0m\u001b[0;34m.\u001b[0m\u001b[0mylabel\u001b[0m\u001b[0;34m(\u001b[0m\u001b[0;34m'rms error'\u001b[0m\u001b[0;34m)\u001b[0m\u001b[0;34m\u001b[0m\u001b[0m\n",
      "\u001b[0;31mNameError\u001b[0m: name 'degree' is not defined"
     ]
    }
   ],
   "source": [
    "def plot_with_err(x, data, **kwargs):\n",
    "    mu, std = data.mean(1), data.std(1)\n",
    "    lines = plt.plot(x, mu, '-', **kwargs)\n",
    "    plt.fill_between(x, mu - std, mu + std, edgecolor='none',\n",
    "                     facecolor=lines[0].get_color(), alpha=0.2)\n",
    "\n",
    "plot_with_err(degree, val_train, label='training scores')\n",
    "plot_with_err(degree, val_test, label='validation scores')\n",
    "plt.xlabel('degree'); plt.ylabel('rms error')\n",
    "plt.legend();"
   ]
  },
  {
   "cell_type": "code",
   "execution_count": null,
   "metadata": {
    "collapsed": false
   },
   "outputs": [],
   "source": [
    "validation_curve?"
   ]
  },
  {
   "cell_type": "code",
   "execution_count": null,
   "metadata": {
    "collapsed": true
   },
   "outputs": [],
   "source": []
  },
  {
   "cell_type": "code",
   "execution_count": null,
   "metadata": {
    "collapsed": true
   },
   "outputs": [],
   "source": []
  },
  {
   "cell_type": "code",
   "execution_count": null,
   "metadata": {
    "collapsed": true
   },
   "outputs": [],
   "source": []
  },
  {
   "cell_type": "code",
   "execution_count": null,
   "metadata": {
    "collapsed": true
   },
   "outputs": [],
   "source": []
  },
  {
   "cell_type": "code",
   "execution_count": null,
   "metadata": {
    "collapsed": true
   },
   "outputs": [],
   "source": []
  },
  {
   "cell_type": "code",
   "execution_count": null,
   "metadata": {
    "collapsed": false
   },
   "outputs": [],
   "source": [
    "sns.set()\n",
    "pca = PCA().fit(train_data)\n",
    "plt.plot(np.cumsum(pca.explained_variance_ratio_))\n",
    "plt.xlabel('number of components')\n",
    "plt.ylabel('cumulative explained variance');"
   ]
  },
  {
   "cell_type": "markdown",
   "metadata": {},
   "source": [
    "Here we see that our two-dimensional projection loses almost 40% of information (as measured by the explained variance) and that we'd need 6 components to retain 90% of the variance."
   ]
  }
 ],
 "metadata": {
  "kernelspec": {
   "display_name": "Python 2",
   "language": "python",
   "name": "python2"
  },
  "language_info": {
   "codemirror_mode": {
    "name": "ipython",
    "version": 2
   },
   "file_extension": ".py",
   "mimetype": "text/x-python",
   "name": "python",
   "nbconvert_exporter": "python",
   "pygments_lexer": "ipython2",
   "version": "2.7.10"
  }
 },
 "nbformat": 4,
 "nbformat_minor": 0
}
