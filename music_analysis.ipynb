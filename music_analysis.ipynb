{
 "cells": [
  {
   "cell_type": "markdown",
   "metadata": {},
   "source": [
    "# iTunes music library analysis\n",
    "\n",
    "## A scientific way of creating playlists for fitness classes"
   ]
  },
  {
   "cell_type": "markdown",
   "metadata": {},
   "source": [
    "Why... How...\n",
    "\n",
    "I believe that the good song for the practice is the one I do not hear, or pay attention to. It gives the mood, the rhythm, the flow. But my brain should not catch it. The song should be around, not whithin.\n",
    "\n",
    "— February 2016 —"
   ]
  },
  {
   "cell_type": "markdown",
   "metadata": {},
   "source": [
    "## Summary"
   ]
  },
  {
   "cell_type": "markdown",
   "metadata": {},
   "source": [
    "Bla-Bla-Bla"
   ]
  },
  {
   "cell_type": "markdown",
   "metadata": {},
   "source": [
    "## Research in detail"
   ]
  },
  {
   "cell_type": "markdown",
   "metadata": {},
   "source": [
    "#### Preliminaries\n",
    "\n",
    "I use pandas and matplotlib..."
   ]
  },
  {
   "cell_type": "code",
   "execution_count": 3,
   "metadata": {
    "collapsed": false,
    "scrolled": true
   },
   "outputs": [],
   "source": [
    "%matplotlib inline\n",
    "import matplotlib.pyplot as plt\n",
    "from IPython.display import display\n",
    "import pandas as pd\n",
    "import numpy as np\n",
    "\n",
    "# set seaborn plot defaults\n",
    "import seaborn as sns; sns.set()\n",
    "\n",
    "# format floating point numbers\n",
    "pd.set_option('float_format', '{:.2f}'.format)"
   ]
  },
  {
   "cell_type": "markdown",
   "metadata": {},
   "source": [
    "The hero and the foundation of my analysis is the Echo Nest library. "
   ]
  },
  {
   "cell_type": "code",
   "execution_count": 414,
   "metadata": {
    "collapsed": true
   },
   "outputs": [],
   "source": [
    "from pyechonest import config\n",
    "config.ECHO_NEST_API_KEY=\"1RNDIJ5SITBKZFDCT\""
   ]
  },
  {
   "cell_type": "markdown",
   "metadata": {},
   "source": [
    "### Data preparation"
   ]
  },
  {
   "cell_type": "markdown",
   "metadata": {},
   "source": [
    "For this research I need two datasets. The first one, obviously, is my iTunes music library. The library serves me as a test dataset. \n",
    "\n",
    "For the training dataset I made a list of hand picked songs and labaled each song with one of the three classes: \"yoga\", \"cycling\", and \"focus\". The reason I chose these categories for the training dataset is that I wanted to have two very different groups of songs (\"yoga\" and \"cycling\") and one more alike group—focus—that might sound similar to the 'yoga' group but at the same time is very different for me. I'd like to find out what song attributes make that difference.\n",
    "\n",
    "I will start by processing the test data. iTunes xml file contains information that's stored in the iTunes database of the songs in the library. "
   ]
  },
  {
   "cell_type": "markdown",
   "metadata": {},
   "source": [
    "#### Test dataset"
   ]
  },
  {
   "cell_type": "code",
   "execution_count": 415,
   "metadata": {
    "collapsed": true
   },
   "outputs": [],
   "source": [
    "# iTunes xml file\n",
    "xml_file = 'itunes_library.xml'"
   ]
  },
  {
   "cell_type": "markdown",
   "metadata": {},
   "source": [
    "To parse my iTunes library xml file I use [pyItunes](https://github.com/liamks/pyitunes) module."
   ]
  },
  {
   "cell_type": "code",
   "execution_count": 416,
   "metadata": {
    "collapsed": false
   },
   "outputs": [],
   "source": [
    "def get_itunes_song(song):\n",
    "    \"\"\"check the validity of the song, \n",
    "    exclude podcasts and songs \n",
    "    missing artist's name.\n",
    "    \"\"\"\n",
    "    if (song.genre == 'Podcast' or \n",
    "        song.genre == u'iTunes U' or \n",
    "        song.kind != 'MPEG audio file' or \n",
    "        not song.artist): \n",
    "        return None \n",
    "    else:\n",
    "        return song.name, song.artist\n",
    "\n",
    "def parse_itunes_xml(db, xml_file):\n",
    "    \"\"\"parse xml and get song's title\n",
    "    and artist's name.\n",
    "    \"\"\"\n",
    "    from pyItunes import Library\n",
    "    l = Library(xml_file)\n",
    "    \n",
    "    for id, song in l.songs.items():\n",
    "        try:\n",
    "            song_title, artist = get_itunes_song(song)\n",
    "            if not db.get(song_title):\n",
    "                db[song_title] = {'artist' : artist}\n",
    "        except TypeError as e:\n",
    "            continue"
   ]
  },
  {
   "cell_type": "markdown",
   "metadata": {},
   "source": [
    "I save the data as a sqlite database (DB) and use the [sqlitedict](https://github.com/piskvorky/sqlitedict) library to access it. "
   ]
  },
  {
   "cell_type": "code",
   "execution_count": 4,
   "metadata": {
    "collapsed": false
   },
   "outputs": [],
   "source": [
    "# DB with songs from iTunes library\n",
    "from sqlitedict import SqliteDict\n",
    "idb = SqliteDict('./itunes_tracks', autocommit=True)\n",
    "\n",
    "# call parse_itunes_xml function and \n",
    "# write the data into the DB.\n",
    "\n",
    "# parse_itunes_xml(idb, xml_file)"
   ]
  },
  {
   "cell_type": "markdown",
   "metadata": {},
   "source": [
    "The next step is to get song attributes from the Echo Nest API.  \n",
    "\n",
    "In the analysis I use the following track attributes:\n",
    "\n",
    "* **Acousticness** represents the likelihood a recording was created by solely acoustic means such as voice and acoustic instruments as opposed to electronically such as with synthesized, amplified, or effected instruments;\n",
    "* **Danceability** describes how suitable a track is for dancing using a number of musical elements (tempo, rhythm stability, beat strength, and overall regularity);\n",
    "* **Energy** represents a perceptual measure of intensity and powerful activity released throughout the track;\n",
    "* **Instrumentalnes** is a measure of how likely a song is to be instrumental;\n",
    "* **Key** identifies the tonic triad, the chord, major or minor;\n",
    "* **Loudness** measureas the overall loudness of a track in decibels (dB);\n",
    "* **Mode** indicates the modality (major or minor) of a track, the type of scale from which its melodic content is derived;\n",
    "* **Speechiness** detects the presence of spoken words in a track;\n",
    "* **Tempo** is the speed or pace of a given piece (in beats per minute);\n",
    "* **Time signature** specifies how many beats are in each bar (or measure);\n",
    "* **Valence** describes the musical positiveness conveyed by a track. Tracks with high valence sound more positive (e.g., happy, cheerful, euphoric), while tracks with low valence sound more negative (e.g. sad, depressed, angry).\n",
    "\n",
    "Using the Echo Nest python library [pyechonest](https://github.com/echonest/pyechonest) is super easy and straighforward.  \n",
    "\n",
    "The library has limitations and doesn't provide data for every artist or song. I handle missing items with a \"try-except\" block."
   ]
  },
  {
   "cell_type": "code",
   "execution_count": 418,
   "metadata": {
    "collapsed": false
   },
   "outputs": [],
   "source": [
    "def get_song_data(artist_name, song_title):\n",
    "    \"\"\" Get track data from the Echo Nest\n",
    "    database.\n",
    "    \"\"\"\n",
    "    from pyechonest import song\n",
    "    try: \n",
    "        result = song.search(artist=artist_name, \n",
    "                             title=song_title)\n",
    "        song_result = result[0]\n",
    "        song_data = song_result.audio_summary\n",
    "        return song_data\n",
    "    \n",
    "    except IndexError as e:\n",
    "        print 'No data for the song', song_title\n",
    "        return None\n",
    "    \n",
    "def add_song_data_to_db(song_title, song_data, db):\n",
    "    \"\"\" Add song data we get from Echo Nest \n",
    "    to the DB.\n",
    "    \"\"\"\n",
    "    song_val = {'time_signature' : song_data['time_signature'],\n",
    "                'energy' : song_data['energy'],\n",
    "                'tempo' : song_data['tempo'], \n",
    "                'speechiness' : song_data['speechiness'],\n",
    "                'acousticness' : song_data['acousticness'], \n",
    "                'danceability' : song_data['danceability'],\n",
    "                'instrumentalness' : song_data['instrumentalness'],\n",
    "                'key' : song_data['key'],\n",
    "                'loudness' : song_data['loudness'],\n",
    "                'valence' : song_data['valence'],\n",
    "                'mode' : song_data['mode']}\n",
    "    value = db[song_title]\n",
    "    value.update(song_val)\n",
    "    db[song_title] = value\n",
    "            \n",
    "def check_data_in_db(db):\n",
    "    \"\"\" Look for new songs in the DB and get \n",
    "    song attributes from the Echo Nest library.\n",
    "    \"\"\"\n",
    "    from time import sleep\n",
    "\n",
    "    for song_title, value in db.iteritems():\n",
    "        # Check if the attributes have been added\n",
    "        if value.get('tempo') or value.get('No_data'): \n",
    "            pass\n",
    "        else:\n",
    "            song_data = get_song_data(value['artist'], \n",
    "                                      song_title)\n",
    "            # If the song is in the Echo Nest base, \n",
    "            # I add the data to the DB.\n",
    "            if song_data:\n",
    "                add_song_data_to_db(song_title, \n",
    "                                    song_data, db)\n",
    "                # Echo Nest limits number of requests to 20 per minute\n",
    "                sleep(8) \n",
    "            # If not, I add 'No_data' key to the song. \n",
    "            else:\n",
    "                song_val = {'No_data' : True}\n",
    "                value.update(song_val)\n",
    "                db[song_title] = value\n",
    "                sleep(8)"
   ]
  },
  {
   "cell_type": "code",
   "execution_count": 419,
   "metadata": {
    "collapsed": false
   },
   "outputs": [],
   "source": [
    "# Call check_data_in_db function and \n",
    "# write the Echo Nest data into the DB.\n",
    "\n",
    "# check_data_in_db(idb)"
   ]
  },
  {
   "cell_type": "markdown",
   "metadata": {},
   "source": [
    "#### Training dataset\n",
    "\n",
    "I use Pandas read_csv function to read csv file and write it into the sqlite dictionary. "
   ]
  },
  {
   "cell_type": "code",
   "execution_count": 5,
   "metadata": {
    "collapsed": true
   },
   "outputs": [],
   "source": [
    "train_db = SqliteDict('./chosen_tracks', autocommit=True)"
   ]
  },
  {
   "cell_type": "code",
   "execution_count": 421,
   "metadata": {
    "collapsed": false,
    "scrolled": false
   },
   "outputs": [],
   "source": [
    "# Call check_data_in_db function and \n",
    "# write the Echo Nest data into the DB.\n",
    "\n",
    "# check_data_in_db(train_db)"
   ]
  },
  {
   "cell_type": "markdown",
   "metadata": {},
   "source": [
    "## Data overview  \n",
    "  \n",
    "Now I have two sets with song data. Next I read in data from both databases and take a look at what I'm working with."
   ]
  },
  {
   "cell_type": "code",
   "execution_count": 6,
   "metadata": {
    "collapsed": false
   },
   "outputs": [],
   "source": [
    "def read_db_in_pandas(db):\n",
    "    \"\"\" Read the DB and return \n",
    "    cleaned version.\n",
    "    \"\"\"\n",
    "    # transpose data\n",
    "    df = pd.DataFrame(dict(db)).T\n",
    "    \n",
    "    # remove rows with no data for a song\n",
    "    df_clean = df[df['No_data'] != 1]\n",
    "    \n",
    "    # convert columns into numbers\n",
    "    df_clean = df_clean.convert_objects(convert_numeric=True)\n",
    "\n",
    "    # convert index into a column\n",
    "    df_clean.reset_index(level=0, inplace=True)\n",
    "    df_clean.rename(columns = {'index': 'song_title'}, \n",
    "                    inplace=True)\n",
    "    \n",
    "    # remove the 'No_data' column\n",
    "    df_clean.drop('No_data', 1, \n",
    "                  inplace=True)\n",
    "    return df_clean"
   ]
  },
  {
   "cell_type": "markdown",
   "metadata": {},
   "source": [
    "### Test data"
   ]
  },
  {
   "cell_type": "code",
   "execution_count": 7,
   "metadata": {
    "collapsed": false,
    "scrolled": false
   },
   "outputs": [],
   "source": [
    "test_df = read_db_in_pandas(idb)"
   ]
  },
  {
   "cell_type": "code",
   "execution_count": 15,
   "metadata": {
    "collapsed": false
   },
   "outputs": [
    {
     "name": "stdout",
     "output_type": "stream",
     "text": [
      "There are 554 items in the dataset.\n",
      "223 items have no data available in the Echo Nest DB.\n",
      "We are left with 331 songs to use as a test set.\n",
      "\n",
      "Below is a random sample of the dataset.\n"
     ]
    },
    {
     "data": {
      "text/html": [
       "<div>\n",
       "<table border=\"1\" class=\"dataframe\">\n",
       "  <thead>\n",
       "    <tr style=\"text-align: right;\">\n",
       "      <th></th>\n",
       "      <th>song_title</th>\n",
       "      <th>acousticness</th>\n",
       "      <th>artist</th>\n",
       "      <th>danceability</th>\n",
       "      <th>energy</th>\n",
       "      <th>instrumentalness</th>\n",
       "      <th>key</th>\n",
       "      <th>loudness</th>\n",
       "      <th>mode</th>\n",
       "      <th>speechiness</th>\n",
       "      <th>tempo</th>\n",
       "      <th>time_signature</th>\n",
       "      <th>valence</th>\n",
       "    </tr>\n",
       "  </thead>\n",
       "  <tbody>\n",
       "    <tr>\n",
       "      <th>320</th>\n",
       "      <td>You'll Get Enough</td>\n",
       "      <td>0.52</td>\n",
       "      <td>The Delfonics</td>\n",
       "      <td>0.65</td>\n",
       "      <td>0.68</td>\n",
       "      <td>0.00</td>\n",
       "      <td>11</td>\n",
       "      <td>-7.50</td>\n",
       "      <td>0</td>\n",
       "      <td>0.03</td>\n",
       "      <td>123.24</td>\n",
       "      <td>4</td>\n",
       "      <td>0.79</td>\n",
       "    </tr>\n",
       "    <tr>\n",
       "      <th>191</th>\n",
       "      <td>Open The Door</td>\n",
       "      <td>0.78</td>\n",
       "      <td>The Men</td>\n",
       "      <td>0.50</td>\n",
       "      <td>0.38</td>\n",
       "      <td>0.86</td>\n",
       "      <td>0</td>\n",
       "      <td>-9.82</td>\n",
       "      <td>1</td>\n",
       "      <td>0.04</td>\n",
       "      <td>121.85</td>\n",
       "      <td>4</td>\n",
       "      <td>0.13</td>\n",
       "    </tr>\n",
       "    <tr>\n",
       "      <th>273</th>\n",
       "      <td>Tide</td>\n",
       "      <td>0.55</td>\n",
       "      <td>Junip</td>\n",
       "      <td>0.34</td>\n",
       "      <td>0.25</td>\n",
       "      <td>0.86</td>\n",
       "      <td>5</td>\n",
       "      <td>-13.80</td>\n",
       "      <td>1</td>\n",
       "      <td>0.03</td>\n",
       "      <td>135.22</td>\n",
       "      <td>4</td>\n",
       "      <td>0.20</td>\n",
       "    </tr>\n",
       "    <tr>\n",
       "      <th>187</th>\n",
       "      <td>One Life Stand</td>\n",
       "      <td>0.01</td>\n",
       "      <td>Hot Chip</td>\n",
       "      <td>0.73</td>\n",
       "      <td>0.65</td>\n",
       "      <td>0.02</td>\n",
       "      <td>10</td>\n",
       "      <td>-8.01</td>\n",
       "      <td>0</td>\n",
       "      <td>0.05</td>\n",
       "      <td>129.18</td>\n",
       "      <td>4</td>\n",
       "      <td>0.70</td>\n",
       "    </tr>\n",
       "  </tbody>\n",
       "</table>\n",
       "</div>"
      ],
      "text/plain": [
       "            song_title  acousticness         artist  danceability  energy  \\\n",
       "320  You'll Get Enough          0.52  The Delfonics          0.65    0.68   \n",
       "191      Open The Door          0.78        The Men          0.50    0.38   \n",
       "273               Tide          0.55          Junip          0.34    0.25   \n",
       "187     One Life Stand          0.01       Hot Chip          0.73    0.65   \n",
       "\n",
       "     instrumentalness  key  loudness  mode  speechiness  tempo  \\\n",
       "320              0.00   11     -7.50     0         0.03 123.24   \n",
       "191              0.86    0     -9.82     1         0.04 121.85   \n",
       "273              0.86    5    -13.80     1         0.03 135.22   \n",
       "187              0.02   10     -8.01     0         0.05 129.18   \n",
       "\n",
       "     time_signature  valence  \n",
       "320               4     0.79  \n",
       "191               4     0.13  \n",
       "273               4     0.20  \n",
       "187               4     0.70  "
      ]
     },
     "execution_count": 15,
     "metadata": {},
     "output_type": "execute_result"
    }
   ],
   "source": [
    "print (\"There are {0} items in the dataset.\"\n",
    "       .format(len(idb)))\n",
    "print (\"{0} items have no data available \" \n",
    "       \"in the Echo Nest DB.\"\n",
    "       .format(len(idb) - len(test_df)))\n",
    "print (\"We are left with {0} songs to use as a test set.\"\n",
    "       .format(len(test_df)))\n",
    "print \"\\nBelow is a random sample of the dataset.\"\n",
    "test_df.sample(n=4)"
   ]
  },
  {
   "cell_type": "markdown",
   "metadata": {},
   "source": [
    "I visualize the data to see if there are any patterns. I can change index (x_index, y_index) in simple_df_plot function to see the relationship between different variables."
   ]
  },
  {
   "cell_type": "code",
   "execution_count": 9,
   "metadata": {
    "collapsed": false
   },
   "outputs": [
    {
     "data": {
      "image/png": "[encoded data removed]",
      "text/plain": [
       "<matplotlib.figure.Figure at 0x10cc70cd0>"
      ]
     },
     "metadata": {},
     "output_type": "display_data"
    }
   ],
   "source": [
    "def simple_df_plot(df, x_index, y_index):\n",
    "    # list columns with numeric values\n",
    "    cols = df.select_dtypes(exclude=[object]).columns\n",
    "    plt.scatter(df[cols[x_index]], \n",
    "                df[cols[y_index]])\n",
    "    plt.clim(-0.5, 2.5)\n",
    "    plt.xlabel(cols[x_index])\n",
    "    plt.ylabel(cols[y_index]);\n",
    "\n",
    "\n",
    "# make a plot\n",
    "simple_df_plot(test_df, 1, 10)"
   ]
  },
  {
   "cell_type": "markdown",
   "metadata": {},
   "source": [
    "It seems there's a strong correlation between danceability (x_index = 1) of the track and its valence (y_index = 10), which sounds reasonable. \n",
    "\n",
    "I've also noticed that there is a negative correlation between acousticness (x_index = 0) and energy (y_index = 2): the higher the enegry of the track is the lower is its acousticness. "
   ]
  },
  {
   "cell_type": "code",
   "execution_count": 10,
   "metadata": {
    "collapsed": false
   },
   "outputs": [
    {
     "data": {
      "image/png": "[encoded data removed]",
      "text/plain": [
       "<matplotlib.figure.Figure at 0x10cc57610>"
      ]
     },
     "metadata": {},
     "output_type": "display_data"
    }
   ],
   "source": [
    "simple_df_plot(test_df, 0, 2)"
   ]
  },
  {
   "cell_type": "markdown",
   "metadata": {},
   "source": [
    "I'll explore this later... Let's move on to the training data."
   ]
  },
  {
   "cell_type": "markdown",
   "metadata": {},
   "source": [
    "\n",
    "### Training data"
   ]
  },
  {
   "cell_type": "code",
   "execution_count": 12,
   "metadata": {
    "collapsed": false
   },
   "outputs": [],
   "source": [
    "train_df = read_db_in_pandas(train_db)"
   ]
  },
  {
   "cell_type": "code",
   "execution_count": 19,
   "metadata": {
    "collapsed": false,
    "scrolled": false
   },
   "outputs": [
    {
     "name": "stdout",
     "output_type": "stream",
     "text": [
      "There are 128 items in the dataset.\n",
      "37 items have no data available in the Echo Nest DB.\n",
      "We are left with 91 songs to use as training data.\n",
      "\n",
      "Below is a random sample of the dataset.\n"
     ]
    },
    {
     "data": {
      "text/html": [
       "<div>\n",
       "<table border=\"1\" class=\"dataframe\">\n",
       "  <thead>\n",
       "    <tr style=\"text-align: right;\">\n",
       "      <th></th>\n",
       "      <th>song_title</th>\n",
       "      <th>acousticness</th>\n",
       "      <th>artist</th>\n",
       "      <th>category</th>\n",
       "      <th>danceability</th>\n",
       "      <th>energy</th>\n",
       "      <th>instrumentalness</th>\n",
       "      <th>key</th>\n",
       "      <th>loudness</th>\n",
       "      <th>mode</th>\n",
       "      <th>speechiness</th>\n",
       "      <th>tempo</th>\n",
       "      <th>time_signature</th>\n",
       "      <th>valence</th>\n",
       "    </tr>\n",
       "  </thead>\n",
       "  <tbody>\n",
       "    <tr>\n",
       "      <th>11</th>\n",
       "      <td>Bittersweet (Part 2 - Gat)</td>\n",
       "      <td>0.85</td>\n",
       "      <td>Stevin McNamara</td>\n",
       "      <td>yoga</td>\n",
       "      <td>0.85</td>\n",
       "      <td>0.22</td>\n",
       "      <td>0.92</td>\n",
       "      <td>7</td>\n",
       "      <td>-17.54</td>\n",
       "      <td>1</td>\n",
       "      <td>0.05</td>\n",
       "      <td>114.05</td>\n",
       "      <td>4</td>\n",
       "      <td>0.12</td>\n",
       "    </tr>\n",
       "    <tr>\n",
       "      <th>45</th>\n",
       "      <td>Levy</td>\n",
       "      <td>0.73</td>\n",
       "      <td>Node</td>\n",
       "      <td>focus</td>\n",
       "      <td>0.45</td>\n",
       "      <td>0.29</td>\n",
       "      <td>0.84</td>\n",
       "      <td>7</td>\n",
       "      <td>-21.09</td>\n",
       "      <td>1</td>\n",
       "      <td>0.04</td>\n",
       "      <td>139.84</td>\n",
       "      <td>4</td>\n",
       "      <td>0.06</td>\n",
       "    </tr>\n",
       "    <tr>\n",
       "      <th>9</th>\n",
       "      <td>Azure Azure</td>\n",
       "      <td>0.23</td>\n",
       "      <td>Tim Hecker</td>\n",
       "      <td>focus</td>\n",
       "      <td>0.07</td>\n",
       "      <td>0.33</td>\n",
       "      <td>0.82</td>\n",
       "      <td>8</td>\n",
       "      <td>-15.92</td>\n",
       "      <td>1</td>\n",
       "      <td>0.05</td>\n",
       "      <td>77.50</td>\n",
       "      <td>3</td>\n",
       "      <td>0.04</td>\n",
       "    </tr>\n",
       "    <tr>\n",
       "      <th>64</th>\n",
       "      <td>Sister of pearl</td>\n",
       "      <td>0.08</td>\n",
       "      <td>Baio</td>\n",
       "      <td>cycling</td>\n",
       "      <td>0.73</td>\n",
       "      <td>0.65</td>\n",
       "      <td>0.21</td>\n",
       "      <td>5</td>\n",
       "      <td>-7.73</td>\n",
       "      <td>1</td>\n",
       "      <td>0.04</td>\n",
       "      <td>125.06</td>\n",
       "      <td>4</td>\n",
       "      <td>0.94</td>\n",
       "    </tr>\n",
       "  </tbody>\n",
       "</table>\n",
       "</div>"
      ],
      "text/plain": [
       "                    song_title  acousticness           artist category  \\\n",
       "11  Bittersweet (Part 2 - Gat)          0.85  Stevin McNamara     yoga   \n",
       "45                        Levy          0.73             Node    focus   \n",
       "9                  Azure Azure          0.23       Tim Hecker    focus   \n",
       "64             Sister of pearl          0.08             Baio  cycling   \n",
       "\n",
       "    danceability  energy  instrumentalness  key  loudness  mode  speechiness  \\\n",
       "11          0.85    0.22              0.92    7    -17.54     1         0.05   \n",
       "45          0.45    0.29              0.84    7    -21.09     1         0.04   \n",
       "9           0.07    0.33              0.82    8    -15.92     1         0.05   \n",
       "64          0.73    0.65              0.21    5     -7.73     1         0.04   \n",
       "\n",
       "    tempo  time_signature  valence  \n",
       "11 114.05               4     0.12  \n",
       "45 139.84               4     0.06  \n",
       "9   77.50               3     0.04  \n",
       "64 125.06               4     0.94  "
      ]
     },
     "execution_count": 19,
     "metadata": {},
     "output_type": "execute_result"
    }
   ],
   "source": [
    "print (\"There are {0} items in the dataset.\"\n",
    "       .format(len(train_db)))\n",
    "print (\"{0} items have no data available \"\n",
    "       \"in the Echo Nest DB.\"\n",
    "       .format(len(train_db) - len(train_df)))\n",
    "print (\"We are left with {0} songs to use as training data.\"\n",
    "       .format(len(train_df)))\n",
    "print \"\\nBelow is a random sample of the dataset.\"\n",
    "train_df.sample(n=4)"
   ]
  },
  {
   "cell_type": "code",
   "execution_count": 17,
   "metadata": {
    "collapsed": false
   },
   "outputs": [
    {
     "name": "stdout",
     "output_type": "stream",
     "text": [
      "Tracks in the dataset belong to 3 categories: cycling, focus, yoga.\n",
      "26 tracks represent 'cycling' category.\n",
      "34 tracks represent 'focus' category.\n",
      "31 tracks represent 'yoga' category.\n"
     ]
    }
   ],
   "source": [
    "# list of categories\n",
    "categories = list(pd.unique(train_df.category.ravel()))\n",
    "print (\"Tracks in the dataset belong \" \n",
    "       \"to {} categories: {}.\"\n",
    "       .format(len(categories), \", \".join(categories)))\n",
    "\n",
    "# count tracks in each category\n",
    "cat_count = pd.value_counts(train_df.category.ravel())\n",
    "\n",
    "# print categories\n",
    "for category in categories:\n",
    "    print (\"{} tracks represent \\'{}\\' category.\"\n",
    "           .format(cat_count[category], category))"
   ]
  },
  {
   "cell_type": "markdown",
   "metadata": {},
   "source": [
    "Track attributes might speak for themselves for an ace musician but I've no idea how to assess the level of the tempo or valence here. Is it high? Low? How different is it? To make it clearer I'll compare the three groups. "
   ]
  },
  {
   "cell_type": "code",
   "execution_count": 18,
   "metadata": {
    "collapsed": false
   },
   "outputs": [
    {
     "data": {
      "text/html": [
       "<div>\n",
       "<table border=\"1\" class=\"dataframe\">\n",
       "  <thead>\n",
       "    <tr style=\"text-align: right;\">\n",
       "      <th></th>\n",
       "      <th></th>\n",
       "      <th>acousticness</th>\n",
       "      <th>danceability</th>\n",
       "      <th>energy</th>\n",
       "      <th>instrumentalness</th>\n",
       "      <th>key</th>\n",
       "      <th>loudness</th>\n",
       "      <th>mode</th>\n",
       "      <th>speechiness</th>\n",
       "      <th>tempo</th>\n",
       "      <th>time_signature</th>\n",
       "      <th>valence</th>\n",
       "    </tr>\n",
       "    <tr>\n",
       "      <th>measures</th>\n",
       "      <th>category</th>\n",
       "      <th></th>\n",
       "      <th></th>\n",
       "      <th></th>\n",
       "      <th></th>\n",
       "      <th></th>\n",
       "      <th></th>\n",
       "      <th></th>\n",
       "      <th></th>\n",
       "      <th></th>\n",
       "      <th></th>\n",
       "      <th></th>\n",
       "    </tr>\n",
       "  </thead>\n",
       "  <tbody>\n",
       "    <tr>\n",
       "      <th rowspan=\"3\" valign=\"top\">mean</th>\n",
       "      <th>cycling</th>\n",
       "      <td>0.11</td>\n",
       "      <td>0.60</td>\n",
       "      <td>0.79</td>\n",
       "      <td>0.08</td>\n",
       "      <td>5.58</td>\n",
       "      <td>-5.97</td>\n",
       "      <td>0.77</td>\n",
       "      <td>0.06</td>\n",
       "      <td>136.66</td>\n",
       "      <td>4.00</td>\n",
       "      <td>0.70</td>\n",
       "    </tr>\n",
       "    <tr>\n",
       "      <th>focus</th>\n",
       "      <td>0.56</td>\n",
       "      <td>0.33</td>\n",
       "      <td>0.33</td>\n",
       "      <td>0.88</td>\n",
       "      <td>6.09</td>\n",
       "      <td>-19.40</td>\n",
       "      <td>0.56</td>\n",
       "      <td>0.05</td>\n",
       "      <td>113.51</td>\n",
       "      <td>3.76</td>\n",
       "      <td>0.21</td>\n",
       "    </tr>\n",
       "    <tr>\n",
       "      <th>yoga</th>\n",
       "      <td>0.84</td>\n",
       "      <td>0.44</td>\n",
       "      <td>0.19</td>\n",
       "      <td>0.81</td>\n",
       "      <td>5.84</td>\n",
       "      <td>-19.55</td>\n",
       "      <td>0.68</td>\n",
       "      <td>0.04</td>\n",
       "      <td>110.50</td>\n",
       "      <td>3.39</td>\n",
       "      <td>0.23</td>\n",
       "    </tr>\n",
       "    <tr>\n",
       "      <th rowspan=\"3\" valign=\"top\">std</th>\n",
       "      <th>cycling</th>\n",
       "      <td>0.22</td>\n",
       "      <td>0.14</td>\n",
       "      <td>0.14</td>\n",
       "      <td>0.19</td>\n",
       "      <td>4.06</td>\n",
       "      <td>2.51</td>\n",
       "      <td>0.43</td>\n",
       "      <td>0.03</td>\n",
       "      <td>22.40</td>\n",
       "      <td>0.00</td>\n",
       "      <td>0.21</td>\n",
       "    </tr>\n",
       "    <tr>\n",
       "      <th>focus</th>\n",
       "      <td>0.37</td>\n",
       "      <td>0.23</td>\n",
       "      <td>0.23</td>\n",
       "      <td>0.16</td>\n",
       "      <td>3.71</td>\n",
       "      <td>6.69</td>\n",
       "      <td>0.50</td>\n",
       "      <td>0.03</td>\n",
       "      <td>38.17</td>\n",
       "      <td>0.85</td>\n",
       "      <td>0.20</td>\n",
       "    </tr>\n",
       "    <tr>\n",
       "      <th>yoga</th>\n",
       "      <td>0.22</td>\n",
       "      <td>0.19</td>\n",
       "      <td>0.14</td>\n",
       "      <td>0.25</td>\n",
       "      <td>2.97</td>\n",
       "      <td>5.85</td>\n",
       "      <td>0.48</td>\n",
       "      <td>0.01</td>\n",
       "      <td>27.25</td>\n",
       "      <td>1.05</td>\n",
       "      <td>0.21</td>\n",
       "    </tr>\n",
       "  </tbody>\n",
       "</table>\n",
       "</div>"
      ],
      "text/plain": [
       "                   acousticness  danceability  energy  instrumentalness  key  \\\n",
       "measures category                                                              \n",
       "mean     cycling           0.11          0.60    0.79              0.08 5.58   \n",
       "         focus             0.56          0.33    0.33              0.88 6.09   \n",
       "         yoga              0.84          0.44    0.19              0.81 5.84   \n",
       "std      cycling           0.22          0.14    0.14              0.19 4.06   \n",
       "         focus             0.37          0.23    0.23              0.16 3.71   \n",
       "         yoga              0.22          0.19    0.14              0.25 2.97   \n",
       "\n",
       "                   loudness  mode  speechiness  tempo  time_signature  valence  \n",
       "measures category                                                               \n",
       "mean     cycling      -5.97  0.77         0.06 136.66            4.00     0.70  \n",
       "         focus       -19.40  0.56         0.05 113.51            3.76     0.21  \n",
       "         yoga        -19.55  0.68         0.04 110.50            3.39     0.23  \n",
       "std      cycling       2.51  0.43         0.03  22.40            0.00     0.21  \n",
       "         focus         6.69  0.50         0.03  38.17            0.85     0.20  \n",
       "         yoga          5.85  0.48         0.01  27.25            1.05     0.21  "
      ]
     },
     "execution_count": 18,
     "metadata": {},
     "output_type": "execute_result"
    }
   ],
   "source": [
    "# Should use groupby function\n",
    "\n",
    "def group_and_describe(category):\n",
    "    # describe each category\n",
    "    group = train_df[train_df['category'] == category]\n",
    "    group_descr = group.describe(percentiles=None).loc[['mean', 'std']]\n",
    "    return group_descr\n",
    "\n",
    "grouped_df = [group_and_describe(category) for category in categories]\n",
    "\n",
    "result = pd.concat(grouped_df, \n",
    "                   keys=categories, \n",
    "                   names=['category', 'measures'])\n",
    "# sort the table to make it more readable\n",
    "result.sortlevel(level=1).reorder_levels(['measures', 'category'])"
   ]
  },
  {
   "cell_type": "markdown",
   "metadata": {},
   "source": [
    "This table gives...  \n",
    "Next step is to visualize the data."
   ]
  },
  {
   "cell_type": "markdown",
   "metadata": {},
   "source": [
    "First I create a new column in the DF where I'll assign a numeric class to each track."
   ]
  },
  {
   "cell_type": "code",
   "execution_count": 20,
   "metadata": {
    "collapsed": false
   },
   "outputs": [],
   "source": [
    "def label_categories(row):\n",
    "    # make a list of categories\n",
    "    categories = list(pd.unique(train_df.category.ravel()))\n",
    "    for item in categories:\n",
    "        if row['category'] == item:\n",
    "            return categories.index(item) \n",
    "        \n",
    "train_df['num_cat'] = train_df.apply (lambda row: label_categories(row), axis=1)"
   ]
  },
  {
   "cell_type": "markdown",
   "metadata": {},
   "source": [
    "Let's plot the data."
   ]
  },
  {
   "cell_type": "code",
   "execution_count": 21,
   "metadata": {
    "collapsed": false,
    "scrolled": false
   },
   "outputs": [
    {
     "data": {
      "image/png": "[encoded data removed]",
      "text/plain": [
       "<matplotlib.figure.Figure at 0x10d451710>"
      ]
     },
     "metadata": {},
     "output_type": "display_data"
    }
   ],
   "source": [
    "def plot_df_categories(df, x_index, y_index):\n",
    "    # list columns with numeric values\n",
    "    cols = df.select_dtypes(exclude=[object]).columns\n",
    "    \n",
    "    # list of categories\n",
    "    cat_li = np.sort(df.category.unique()).tolist()\n",
    "    # the formatter will label the colorbar with categories\n",
    "    formatter = plt.FuncFormatter(lambda i, \n",
    "                                   *args: cat_li[int(i)])\n",
    "    plt.scatter(df[cols[x_index]], \n",
    "                df[cols[y_index]],\n",
    "                c=df.num_cat, \n",
    "                cmap=plt.cm.get_cmap('RdYlBu', 3))\n",
    "    plt.colorbar(ticks=[0, 1, 2], \n",
    "                 format=formatter)\n",
    "    plt.clim(-0.5, 2.5)\n",
    "    plt.xlabel(cols[x_index])\n",
    "    plt.ylabel(cols[y_index]);\n",
    "    \n",
    "#plot the data\n",
    "plot_df_categories(train_df, 0, 2)"
   ]
  },
  {
   "cell_type": "markdown",
   "metadata": {
    "collapsed": false
   },
   "source": [
    "As expected, 'yoga' and 'cycling' form two separate groups. Tracks in the 'cycling' group tend to be more energetic and less acoustic. Tracks in the 'yoga' groupd have high level of acousticness and low level of energy. \n",
    "\n",
    "Ironically, the 'focus' class is the least focused. "
   ]
  },
  {
   "cell_type": "markdown",
   "metadata": {},
   "source": [
    "### Cleaning data"
   ]
  },
  {
   "cell_type": "markdown",
   "metadata": {},
   "source": [
    "Before I start working with scikit-learn library, I need to rearrange both datasets a bit.\n",
    "#### — Training set —"
   ]
  },
  {
   "cell_type": "code",
   "execution_count": 27,
   "metadata": {
    "collapsed": false
   },
   "outputs": [
    {
     "data": {
      "text/html": [
       "<div>\n",
       "<table border=\"1\" class=\"dataframe\">\n",
       "  <thead>\n",
       "    <tr style=\"text-align: right;\">\n",
       "      <th></th>\n",
       "      <th>acousticness</th>\n",
       "      <th>danceability</th>\n",
       "      <th>energy</th>\n",
       "      <th>instrumentalness</th>\n",
       "      <th>key</th>\n",
       "      <th>loudness</th>\n",
       "      <th>mode</th>\n",
       "      <th>speechiness</th>\n",
       "      <th>tempo</th>\n",
       "      <th>time_signature</th>\n",
       "      <th>valence</th>\n",
       "    </tr>\n",
       "  </thead>\n",
       "  <tbody>\n",
       "    <tr>\n",
       "      <th>0</th>\n",
       "      <td>0.34</td>\n",
       "      <td>-0.25</td>\n",
       "      <td>0.60</td>\n",
       "      <td>-1.57</td>\n",
       "      <td>-1.38</td>\n",
       "      <td>0.71</td>\n",
       "      <td>0.72</td>\n",
       "      <td>-0.79</td>\n",
       "      <td>2.20</td>\n",
       "      <td>0.36</td>\n",
       "      <td>0.73</td>\n",
       "    </tr>\n",
       "    <tr>\n",
       "      <th>1</th>\n",
       "      <td>0.63</td>\n",
       "      <td>-1.24</td>\n",
       "      <td>0.37</td>\n",
       "      <td>0.91</td>\n",
       "      <td>1.17</td>\n",
       "      <td>-0.38</td>\n",
       "      <td>-1.39</td>\n",
       "      <td>1.47</td>\n",
       "      <td>-0.10</td>\n",
       "      <td>0.36</td>\n",
       "      <td>-1.05</td>\n",
       "    </tr>\n",
       "    <tr>\n",
       "      <th>2</th>\n",
       "      <td>1.12</td>\n",
       "      <td>-1.57</td>\n",
       "      <td>-1.34</td>\n",
       "      <td>0.84</td>\n",
       "      <td>0.04</td>\n",
       "      <td>-1.67</td>\n",
       "      <td>0.72</td>\n",
       "      <td>-0.46</td>\n",
       "      <td>-0.97</td>\n",
       "      <td>0.36</td>\n",
       "      <td>-1.07</td>\n",
       "    </tr>\n",
       "    <tr>\n",
       "      <th>3</th>\n",
       "      <td>0.76</td>\n",
       "      <td>-1.03</td>\n",
       "      <td>0.15</td>\n",
       "      <td>0.77</td>\n",
       "      <td>-1.38</td>\n",
       "      <td>-0.46</td>\n",
       "      <td>0.72</td>\n",
       "      <td>-0.49</td>\n",
       "      <td>-0.92</td>\n",
       "      <td>0.36</td>\n",
       "      <td>-0.46</td>\n",
       "    </tr>\n",
       "    <tr>\n",
       "      <th>4</th>\n",
       "      <td>1.16</td>\n",
       "      <td>-1.21</td>\n",
       "      <td>-0.92</td>\n",
       "      <td>0.81</td>\n",
       "      <td>0.89</td>\n",
       "      <td>-0.49</td>\n",
       "      <td>-1.39</td>\n",
       "      <td>-0.44</td>\n",
       "      <td>0.48</td>\n",
       "      <td>0.36</td>\n",
       "      <td>-1.07</td>\n",
       "    </tr>\n",
       "  </tbody>\n",
       "</table>\n",
       "</div>"
      ],
      "text/plain": [
       "   acousticness  danceability  energy  instrumentalness   key  loudness  mode  \\\n",
       "0          0.34         -0.25    0.60             -1.57 -1.38      0.71  0.72   \n",
       "1          0.63         -1.24    0.37              0.91  1.17     -0.38 -1.39   \n",
       "2          1.12         -1.57   -1.34              0.84  0.04     -1.67  0.72   \n",
       "3          0.76         -1.03    0.15              0.77 -1.38     -0.46  0.72   \n",
       "4          1.16         -1.21   -0.92              0.81  0.89     -0.49 -1.39   \n",
       "\n",
       "   speechiness  tempo  time_signature  valence  \n",
       "0        -0.79   2.20            0.36     0.73  \n",
       "1         1.47  -0.10            0.36    -1.05  \n",
       "2        -0.46  -0.97            0.36    -1.07  \n",
       "3        -0.49  -0.92            0.36    -0.46  \n",
       "4        -0.44   0.48            0.36    -1.07  "
      ]
     },
     "execution_count": 27,
     "metadata": {},
     "output_type": "execute_result"
    }
   ],
   "source": [
    "# Training dataset\n",
    "\n",
    "# target data\n",
    "target = train_df.num_cat\n",
    "\n",
    "# keep only numerical values\n",
    "cols = train_df.select_dtypes(exclude=[object]).columns\n",
    "train_matrix = train_df[cols]\n",
    "\n",
    "# remove target column\n",
    "train_matrix = train_matrix.drop(['num_cat'], axis=1)\n",
    "\n",
    "# standardize features\n",
    "train_matrix = train_matrix.apply(lambda x: (x - np.mean(x)) \n",
    "                                               / np.std(x))\n",
    "# review the set\n",
    "train_matrix.head()"
   ]
  },
  {
   "cell_type": "markdown",
   "metadata": {},
   "source": [
    "#### — Test set —"
   ]
  },
  {
   "cell_type": "code",
   "execution_count": 31,
   "metadata": {
    "collapsed": false,
    "scrolled": true
   },
   "outputs": [
    {
     "data": {
      "text/html": [
       "<div>\n",
       "<table border=\"1\" class=\"dataframe\">\n",
       "  <thead>\n",
       "    <tr style=\"text-align: right;\">\n",
       "      <th></th>\n",
       "      <th>acousticness</th>\n",
       "      <th>danceability</th>\n",
       "      <th>energy</th>\n",
       "      <th>instrumentalness</th>\n",
       "      <th>key</th>\n",
       "      <th>loudness</th>\n",
       "      <th>mode</th>\n",
       "      <th>speechiness</th>\n",
       "      <th>tempo</th>\n",
       "      <th>time_signature</th>\n",
       "      <th>valence</th>\n",
       "    </tr>\n",
       "  </thead>\n",
       "  <tbody>\n",
       "    <tr>\n",
       "      <th>0</th>\n",
       "      <td>-0.91</td>\n",
       "      <td>-0.03</td>\n",
       "      <td>0.72</td>\n",
       "      <td>-0.37</td>\n",
       "      <td>-0.31</td>\n",
       "      <td>0.24</td>\n",
       "      <td>-1.13</td>\n",
       "      <td>-0.48</td>\n",
       "      <td>-0.78</td>\n",
       "      <td>0.15</td>\n",
       "      <td>0.48</td>\n",
       "    </tr>\n",
       "    <tr>\n",
       "      <th>1</th>\n",
       "      <td>0.41</td>\n",
       "      <td>-1.91</td>\n",
       "      <td>-1.60</td>\n",
       "      <td>1.75</td>\n",
       "      <td>1.33</td>\n",
       "      <td>-0.54</td>\n",
       "      <td>-1.13</td>\n",
       "      <td>-0.45</td>\n",
       "      <td>0.95</td>\n",
       "      <td>-3.33</td>\n",
       "      <td>-0.60</td>\n",
       "    </tr>\n",
       "    <tr>\n",
       "      <th>2</th>\n",
       "      <td>1.84</td>\n",
       "      <td>1.24</td>\n",
       "      <td>-1.53</td>\n",
       "      <td>1.78</td>\n",
       "      <td>0.51</td>\n",
       "      <td>-1.38</td>\n",
       "      <td>0.89</td>\n",
       "      <td>-0.20</td>\n",
       "      <td>0.52</td>\n",
       "      <td>0.15</td>\n",
       "      <td>0.80</td>\n",
       "    </tr>\n",
       "    <tr>\n",
       "      <th>3</th>\n",
       "      <td>-0.80</td>\n",
       "      <td>-2.01</td>\n",
       "      <td>0.13</td>\n",
       "      <td>-0.74</td>\n",
       "      <td>1.06</td>\n",
       "      <td>0.44</td>\n",
       "      <td>0.89</td>\n",
       "      <td>-0.29</td>\n",
       "      <td>0.24</td>\n",
       "      <td>-3.33</td>\n",
       "      <td>0.89</td>\n",
       "    </tr>\n",
       "    <tr>\n",
       "      <th>4</th>\n",
       "      <td>1.35</td>\n",
       "      <td>-1.85</td>\n",
       "      <td>-1.06</td>\n",
       "      <td>1.57</td>\n",
       "      <td>-1.40</td>\n",
       "      <td>-2.67</td>\n",
       "      <td>-1.13</td>\n",
       "      <td>-0.18</td>\n",
       "      <td>-0.09</td>\n",
       "      <td>0.15</td>\n",
       "      <td>-1.50</td>\n",
       "    </tr>\n",
       "  </tbody>\n",
       "</table>\n",
       "</div>"
      ],
      "text/plain": [
       "   acousticness  danceability  energy  instrumentalness   key  loudness  mode  \\\n",
       "0         -0.91         -0.03    0.72             -0.37 -0.31      0.24 -1.13   \n",
       "1          0.41         -1.91   -1.60              1.75  1.33     -0.54 -1.13   \n",
       "2          1.84          1.24   -1.53              1.78  0.51     -1.38  0.89   \n",
       "3         -0.80         -2.01    0.13             -0.74  1.06      0.44  0.89   \n",
       "4          1.35         -1.85   -1.06              1.57 -1.40     -2.67 -1.13   \n",
       "\n",
       "   speechiness  tempo  time_signature  valence  \n",
       "0        -0.48  -0.78            0.15     0.48  \n",
       "1        -0.45   0.95           -3.33    -0.60  \n",
       "2        -0.20   0.52            0.15     0.80  \n",
       "3        -0.29   0.24           -3.33     0.89  \n",
       "4        -0.18  -0.09            0.15    -1.50  "
      ]
     },
     "execution_count": 31,
     "metadata": {},
     "output_type": "execute_result"
    }
   ],
   "source": [
    "# keep only numerical values\n",
    "cols = test_df.select_dtypes(exclude=[object]).columns\n",
    "test_matrix = test_df[cols]\n",
    "\n",
    "# standardize features\n",
    "test_matrix = test_matrix.apply(lambda x: (x - np.mean(x)) \n",
    "                                / np.std(x))\n",
    "\n",
    "# review the dataset\n",
    "test_matrix.head()"
   ]
  },
  {
   "cell_type": "markdown",
   "metadata": {},
   "source": [
    "Finally, we convert the processed training data from a Pandas dataframe into a numerical (Numpy) array."
   ]
  },
  {
   "cell_type": "code",
   "execution_count": 33,
   "metadata": {
    "collapsed": false
   },
   "outputs": [],
   "source": [
    "train_data = train_matrix.values\n",
    "train_data = np.nan_to_num(train_data)\n",
    "test_data = test_matrix.values\n",
    "test_data = np.nan_to_num(test_data)"
   ]
  },
  {
   "cell_type": "markdown",
   "metadata": {},
   "source": [
    "## Novelty detection\n",
    "\n",
    "I start my analysis with choosing tracks from the test set that match classes in the training set. For this purpose I use one-class SVM unsupervised algorithm. One-class SVM is used for novelty detection, that is, given a set of samples (training set), it will detect the soft boundary of that set so as to classify new points (test set) as belonging to that set or not.\n",
    "\n",
    "It's important to point out that the algorithm treats the training data as not polluted by outliers.\n",
    "\n",
    "I use radial basis function, or 'rbf', kernel; 'nu' value has been chosen by trial and error method. "
   ]
  },
  {
   "cell_type": "code",
   "execution_count": 34,
   "metadata": {
    "collapsed": false
   },
   "outputs": [
    {
     "data": {
      "text/plain": [
       "OneClassSVM(cache_size=200, coef0=0.0, degree=3, gamma=0.0, kernel='rbf',\n",
       "      max_iter=-1, nu=0.07, random_state=None, shrinking=True, tol=0.001,\n",
       "      verbose=False)"
      ]
     },
     "execution_count": 34,
     "metadata": {},
     "output_type": "execute_result"
    }
   ],
   "source": [
    "from sklearn import svm\n",
    "\n",
    "# fit the model\n",
    "svm_model = svm.OneClassSVM(kernel=\"rbf\", nu=0.07)\n",
    "svm_model.fit(train_data)"
   ]
  },
  {
   "cell_type": "code",
   "execution_count": 35,
   "metadata": {
    "collapsed": true
   },
   "outputs": [],
   "source": [
    "# new observations, or test data, can now be sorted \n",
    "# as inliers or outliers with a predict method\n",
    "y_pred_test = svm_model.predict(test_data)\n",
    "\n",
    "# number of tracks outside set boudaries\n",
    "# inliers are labeled 1, while outliers are labeled -1\n",
    "n_error_test = y_pred_test[y_pred_test == -1].size"
   ]
  },
  {
   "cell_type": "code",
   "execution_count": 37,
   "metadata": {
    "collapsed": false,
    "scrolled": true
   },
   "outputs": [
    {
     "name": "stdout",
     "output_type": "stream",
     "text": [
      "Number of tracks that match the training set: 185.\n",
      "Number of tracks outside set boudaries: 146.\n"
     ]
    }
   ],
   "source": [
    "print (\"Number of tracks that match the training set: {0}.\"\n",
    "       \"\\nNumber of tracks outside set boudaries: {1}.\"\n",
    "       .format((y_pred_test.size - n_error_test), \n",
    "               n_error_test))"
   ]
  },
  {
   "cell_type": "markdown",
   "metadata": {},
   "source": [
    "Next step is to classify tracks that match the training set.  \n",
    "First, I record the result of novelty detection algorithm to the test dataframe and to the test set. "
   ]
  },
  {
   "cell_type": "code",
   "execution_count": 44,
   "metadata": {
    "collapsed": false,
    "scrolled": false
   },
   "outputs": [
    {
     "data": {
      "text/html": [
       "<div>\n",
       "<table border=\"1\" class=\"dataframe\">\n",
       "  <thead>\n",
       "    <tr style=\"text-align: right;\">\n",
       "      <th></th>\n",
       "      <th>song_title</th>\n",
       "      <th>acousticness</th>\n",
       "      <th>artist</th>\n",
       "      <th>danceability</th>\n",
       "      <th>energy</th>\n",
       "      <th>instrumentalness</th>\n",
       "      <th>key</th>\n",
       "      <th>loudness</th>\n",
       "      <th>mode</th>\n",
       "      <th>speechiness</th>\n",
       "      <th>tempo</th>\n",
       "      <th>time_signature</th>\n",
       "      <th>valence</th>\n",
       "      <th>match</th>\n",
       "    </tr>\n",
       "  </thead>\n",
       "  <tbody>\n",
       "    <tr>\n",
       "      <th>0</th>\n",
       "      <td>ADDICTIVE</td>\n",
       "      <td>0.00</td>\n",
       "      <td>Faithless</td>\n",
       "      <td>0.60</td>\n",
       "      <td>0.79</td>\n",
       "      <td>0.14</td>\n",
       "      <td>4</td>\n",
       "      <td>-8.00</td>\n",
       "      <td>0</td>\n",
       "      <td>0.03</td>\n",
       "      <td>98.97</td>\n",
       "      <td>4</td>\n",
       "      <td>0.64</td>\n",
       "      <td>1.00</td>\n",
       "    </tr>\n",
       "    <tr>\n",
       "      <th>1</th>\n",
       "      <td>ANOTHER NIGHT IN</td>\n",
       "      <td>0.39</td>\n",
       "      <td>TINDERSTICKS</td>\n",
       "      <td>0.31</td>\n",
       "      <td>0.30</td>\n",
       "      <td>0.85</td>\n",
       "      <td>10</td>\n",
       "      <td>-11.28</td>\n",
       "      <td>0</td>\n",
       "      <td>0.03</td>\n",
       "      <td>142.21</td>\n",
       "      <td>3</td>\n",
       "      <td>0.37</td>\n",
       "      <td>-1.00</td>\n",
       "    </tr>\n",
       "    <tr>\n",
       "      <th>2</th>\n",
       "      <td>After All Is Said and Done</td>\n",
       "      <td>0.80</td>\n",
       "      <td>Junip</td>\n",
       "      <td>0.80</td>\n",
       "      <td>0.31</td>\n",
       "      <td>0.86</td>\n",
       "      <td>7</td>\n",
       "      <td>-14.80</td>\n",
       "      <td>1</td>\n",
       "      <td>0.05</td>\n",
       "      <td>131.53</td>\n",
       "      <td>4</td>\n",
       "      <td>0.72</td>\n",
       "      <td>-1.00</td>\n",
       "    </tr>\n",
       "    <tr>\n",
       "      <th>3</th>\n",
       "      <td>All My Loving</td>\n",
       "      <td>0.04</td>\n",
       "      <td>The Beatles</td>\n",
       "      <td>0.30</td>\n",
       "      <td>0.67</td>\n",
       "      <td>0.01</td>\n",
       "      <td>9</td>\n",
       "      <td>-7.17</td>\n",
       "      <td>1</td>\n",
       "      <td>0.04</td>\n",
       "      <td>124.46</td>\n",
       "      <td>3</td>\n",
       "      <td>0.74</td>\n",
       "      <td>-1.00</td>\n",
       "    </tr>\n",
       "    <tr>\n",
       "      <th>4</th>\n",
       "      <td>Almost Fell</td>\n",
       "      <td>0.66</td>\n",
       "      <td>Nicolas Jaar</td>\n",
       "      <td>0.32</td>\n",
       "      <td>0.41</td>\n",
       "      <td>0.79</td>\n",
       "      <td>0</td>\n",
       "      <td>-20.17</td>\n",
       "      <td>0</td>\n",
       "      <td>0.05</td>\n",
       "      <td>116.17</td>\n",
       "      <td>4</td>\n",
       "      <td>0.14</td>\n",
       "      <td>-1.00</td>\n",
       "    </tr>\n",
       "  </tbody>\n",
       "</table>\n",
       "</div>"
      ],
      "text/plain": [
       "                   song_title  acousticness        artist  danceability  \\\n",
       "0                   ADDICTIVE          0.00     Faithless          0.60   \n",
       "1            ANOTHER NIGHT IN          0.39  TINDERSTICKS          0.31   \n",
       "2  After All Is Said and Done          0.80         Junip          0.80   \n",
       "3               All My Loving          0.04   The Beatles          0.30   \n",
       "4                 Almost Fell          0.66  Nicolas Jaar          0.32   \n",
       "\n",
       "   energy  instrumentalness  key  loudness  mode  speechiness  tempo  \\\n",
       "0    0.79              0.14    4     -8.00     0         0.03  98.97   \n",
       "1    0.30              0.85   10    -11.28     0         0.03 142.21   \n",
       "2    0.31              0.86    7    -14.80     1         0.05 131.53   \n",
       "3    0.67              0.01    9     -7.17     1         0.04 124.46   \n",
       "4    0.41              0.79    0    -20.17     0         0.05 116.17   \n",
       "\n",
       "   time_signature  valence  match  \n",
       "0               4     0.64   1.00  \n",
       "1               3     0.37  -1.00  \n",
       "2               4     0.72  -1.00  \n",
       "3               3     0.74  -1.00  \n",
       "4               4     0.14  -1.00  "
      ]
     },
     "execution_count": 44,
     "metadata": {},
     "output_type": "execute_result"
    }
   ],
   "source": [
    "# add to the DF\n",
    "match = pd.DataFrame({'match': y_pred_test})\n",
    "test_result_df = pd.concat([test_df, match], axis=1)\n",
    "test_result_df.head()"
   ]
  },
  {
   "cell_type": "code",
   "execution_count": 47,
   "metadata": {
    "collapsed": false
   },
   "outputs": [
    {
     "name": "stdout",
     "output_type": "stream",
     "text": [
      "Before: (331,)\n",
      "After the magic:  (331, 1)\n",
      "Test set shape:  (331, 11)\n"
     ]
    }
   ],
   "source": [
    "# add novelty results to the set\n",
    "# convert y_pred_test from a 1d array into a 2d array\n",
    "print 'Before:', y_pred_test.shape\n",
    "print 'After the magic: ', y_pred_test[:, None].shape\n",
    "print 'Test set shape: ', test_data.shape"
   ]
  },
  {
   "cell_type": "code",
   "execution_count": 64,
   "metadata": {
    "collapsed": false
   },
   "outputs": [
    {
     "data": {
      "text/plain": [
       "(331, 12)"
      ]
     },
     "execution_count": 64,
     "metadata": {},
     "output_type": "execute_result"
    }
   ],
   "source": [
    "# create new array with results\n",
    "post_svm_test = np.concatenate((test_data, y_pred_test[:, None]), 1)\n",
    "post_svm_test.shape"
   ]
  },
  {
   "cell_type": "code",
   "execution_count": 65,
   "metadata": {
    "collapsed": false
   },
   "outputs": [
    {
     "data": {
      "text/plain": [
       "array([[ 0.        , -0.91413013, -0.03034728,  0.72251053, -0.37112459,\n",
       "        -0.30922548,  0.23948681, -1.12566571, -0.47534994, -0.78282769,\n",
       "         0.14698618,  0.48169486,  1.        ],\n",
       "       [ 1.        ,  0.4141471 , -1.91387049, -1.6011356 ,  1.74694552,\n",
       "         1.33281141, -0.54391301, -1.12566571, -0.44520947,  0.9529425 ,\n",
       "        -3.32818717, -0.60456148, -1.        ],\n",
       "       [ 2.        ,  1.83629482,  1.24130056, -1.53144213,  1.77772202,\n",
       "         0.51179297, -1.3826734 ,  0.88836321, -0.20106329,  0.52414909,\n",
       "         0.14698618,  0.80421917, -1.        ]])"
      ]
     },
     "execution_count": 65,
     "metadata": {},
     "output_type": "execute_result"
    }
   ],
   "source": [
    "# add index to the set\n",
    "set_index = np.asarray(range(331))[:, None]\n",
    "post_svm_test = np.concatenate((set_index, post_svm_test), 1)\n",
    "\n",
    "# review the result \n",
    "post_svm_test[:3]"
   ]
  },
  {
   "cell_type": "code",
   "execution_count": 66,
   "metadata": {
    "collapsed": false
   },
   "outputs": [
    {
     "data": {
      "text/plain": [
       "(185, 13)"
      ]
     },
     "execution_count": 66,
     "metadata": {},
     "output_type": "execute_result"
    }
   ],
   "source": [
    "# keep only matching items\n",
    "matching_test = post_svm_test[post_svm_test[:, 12] == 1]\n",
    "\n",
    "# review the result\n",
    "matching_test.shape"
   ]
  },
  {
   "cell_type": "markdown",
   "metadata": {},
   "source": [
    "## Classification"
   ]
  },
  {
   "cell_type": "markdown",
   "metadata": {},
   "source": [
    "I'm going to compare the result of three different models:\n",
    "1. K nearest neighbors classification\n",
    "2. Random Forest Classification\n",
    "3. SVC\n",
    "\n",
    "The algorithm I use is as follows:\n",
    "1. Tune parameters using GridSearchCV.  \n",
    "I use GridSearchCV to test the desired range of input parameters, and review the performance of each set of values on a cross-validation basis. \n",
    "2. Create and train a model.\n",
    "3. Make prediction.\n",
    "4. Keep only tracks with probability higher than 70%."
   ]
  },
  {
   "cell_type": "markdown",
   "metadata": {},
   "source": [
    "Next: \n",
    "1. classify data in post_svm_test (supervised classification)\n",
    "2. cross_validate models\n",
    "3. plot data\n",
    "4. classify data in unmatched "
   ]
  },
  {
   "cell_type": "markdown",
   "metadata": {},
   "source": [
    "### K nearest neighbors"
   ]
  },
  {
   "cell_type": "code",
   "execution_count": 68,
   "metadata": {
    "collapsed": false,
    "scrolled": true
   },
   "outputs": [
    {
     "name": "stdout",
     "output_type": "stream",
     "text": [
      "Fitting 5 folds for each of 6 candidates, totalling 30 fits\n",
      "[CV] n_neighbors=3, weights=uniform ..................................\n",
      "[CV] ......... n_neighbors=3, weights=uniform, score=0.650000 -   0.0s\n",
      "[CV] n_neighbors=3, weights=uniform ..................................\n",
      "[CV] ......... n_neighbors=3, weights=uniform, score=0.777778 -   0.0s\n",
      "[CV] n_neighbors=3, weights=uniform ..................................\n",
      "[CV] ......... n_neighbors=3, weights=uniform, score=0.611111 -   0.0s\n",
      "[CV] n_neighbors=3, weights=uniform ..................................\n",
      "[CV] ......... n_neighbors=3, weights=uniform, score=0.611111 -   0.0s\n",
      "[CV] n_neighbors=3, weights=uniform ..................................\n",
      "[CV] ......... n_neighbors=3, weights=uniform, score=0.588235 -   0.0s\n",
      "[CV] n_neighbors=3, weights=distance .................................\n",
      "[CV] ........ n_neighbors=3, weights=distance, score=0.650000 -   0.0s\n",
      "[CV] n_neighbors=3, weights=distance .................................\n",
      "[CV] ........ n_neighbors=3, weights=distance, score=0.777778 -   0.0s\n",
      "[CV] n_neighbors=3, weights=distance .................................\n",
      "[CV] ........ n_neighbors=3, weights=distance, score=0.611111 -   0.0s\n",
      "[CV] n_neighbors=3, weights=distance .................................\n",
      "[CV] ........ n_neighbors=3, weights=distance, score=0.611111 -   0.0s\n",
      "[CV] n_neighbors=3, weights=distance .................................\n",
      "[CV] ........ n_neighbors=3, weights=distance, score=0.647059 -   0.0s\n",
      "[CV] n_neighbors=5, weights=uniform ..................................\n",
      "[CV] ......... n_neighbors=5, weights=uniform, score=0.650000 -   0.0s\n",
      "[CV] n_neighbors=5, weights=uniform ..................................\n",
      "[CV] ......... n_neighbors=5, weights=uniform, score=0.722222 -   0.0s\n",
      "[CV] n_neighbors=5, weights=uniform ..................................\n",
      "[CV] ......... n_neighbors=5, weights=uniform, score=0.722222 -   0.0s\n",
      "[CV] n_neighbors=5, weights=uniform ..................................\n",
      "[CV] ......... n_neighbors=5, weights=uniform, score=0.666667 -   0.0s\n",
      "[CV] n_neighbors=5, weights=uniform ..................................\n",
      "[CV] ......... n_neighbors=5, weights=uniform, score=0.647059 -   0.0s\n",
      "[CV] n_neighbors=5, weights=distance .................................\n",
      "[CV] ........ n_neighbors=5, weights=distance, score=0.650000 -   0.0s\n",
      "[CV] n_neighbors=5, weights=distance .................................\n",
      "[CV] ........ n_neighbors=5, weights=distance, score=0.722222 -   0.0s\n",
      "[CV] n_neighbors=5, weights=distance .................................\n",
      "[CV] ........ n_neighbors=5, weights=distance, score=0.722222 -   0.0s\n",
      "[CV] n_neighbors=5, weights=distance .................................\n",
      "[CV] ........ n_neighbors=5, weights=distance, score=0.666667 -   0.0s\n",
      "[CV] n_neighbors=5, weights=distance .................................\n",
      "[CV] ........ n_neighbors=5, weights=distance, score=0.647059 -   0.0s\n",
      "[CV] n_neighbors=7, weights=uniform ..................................\n",
      "[CV] ......... n_neighbors=7, weights=uniform, score=0.600000 -   0.0s\n",
      "[CV] n_neighbors=7, weights=uniform ..................................\n",
      "[CV] ......... n_neighbors=7, weights=uniform, score=0.722222 -   0.0s\n",
      "[CV] n_neighbors=7, weights=uniform ..................................\n",
      "[CV] ......... n_neighbors=7, weights=uniform, score=0.722222 -   0.0s\n",
      "[CV] n_neighbors=7, weights=uniform ..................................\n",
      "[CV] ......... n_neighbors=7, weights=uniform, score=0.777778 -   0.0s\n",
      "[CV] n_neighbors=7, weights=uniform ..................................\n",
      "[CV] ......... n_neighbors=7, weights=uniform, score=0.705882 -   0.0s\n",
      "[CV] n_neighbors=7, weights=distance .................................\n",
      "[CV] ........ n_neighbors=7, weights=distance, score=0.600000 -   0.0s\n",
      "[CV] n_neighbors=7, weights=distance .................................\n",
      "[CV] ........ n_neighbors=7, weights=distance, score=0.722222 -   0.0s\n",
      "[CV] n_neighbors=7, weights=distance .................................\n",
      "[CV] ........ n_neighbors=7, weights=distance, score=0.666667 -   0.0s\n",
      "[CV] n_neighbors=7, weights=distance .................................\n",
      "[CV] ........ n_neighbors=7, weights=distance, score=0.777778 -   0.0s\n",
      "[CV] n_neighbors=7, weights=distance ................................."
     ]
    },
    {
     "name": "stderr",
     "output_type": "stream",
     "text": [
      "[Parallel(n_jobs=1)]: Done   1 jobs       | elapsed:    0.0s\n",
      "[Parallel(n_jobs=1)]: Done  30 out of  30 | elapsed:    0.1s finished\n"
     ]
    },
    {
     "name": "stdout",
     "output_type": "stream",
     "text": [
      "\n",
      "[CV] ........ n_neighbors=7, weights=distance, score=0.705882 -   0.0s\n"
     ]
    },
    {
     "data": {
      "text/plain": [
       "[mean: 0.64835, std: 0.06803, params: {'n_neighbors': 3, 'weights': 'uniform'},\n",
       " mean: 0.65934, std: 0.06151, params: {'n_neighbors': 3, 'weights': 'distance'},\n",
       " mean: 0.68132, std: 0.03381, params: {'n_neighbors': 5, 'weights': 'uniform'},\n",
       " mean: 0.68132, std: 0.03381, params: {'n_neighbors': 5, 'weights': 'distance'},\n",
       " mean: 0.70330, std: 0.05816, params: {'n_neighbors': 7, 'weights': 'uniform'},\n",
       " mean: 0.69231, std: 0.05923, params: {'n_neighbors': 7, 'weights': 'distance'}]"
      ]
     },
     "execution_count": 68,
     "metadata": {},
     "output_type": "execute_result"
    }
   ],
   "source": [
    "from sklearn import neighbors\n",
    "from sklearn.grid_search import GridSearchCV\n",
    "\n",
    "# tune parameters\n",
    "parameter_grid = {\n",
    "    'n_neighbors': [3, 5, 7],\n",
    "    'weights': ['uniform', 'distance'],\n",
    "}\n",
    "grid_search = GridSearchCV(neighbors.KNeighborsClassifier(), parameter_grid,\n",
    "                            cv=5, verbose=3)\n",
    "\n",
    "grid_search.fit(train_data, target)\n",
    "\n",
    "# review the result\n",
    "grid_search.grid_scores_"
   ]
  },
  {
   "cell_type": "code",
   "execution_count": 131,
   "metadata": {
    "collapsed": false
   },
   "outputs": [
    {
     "name": "stdout",
     "output_type": "stream",
     "text": [
      "The best-performing tuning parameters\n",
      "Best score: 0.769230769231;\n",
      "Best parameters: {'max_features': 0.5, 'max_depth': 5.0}.\n"
     ]
    }
   ],
   "source": [
    "# sort the results \n",
    "sorted(grid_search.grid_scores_, \n",
    "       key=lambda x: x.mean_validation_score)\n",
    "\n",
    "knn_best_score = grid_search.best_score_\n",
    "best_params = grid_search.best_params_\n",
    "\n",
    "# print the winner\n",
    "print (\"The best-performing tuning parameters\"\n",
    "       \"\\nBest score: {0};\"\n",
    "       \"\\nBest parameters: {1}.\"\n",
    "       .format(knn_best_score, \n",
    "               best_params\n",
    "              ))"
   ]
  },
  {
   "cell_type": "code",
   "execution_count": 77,
   "metadata": {
    "collapsed": false,
    "scrolled": true
   },
   "outputs": [],
   "source": [
    "# create the model\n",
    "knn = neighbors.KNeighborsClassifier(n_neighbors=best_params['n_neighbors'], \n",
    "                                    weights=best_params['weights'])\n",
    "\n",
    "# train the model\n",
    "knn.fit(train_data, target)\n",
    "\n",
    "# make predictions\n",
    "# exclude index and novelty result\n",
    "knn_output = knn.predict(matching_test[:, 1:12])"
   ]
  },
  {
   "cell_type": "code",
   "execution_count": 79,
   "metadata": {
    "collapsed": false
   },
   "outputs": [
    {
     "name": "stdout",
     "output_type": "stream",
     "text": [
      "Number of tracks in the test set: 185.\n",
      "Number of tracks assigned to the \"cycling\" class: 87.\n",
      "Number of tracks assigned to the \"focus\" class: 48.\n",
      "Number of tracks assigned to the \"yoga\" class: 50.\n"
     ]
    }
   ],
   "source": [
    "# print the result\n",
    "print (\"Number of tracks in the test set: {0}.\" \n",
    "       \"\\nNumber of tracks assigned to the \\\"cycling\\\" class: {1}.\"\n",
    "       \"\\nNumber of tracks assigned to the \\\"focus\\\" class: {2}.\"\n",
    "       \"\\nNumber of tracks assigned to the \\\"yoga\\\" class: {3}.\" \n",
    "       .format(knn_output.size, \n",
    "               knn_output[knn_output == 0].size,\n",
    "               knn_output[knn_output == 1].size,\n",
    "               knn_output[knn_output == 2].size))"
   ]
  },
  {
   "cell_type": "code",
   "execution_count": 86,
   "metadata": {
    "collapsed": false
   },
   "outputs": [
    {
     "name": "stdout",
     "output_type": "stream",
     "text": [
      "(185, 14)\n",
      "\n",
      "Sample of the resulting set: \n"
     ]
    },
    {
     "data": {
      "text/plain": [
       "array([[ 0.        , -0.91413013, -0.03034728,  0.72251053, -0.37112459,\n",
       "        -0.30922548,  0.23948681, -1.12566571, -0.47534994, -0.78282769,\n",
       "         0.14698618,  0.48169486,  1.        ,  2.        ],\n",
       "       [ 5.        ,  0.01360409, -0.9682168 ,  0.53129353,  1.621278  ,\n",
       "        -1.40391673, -0.83837398,  0.88836321, -0.4813949 , -0.9197766 ,\n",
       "         0.14698618,  0.37836404,  1.        ,  1.        ],\n",
       "       [ 6.        , -0.86516501, -0.49455548,  0.97420375, -0.58770287,\n",
       "         0.51179297, -0.07072329,  0.88836321, -0.35674215,  0.25587216,\n",
       "         0.14698618,  0.89006287,  1.        ,  0.        ]])"
      ]
     },
     "execution_count": 86,
     "metadata": {},
     "output_type": "execute_result"
    }
   ],
   "source": [
    "# add the result to the matching set\n",
    "knn_set = np.concatenate((matching_test, knn_output[:, None]), 1)\n",
    "\n",
    "# review the result\n",
    "print knn_set.shape\n",
    "print \"\\nSample of the resulting set: \"\n",
    "knn_set[:3]"
   ]
  },
  {
   "cell_type": "code",
   "execution_count": 88,
   "metadata": {
    "collapsed": false,
    "scrolled": true
   },
   "outputs": [
    {
     "data": {
      "text/plain": [
       "(185,)"
      ]
     },
     "execution_count": 88,
     "metadata": {},
     "output_type": "execute_result"
    }
   ],
   "source": [
    "# calculate probability\n",
    "probability = knn.predict_proba(matching_test[:, 1:12])\n",
    "\n",
    "# make a list of highest probabilities\n",
    "max_proba = np.asarray([x.max() for x in probability])\n",
    "\n",
    "# review the result\n",
    "max_proba.shape"
   ]
  },
  {
   "cell_type": "code",
   "execution_count": 89,
   "metadata": {
    "collapsed": false,
    "scrolled": true
   },
   "outputs": [],
   "source": [
    "# add probability to the set\n",
    "knn_proba = np.concatenate((knn_set, max_proba[:, None]), 1)"
   ]
  },
  {
   "cell_type": "code",
   "execution_count": 90,
   "metadata": {
    "collapsed": false
   },
   "outputs": [
    {
     "data": {
      "text/plain": [
       "array([[ 0.        , -0.91413013, -0.03034728,  0.72251053, -0.37112459,\n",
       "        -0.30922548,  0.23948681, -1.12566571, -0.47534994, -0.78282769,\n",
       "         0.14698618,  0.48169486,  1.        ,  2.        ,  0.42857143],\n",
       "       [ 5.        ,  0.01360409, -0.9682168 ,  0.53129353,  1.621278  ,\n",
       "        -1.40391673, -0.83837398,  0.88836321, -0.4813949 , -0.9197766 ,\n",
       "         0.14698618,  0.37836404,  1.        ,  1.        ,  0.42857143],\n",
       "       [ 6.        , -0.86516501, -0.49455548,  0.97420375, -0.58770287,\n",
       "         0.51179297, -0.07072329,  0.88836321, -0.35674215,  0.25587216,\n",
       "         0.14698618,  0.89006287,  1.        ,  0.        ,  1.        ]])"
      ]
     },
     "execution_count": 90,
     "metadata": {},
     "output_type": "execute_result"
    }
   ],
   "source": [
    "knn_proba[:3]"
   ]
  },
  {
   "cell_type": "markdown",
   "metadata": {},
   "source": [
    "Now I transform the set back to pandas dataframe."
   ]
  },
  {
   "cell_type": "code",
   "execution_count": 93,
   "metadata": {
    "collapsed": false
   },
   "outputs": [
    {
     "data": {
      "text/plain": [
       "['index',\n",
       " 'acousticness',\n",
       " 'danceability',\n",
       " 'energy',\n",
       " 'instrumentalness',\n",
       " 'key',\n",
       " 'loudness',\n",
       " 'mode',\n",
       " 'speechiness',\n",
       " 'tempo',\n",
       " 'time_signature',\n",
       " 'valence',\n",
       " 'match',\n",
       " 'num_cat',\n",
       " 'probability']"
      ]
     },
     "execution_count": 93,
     "metadata": {},
     "output_type": "execute_result"
    }
   ],
   "source": [
    "# list of column names\n",
    "li = ['index'] + train_matrix.columns.tolist() + ['match', 'num_cat', 'probability']\n",
    "li"
   ]
  },
  {
   "cell_type": "code",
   "execution_count": 104,
   "metadata": {
    "collapsed": false,
    "scrolled": true
   },
   "outputs": [
    {
     "data": {
      "text/html": [
       "<div>\n",
       "<table border=\"1\" class=\"dataframe\">\n",
       "  <thead>\n",
       "    <tr style=\"text-align: right;\">\n",
       "      <th></th>\n",
       "      <th>acousticness</th>\n",
       "      <th>danceability</th>\n",
       "      <th>energy</th>\n",
       "      <th>instrumentalness</th>\n",
       "      <th>key</th>\n",
       "      <th>loudness</th>\n",
       "      <th>mode</th>\n",
       "      <th>speechiness</th>\n",
       "      <th>tempo</th>\n",
       "      <th>time_signature</th>\n",
       "      <th>valence</th>\n",
       "      <th>match</th>\n",
       "      <th>num_cat</th>\n",
       "      <th>probability</th>\n",
       "    </tr>\n",
       "    <tr>\n",
       "      <th>index</th>\n",
       "      <th></th>\n",
       "      <th></th>\n",
       "      <th></th>\n",
       "      <th></th>\n",
       "      <th></th>\n",
       "      <th></th>\n",
       "      <th></th>\n",
       "      <th></th>\n",
       "      <th></th>\n",
       "      <th></th>\n",
       "      <th></th>\n",
       "      <th></th>\n",
       "      <th></th>\n",
       "      <th></th>\n",
       "    </tr>\n",
       "  </thead>\n",
       "  <tbody>\n",
       "    <tr>\n",
       "      <th>83</th>\n",
       "      <td>-0.59</td>\n",
       "      <td>-0.38</td>\n",
       "      <td>0.58</td>\n",
       "      <td>-0.16</td>\n",
       "      <td>0.51</td>\n",
       "      <td>-0.01</td>\n",
       "      <td>0.89</td>\n",
       "      <td>-0.35</td>\n",
       "      <td>0.34</td>\n",
       "      <td>0.15</td>\n",
       "      <td>-1.04</td>\n",
       "      <td>1</td>\n",
       "      <td>2</td>\n",
       "      <td>0.57</td>\n",
       "    </tr>\n",
       "    <tr>\n",
       "      <th>130</th>\n",
       "      <td>-0.72</td>\n",
       "      <td>0.76</td>\n",
       "      <td>0.50</td>\n",
       "      <td>-0.50</td>\n",
       "      <td>1.61</td>\n",
       "      <td>1.00</td>\n",
       "      <td>-1.13</td>\n",
       "      <td>-0.47</td>\n",
       "      <td>0.46</td>\n",
       "      <td>0.15</td>\n",
       "      <td>1.76</td>\n",
       "      <td>1</td>\n",
       "      <td>0</td>\n",
       "      <td>0.86</td>\n",
       "    </tr>\n",
       "    <tr>\n",
       "      <th>283</th>\n",
       "      <td>-0.34</td>\n",
       "      <td>-0.46</td>\n",
       "      <td>-0.76</td>\n",
       "      <td>-0.76</td>\n",
       "      <td>-0.04</td>\n",
       "      <td>-0.01</td>\n",
       "      <td>0.89</td>\n",
       "      <td>-0.07</td>\n",
       "      <td>-1.47</td>\n",
       "      <td>0.15</td>\n",
       "      <td>-0.60</td>\n",
       "      <td>1</td>\n",
       "      <td>2</td>\n",
       "      <td>0.71</td>\n",
       "    </tr>\n",
       "  </tbody>\n",
       "</table>\n",
       "</div>"
      ],
      "text/plain": [
       "       acousticness  danceability  energy  instrumentalness   key  loudness  \\\n",
       "index                                                                         \n",
       "83            -0.59         -0.38    0.58             -0.16  0.51     -0.01   \n",
       "130           -0.72          0.76    0.50             -0.50  1.61      1.00   \n",
       "283           -0.34         -0.46   -0.76             -0.76 -0.04     -0.01   \n",
       "\n",
       "       mode  speechiness  tempo  time_signature  valence  match  num_cat  \\\n",
       "index                                                                      \n",
       "83     0.89        -0.35   0.34            0.15    -1.04      1        2   \n",
       "130   -1.13        -0.47   0.46            0.15     1.76      1        0   \n",
       "283    0.89        -0.07  -1.47            0.15    -0.60      1        2   \n",
       "\n",
       "       probability  \n",
       "index               \n",
       "83            0.57  \n",
       "130           0.86  \n",
       "283           0.71  "
      ]
     },
     "execution_count": 104,
     "metadata": {},
     "output_type": "execute_result"
    }
   ],
   "source": [
    "# transform into a DF for easier manipulations\n",
    "knn_df = pd.DataFrame(knn_proba, columns=li)\n",
    "\n",
    "# change column type to integer\n",
    "knn_df[['index', 'match', 'num_cat']] = knn_df[['index', 'match', 'num_cat']].astype(int)\n",
    "\n",
    "# change index to the original index\n",
    "knn_df = knn_df.set_index(['index'])\n",
    "\n",
    "# review the result\n",
    "knn_df.sample(3)"
   ]
  },
  {
   "cell_type": "code",
   "execution_count": 109,
   "metadata": {
    "collapsed": false
   },
   "outputs": [
    {
     "data": {
      "text/html": [
       "<div>\n",
       "<table border=\"1\" class=\"dataframe\">\n",
       "  <thead>\n",
       "    <tr style=\"text-align: right;\">\n",
       "      <th></th>\n",
       "      <th>acousticness</th>\n",
       "      <th>danceability</th>\n",
       "      <th>energy</th>\n",
       "      <th>instrumentalness</th>\n",
       "      <th>key</th>\n",
       "      <th>loudness</th>\n",
       "      <th>mode</th>\n",
       "      <th>speechiness</th>\n",
       "      <th>tempo</th>\n",
       "      <th>time_signature</th>\n",
       "      <th>valence</th>\n",
       "      <th>match</th>\n",
       "      <th>num_cat</th>\n",
       "      <th>probability</th>\n",
       "    </tr>\n",
       "    <tr>\n",
       "      <th>index</th>\n",
       "      <th></th>\n",
       "      <th></th>\n",
       "      <th></th>\n",
       "      <th></th>\n",
       "      <th></th>\n",
       "      <th></th>\n",
       "      <th></th>\n",
       "      <th></th>\n",
       "      <th></th>\n",
       "      <th></th>\n",
       "      <th></th>\n",
       "      <th></th>\n",
       "      <th></th>\n",
       "      <th></th>\n",
       "    </tr>\n",
       "  </thead>\n",
       "  <tbody>\n",
       "    <tr>\n",
       "      <th>6</th>\n",
       "      <td>-0.87</td>\n",
       "      <td>-0.49</td>\n",
       "      <td>0.97</td>\n",
       "      <td>-0.59</td>\n",
       "      <td>0.51</td>\n",
       "      <td>-0.07</td>\n",
       "      <td>0.89</td>\n",
       "      <td>-0.36</td>\n",
       "      <td>0.26</td>\n",
       "      <td>0.15</td>\n",
       "      <td>0.89</td>\n",
       "      <td>1</td>\n",
       "      <td>0</td>\n",
       "      <td>1.00</td>\n",
       "    </tr>\n",
       "    <tr>\n",
       "      <th>13</th>\n",
       "      <td>0.50</td>\n",
       "      <td>-0.62</td>\n",
       "      <td>0.80</td>\n",
       "      <td>-0.77</td>\n",
       "      <td>-0.86</td>\n",
       "      <td>0.43</td>\n",
       "      <td>-1.13</td>\n",
       "      <td>0.62</td>\n",
       "      <td>1.67</td>\n",
       "      <td>0.15</td>\n",
       "      <td>0.23</td>\n",
       "      <td>1</td>\n",
       "      <td>0</td>\n",
       "      <td>0.71</td>\n",
       "    </tr>\n",
       "    <tr>\n",
       "      <th>16</th>\n",
       "      <td>-0.91</td>\n",
       "      <td>0.96</td>\n",
       "      <td>0.77</td>\n",
       "      <td>-0.77</td>\n",
       "      <td>-0.04</td>\n",
       "      <td>0.24</td>\n",
       "      <td>-1.13</td>\n",
       "      <td>-0.25</td>\n",
       "      <td>-0.34</td>\n",
       "      <td>0.15</td>\n",
       "      <td>1.28</td>\n",
       "      <td>1</td>\n",
       "      <td>0</td>\n",
       "      <td>0.86</td>\n",
       "    </tr>\n",
       "    <tr>\n",
       "      <th>22</th>\n",
       "      <td>0.38</td>\n",
       "      <td>0.22</td>\n",
       "      <td>0.96</td>\n",
       "      <td>-0.77</td>\n",
       "      <td>0.51</td>\n",
       "      <td>0.66</td>\n",
       "      <td>0.89</td>\n",
       "      <td>-0.33</td>\n",
       "      <td>-1.10</td>\n",
       "      <td>0.15</td>\n",
       "      <td>1.46</td>\n",
       "      <td>1</td>\n",
       "      <td>0</td>\n",
       "      <td>0.86</td>\n",
       "    </tr>\n",
       "    <tr>\n",
       "      <th>29</th>\n",
       "      <td>1.27</td>\n",
       "      <td>0.31</td>\n",
       "      <td>-1.15</td>\n",
       "      <td>-0.77</td>\n",
       "      <td>0.51</td>\n",
       "      <td>-1.15</td>\n",
       "      <td>-1.13</td>\n",
       "      <td>-0.42</td>\n",
       "      <td>-0.30</td>\n",
       "      <td>0.15</td>\n",
       "      <td>-1.34</td>\n",
       "      <td>1</td>\n",
       "      <td>2</td>\n",
       "      <td>0.71</td>\n",
       "    </tr>\n",
       "  </tbody>\n",
       "</table>\n",
       "</div>"
      ],
      "text/plain": [
       "       acousticness  danceability  energy  instrumentalness   key  loudness  \\\n",
       "index                                                                         \n",
       "6             -0.87         -0.49    0.97             -0.59  0.51     -0.07   \n",
       "13             0.50         -0.62    0.80             -0.77 -0.86      0.43   \n",
       "16            -0.91          0.96    0.77             -0.77 -0.04      0.24   \n",
       "22             0.38          0.22    0.96             -0.77  0.51      0.66   \n",
       "29             1.27          0.31   -1.15             -0.77  0.51     -1.15   \n",
       "\n",
       "       mode  speechiness  tempo  time_signature  valence  match  num_cat  \\\n",
       "index                                                                      \n",
       "6      0.89        -0.36   0.26            0.15     0.89      1        0   \n",
       "13    -1.13         0.62   1.67            0.15     0.23      1        0   \n",
       "16    -1.13        -0.25  -0.34            0.15     1.28      1        0   \n",
       "22     0.89        -0.33  -1.10            0.15     1.46      1        0   \n",
       "29    -1.13        -0.42  -0.30            0.15    -1.34      1        2   \n",
       "\n",
       "       probability  \n",
       "index               \n",
       "6             1.00  \n",
       "13            0.71  \n",
       "16            0.86  \n",
       "22            0.86  \n",
       "29            0.71  "
      ]
     },
     "execution_count": 109,
     "metadata": {},
     "output_type": "execute_result"
    }
   ],
   "source": [
    "# add a 0.7 threshold for probability\n",
    "knn_high_proba = knn_df[knn_df['probability'] >= 0.7]"
   ]
  },
  {
   "cell_type": "code",
   "execution_count": 113,
   "metadata": {
    "collapsed": false,
    "scrolled": true
   },
   "outputs": [
    {
     "name": "stdout",
     "output_type": "stream",
     "text": [
      "Number of tracks with class probability higher than 70%: 108.\n",
      "Number of tracks assigned to the \"cycling\" class: 60.\n",
      "Number of tracks assigned to the \"focus\" class: 15.\n",
      "Number of tracks assigned to the \"yoga\" class: 33.\n"
     ]
    }
   ],
   "source": [
    "# print the result\n",
    "print (\"Number of tracks with class probability higher than 70%: {0}.\" \n",
    "       \"\\nNumber of tracks assigned to the \\\"cycling\\\" class: {1}.\"\n",
    "       \"\\nNumber of tracks assigned to the \\\"focus\\\" class: {2}.\"\n",
    "       \"\\nNumber of tracks assigned to the \\\"yoga\\\" class: {3}.\" \n",
    "       .format(len(knn_high_proba), \n",
    "               len(knn_high_proba[knn_high_proba['num_cat'] == 0]),\n",
    "               len(knn_high_proba[knn_high_proba['num_cat'] == 1]),\n",
    "               len(knn_high_proba[knn_high_proba['num_cat'] == 2])))"
   ]
  },
  {
   "cell_type": "markdown",
   "metadata": {},
   "source": [
    "### Random Forest Classifier"
   ]
  },
  {
   "cell_type": "markdown",
   "metadata": {},
   "source": [
    "The next model I use is Random Forest Classifier. \n",
    "I start with GridSearchCV parameter tuning to choose the optimal number of features considered at each step a branch is made (max_features: 50%, 70% or 100% of features) and the maximum number of branches (max_depth: 5 levels, 8 levels or no limitations)."
   ]
  },
  {
   "cell_type": "code",
   "execution_count": 116,
   "metadata": {
    "collapsed": false,
    "scrolled": true
   },
   "outputs": [
    {
     "name": "stdout",
     "output_type": "stream",
     "text": [
      "Fitting 5 folds for each of 9 candidates, totalling 45 fits\n",
      "[CV] max_features=0.5, max_depth=5.0 .................................\n",
      "[CV] ........ max_features=0.5, max_depth=5.0, score=0.700000 -   0.2s\n",
      "[CV] max_features=0.5, max_depth=5.0 .................................\n",
      "[CV] ........ max_features=0.5, max_depth=5.0, score=0.833333 -   0.2s\n",
      "[CV] max_features=0.5, max_depth=5.0 .................................\n",
      "[CV] ........ max_features=0.5, max_depth=5.0, score=0.722222 -   0.1s\n",
      "[CV] max_features=0.5, max_depth=5.0 .................................\n",
      "[CV] ........ max_features=0.5, max_depth=5.0, score=0.722222 -   0.2s\n",
      "[CV] max_features=0.5, max_depth=5.0 .................................\n",
      "[CV] ........ max_features=0.5, max_depth=5.0, score=0.882353 -   0.1s\n",
      "[CV] max_features=0.7, max_depth=5.0 .................................\n",
      "[CV] ........ max_features=0.7, max_depth=5.0, score=0.700000 -   0.1s\n",
      "[CV] max_features=0.7, max_depth=5.0 .................................\n",
      "[CV] ........ max_features=0.7, max_depth=5.0, score=0.833333 -   0.2s\n",
      "[CV] max_features=0.7, max_depth=5.0 .................................\n",
      "[CV] ........ max_features=0.7, max_depth=5.0, score=0.722222 -   0.2s\n",
      "[CV] max_features=0.7, max_depth=5.0 .................................\n",
      "[CV] ........ max_features=0.7, max_depth=5.0, score=0.666667 -   0.1s\n",
      "[CV] max_features=0.7, max_depth=5.0 .................................\n",
      "[CV] ........ max_features=0.7, max_depth=5.0, score=0.823529 -   0.1s\n",
      "[CV] max_features=1.0, max_depth=5.0 .................................\n",
      "[CV] ........ max_features=1.0, max_depth=5.0, score=0.650000 -   0.2s\n",
      "[CV] max_features=1.0, max_depth=5.0 .................................\n",
      "[CV] ........ max_features=1.0, max_depth=5.0, score=0.888889 -   0.1s\n",
      "[CV] max_features=1.0, max_depth=5.0 .................................\n",
      "[CV] ........ max_features=1.0, max_depth=5.0, score=0.722222 -   0.1s\n",
      "[CV] max_features=1.0, max_depth=5.0 .................................\n",
      "[CV] ........ max_features=1.0, max_depth=5.0, score=0.722222 -   0.1s\n",
      "[CV] max_features=1.0, max_depth=5.0 .................................\n",
      "[CV] ........ max_features=1.0, max_depth=5.0, score=0.823529 -   0.1s\n",
      "[CV] max_features=0.5, max_depth=8.0 .................................\n",
      "[CV] ........ max_features=0.5, max_depth=8.0, score=0.700000 -   0.1s\n",
      "[CV] max_features=0.5, max_depth=8.0 .................................\n",
      "[CV] ........ max_features=0.5, max_depth=8.0, score=0.777778 -   0.1s\n",
      "[CV] max_features=0.5, max_depth=8.0 .................................\n",
      "[CV] ........ max_features=0.5, max_depth=8.0, score=0.722222 -   0.1s\n",
      "[CV] max_features=0.5, max_depth=8.0 .................................\n",
      "[CV] ........ max_features=0.5, max_depth=8.0, score=0.666667 -   0.1s\n",
      "[CV] max_features=0.5, max_depth=8.0 .................................\n",
      "[CV] ........ max_features=0.5, max_depth=8.0, score=0.823529 -   0.1s\n",
      "[CV] max_features=0.7, max_depth=8.0 .................................\n",
      "[CV] ........ max_features=0.7, max_depth=8.0, score=0.650000 -   0.1s\n",
      "[CV] max_features=0.7, max_depth=8.0 .................................\n",
      "[CV] ........ max_features=0.7, max_depth=8.0, score=0.777778 -   0.2s\n",
      "[CV] max_features=0.7, max_depth=8.0 .................................\n",
      "[CV] ........ max_features=0.7, max_depth=8.0, score=0.722222 -   0.1s\n",
      "[CV] max_features=0.7, max_depth=8.0 .................................\n",
      "[CV] ........ max_features=0.7, max_depth=8.0, score=0.722222 -   0.1s\n",
      "[CV] max_features=0.7, max_depth=8.0 .................................\n",
      "[CV] ........ max_features=0.7, max_depth=8.0, score=0.823529 -   0.2s\n",
      "[CV] max_features=1.0, max_depth=8.0 .................................\n",
      "[CV] ........ max_features=1.0, max_depth=8.0, score=0.650000 -   0.2s\n",
      "[CV] max_features=1.0, max_depth=8.0 .................................\n",
      "[CV] ........ max_features=1.0, max_depth=8.0, score=0.777778 -   0.2s\n",
      "[CV] max_features=1.0, max_depth=8.0 .................................\n",
      "[CV] ........ max_features=1.0, max_depth=8.0, score=0.666667 -   0.1s\n",
      "[CV] max_features=1.0, max_depth=8.0 .................................\n",
      "[CV] ........ max_features=1.0, max_depth=8.0, score=0.777778 -   0.1s\n",
      "[CV] max_features=1.0, max_depth=8.0 .................................\n",
      "[CV] ........ max_features=1.0, max_depth=8.0, score=0.823529 -   0.1s\n",
      "[CV] max_features=0.5, max_depth=None ................................\n",
      "[CV] ....... max_features=0.5, max_depth=None, score=0.700000 -   0.1s\n",
      "[CV] max_features=0.5, max_depth=None ................................\n",
      "[CV] ....... max_features=0.5, max_depth=None, score=0.777778 -   0.1s"
     ]
    },
    {
     "name": "stderr",
     "output_type": "stream",
     "text": [
      "[Parallel(n_jobs=1)]: Done   1 jobs       | elapsed:    0.2s\n",
      "[Parallel(n_jobs=1)]: Done  32 jobs       | elapsed:    4.5s\n"
     ]
    },
    {
     "name": "stdout",
     "output_type": "stream",
     "text": [
      "\n",
      "[CV] max_features=0.5, max_depth=None ................................\n",
      "[CV] ....... max_features=0.5, max_depth=None, score=0.666667 -   0.2s\n",
      "[CV] max_features=0.5, max_depth=None ................................\n",
      "[CV] ....... max_features=0.5, max_depth=None, score=0.611111 -   0.2s\n",
      "[CV] max_features=0.5, max_depth=None ................................\n",
      "[CV] ....... max_features=0.5, max_depth=None, score=0.823529 -   0.3s\n",
      "[CV] max_features=0.7, max_depth=None ................................\n",
      "[CV] ....... max_features=0.7, max_depth=None, score=0.700000 -   0.2s\n",
      "[CV] max_features=0.7, max_depth=None ................................\n",
      "[CV] ....... max_features=0.7, max_depth=None, score=0.722222 -   0.1s\n",
      "[CV] max_features=0.7, max_depth=None ................................\n",
      "[CV] ....... max_features=0.7, max_depth=None, score=0.722222 -   0.2s\n",
      "[CV] max_features=0.7, max_depth=None ................................\n",
      "[CV] ....... max_features=0.7, max_depth=None, score=0.722222 -   0.2s\n",
      "[CV] max_features=0.7, max_depth=None ................................\n",
      "[CV] ....... max_features=0.7, max_depth=None, score=0.823529 -   0.1s\n",
      "[CV] max_features=1.0, max_depth=None ................................\n",
      "[CV] ....... max_features=1.0, max_depth=None, score=0.700000 -   0.1s\n",
      "[CV] max_features=1.0, max_depth=None ................................\n",
      "[CV] ....... max_features=1.0, max_depth=None, score=0.722222 -   0.2s\n",
      "[CV] max_features=1.0, max_depth=None ................................\n",
      "[CV] ....... max_features=1.0, max_depth=None, score=0.722222 -   0.2s\n",
      "[CV] max_features=1.0, max_depth=None ................................\n",
      "[CV] ....... max_features=1.0, max_depth=None, score=0.722222 -   0.2s\n",
      "[CV] max_features=1.0, max_depth=None ................................\n",
      "[CV] ....... max_features=1.0, max_depth=None, score=0.823529 -   0.1s\n"
     ]
    },
    {
     "name": "stderr",
     "output_type": "stream",
     "text": [
      "[Parallel(n_jobs=1)]: Done  45 out of  45 | elapsed:    6.9s finished\n"
     ]
    },
    {
     "data": {
      "text/plain": [
       "[mean: 0.76923, std: 0.07222, params: {'max_features': 0.5, 'max_depth': 5.0},\n",
       " mean: 0.74725, std: 0.06718, params: {'max_features': 0.7, 'max_depth': 5.0},\n",
       " mean: 0.75824, std: 0.08437, params: {'max_features': 1.0, 'max_depth': 5.0},\n",
       " mean: 0.73626, std: 0.05600, params: {'max_features': 0.5, 'max_depth': 8.0},\n",
       " mean: 0.73626, std: 0.05854, params: {'max_features': 0.7, 'max_depth': 8.0},\n",
       " mean: 0.73626, std: 0.06827, params: {'max_features': 1.0, 'max_depth': 8.0},\n",
       " mean: 0.71429, std: 0.07625, params: {'max_features': 0.5, 'max_depth': None},\n",
       " mean: 0.73626, std: 0.04360, params: {'max_features': 0.7, 'max_depth': None},\n",
       " mean: 0.73626, std: 0.04360, params: {'max_features': 1.0, 'max_depth': None}]"
      ]
     },
     "execution_count": 116,
     "metadata": {},
     "output_type": "execute_result"
    }
   ],
   "source": [
    "from sklearn.ensemble import RandomForestClassifier\n",
    "\n",
    "# tune parameters\n",
    "parameter_grid = {\n",
    "    'max_features': [0.5, 0.7, 1.],\n",
    "    'max_depth': [5., 8., None]\n",
    "}\n",
    "\n",
    "grid_search = GridSearchCV(RandomForestClassifier(n_estimators = 100), \n",
    "                           parameter_grid, \n",
    "                           cv=5, verbose=3)\n",
    "\n",
    "grid_search.fit(train_data, target)\n",
    "\n",
    "# review the results\n",
    "grid_search.grid_scores_"
   ]
  },
  {
   "cell_type": "code",
   "execution_count": 130,
   "metadata": {
    "collapsed": false
   },
   "outputs": [
    {
     "name": "stdout",
     "output_type": "stream",
     "text": [
      "The best-performing tuning parameters\n",
      "Best score: 0.769230769231;\n",
      "Max features: 50%;\n",
      "Max depth: 5 levels.\n"
     ]
    }
   ],
   "source": [
    "# sort the results \n",
    "sorted(grid_search.grid_scores_, \n",
    "       key=lambda x: x.mean_validation_score)\n",
    "\n",
    "# print the winner\n",
    "rfc_best_score = grid_search.best_score_\n",
    "best_params = grid_search.best_params_\n",
    "max_features = best_params['max_features']\n",
    "max_depth = best_params['max_depth']\n",
    "print (\"The best-performing tuning parameters\"\n",
    "       \"\\nBest score: {0};\"\n",
    "       \"\\nMax features: {1}%;\"\n",
    "       \"\\nMax depth: {2} levels.\"\n",
    "       .format(rfc_best_score, \n",
    "               int(max_features*100),\n",
    "              int(max_depth)))\n"
   ]
  },
  {
   "cell_type": "code",
   "execution_count": 118,
   "metadata": {
    "collapsed": true
   },
   "outputs": [],
   "source": [
    "# set tuning parameters to the model\n",
    "rfc = RandomForestClassifier(n_estimators=100, \n",
    "                             max_features=max_features, \n",
    "                             max_depth=max_depth)\n",
    "\n",
    "# train the model\n",
    "rfc_model = rfc.fit(train_data, target)\n",
    "\n",
    "# make predictions\n",
    "rfc_output = rfc_model.predict(matching_test[:, 1:12])"
   ]
  },
  {
   "cell_type": "code",
   "execution_count": 119,
   "metadata": {
    "collapsed": false
   },
   "outputs": [
    {
     "name": "stdout",
     "output_type": "stream",
     "text": [
      "Number of tracks in the test set: 185.\n",
      "Number of tracks assigned to the \"cycling\" class: 74.\n",
      "Number of tracks assigned to the \"focus\" class: 76.\n",
      "Number of tracks assigned to the \"yoga\" class: 35.\n"
     ]
    }
   ],
   "source": [
    "# print the result\n",
    "print (\"Number of tracks in the test set: {0}.\" \n",
    "       \"\\nNumber of tracks assigned to the \\\"cycling\\\" class: {1}.\"\n",
    "       \"\\nNumber of tracks assigned to the \\\"focus\\\" class: {2}.\"\n",
    "       \"\\nNumber of tracks assigned to the \\\"yoga\\\" class: {3}.\" \n",
    "       .format(rfc_output.size, \n",
    "               rfc_output[rfc_output == 0].size,\n",
    "               rfc_output[rfc_output == 1].size,\n",
    "               rfc_output[rfc_output == 2].size))"
   ]
  },
  {
   "cell_type": "markdown",
   "metadata": {},
   "source": [
    "The highest number of tracks are assigned to the \"focus\" class. To confirm I plot the data. "
   ]
  },
  {
   "cell_type": "code",
   "execution_count": null,
   "metadata": {
    "collapsed": true
   },
   "outputs": [],
   "source": [
    "# make a plot"
   ]
  },
  {
   "cell_type": "code",
   "execution_count": 120,
   "metadata": {
    "collapsed": false
   },
   "outputs": [
    {
     "name": "stdout",
     "output_type": "stream",
     "text": [
      "(185, 14)\n",
      "\n",
      "Sample of the resulting set: \n"
     ]
    },
    {
     "data": {
      "text/plain": [
       "array([[ 0.        , -0.91413013, -0.03034728,  0.72251053, -0.37112459,\n",
       "        -0.30922548,  0.23948681, -1.12566571, -0.47534994, -0.78282769,\n",
       "         0.14698618,  0.48169486,  1.        ,  1.        ],\n",
       "       [ 5.        ,  0.01360409, -0.9682168 ,  0.53129353,  1.621278  ,\n",
       "        -1.40391673, -0.83837398,  0.88836321, -0.4813949 , -0.9197766 ,\n",
       "         0.14698618,  0.37836404,  1.        ,  1.        ],\n",
       "       [ 6.        , -0.86516501, -0.49455548,  0.97420375, -0.58770287,\n",
       "         0.51179297, -0.07072329,  0.88836321, -0.35674215,  0.25587216,\n",
       "         0.14698618,  0.89006287,  1.        ,  1.        ]])"
      ]
     },
     "execution_count": 120,
     "metadata": {},
     "output_type": "execute_result"
    }
   ],
   "source": [
    "# add the result to the matching set\n",
    "rfc_set = np.concatenate((matching_test, rfc_output[:, None]), 1)\n",
    "\n",
    "# review the result\n",
    "print rfc_set.shape\n",
    "print \"\\nSample of the resulting set: \"\n",
    "rfc_set[:3]"
   ]
  },
  {
   "cell_type": "code",
   "execution_count": 121,
   "metadata": {
    "collapsed": false
   },
   "outputs": [
    {
     "data": {
      "text/plain": [
       "(185,)"
      ]
     },
     "execution_count": 121,
     "metadata": {},
     "output_type": "execute_result"
    }
   ],
   "source": [
    "# calculate probability\n",
    "probability = rfc.predict_proba(matching_test[:, 1:12])\n",
    "\n",
    "# make a list of highest probabilities\n",
    "max_proba = np.asarray([x.max() for x in probability])\n",
    "\n",
    "# review the result\n",
    "max_proba.shape"
   ]
  },
  {
   "cell_type": "code",
   "execution_count": 124,
   "metadata": {
    "collapsed": true
   },
   "outputs": [],
   "source": [
    "# add probability to the set\n",
    "rfc_proba = np.concatenate((rfc_set, max_proba[:, None]), 1)"
   ]
  },
  {
   "cell_type": "code",
   "execution_count": 126,
   "metadata": {
    "collapsed": false
   },
   "outputs": [
    {
     "data": {
      "text/plain": [
       "array([[ 0.        , -0.91413013, -0.03034728,  0.72251053, -0.37112459,\n",
       "        -0.30922548,  0.23948681, -1.12566571, -0.47534994, -0.78282769,\n",
       "         0.14698618,  0.48169486,  1.        ,  1.        ,  0.528234  ],\n",
       "       [ 5.        ,  0.01360409, -0.9682168 ,  0.53129353,  1.621278  ,\n",
       "        -1.40391673, -0.83837398,  0.88836321, -0.4813949 , -0.9197766 ,\n",
       "         0.14698618,  0.37836404,  1.        ,  1.        ,  0.87901213],\n",
       "       [ 6.        , -0.86516501, -0.49455548,  0.97420375, -0.58770287,\n",
       "         0.51179297, -0.07072329,  0.88836321, -0.35674215,  0.25587216,\n",
       "         0.14698618,  0.89006287,  1.        ,  1.        ,  0.4221937 ]])"
      ]
     },
     "execution_count": 126,
     "metadata": {},
     "output_type": "execute_result"
    }
   ],
   "source": [
    "rfc_proba[:3]"
   ]
  },
  {
   "cell_type": "markdown",
   "metadata": {},
   "source": [
    "Now I transform the set back to pandas dataframe."
   ]
  },
  {
   "cell_type": "code",
   "execution_count": 127,
   "metadata": {
    "collapsed": false
   },
   "outputs": [
    {
     "data": {
      "text/html": [
       "<div>\n",
       "<table border=\"1\" class=\"dataframe\">\n",
       "  <thead>\n",
       "    <tr style=\"text-align: right;\">\n",
       "      <th></th>\n",
       "      <th>acousticness</th>\n",
       "      <th>danceability</th>\n",
       "      <th>energy</th>\n",
       "      <th>instrumentalness</th>\n",
       "      <th>key</th>\n",
       "      <th>loudness</th>\n",
       "      <th>mode</th>\n",
       "      <th>speechiness</th>\n",
       "      <th>tempo</th>\n",
       "      <th>time_signature</th>\n",
       "      <th>valence</th>\n",
       "      <th>match</th>\n",
       "      <th>num_cat</th>\n",
       "      <th>probability</th>\n",
       "    </tr>\n",
       "    <tr>\n",
       "      <th>index</th>\n",
       "      <th></th>\n",
       "      <th></th>\n",
       "      <th></th>\n",
       "      <th></th>\n",
       "      <th></th>\n",
       "      <th></th>\n",
       "      <th></th>\n",
       "      <th></th>\n",
       "      <th></th>\n",
       "      <th></th>\n",
       "      <th></th>\n",
       "      <th></th>\n",
       "      <th></th>\n",
       "      <th></th>\n",
       "    </tr>\n",
       "  </thead>\n",
       "  <tbody>\n",
       "    <tr>\n",
       "      <th>265</th>\n",
       "      <td>-0.91</td>\n",
       "      <td>0.70</td>\n",
       "      <td>0.92</td>\n",
       "      <td>-0.75</td>\n",
       "      <td>1.06</td>\n",
       "      <td>1.14</td>\n",
       "      <td>-1.13</td>\n",
       "      <td>-0.44</td>\n",
       "      <td>0.74</td>\n",
       "      <td>0.15</td>\n",
       "      <td>1.71</td>\n",
       "      <td>1</td>\n",
       "      <td>0</td>\n",
       "      <td>0.94</td>\n",
       "    </tr>\n",
       "    <tr>\n",
       "      <th>328</th>\n",
       "      <td>1.21</td>\n",
       "      <td>0.53</td>\n",
       "      <td>0.08</td>\n",
       "      <td>0.31</td>\n",
       "      <td>0.51</td>\n",
       "      <td>-0.35</td>\n",
       "      <td>0.89</td>\n",
       "      <td>0.14</td>\n",
       "      <td>-0.74</td>\n",
       "      <td>0.15</td>\n",
       "      <td>0.32</td>\n",
       "      <td>1</td>\n",
       "      <td>2</td>\n",
       "      <td>0.63</td>\n",
       "    </tr>\n",
       "    <tr>\n",
       "      <th>266</th>\n",
       "      <td>-0.57</td>\n",
       "      <td>0.59</td>\n",
       "      <td>0.26</td>\n",
       "      <td>1.09</td>\n",
       "      <td>0.51</td>\n",
       "      <td>0.41</td>\n",
       "      <td>-1.13</td>\n",
       "      <td>-0.50</td>\n",
       "      <td>-0.74</td>\n",
       "      <td>0.15</td>\n",
       "      <td>0.06</td>\n",
       "      <td>1</td>\n",
       "      <td>1</td>\n",
       "      <td>0.67</td>\n",
       "    </tr>\n",
       "  </tbody>\n",
       "</table>\n",
       "</div>"
      ],
      "text/plain": [
       "       acousticness  danceability  energy  instrumentalness  key  loudness  \\\n",
       "index                                                                        \n",
       "265           -0.91          0.70    0.92             -0.75 1.06      1.14   \n",
       "328            1.21          0.53    0.08              0.31 0.51     -0.35   \n",
       "266           -0.57          0.59    0.26              1.09 0.51      0.41   \n",
       "\n",
       "       mode  speechiness  tempo  time_signature  valence  match  num_cat  \\\n",
       "index                                                                      \n",
       "265   -1.13        -0.44   0.74            0.15     1.71      1        0   \n",
       "328    0.89         0.14  -0.74            0.15     0.32      1        2   \n",
       "266   -1.13        -0.50  -0.74            0.15     0.06      1        1   \n",
       "\n",
       "       probability  \n",
       "index               \n",
       "265           0.94  \n",
       "328           0.63  \n",
       "266           0.67  "
      ]
     },
     "execution_count": 127,
     "metadata": {},
     "output_type": "execute_result"
    }
   ],
   "source": [
    "# transform into a DF for easier manipulations\n",
    "rfc_df = pd.DataFrame(rfc_proba, columns=li)\n",
    "\n",
    "# change column type to integer\n",
    "rfc_df[['index', 'match', 'num_cat']] = rfc_df[['index', 'match', 'num_cat']].astype(int)\n",
    "\n",
    "# change index to the original index\n",
    "rfc_df = rfc_df.set_index(['index'])\n",
    "\n",
    "# review the result\n",
    "rfc_df.sample(3)"
   ]
  },
  {
   "cell_type": "code",
   "execution_count": 128,
   "metadata": {
    "collapsed": false
   },
   "outputs": [
    {
     "data": {
      "text/html": [
       "<div>\n",
       "<table border=\"1\" class=\"dataframe\">\n",
       "  <thead>\n",
       "    <tr style=\"text-align: right;\">\n",
       "      <th></th>\n",
       "      <th>acousticness</th>\n",
       "      <th>danceability</th>\n",
       "      <th>energy</th>\n",
       "      <th>instrumentalness</th>\n",
       "      <th>key</th>\n",
       "      <th>loudness</th>\n",
       "      <th>mode</th>\n",
       "      <th>speechiness</th>\n",
       "      <th>tempo</th>\n",
       "      <th>time_signature</th>\n",
       "      <th>valence</th>\n",
       "      <th>match</th>\n",
       "      <th>num_cat</th>\n",
       "      <th>probability</th>\n",
       "    </tr>\n",
       "    <tr>\n",
       "      <th>index</th>\n",
       "      <th></th>\n",
       "      <th></th>\n",
       "      <th></th>\n",
       "      <th></th>\n",
       "      <th></th>\n",
       "      <th></th>\n",
       "      <th></th>\n",
       "      <th></th>\n",
       "      <th></th>\n",
       "      <th></th>\n",
       "      <th></th>\n",
       "      <th></th>\n",
       "      <th></th>\n",
       "      <th></th>\n",
       "    </tr>\n",
       "  </thead>\n",
       "  <tbody>\n",
       "    <tr>\n",
       "      <th>5</th>\n",
       "      <td>0.01</td>\n",
       "      <td>-0.97</td>\n",
       "      <td>0.53</td>\n",
       "      <td>1.62</td>\n",
       "      <td>-1.40</td>\n",
       "      <td>-0.84</td>\n",
       "      <td>0.89</td>\n",
       "      <td>-0.48</td>\n",
       "      <td>-0.92</td>\n",
       "      <td>0.15</td>\n",
       "      <td>0.38</td>\n",
       "      <td>1</td>\n",
       "      <td>1</td>\n",
       "      <td>0.88</td>\n",
       "    </tr>\n",
       "    <tr>\n",
       "      <th>22</th>\n",
       "      <td>0.38</td>\n",
       "      <td>0.22</td>\n",
       "      <td>0.96</td>\n",
       "      <td>-0.77</td>\n",
       "      <td>0.51</td>\n",
       "      <td>0.66</td>\n",
       "      <td>0.89</td>\n",
       "      <td>-0.33</td>\n",
       "      <td>-1.10</td>\n",
       "      <td>0.15</td>\n",
       "      <td>1.46</td>\n",
       "      <td>1</td>\n",
       "      <td>0</td>\n",
       "      <td>0.80</td>\n",
       "    </tr>\n",
       "    <tr>\n",
       "      <th>38</th>\n",
       "      <td>-0.89</td>\n",
       "      <td>0.33</td>\n",
       "      <td>1.43</td>\n",
       "      <td>-0.77</td>\n",
       "      <td>0.79</td>\n",
       "      <td>1.25</td>\n",
       "      <td>0.89</td>\n",
       "      <td>2.90</td>\n",
       "      <td>0.06</td>\n",
       "      <td>0.15</td>\n",
       "      <td>0.21</td>\n",
       "      <td>1</td>\n",
       "      <td>0</td>\n",
       "      <td>0.90</td>\n",
       "    </tr>\n",
       "    <tr>\n",
       "      <th>42</th>\n",
       "      <td>-0.90</td>\n",
       "      <td>0.73</td>\n",
       "      <td>1.08</td>\n",
       "      <td>-0.76</td>\n",
       "      <td>-1.13</td>\n",
       "      <td>0.66</td>\n",
       "      <td>0.89</td>\n",
       "      <td>-0.29</td>\n",
       "      <td>0.46</td>\n",
       "      <td>0.15</td>\n",
       "      <td>0.36</td>\n",
       "      <td>1</td>\n",
       "      <td>0</td>\n",
       "      <td>0.82</td>\n",
       "    </tr>\n",
       "    <tr>\n",
       "      <th>46</th>\n",
       "      <td>-0.04</td>\n",
       "      <td>0.08</td>\n",
       "      <td>0.85</td>\n",
       "      <td>-0.77</td>\n",
       "      <td>-1.40</td>\n",
       "      <td>1.24</td>\n",
       "      <td>0.89</td>\n",
       "      <td>-0.51</td>\n",
       "      <td>-0.30</td>\n",
       "      <td>0.15</td>\n",
       "      <td>0.74</td>\n",
       "      <td>1</td>\n",
       "      <td>0</td>\n",
       "      <td>0.89</td>\n",
       "    </tr>\n",
       "  </tbody>\n",
       "</table>\n",
       "</div>"
      ],
      "text/plain": [
       "       acousticness  danceability  energy  instrumentalness   key  loudness  \\\n",
       "index                                                                         \n",
       "5              0.01         -0.97    0.53              1.62 -1.40     -0.84   \n",
       "22             0.38          0.22    0.96             -0.77  0.51      0.66   \n",
       "38            -0.89          0.33    1.43             -0.77  0.79      1.25   \n",
       "42            -0.90          0.73    1.08             -0.76 -1.13      0.66   \n",
       "46            -0.04          0.08    0.85             -0.77 -1.40      1.24   \n",
       "\n",
       "       mode  speechiness  tempo  time_signature  valence  match  num_cat  \\\n",
       "index                                                                      \n",
       "5      0.89        -0.48  -0.92            0.15     0.38      1        1   \n",
       "22     0.89        -0.33  -1.10            0.15     1.46      1        0   \n",
       "38     0.89         2.90   0.06            0.15     0.21      1        0   \n",
       "42     0.89        -0.29   0.46            0.15     0.36      1        0   \n",
       "46     0.89        -0.51  -0.30            0.15     0.74      1        0   \n",
       "\n",
       "       probability  \n",
       "index               \n",
       "5             0.88  \n",
       "22            0.80  \n",
       "38            0.90  \n",
       "42            0.82  \n",
       "46            0.89  "
      ]
     },
     "execution_count": 128,
     "metadata": {},
     "output_type": "execute_result"
    }
   ],
   "source": [
    "# add a 0.7 threshold for probability\n",
    "rfc_high_proba = rfc_df[rfc_df['probability'] >= 0.7]"
   ]
  },
  {
   "cell_type": "code",
   "execution_count": 129,
   "metadata": {
    "collapsed": false
   },
   "outputs": [
    {
     "name": "stdout",
     "output_type": "stream",
     "text": [
      "Number of tracks with class probability higher than 70%: 47.\n",
      "Number of tracks assigned to the \"cycling\" class: 30.\n",
      "Number of tracks assigned to the \"focus\" class: 13.\n",
      "Number of tracks assigned to the \"yoga\" class: 4.\n"
     ]
    }
   ],
   "source": [
    "# print the result\n",
    "print (\"Number of tracks with class probability higher than 70%: {0}.\" \n",
    "       \"\\nNumber of tracks assigned to the \\\"cycling\\\" class: {1}.\"\n",
    "       \"\\nNumber of tracks assigned to the \\\"focus\\\" class: {2}.\"\n",
    "       \"\\nNumber of tracks assigned to the \\\"yoga\\\" class: {3}.\" \n",
    "       .format(len(rfc_high_proba), \n",
    "               len(rfc_high_proba[rfc_high_proba['num_cat'] == 0]),\n",
    "               len(rfc_high_proba[rfc_high_proba['num_cat'] == 1]),\n",
    "               len(rfc_high_proba[rfc_high_proba['num_cat'] == 2])))"
   ]
  },
  {
   "cell_type": "markdown",
   "metadata": {},
   "source": [
    "### Support Vector Machine Classifier"
   ]
  },
  {
   "cell_type": "code",
   "execution_count": 132,
   "metadata": {
    "collapsed": false
   },
   "outputs": [
    {
     "name": "stdout",
     "output_type": "stream",
     "text": [
      "Fitting 5 folds for each of 6 candidates, totalling 30 fits\n",
      "[CV] C=1.0, gamma=0.1 ................................................\n",
      "[CV] ....................... C=1.0, gamma=0.1, score=0.700000 -   0.0s\n",
      "[CV] C=1.0, gamma=0.1 ................................................\n",
      "[CV] ....................... C=1.0, gamma=0.1, score=0.888889 -   0.0s\n",
      "[CV] C=1.0, gamma=0.1 ................................................\n",
      "[CV] ....................... C=1.0, gamma=0.1, score=0.722222 -   0.0s\n",
      "[CV] C=1.0, gamma=0.1 ................................................\n",
      "[CV] ....................... C=1.0, gamma=0.1, score=0.888889 -   0.0s\n",
      "[CV] C=1.0, gamma=0.1 ................................................\n",
      "[CV] ....................... C=1.0, gamma=0.1, score=0.764706 -   0.0s\n",
      "[CV] C=1.0, gamma=1.0 ................................................\n",
      "[CV] ....................... C=1.0, gamma=1.0, score=0.600000 -   0.0s\n",
      "[CV] C=1.0, gamma=1.0 ................................................\n",
      "[CV] ....................... C=1.0, gamma=1.0, score=0.444444 -   0.0s\n",
      "[CV] C=1.0, gamma=1.0 ................................................\n",
      "[CV] ....................... C=1.0, gamma=1.0, score=0.388889 -   0.0s\n",
      "[CV] C=1.0, gamma=1.0 ................................................\n",
      "[CV] ....................... C=1.0, gamma=1.0, score=0.444444 -   0.0s\n",
      "[CV] C=1.0, gamma=1.0 ................................................\n",
      "[CV] ....................... C=1.0, gamma=1.0, score=0.470588 -   0.0s\n",
      "[CV] C=5.0, gamma=0.1 ................................................\n",
      "[CV] ....................... C=5.0, gamma=0.1, score=0.700000 -   0.0s\n",
      "[CV] C=5.0, gamma=0.1 ................................................\n",
      "[CV] ....................... C=5.0, gamma=0.1, score=0.722222 -   0.0s\n",
      "[CV] C=5.0, gamma=0.1 ................................................\n",
      "[CV] ....................... C=5.0, gamma=0.1, score=0.777778 -   0.0s\n",
      "[CV] C=5.0, gamma=0.1 ................................................\n",
      "[CV] ....................... C=5.0, gamma=0.1, score=0.666667 -   0.0s\n",
      "[CV] C=5.0, gamma=0.1 ................................................\n",
      "[CV] ....................... C=5.0, gamma=0.1, score=0.588235 -   0.0s\n",
      "[CV] C=5.0, gamma=1.0 ................................................\n",
      "[CV] ....................... C=5.0, gamma=1.0, score=0.550000 -   0.0s\n",
      "[CV] C=5.0, gamma=1.0 ................................................\n",
      "[CV] ....................... C=5.0, gamma=1.0, score=0.444444 -   0.0s\n",
      "[CV] C=5.0, gamma=1.0 ................................................\n",
      "[CV] ....................... C=5.0, gamma=1.0, score=0.555556 -   0.0s\n",
      "[CV] C=5.0, gamma=1.0 ................................................\n",
      "[CV] ....................... C=5.0, gamma=1.0, score=0.500000 -   0.0s\n",
      "[CV] C=5.0, gamma=1.0 ................................................\n",
      "[CV] ....................... C=5.0, gamma=1.0, score=0.529412 -   0.0s\n",
      "[CV] C=10.0, gamma=0.1 ...............................................\n",
      "[CV] ...................... C=10.0, gamma=0.1, score=0.650000 -   0.0s\n",
      "[CV] C=10.0, gamma=0.1 ...............................................\n",
      "[CV] ...................... C=10.0, gamma=0.1, score=0.777778 -   0.0s"
     ]
    },
    {
     "name": "stderr",
     "output_type": "stream",
     "text": [
      "[Parallel(n_jobs=1)]: Done   1 jobs       | elapsed:    0.0s\n",
      "[Parallel(n_jobs=1)]: Done  30 out of  30 | elapsed:    0.1s finished\n"
     ]
    },
    {
     "name": "stdout",
     "output_type": "stream",
     "text": [
      "\n",
      "[CV] C=10.0, gamma=0.1 ...............................................\n",
      "[CV] ...................... C=10.0, gamma=0.1, score=0.777778 -   0.0s\n",
      "[CV] C=10.0, gamma=0.1 ...............................................\n",
      "[CV] ...................... C=10.0, gamma=0.1, score=0.666667 -   0.0s\n",
      "[CV] C=10.0, gamma=0.1 ...............................................\n",
      "[CV] ...................... C=10.0, gamma=0.1, score=0.588235 -   0.0s\n",
      "[CV] C=10.0, gamma=1.0 ...............................................\n",
      "[CV] ...................... C=10.0, gamma=1.0, score=0.550000 -   0.0s\n",
      "[CV] C=10.0, gamma=1.0 ...............................................\n",
      "[CV] ...................... C=10.0, gamma=1.0, score=0.444444 -   0.0s\n",
      "[CV] C=10.0, gamma=1.0 ...............................................\n",
      "[CV] ...................... C=10.0, gamma=1.0, score=0.555556 -   0.0s\n",
      "[CV] C=10.0, gamma=1.0 ...............................................\n",
      "[CV] ...................... C=10.0, gamma=1.0, score=0.500000 -   0.0s\n",
      "[CV] C=10.0, gamma=1.0 ...............................................\n",
      "[CV] ...................... C=10.0, gamma=1.0, score=0.529412 -   0.0s\n"
     ]
    },
    {
     "data": {
      "text/plain": [
       "GridSearchCV(cv=5, error_score='raise',\n",
       "       estimator=SVC(C=1.0, cache_size=200, class_weight=None, coef0=0.0, degree=3, gamma=0.0,\n",
       "  kernel='rbf', max_iter=-1, probability=False, random_state=None,\n",
       "  shrinking=True, tol=0.001, verbose=False),\n",
       "       fit_params={}, iid=True, loss_func=None, n_jobs=1,\n",
       "       param_grid={'C': [1.0, 5.0, 10.0], 'gamma': [0.1, 1.0]},\n",
       "       pre_dispatch='2*n_jobs', refit=True, score_func=None, scoring=None,\n",
       "       verbose=3)"
      ]
     },
     "execution_count": 132,
     "metadata": {},
     "output_type": "execute_result"
    }
   ],
   "source": [
    "from sklearn.svm import SVC\n",
    "\n",
    "# tune parameters\n",
    "parameter_grid = {\n",
    "    'C': [1., 5., 10.],\n",
    "    'gamma': [0.1, 1.],\n",
    "}\n",
    "\n",
    "grid_search = GridSearchCV(SVC(kernel='rbf'), \n",
    "                           parameter_grid, \n",
    "                           cv=5, verbose=3)\n",
    "\n",
    "grid_search.fit(train_data, target)"
   ]
  },
  {
   "cell_type": "code",
   "execution_count": 133,
   "metadata": {
    "collapsed": false
   },
   "outputs": [
    {
     "name": "stdout",
     "output_type": "stream",
     "text": [
      "The best-performing tuning parameters\n",
      "Best score: 0.791208791209;\n",
      "Best parameters: {'C': 1.0, 'gamma': 0.1}.\n"
     ]
    }
   ],
   "source": [
    "# sort the results \n",
    "sorted(grid_search.grid_scores_, key=lambda x: x.mean_validation_score)\n",
    "\n",
    "# choose best parameters\n",
    "svc_best_score = grid_search.best_score_\n",
    "best_params = grid_search.best_params_\n",
    "print (\"The best-performing tuning parameters\"\n",
    "       \"\\nBest score: {0};\"\n",
    "       \"\\nBest parameters: {1}.\"\n",
    "       .format(svc_best_score, \n",
    "               best_params\n",
    "              ))"
   ]
  },
  {
   "cell_type": "markdown",
   "metadata": {},
   "source": [
    "Training SVMs with probability=True can be quite a lot more expensive than a vanilla, non-probabilistic SVM. But since it's a small set it doesn't make much difference. "
   ]
  },
  {
   "cell_type": "code",
   "execution_count": 144,
   "metadata": {
    "collapsed": true
   },
   "outputs": [],
   "source": [
    "# create the model\n",
    "svc_model = SVC(kernel='rbf', \n",
    "                C=best_params['C'], \n",
    "               gamma=best_params['gamma'],\n",
    "               probability=True)\n",
    "\n",
    "# train the model\n",
    "svc_model.fit(train_data, target)\n",
    "\n",
    "# make predictions\n",
    "# exclude index and novelty result\n",
    "svc_output = svc_model.predict(matching_test[:, 1:12])"
   ]
  },
  {
   "cell_type": "code",
   "execution_count": 140,
   "metadata": {
    "collapsed": false
   },
   "outputs": [
    {
     "name": "stdout",
     "output_type": "stream",
     "text": [
      "Number of tracks in the test set: 185.\n",
      "Number of tracks assigned to the \"cycling\" class: 64.\n",
      "Number of tracks assigned to the \"focus\" class: 72.\n",
      "Number of tracks assigned to the \"yoga\" class: 49.\n"
     ]
    }
   ],
   "source": [
    "print (\"Number of tracks in the test set: {0}.\" \n",
    "       \"\\nNumber of tracks assigned to the \\\"cycling\\\" class: {1}.\"\n",
    "       \"\\nNumber of tracks assigned to the \\\"focus\\\" class: {2}.\"\n",
    "       \"\\nNumber of tracks assigned to the \\\"yoga\\\" class: {3}.\" \n",
    "       .format(svc_output.size, \n",
    "               svc_output[svc_output == 0].size,\n",
    "               svc_output[svc_output == 1].size,\n",
    "               svc_output[svc_output == 2].size))"
   ]
  },
  {
   "cell_type": "code",
   "execution_count": 141,
   "metadata": {
    "collapsed": false
   },
   "outputs": [
    {
     "name": "stdout",
     "output_type": "stream",
     "text": [
      "(185, 14)\n",
      "\n",
      "Sample of the resulting set: \n"
     ]
    },
    {
     "data": {
      "text/plain": [
       "array([[ 0.        , -0.91413013, -0.03034728,  0.72251053, -0.37112459,\n",
       "        -0.30922548,  0.23948681, -1.12566571, -0.47534994, -0.78282769,\n",
       "         0.14698618,  0.48169486,  1.        ,  1.        ],\n",
       "       [ 5.        ,  0.01360409, -0.9682168 ,  0.53129353,  1.621278  ,\n",
       "        -1.40391673, -0.83837398,  0.88836321, -0.4813949 , -0.9197766 ,\n",
       "         0.14698618,  0.37836404,  1.        ,  1.        ],\n",
       "       [ 6.        , -0.86516501, -0.49455548,  0.97420375, -0.58770287,\n",
       "         0.51179297, -0.07072329,  0.88836321, -0.35674215,  0.25587216,\n",
       "         0.14698618,  0.89006287,  1.        ,  0.        ]])"
      ]
     },
     "execution_count": 141,
     "metadata": {},
     "output_type": "execute_result"
    }
   ],
   "source": [
    "# add the result to the matching set\n",
    "svc_set = np.concatenate((matching_test, svc_output[:, None]), 1)\n",
    "\n",
    "# review the result\n",
    "print svc_set.shape\n",
    "print \"\\nSample of the resulting set: \"\n",
    "svc_set[:3]"
   ]
  },
  {
   "cell_type": "code",
   "execution_count": 143,
   "metadata": {
    "collapsed": false
   },
   "outputs": [
    {
     "data": {
      "text/plain": [
       "(185,)"
      ]
     },
     "execution_count": 143,
     "metadata": {},
     "output_type": "execute_result"
    }
   ],
   "source": [
    "# calculate probability\n",
    "probability = svc_model.predict_proba(matching_test[:, 1:12])\n",
    "\n",
    "# make a list of highest probabilities\n",
    "max_proba = np.asarray([x.max() for x in probability])\n",
    "\n",
    "# review the result\n",
    "max_proba.shape"
   ]
  },
  {
   "cell_type": "code",
   "execution_count": 146,
   "metadata": {
    "collapsed": true
   },
   "outputs": [],
   "source": [
    "# add probability to the set\n",
    "svc_proba = np.concatenate((svc_set, max_proba[:, None]), 1)"
   ]
  },
  {
   "cell_type": "markdown",
   "metadata": {},
   "source": [
    "Now I transform the set back into pandas dataframe."
   ]
  },
  {
   "cell_type": "code",
   "execution_count": 147,
   "metadata": {
    "collapsed": false
   },
   "outputs": [
    {
     "data": {
      "text/html": [
       "<div>\n",
       "<table border=\"1\" class=\"dataframe\">\n",
       "  <thead>\n",
       "    <tr style=\"text-align: right;\">\n",
       "      <th></th>\n",
       "      <th>acousticness</th>\n",
       "      <th>danceability</th>\n",
       "      <th>energy</th>\n",
       "      <th>instrumentalness</th>\n",
       "      <th>key</th>\n",
       "      <th>loudness</th>\n",
       "      <th>mode</th>\n",
       "      <th>speechiness</th>\n",
       "      <th>tempo</th>\n",
       "      <th>time_signature</th>\n",
       "      <th>valence</th>\n",
       "      <th>match</th>\n",
       "      <th>num_cat</th>\n",
       "      <th>probability</th>\n",
       "    </tr>\n",
       "    <tr>\n",
       "      <th>index</th>\n",
       "      <th></th>\n",
       "      <th></th>\n",
       "      <th></th>\n",
       "      <th></th>\n",
       "      <th></th>\n",
       "      <th></th>\n",
       "      <th></th>\n",
       "      <th></th>\n",
       "      <th></th>\n",
       "      <th></th>\n",
       "      <th></th>\n",
       "      <th></th>\n",
       "      <th></th>\n",
       "      <th></th>\n",
       "    </tr>\n",
       "  </thead>\n",
       "  <tbody>\n",
       "    <tr>\n",
       "      <th>243</th>\n",
       "      <td>-0.92</td>\n",
       "      <td>-0.96</td>\n",
       "      <td>-0.30</td>\n",
       "      <td>0.12</td>\n",
       "      <td>1.33</td>\n",
       "      <td>-0.31</td>\n",
       "      <td>-1.13</td>\n",
       "      <td>-0.45</td>\n",
       "      <td>1.21</td>\n",
       "      <td>0.15</td>\n",
       "      <td>-0.39</td>\n",
       "      <td>1</td>\n",
       "      <td>1</td>\n",
       "      <td>0.75</td>\n",
       "    </tr>\n",
       "    <tr>\n",
       "      <th>75</th>\n",
       "      <td>-0.93</td>\n",
       "      <td>-0.17</td>\n",
       "      <td>1.49</td>\n",
       "      <td>0.06</td>\n",
       "      <td>-1.40</td>\n",
       "      <td>0.70</td>\n",
       "      <td>0.89</td>\n",
       "      <td>-0.15</td>\n",
       "      <td>0.57</td>\n",
       "      <td>0.15</td>\n",
       "      <td>0.07</td>\n",
       "      <td>1</td>\n",
       "      <td>1</td>\n",
       "      <td>0.45</td>\n",
       "    </tr>\n",
       "    <tr>\n",
       "      <th>185</th>\n",
       "      <td>-0.17</td>\n",
       "      <td>-0.95</td>\n",
       "      <td>-0.15</td>\n",
       "      <td>1.40</td>\n",
       "      <td>-0.31</td>\n",
       "      <td>-0.14</td>\n",
       "      <td>0.89</td>\n",
       "      <td>-0.48</td>\n",
       "      <td>-0.02</td>\n",
       "      <td>0.15</td>\n",
       "      <td>-1.58</td>\n",
       "      <td>1</td>\n",
       "      <td>1</td>\n",
       "      <td>0.74</td>\n",
       "    </tr>\n",
       "  </tbody>\n",
       "</table>\n",
       "</div>"
      ],
      "text/plain": [
       "       acousticness  danceability  energy  instrumentalness   key  loudness  \\\n",
       "index                                                                         \n",
       "243           -0.92         -0.96   -0.30              0.12  1.33     -0.31   \n",
       "75            -0.93         -0.17    1.49              0.06 -1.40      0.70   \n",
       "185           -0.17         -0.95   -0.15              1.40 -0.31     -0.14   \n",
       "\n",
       "       mode  speechiness  tempo  time_signature  valence  match  num_cat  \\\n",
       "index                                                                      \n",
       "243   -1.13        -0.45   1.21            0.15    -0.39      1        1   \n",
       "75     0.89        -0.15   0.57            0.15     0.07      1        1   \n",
       "185    0.89        -0.48  -0.02            0.15    -1.58      1        1   \n",
       "\n",
       "       probability  \n",
       "index               \n",
       "243           0.75  \n",
       "75            0.45  \n",
       "185           0.74  "
      ]
     },
     "execution_count": 147,
     "metadata": {},
     "output_type": "execute_result"
    }
   ],
   "source": [
    "# transform into a DF for easier manipulations\n",
    "svc_df = pd.DataFrame(svc_proba, columns=li)\n",
    "\n",
    "# change column type to integer\n",
    "svc_df[['index', 'match', 'num_cat']] = svc_df[['index', 'match', 'num_cat']].astype(int)\n",
    "\n",
    "# change index to the original index\n",
    "svc_df = svc_df.set_index(['index'])\n",
    "\n",
    "# review the result\n",
    "svc_df.sample(3)"
   ]
  },
  {
   "cell_type": "code",
   "execution_count": 148,
   "metadata": {
    "collapsed": false
   },
   "outputs": [
    {
     "data": {
      "text/html": [
       "<div>\n",
       "<table border=\"1\" class=\"dataframe\">\n",
       "  <thead>\n",
       "    <tr style=\"text-align: right;\">\n",
       "      <th></th>\n",
       "      <th>acousticness</th>\n",
       "      <th>danceability</th>\n",
       "      <th>energy</th>\n",
       "      <th>instrumentalness</th>\n",
       "      <th>key</th>\n",
       "      <th>loudness</th>\n",
       "      <th>mode</th>\n",
       "      <th>speechiness</th>\n",
       "      <th>tempo</th>\n",
       "      <th>time_signature</th>\n",
       "      <th>valence</th>\n",
       "      <th>match</th>\n",
       "      <th>num_cat</th>\n",
       "      <th>probability</th>\n",
       "    </tr>\n",
       "    <tr>\n",
       "      <th>index</th>\n",
       "      <th></th>\n",
       "      <th></th>\n",
       "      <th></th>\n",
       "      <th></th>\n",
       "      <th></th>\n",
       "      <th></th>\n",
       "      <th></th>\n",
       "      <th></th>\n",
       "      <th></th>\n",
       "      <th></th>\n",
       "      <th></th>\n",
       "      <th></th>\n",
       "      <th></th>\n",
       "      <th></th>\n",
       "    </tr>\n",
       "  </thead>\n",
       "  <tbody>\n",
       "    <tr>\n",
       "      <th>5</th>\n",
       "      <td>0.01</td>\n",
       "      <td>-0.97</td>\n",
       "      <td>0.53</td>\n",
       "      <td>1.62</td>\n",
       "      <td>-1.40</td>\n",
       "      <td>-0.84</td>\n",
       "      <td>0.89</td>\n",
       "      <td>-0.48</td>\n",
       "      <td>-0.92</td>\n",
       "      <td>0.15</td>\n",
       "      <td>0.38</td>\n",
       "      <td>1</td>\n",
       "      <td>1</td>\n",
       "      <td>0.72</td>\n",
       "    </tr>\n",
       "    <tr>\n",
       "      <th>16</th>\n",
       "      <td>-0.91</td>\n",
       "      <td>0.96</td>\n",
       "      <td>0.77</td>\n",
       "      <td>-0.77</td>\n",
       "      <td>-0.04</td>\n",
       "      <td>0.24</td>\n",
       "      <td>-1.13</td>\n",
       "      <td>-0.25</td>\n",
       "      <td>-0.34</td>\n",
       "      <td>0.15</td>\n",
       "      <td>1.28</td>\n",
       "      <td>1</td>\n",
       "      <td>0</td>\n",
       "      <td>0.72</td>\n",
       "    </tr>\n",
       "    <tr>\n",
       "      <th>29</th>\n",
       "      <td>1.27</td>\n",
       "      <td>0.31</td>\n",
       "      <td>-1.15</td>\n",
       "      <td>-0.77</td>\n",
       "      <td>0.51</td>\n",
       "      <td>-1.15</td>\n",
       "      <td>-1.13</td>\n",
       "      <td>-0.42</td>\n",
       "      <td>-0.30</td>\n",
       "      <td>0.15</td>\n",
       "      <td>-1.34</td>\n",
       "      <td>1</td>\n",
       "      <td>2</td>\n",
       "      <td>0.72</td>\n",
       "    </tr>\n",
       "    <tr>\n",
       "      <th>38</th>\n",
       "      <td>-0.89</td>\n",
       "      <td>0.33</td>\n",
       "      <td>1.43</td>\n",
       "      <td>-0.77</td>\n",
       "      <td>0.79</td>\n",
       "      <td>1.25</td>\n",
       "      <td>0.89</td>\n",
       "      <td>2.90</td>\n",
       "      <td>0.06</td>\n",
       "      <td>0.15</td>\n",
       "      <td>0.21</td>\n",
       "      <td>1</td>\n",
       "      <td>0</td>\n",
       "      <td>0.84</td>\n",
       "    </tr>\n",
       "    <tr>\n",
       "      <th>40</th>\n",
       "      <td>-0.70</td>\n",
       "      <td>0.39</td>\n",
       "      <td>0.62</td>\n",
       "      <td>1.13</td>\n",
       "      <td>1.61</td>\n",
       "      <td>0.65</td>\n",
       "      <td>-1.13</td>\n",
       "      <td>-0.35</td>\n",
       "      <td>-0.34</td>\n",
       "      <td>0.15</td>\n",
       "      <td>0.66</td>\n",
       "      <td>1</td>\n",
       "      <td>1</td>\n",
       "      <td>0.71</td>\n",
       "    </tr>\n",
       "  </tbody>\n",
       "</table>\n",
       "</div>"
      ],
      "text/plain": [
       "       acousticness  danceability  energy  instrumentalness   key  loudness  \\\n",
       "index                                                                         \n",
       "5              0.01         -0.97    0.53              1.62 -1.40     -0.84   \n",
       "16            -0.91          0.96    0.77             -0.77 -0.04      0.24   \n",
       "29             1.27          0.31   -1.15             -0.77  0.51     -1.15   \n",
       "38            -0.89          0.33    1.43             -0.77  0.79      1.25   \n",
       "40            -0.70          0.39    0.62              1.13  1.61      0.65   \n",
       "\n",
       "       mode  speechiness  tempo  time_signature  valence  match  num_cat  \\\n",
       "index                                                                      \n",
       "5      0.89        -0.48  -0.92            0.15     0.38      1        1   \n",
       "16    -1.13        -0.25  -0.34            0.15     1.28      1        0   \n",
       "29    -1.13        -0.42  -0.30            0.15    -1.34      1        2   \n",
       "38     0.89         2.90   0.06            0.15     0.21      1        0   \n",
       "40    -1.13        -0.35  -0.34            0.15     0.66      1        1   \n",
       "\n",
       "       probability  \n",
       "index               \n",
       "5             0.72  \n",
       "16            0.72  \n",
       "29            0.72  \n",
       "38            0.84  \n",
       "40            0.71  "
      ]
     },
     "execution_count": 148,
     "metadata": {},
     "output_type": "execute_result"
    }
   ],
   "source": [
    "# add a 0.7 threshold for probability\n",
    "svc_high_proba = svc_df[svc_df['probability'] >= 0.7]"
   ]
  },
  {
   "cell_type": "code",
   "execution_count": 149,
   "metadata": {
    "collapsed": false
   },
   "outputs": [
    {
     "name": "stdout",
     "output_type": "stream",
     "text": [
      "Number of tracks with class probability higher than 70%: 54.\n",
      "Number of tracks assigned to the \"cycling\" class: 36.\n",
      "Number of tracks assigned to the \"focus\" class: 11.\n",
      "Number of tracks assigned to the \"yoga\" class: 7.\n"
     ]
    }
   ],
   "source": [
    "# print the result\n",
    "print (\"Number of tracks with class probability higher than 70%: {0}.\" \n",
    "       \"\\nNumber of tracks assigned to the \\\"cycling\\\" class: {1}.\"\n",
    "       \"\\nNumber of tracks assigned to the \\\"focus\\\" class: {2}.\"\n",
    "       \"\\nNumber of tracks assigned to the \\\"yoga\\\" class: {3}.\" \n",
    "       .format(len(svc_high_proba), \n",
    "               len(svc_high_proba[svc_high_proba['num_cat'] == 0]),\n",
    "               len(svc_high_proba[svc_high_proba['num_cat'] == 1]),\n",
    "               len(svc_high_proba[svc_high_proba['num_cat'] == 2])))"
   ]
  },
  {
   "cell_type": "markdown",
   "metadata": {},
   "source": [
    "## START HERE!!!\n",
    "To do: \n",
    "1) which plots can I add?\n",
    "2) make a copy of the notebook and try the same calculations with 2 classes, yoga and cycling. \n",
    "3) try novelty detection class by class"
   ]
  },
  {
   "cell_type": "code",
   "execution_count": null,
   "metadata": {
    "collapsed": true
   },
   "outputs": [],
   "source": []
  },
  {
   "cell_type": "code",
   "execution_count": null,
   "metadata": {
    "collapsed": true
   },
   "outputs": [],
   "source": []
  },
  {
   "cell_type": "code",
   "execution_count": null,
   "metadata": {
    "collapsed": true
   },
   "outputs": [],
   "source": []
  },
  {
   "cell_type": "code",
   "execution_count": null,
   "metadata": {
    "collapsed": true
   },
   "outputs": [],
   "source": []
  },
  {
   "cell_type": "code",
   "execution_count": null,
   "metadata": {
    "collapsed": true
   },
   "outputs": [],
   "source": []
  },
  {
   "cell_type": "code",
   "execution_count": null,
   "metadata": {
    "collapsed": true
   },
   "outputs": [],
   "source": []
  },
  {
   "cell_type": "code",
   "execution_count": null,
   "metadata": {
    "collapsed": true
   },
   "outputs": [],
   "source": []
  },
  {
   "cell_type": "code",
   "execution_count": 61,
   "metadata": {
    "collapsed": false
   },
   "outputs": [
    {
     "name": "stdout",
     "output_type": "stream",
     "text": [
      "Original dataset shape: (91, 11)\n",
      "Reduced dataset shape: (91, 2)\n"
     ]
    }
   ],
   "source": [
    "# to plot the graph we need to perform dimensionality reduction\n",
    "# use PCA\n",
    "\n",
    "from sklearn.decomposition import PCA\n",
    "pca = PCA(n_components=2)\n",
    "train_reduced = pca.fit_transform(train_data)\n",
    "print \"Original dataset shape:\", train_data.shape\n",
    "print \"Reduced dataset shape:\", train_reduced.shape"
   ]
  },
  {
   "cell_type": "code",
   "execution_count": 62,
   "metadata": {
    "collapsed": false,
    "scrolled": true
   },
   "outputs": [
    {
     "name": "stdout",
     "output_type": "stream",
     "text": [
      "Meaning of the 2 components:\n",
      "-0.392 x acousticness + 0.311 x danceability + 0.421 x energy + -0.392 x instrumentalness + -0.021 x key + 0.425 x loudness + 0.076 x mode + 0.152 x speechiness + 0.214 x tempo + 0.142 x time_signature + 0.377 x valence\n",
      "0.218 x acousticness + 0.180 x danceability + -0.097 x energy + -0.044 x instrumentalness + -0.674 x key + -0.056 x loudness + 0.398 x mode + -0.476 x speechiness + 0.182 x tempo + -0.016 x time_signature + 0.182 x valence\n"
     ]
    },
    {
     "data": {
      "image/png": "[encoded data removed]",
      "text/plain": [
       "<matplotlib.figure.Figure at 0x111b9e5d0>"
      ]
     },
     "metadata": {},
     "output_type": "display_data"
    }
   ],
   "source": [
    "import pylab as pl\n",
    "pl.scatter(train_reduced[:, 0], train_reduced[:, 1], c=target,\n",
    "           cmap='RdYlBu')\n",
    "\n",
    "print(\"Meaning of the 2 components:\")\n",
    "for component in pca.components_:\n",
    "    print(\" + \".join(\"%.3f x %s\" % (value, name)\n",
    "                     for value, name in zip(component,\n",
    "                                            train_matrix.columns)))"
   ]
  },
  {
   "cell_type": "markdown",
   "metadata": {},
   "source": [
    "This gives us an idea of the relationship between the classes. Essentially, we have found the optimal stretch and rotation in 11-dimensional space that allows us to see the layout of classes, without reference to the labels."
   ]
  },
  {
   "cell_type": "code",
   "execution_count": 33,
   "metadata": {
    "collapsed": false
   },
   "outputs": [
    {
     "data": {
      "image/png": "[encoded data removed]",
      "text/plain": [
       "<matplotlib.figure.Figure at 0x10fa0cd90>"
      ]
     },
     "metadata": {},
     "output_type": "display_data"
    }
   ],
   "source": [
    "sns.set()\n",
    "pca = PCA().fit(train_data)\n",
    "plt.plot(np.cumsum(pca.explained_variance_ratio_))\n",
    "plt.xlabel('number of components')\n",
    "plt.ylabel('cumulative explained variance');"
   ]
  },
  {
   "cell_type": "markdown",
   "metadata": {},
   "source": [
    "Here we see that our two-dimensional projection loses almost 40% of information (as measured by the explained variance) and that we'd need 6 components to retain 90% of the variance."
   ]
  },
  {
   "cell_type": "code",
   "execution_count": 35,
   "metadata": {
    "collapsed": false
   },
   "outputs": [
    {
     "data": {
      "text/plain": [
       "(331, 2)"
      ]
     },
     "execution_count": 35,
     "metadata": {},
     "output_type": "execute_result"
    }
   ],
   "source": [
    "pca = PCA(n_components=2)\n",
    "test_reduced = pca.fit_transform(test_data)\n",
    "test_reduced.shape"
   ]
  },
  {
   "cell_type": "code",
   "execution_count": 36,
   "metadata": {
    "collapsed": true
   },
   "outputs": [],
   "source": [
    "y = test_reduced"
   ]
  },
  {
   "cell_type": "code",
   "execution_count": 73,
   "metadata": {
    "collapsed": true
   },
   "outputs": [],
   "source": [
    "# Use for 1d model\n",
    "def plot_svc_decision_function(clf, ax=None):\n",
    "    \"\"\"Plot the decision function for a 2D SVC\"\"\"\n",
    "    if ax is None:\n",
    "        ax = plt.gca()\n",
    "    x = np.linspace(plt.xlim()[0], plt.xlim()[1], 30)\n",
    "    y = np.linspace(plt.ylim()[0], plt.ylim()[1], 30)\n",
    "    Y, X = np.meshgrid(y, x)\n",
    "    P = np.zeros_like(X)\n",
    "    for i, xi in enumerate(x):\n",
    "        for j, yj in enumerate(y):\n",
    "            P[i, j] = clf.decision_function([xi, yj])\n",
    "    # plot the margins\n",
    "    ax.contour(X, Y, P, colors='k',\n",
    "               levels=[-1, 0, 1], alpha=0.5,\n",
    "               linestyles=['--', '-', '--'])"
   ]
  },
  {
   "cell_type": "code",
   "execution_count": 37,
   "metadata": {
    "collapsed": true
   },
   "outputs": [],
   "source": [
    "# fit the model\n",
    "clf = svm.OneClassSVM(nu=0.2, kernel=\"rbf\", gamma=0.1)\n",
    "clf.fit(X)\n",
    "y_pred_train = clf.predict(X)\n",
    "y_pred_test = clf.predict(y)\n",
    "n_error_train = y_pred_train[y_pred_train == -1].size\n",
    "n_error_test = y_pred_test[y_pred_test == -1].size"
   ]
  },
  {
   "cell_type": "code",
   "execution_count": 38,
   "metadata": {
    "collapsed": false
   },
   "outputs": [
    {
     "data": {
      "text/plain": [
       "18"
      ]
     },
     "execution_count": 38,
     "metadata": {},
     "output_type": "execute_result"
    }
   ],
   "source": [
    "n_error_train"
   ]
  },
  {
   "cell_type": "code",
   "execution_count": 39,
   "metadata": {
    "collapsed": false
   },
   "outputs": [
    {
     "data": {
      "image/png": "[encoded data removed]",
      "text/plain": [
       "<matplotlib.figure.Figure at 0x10fedac50>"
      ]
     },
     "metadata": {},
     "output_type": "display_data"
    }
   ],
   "source": [
    "import matplotlib\n",
    "h = 0.02  # step size in the mesh\n",
    "# create a mesh to plot in\n",
    "x_min, x_max = X[:, 0].min() - 2, X[:, 0].max() + 3\n",
    "y_min, y_max = X[:, 1].min() - 2, X[:, 1].max() + 2\n",
    "xx, yy = np.meshgrid(np.arange(x_min, x_max, h),\n",
    "                     np.arange(y_min, y_max, h))\n",
    "\n",
    "Z = clf.decision_function(np.c_[xx.ravel(), yy.ravel()])\n",
    "Z = Z.reshape(xx.shape)\n",
    "\n",
    "plt.title(\"Novelty Detection\")\n",
    "plt.contourf(xx, yy, Z, levels=np.linspace(Z.min(), 0, 7), cmap=plt.cm.Blues_r)\n",
    "a = plt.contour(xx, yy, Z, levels=[0], linewidths=2, colors='red')\n",
    "plt.contourf(xx, yy, Z, levels=[0, Z.max()], colors='orange')\n",
    "\n",
    "b1 = plt.scatter(X[:, 0], X[:, 1], c='white')\n",
    "b2 = plt.scatter(y[:, 0], y[:, 1], c='green')\n",
    "plt.axis('tight')\n",
    "plt.xlim((-5, 7))\n",
    "plt.ylim((-6.5, 4))\n",
    "plt.legend([a.collections[0], b1, b2],\n",
    "           [\"learned frontier\", \"training observations\",\n",
    "            \"new observations\"],\n",
    "           loc=\"upper left\",\n",
    "           prop=matplotlib.font_manager.FontProperties(size=11))\n",
    "plt.xlabel(\n",
    "    \"error train: %d/91 ; errors novel: %d/331\"\n",
    "    % (n_error_train, n_error_test))\n",
    "plt.show()\n"
   ]
  },
  {
   "cell_type": "code",
   "execution_count": 40,
   "metadata": {
    "collapsed": false
   },
   "outputs": [],
   "source": [
    "\n",
    "# plot the line, the points, and the nearest vectors to the plane\n",
    "#\n",
    "#Z = Z.reshape(xx.shape)"
   ]
  }
 ],
 "metadata": {
  "kernelspec": {
   "display_name": "Python 2",
   "language": "python",
   "name": "python2"
  },
  "language_info": {
   "codemirror_mode": {
    "name": "ipython",
    "version": 2
   },
   "file_extension": ".py",
   "mimetype": "text/x-python",
   "name": "python",
   "nbconvert_exporter": "python",
   "pygments_lexer": "ipython2",
   "version": "2.7.10"
  }
 },
 "nbformat": 4,
 "nbformat_minor": 0
}
