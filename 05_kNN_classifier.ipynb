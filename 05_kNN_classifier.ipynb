{
 "cells": [
  {
   "cell_type": "markdown",
   "metadata": {},
   "source": [
    "# 05. Machine Learning for music playlists: K-nearest neighbors classification\n",
    "This is the 5th post in a series of posts devoted to building music playlists with Scikit-Learn tools.   \n",
    "The purpose of the analysis is to detect tracks in my iTunes music library that would suit my fitness practices, which are \"ballet\", \"cycling\", and \"yoga\". To solve that problem I use ML classification algorithms. \n",
    "\n",
    "Previous posts cover the following steps:\n",
    "* [00_Overview](https://github.com/Tykovka/itunes-music-analysis/blob/master/00_Overview.ipynb) — Overview of the analysis, its goals and methods, installation notes.  \n",
    "* [01_Data_preparation](https://github.com/Tykovka/itunes-music-analysis/blob/master/01_Data_preparation.ipynb) — Data gathering and cleaning.  \n",
    "* [02_Data_visualisation](https://github.com/Tykovka/itunes-music-analysis/blob/master/02_Data_Visualisation.ipynb) — Visualisation and overview of data.  \n",
    "* [03_Preprocessing](https://github.com/Tykovka/itunes-music-analysis/blob/master/03_Preprocessing.ipynb) — Data preprocessing to use it as input for Scikit-learn ML algorithms. \n",
    "* [04_Novelty_detection](https://github.com/Tykovka/itunes-music-analysis/blob/master/04_Novelty_detection.ipynb) — One-Class SVM algorithm to identify matching tracks in the non-labelled dataset.\n",
    "\n",
    "As a result of previous manipulations I have the following datasets in HDF5 format: \n",
    "* training set contains 143 tracks labelled with one of the three classes: \"ballet\", \"cycling\", \"yoga\";\n",
    "* test set contains 536 tracks, where 408 tracks are labelled as matching the training set and 128 tracks as non-matching. In the [04_Novelty_detection](https://github.com/Tykovka/itunes-music-analysis/blob/master/04_Novelty_detection.ipynb) notebook, I used One-Class SVM algorithm to choose tracks in the test set that match the training data. As a result, each track was identified either as matching (label \"1\") or not (label \"-1\").\n",
    "\n",
    "Both datasets are stored as numpy arrays of standardised data. Target labels are stored as a numpy array in HDF5 file as well.\n",
    "\n",
    "In this post, I apply [k neighbours classification](http://scikit-learn.org/stable/modules/neighbors.html#classification) to assign every track in the matching group one of the classes. \n",
    "\n",
    "#### Contents of the notebook\n",
    "* [Tune parameters using GridSearchCV](#1.-Tune-parameters-using-GridSearchCV)\n",
    "* [Create and train the model](#2.-Create-and-train-the-model)\n",
    "* [Estimate model accuracy score](#3.-Estimate-model-accuracy-score)\n",
    "* [Make predictions and estimate probability](#4.-Make-predictions-and-estimate-probability)\n",
    "* [Record the result to the set and DF](#5.-Record-the-result)\n",
    "* [Review the results](#6.-Review-the-result)\n",
    "* [Apply probability threshold](#7.-Apply-probability-threshold)\n",
    "* [Summary](#Summary)\n",
    "\n",
    "I start with importing modules required in the notebook."
   ]
  },
  {
   "cell_type": "code",
   "execution_count": 1,
   "metadata": {
    "collapsed": true
   },
   "outputs": [],
   "source": [
    "# the future division statement\n",
    "from __future__ import division\n",
    "\n",
    "from IPython.display import display\n",
    "import numpy as np"
   ]
  },
  {
   "cell_type": "markdown",
   "metadata": {},
   "source": [
    "#### Read in data\n",
    "In this notebook, I use preprocessed data, which are numpy arrays of standardised data.  \n",
    "I store data in HDF5 file format. To read it I use h5py library."
   ]
  },
  {
   "cell_type": "code",
   "execution_count": 2,
   "metadata": {
    "collapsed": false
   },
   "outputs": [],
   "source": [
    "import h5py\n",
    "\n",
    "# open the file 'music_data.h5' in read-only mode\n",
    "with h5py.File('music_data.h5','r') as hf:\n",
    "    train_std = np.array(hf.get('train_std'))\n",
    "    target = np.array(hf.get('target'))\n",
    "    test_svm = np.array(hf.get('test_svm'))"
   ]
  },
  {
   "cell_type": "code",
   "execution_count": 3,
   "metadata": {
    "collapsed": false
   },
   "outputs": [
    {
     "name": "stdout",
     "output_type": "stream",
     "text": [
      "Training set: (143, 11)\n",
      "Test set: (536, 12)\n"
     ]
    }
   ],
   "source": [
    "# shape of sets\n",
    "print \"Training set:\", train_std.shape\n",
    "print \"Test set:\", test_svm.shape"
   ]
  },
  {
   "cell_type": "code",
   "execution_count": 4,
   "metadata": {
    "collapsed": true
   },
   "outputs": [],
   "source": [
    "labels = ['ballet', 'cycling', 'yoga']"
   ]
  },
  {
   "cell_type": "markdown",
   "metadata": {},
   "source": [
    "I create a separate array with matching tracks that are labelled with \"1\". I also save index of these rows as a numpy array. Thus, it will be easier to identify each track after classification, where I'll be using only tracks labelled as matching."
   ]
  },
  {
   "cell_type": "code",
   "execution_count": 5,
   "metadata": {
    "collapsed": false
   },
   "outputs": [],
   "source": [
    "# original index of matching rows\n",
    "indx = np.where(test_svm[:, 11] == 1)[0]"
   ]
  },
  {
   "cell_type": "code",
   "execution_count": 6,
   "metadata": {
    "collapsed": false
   },
   "outputs": [],
   "source": [
    "# matching tracks\n",
    "# leave a column with a matching label out\n",
    "test_match = test_svm[indx, 0:11]"
   ]
  },
  {
   "cell_type": "code",
   "execution_count": 7,
   "metadata": {
    "collapsed": false,
    "scrolled": true
   },
   "outputs": [
    {
     "name": "stdout",
     "output_type": "stream",
     "text": [
      "Data overview: \n",
      "Train data shape: (143, 11)\n",
      "Test data shape: (536, 12)\n",
      "Test data only with matching tracks: (408, 11)\n"
     ]
    }
   ],
   "source": [
    "print \"Data overview: \"\n",
    "print \"Train data shape:\", train_std.shape\n",
    "print \"Test data shape:\", test_svm.shape\n",
    "print \"Test data only with matching tracks:\", test_match.shape"
   ]
  },
  {
   "cell_type": "markdown",
   "metadata": {},
   "source": [
    "## K-nearest neighbors classification\n",
    "Nearest neighbors classification algorithm computes a class for every query point (that is, non-labelled observation) based on a simple majority of class representatives within the nearest labelled neighbors. In Scikit_Learn [KNeighborsClassifier](http://scikit-learn.org/stable/modules/generated/sklearn.neighbors.KNeighborsClassifier.html#sklearn.neighbors.KNeighborsClassifier) number of nearest neighbors of each query point — *k* — is specified in model parameters."
   ]
  },
  {
   "cell_type": "code",
   "execution_count": 8,
   "metadata": {
    "collapsed": true
   },
   "outputs": [],
   "source": [
    "# nearest neighbours algorithm\n",
    "from sklearn import neighbors"
   ]
  },
  {
   "cell_type": "markdown",
   "metadata": {},
   "source": [
    "### 1. Tune parameters using GridSearchCV\n",
    "[GridSearchCV](http://scikit-learn.org/stable/modules/generated/sklearn.grid_search.GridSearchCV.html) performs an exhaustive search over specified parameter values for an estimator. I use it to test the desired range of input parameters, and review the performance of each set of values on a cross-validation basis. "
   ]
  },
  {
   "cell_type": "code",
   "execution_count": 9,
   "metadata": {
    "collapsed": false
   },
   "outputs": [
    {
     "data": {
      "text/plain": [
       "[mean: 0.75524, std: 0.05422, params: {'n_neighbors': 5, 'weights': 'uniform', 'algorithm': 'auto'},\n",
       " mean: 0.75524, std: 0.08539, params: {'n_neighbors': 7, 'weights': 'uniform', 'algorithm': 'auto'},\n",
       " mean: 0.75524, std: 0.05422, params: {'n_neighbors': 5, 'weights': 'uniform', 'algorithm': 'ball_tree'},\n",
       " mean: 0.75524, std: 0.08539, params: {'n_neighbors': 7, 'weights': 'uniform', 'algorithm': 'ball_tree'},\n",
       " mean: 0.75524, std: 0.05422, params: {'n_neighbors': 5, 'weights': 'uniform', 'algorithm': 'kd_tree'},\n",
       " mean: 0.75524, std: 0.08539, params: {'n_neighbors': 7, 'weights': 'uniform', 'algorithm': 'kd_tree'},\n",
       " mean: 0.75524, std: 0.05422, params: {'n_neighbors': 5, 'weights': 'uniform', 'algorithm': 'brute'},\n",
       " mean: 0.75524, std: 0.08539, params: {'n_neighbors': 7, 'weights': 'uniform', 'algorithm': 'brute'},\n",
       " mean: 0.76224, std: 0.04950, params: {'n_neighbors': 3, 'weights': 'uniform', 'algorithm': 'auto'},\n",
       " mean: 0.76224, std: 0.04950, params: {'n_neighbors': 3, 'weights': 'distance', 'algorithm': 'auto'},\n",
       " mean: 0.76224, std: 0.04950, params: {'n_neighbors': 5, 'weights': 'distance', 'algorithm': 'auto'},\n",
       " mean: 0.76224, std: 0.04950, params: {'n_neighbors': 3, 'weights': 'uniform', 'algorithm': 'ball_tree'},\n",
       " mean: 0.76224, std: 0.04950, params: {'n_neighbors': 3, 'weights': 'distance', 'algorithm': 'ball_tree'},\n",
       " mean: 0.76224, std: 0.04950, params: {'n_neighbors': 5, 'weights': 'distance', 'algorithm': 'ball_tree'},\n",
       " mean: 0.76224, std: 0.04950, params: {'n_neighbors': 3, 'weights': 'uniform', 'algorithm': 'kd_tree'},\n",
       " mean: 0.76224, std: 0.04950, params: {'n_neighbors': 3, 'weights': 'distance', 'algorithm': 'kd_tree'},\n",
       " mean: 0.76224, std: 0.04950, params: {'n_neighbors': 5, 'weights': 'distance', 'algorithm': 'kd_tree'},\n",
       " mean: 0.76224, std: 0.04950, params: {'n_neighbors': 3, 'weights': 'uniform', 'algorithm': 'brute'},\n",
       " mean: 0.76224, std: 0.04950, params: {'n_neighbors': 3, 'weights': 'distance', 'algorithm': 'brute'},\n",
       " mean: 0.76224, std: 0.04950, params: {'n_neighbors': 5, 'weights': 'distance', 'algorithm': 'brute'},\n",
       " mean: 0.77622, std: 0.06555, params: {'n_neighbors': 7, 'weights': 'distance', 'algorithm': 'auto'},\n",
       " mean: 0.77622, std: 0.06555, params: {'n_neighbors': 7, 'weights': 'distance', 'algorithm': 'ball_tree'},\n",
       " mean: 0.77622, std: 0.06555, params: {'n_neighbors': 7, 'weights': 'distance', 'algorithm': 'kd_tree'},\n",
       " mean: 0.77622, std: 0.06555, params: {'n_neighbors': 7, 'weights': 'distance', 'algorithm': 'brute'}]"
      ]
     },
     "execution_count": 9,
     "metadata": {},
     "output_type": "execute_result"
    }
   ],
   "source": [
    "from sklearn.grid_search import GridSearchCV\n",
    "\n",
    "# set the range of input parameters\n",
    "parameter_grid = {'n_neighbors': [3, 5, 7],\n",
    "                  'weights': ['uniform', 'distance'],\n",
    "                 'algorithm': ['auto', 'ball_tree', \n",
    "                               'kd_tree', 'brute']}\n",
    "\n",
    "# set the algorithm\n",
    "grid_search = GridSearchCV(neighbors.KNeighborsClassifier(), \n",
    "                           parameter_grid, cv=6)\n",
    "\n",
    "grid_search.fit(train_std, target)\n",
    "\n",
    "# review the result\n",
    "sorted(grid_search.grid_scores_, \n",
    "       key=lambda x: x.mean_validation_score)"
   ]
  },
  {
   "cell_type": "code",
   "execution_count": 10,
   "metadata": {
    "collapsed": false
   },
   "outputs": [
    {
     "name": "stdout",
     "output_type": "stream",
     "text": [
      "The best-performing tuning parameters\n",
      "Best score: 0.7762;\n",
      "Best parameters: {'n_neighbors': 7, 'weights': 'distance', 'algorithm': 'auto'}.\n"
     ]
    }
   ],
   "source": [
    "# define the winner\n",
    "knn_best_score = grid_search.best_score_\n",
    "best_params = grid_search.best_params_\n",
    "\n",
    "print (\"The best-performing tuning parameters\"\n",
    "       \"\\nBest score: {0:.4f};\"\n",
    "       \"\\nBest parameters: {1}.\"\n",
    "       .format(knn_best_score, \n",
    "               best_params\n",
    "              ))"
   ]
  },
  {
   "cell_type": "markdown",
   "metadata": {},
   "source": [
    "### 2. Create and train the model\n",
    "Next, I create a model using the parameters defined by GridSearchCV."
   ]
  },
  {
   "cell_type": "code",
   "execution_count": 11,
   "metadata": {
    "collapsed": false
   },
   "outputs": [
    {
     "data": {
      "text/plain": [
       "KNeighborsClassifier(algorithm='auto', leaf_size=30, metric='minkowski',\n",
       "           metric_params=None, n_neighbors=7, p=2, weights='distance')"
      ]
     },
     "execution_count": 11,
     "metadata": {},
     "output_type": "execute_result"
    }
   ],
   "source": [
    "# create the model\n",
    "knn = neighbors.KNeighborsClassifier(n_neighbors=best_params['n_neighbors'], \n",
    "                                     weights=best_params['weights'], \n",
    "                                     algorithm=best_params['algorithm'])\n",
    "\n",
    "# train the model\n",
    "knn.fit(train_std, target)"
   ]
  },
  {
   "cell_type": "markdown",
   "metadata": {},
   "source": [
    "### 3. Estimate model accuracy score\n",
    "One of the most important pieces of machine learning is model validation: that is, checking how well the model fits a given dataset. I can not automatically assess the accuracy of predictions made for the test set because it is non-labelled data. A better way to test a model is to use a hold-out part of the labelled set which doesn't enter the training.  \n",
    "\n",
    "Scikit-Learn provides a great tool for model validation — [K-fold cross-validation](http://scikit-learn.org/stable/modules/generated/sklearn.cross_validation.cross_val_score.html#sklearn.cross_validation.cross_val_score) module, which splits the data into K chunks and performs K fits, where each chunk gets a turn as the validation set. K is defined by the cv parameter. I use 10-fold cross validation. "
   ]
  },
  {
   "cell_type": "code",
   "execution_count": 12,
   "metadata": {
    "collapsed": false
   },
   "outputs": [],
   "source": [
    "from sklearn.cross_validation import cross_val_score\n",
    "\n",
    "# calculate model accuracy score\n",
    "cvs = cross_val_score(knn, train_std, target, \n",
    "                    scoring='accuracy', cv=10).mean()"
   ]
  },
  {
   "cell_type": "code",
   "execution_count": 13,
   "metadata": {
    "collapsed": false
   },
   "outputs": [
    {
     "name": "stdout",
     "output_type": "stream",
     "text": [
      "K-neighbors classification model accuracy score: 0.742\n",
      "Model report \n",
      "             precision    recall  f1-score   support\n",
      "\n",
      "     ballet       0.65      0.67      0.66        49\n",
      "    cycling       0.82      0.89      0.85        45\n",
      "       yoga       0.77      0.67      0.72        49\n",
      "\n",
      "avg / total       0.74      0.74      0.74       143\n",
      "\n"
     ]
    }
   ],
   "source": [
    "# Build a text report showing the main classification metrics\n",
    "from sklearn.cross_validation import cross_val_predict\n",
    "from sklearn.metrics import classification_report\n",
    "    \n",
    "predicted = cross_val_predict(knn, train_std, \n",
    "                            target, cv=10)\n",
    "\n",
    "print (\"K-neighbors classification model \"\n",
    "       \"accuracy score: {:.3f}\"\n",
    "       .format(cvs))\n",
    "print \"Model report \\n\", \n",
    "print classification_report(target, predicted, \n",
    "                            target_names=labels)"
   ]
  },
  {
   "cell_type": "markdown",
   "metadata": {},
   "source": [
    "Let me explain the above numbers. \n",
    "\n",
    "The *precision* is the ratio of true positives to the sum of true and false positives. The precision is intuitively the ability of the classifier not to label as positive a sample that is negative.  \n",
    "In this case, \"cycling\" class has the highest precision. That means that the pureness of model prediction for that class is 82% (18% of tracks assigned this class have a different label), whereas for the \"yoga\" class it equals 77%, which still is pretty high. The \"ballet\" class has the lowest precision ratio equal to 65%. \n",
    "\n",
    "The *recall* is the ratio of true positives to the sum of true positives and false negatives. The recall is intuitively the ability of the classifier to find all the positive samples. \n",
    "The \"cycling\" class has the highest score. 89% of tracks belonging to that class were identified correctly by the model. The \"yoga\" and \"ballet\" classes have a lower recall ratio, which equals 67%. That means that 33% of tracks belonging to these classes were assigned a wrong class.  \n",
    "\n",
    "The *F1-score* can be interpreted as a weighted average of the precision and recall, where an F1 score reaches its best value at 1 and worst score at 0. The \"cycling\" class has the highest score equal to 0.85.\n",
    "\n",
    "The *support* is the number of occurrences of each class in y_true. This is the number of tracks in each class. \n",
    "\n",
    "The overall accuracy of the model is high. The \"cycling\" class proves itself as the easiest to predict and the \"ballet\", on the contrary, has the least accurate predictions.\n",
    "\n",
    "### 4. Make predictions and estimate probability\n",
    "Satisfied with the model performance on the training set, I apply it to the test set to make predictions using predict method. "
   ]
  },
  {
   "cell_type": "code",
   "execution_count": 14,
   "metadata": {
    "collapsed": true
   },
   "outputs": [],
   "source": [
    "# make predictions\n",
    "knn_output = knn.predict(test_match).astype(int)"
   ]
  },
  {
   "cell_type": "markdown",
   "metadata": {},
   "source": [
    "Nearest neighbors classifier has predict_proba method that can predict the probability of class membership. For every query point, it will calculate the probability of belonging to each class."
   ]
  },
  {
   "cell_type": "code",
   "execution_count": 15,
   "metadata": {
    "collapsed": true
   },
   "outputs": [],
   "source": [
    "def class_prob(model, test_data):\n",
    "    \"\"\"Calculate probability for \n",
    "    every class and return an array\n",
    "    with highest probability for each\n",
    "    track. \n",
    "    \"\"\"\n",
    "    probability = model.predict_proba(test_data)\n",
    "    \n",
    "    # make a list of highest probabilities\n",
    "    max_proba = np.asarray([x.max() for x in probability])\n",
    "    return max_proba[:, None]"
   ]
  },
  {
   "cell_type": "code",
   "execution_count": 16,
   "metadata": {
    "collapsed": false
   },
   "outputs": [],
   "source": [
    "# classification probability\n",
    "knn_prob = class_prob(knn, test_match)"
   ]
  },
  {
   "cell_type": "markdown",
   "metadata": {},
   "source": [
    "### 5. Record the result\n",
    "I save the resulting array as a hdf5 file. First, I concatenate the array with predicted labels and the array with predicted probabilities. "
   ]
  },
  {
   "cell_type": "code",
   "execution_count": 17,
   "metadata": {
    "collapsed": false
   },
   "outputs": [
    {
     "name": "stdout",
     "output_type": "stream",
     "text": [
      "(408, 2)\n",
      "\n",
      "Sample of the resulting set: \n"
     ]
    },
    {
     "data": {
      "text/plain": [
       "array([[ 1.        ,  0.72374329],\n",
       "       [ 1.        ,  0.55820007],\n",
       "       [ 1.        ,  0.89115197],\n",
       "       [ 0.        ,  1.        ],\n",
       "       [ 1.        ,  0.59481744],\n",
       "       [ 1.        ,  0.69063963],\n",
       "       [ 1.        ,  0.69066049]])"
      ]
     },
     "execution_count": 17,
     "metadata": {},
     "output_type": "execute_result"
    }
   ],
   "source": [
    "# add the result to the matching set\n",
    "knn_pred = np.concatenate((knn_output[:, None], knn_prob), 1)\n",
    "\n",
    "# review the result\n",
    "print knn_pred.shape\n",
    "print \"\\nSample of the resulting set: \"\n",
    "knn_pred[:7]"
   ]
  },
  {
   "cell_type": "code",
   "execution_count": 18,
   "metadata": {
    "collapsed": true
   },
   "outputs": [],
   "source": [
    "# save in HDF5\n",
    "with h5py.File('music_data.h5', 'a') as hf:\n",
    "    hf.create_dataset('test_match', data=test_match)\n",
    "    hf.create_dataset('indx', data=indx)\n",
    "    g1 = hf.create_group('predictions')\n",
    "    g1.create_dataset('knn_pred', data = knn_pred)"
   ]
  },
  {
   "cell_type": "markdown",
   "metadata": {},
   "source": [
    "### 6. Review the result"
   ]
  },
  {
   "cell_type": "code",
   "execution_count": 19,
   "metadata": {
    "collapsed": true
   },
   "outputs": [],
   "source": [
    "def class_size(model_pred):\n",
    "    \"\"\"Count number of items\n",
    "    in every class.\n",
    "    \"\"\"\n",
    "    unique, counts = np.unique(model_pred[:, 0], return_counts=True)\n",
    "    return dict(zip(unique, counts))\n",
    "\n",
    "def class_mean(model_pred, lb_ind):\n",
    "    \"\"\"Return mean probability\n",
    "    for the class\n",
    "    \"\"\"\n",
    "    return np.mean(model_pred[model_pred[:, 0] == lb_ind][:, 1])\n",
    "    \n",
    "def model_summary(model_pred, model, \n",
    "                  model_name, labels, cvs):\n",
    "    \"\"\"Print model summary\n",
    "    \"\"\"\n",
    "    print (\"Summary of the {} classifier \"\n",
    "           \"performance \\n\\nModel: \"\n",
    "           .format(model_name))\n",
    "    print model\n",
    "    print (\"\\nModel accuracy score: {:.3f}\"\n",
    "           \"\\nNumber of tracks in the test set: {}. \\n\"\n",
    "           .format(cvs, len(model_pred)))\n",
    "    \n",
    "    for lb in labels:\n",
    "        # label index\n",
    "        lb_ind = labels.index(lb)\n",
    "        # size of the class\n",
    "        lb_size = class_size(model_pred)[lb_ind]\n",
    "        print (\"Number of tracks assigned the \\\"{}\\\" class: \"\n",
    "               \"{}, or {:.1%} of all tracks.\"\n",
    "               .format(lb, lb_size, \n",
    "                       lb_size / len(model_pred)))\n",
    "        print (\"Mean probability for the class: {:.3f}. \\n\"\n",
    "               .format(class_mean(model_pred, lb_ind)))"
   ]
  },
  {
   "cell_type": "code",
   "execution_count": 20,
   "metadata": {
    "collapsed": false,
    "scrolled": false
   },
   "outputs": [
    {
     "name": "stdout",
     "output_type": "stream",
     "text": [
      "Summary of the K-Nearest Neighbors classifier performance \n",
      "\n",
      "Model: \n",
      "KNeighborsClassifier(algorithm='auto', leaf_size=30, metric='minkowski',\n",
      "           metric_params=None, n_neighbors=7, p=2, weights='distance')\n",
      "\n",
      "Model accuracy score: 0.742\n",
      "Number of tracks in the test set: 408. \n",
      "\n",
      "Number of tracks assigned the \"ballet\" class: 165, or 40.4% of all tracks.\n",
      "Mean probability for the class: 0.744. \n",
      "\n",
      "Number of tracks assigned the \"cycling\" class: 214, or 52.5% of all tracks.\n",
      "Mean probability for the class: 0.834. \n",
      "\n",
      "Number of tracks assigned the \"yoga\" class: 29, or 7.1% of all tracks.\n",
      "Mean probability for the class: 0.816. \n",
      "\n"
     ]
    }
   ],
   "source": [
    "# print the summary\n",
    "model_summary(knn_pred, knn, 'K-Nearest Neighbors', labels, cvs)"
   ]
  },
  {
   "cell_type": "markdown",
   "metadata": {},
   "source": [
    "The \"cycling\" class has the highest mean probability. On average, tracks are assigned this class with 83% certainty. At the same time this is the most popular class — 52.5% of all tracks in the test set are assigned the \"cycling\" class. \n",
    "\n",
    "The \"ballet\" class is doing alright. 40% of all tracks are assigned this class label with 74.4% certainty on average. \n",
    "\n",
    "The \"yoga\" class has the fewest representatives in the test set. Only 29 tracks were assigned this class label but with high probability (81.6%). \n",
    "\n",
    "### 6. Apply probability threshold\n",
    "In my playlists, I want to keep only tracks with high probability of class membership. To decide on the threshold for  probability estimate I plot number of tracks in each class with a threshold varying from 0 to 100%. "
   ]
  },
  {
   "cell_type": "code",
   "execution_count": 21,
   "metadata": {
    "collapsed": true
   },
   "outputs": [],
   "source": [
    "def prob_with_threshold(model_pred, threshold):\n",
    "    \"\"\"Return an array with class probability\n",
    "    higher than a threshold.\n",
    "    \"\"\"\n",
    "    prob_thres = model_pred[model_pred[:, 1] >= threshold]\n",
    "    return prob_thres"
   ]
  },
  {
   "cell_type": "markdown",
   "metadata": {},
   "source": [
    "#### Make a plot"
   ]
  },
  {
   "cell_type": "code",
   "execution_count": 22,
   "metadata": {
    "collapsed": false
   },
   "outputs": [
    {
     "data": {
      "image/png": "[encoded data removed]",
      "text/plain": [
       "<matplotlib.figure.Figure at 0x10b718910>"
      ]
     },
     "metadata": {},
     "output_type": "display_data"
    }
   ],
   "source": [
    "%matplotlib inline\n",
    "import matplotlib\n",
    "import matplotlib.pyplot as plt\n",
    "\n",
    "# set seaborn plot defaults\n",
    "import seaborn as sns; \n",
    "sns.set(palette=\"husl\")\n",
    "sns.set_context(\"notebook\")\n",
    "sns.set_style(\"whitegrid\")\n",
    "\n",
    "# threshold values\n",
    "xs = list(a / 10.0 for a in range(11))\n",
    "\n",
    "# all classes\n",
    "total = [len(prob_with_threshold(knn_pred, i)) for i in xs]\n",
    "line_total = plt.plot(xs, total, linewidth=2, label='total')\n",
    "\n",
    "for lb in labels:\n",
    "    # label index\n",
    "    lb_ind = labels.index(lb)\n",
    "    # size of the class\n",
    "    lb_size = [class_size(prob_with_threshold(knn_pred, \n",
    "                                              i))[lb_ind] for i in xs]\n",
    "    line_lb = plt.plot(xs, lb_size, linewidth=2, label=lb)\n",
    "\n",
    "plt.ylabel('Number of tracks')\n",
    "plt.xlabel('Probability')\n",
    "plt.legend()\n",
    "plt.show()"
   ]
  },
  {
   "cell_type": "markdown",
   "metadata": {},
   "source": [
    "Looking at the plot, I'd say that 0.8 is a good value for the probability threshold. It filters out almost half of the tracks by eliminating tracks with a lower certainty of class membership. Thus, the playlists are more accurate. \n",
    "\n",
    "I apply the 0.8 probability threshold to data and review the result."
   ]
  },
  {
   "cell_type": "code",
   "execution_count": 23,
   "metadata": {
    "collapsed": true
   },
   "outputs": [],
   "source": [
    "def summary_of_prob_with_thres(model_pred, \n",
    "                               threshold, \n",
    "                               labels):\n",
    "    \"\"\"Print summary with a threshold applied to\n",
    "    the model prediction.\n",
    "    \"\"\"\n",
    "    model_thres = prob_with_threshold(model_pred, threshold)\n",
    "    print (\"Total number of tracks to classify: {}.\"\n",
    "           \"\\nNumber of tracks with {} probability \"\n",
    "           \"of class membership: {}, \"\n",
    "           \"or {:.1%} of the initial assignment.\"\n",
    "           .format(len(model_pred), \n",
    "                   threshold, \n",
    "                   len(model_thres),\n",
    "                  (len(model_thres)/len(model_pred))))\n",
    "    print \"\\nAmong which...\"\n",
    "    for lb in labels:\n",
    "        # label index\n",
    "        lb_ind = labels.index(lb)\n",
    "        # size of the class\n",
    "        lb_size = class_size(model_pred)[lb_ind]\n",
    "        # size of the class with a threshold\n",
    "        lb_thres_size = class_size(model_thres)[lb_ind]\n",
    "        print (\"...assigned the \\\"{}\\\" class: {} \"\n",
    "               \"({:.1%} of the initial assignment.)\"\n",
    "               \"\\nMean probability for the class: {:.3f}. \\n\"\n",
    "               .format(lb, lb_thres_size, \n",
    "                       (lb_thres_size / lb_size),\n",
    "                       class_mean(model_thres, lb_ind)))"
   ]
  },
  {
   "cell_type": "code",
   "execution_count": 24,
   "metadata": {
    "collapsed": false,
    "scrolled": true
   },
   "outputs": [
    {
     "name": "stdout",
     "output_type": "stream",
     "text": [
      "Total number of tracks to classify: 408.\n",
      "Number of tracks with 0.8 probability of class membership: 220, or 53.9% of the initial assignment.\n",
      "\n",
      "Among which...\n",
      "...assigned the \"ballet\" class: 64 (38.8% of the initial assignment.)\n",
      "Mean probability for the class: 0.917. \n",
      "\n",
      "...assigned the \"cycling\" class: 139 (65.0% of the initial assignment.)\n",
      "Mean probability for the class: 0.935. \n",
      "\n",
      "...assigned the \"yoga\" class: 17 (58.6% of the initial assignment.)\n",
      "Mean probability for the class: 0.935. \n",
      "\n"
     ]
    }
   ],
   "source": [
    "# print summary \n",
    "summary_of_prob_with_thres(knn_pred, 0.8, labels)"
   ]
  },
  {
   "cell_type": "markdown",
   "metadata": {},
   "source": [
    "54% of tracks have high probability of matching one of the three classes. By setting a 0.8 threshold, I increased the mean probability to 0.9. \n",
    "\n",
    "The \"ballet\" class lost more than 60% of tracks assigned this class initially. The \"cycling\" class lost only 35%, and the \"yoga\" class lost around 40% of tracks. "
   ]
  },
  {
   "cell_type": "markdown",
   "metadata": {},
   "source": [
    "### Summary\n",
    "In this notebook I applied **k-neighbors classification** technique to identify class membership of every track in the matching group and assign a class label. I started by tuning model parameters using the scikit-learn tool GridSearchCV. I estimated model accuracy using K-fold cross validation.  \n",
    "\n",
    "The estimated **model accuracy score** equals **0.742**.  \n",
    "\n",
    "Model prediction results: \n",
    "* \"ballet\" class: 165, or 40.4% of all tracks.\n",
    "* \"cycling\" class: 214, or 52.5% of all tracks.\n",
    "* \"yoga\" class: 29, or 7.1% of all tracks.\n",
    "\n",
    "The \"cycling\" class has the highest mean probability, which means that on average tracks are assigned this class with 83% certainty. At the same time, this is the most popular class — more than 50% of all tracks in the test set are assigned the \"cycling\" class. \n",
    "\n",
    "The \"ballet\" class is doing alright. 40% of all tracks are assigned this class label with 74% certainty on average. \n",
    "\n",
    "The \"yoga\" class has the fewest representatives in the test set. Only 29 tracks were assigned this class label. The mean probability, however, is rather high (81%).\n",
    "\n",
    "I applied 0.8 probability threshold to model predictions of class membership. As a result, only 54% were left of the initial selection but the mean probability increased to 0.9. The \"ballet\" class lost more than 60% of tracks.\n",
    "\n",
    "I saved all functions used in this notebook as a module 'estimator_handling.py'. I'm going to use it in the following notebooks. Data and results of this classification are stored in a HDF5 file. \n",
    "\n",
    "In the next post, I'm going to try [Random Forest Classifier](https://github.com/Tykovka/itunes-music-analysis/blob/master/06_Random_forest_classifier.ipynb)."
   ]
  }
 ],
 "metadata": {
  "kernelspec": {
   "display_name": "Python 2",
   "language": "python",
   "name": "python2"
  },
  "language_info": {
   "codemirror_mode": {
    "name": "ipython",
    "version": 2
   },
   "file_extension": ".py",
   "mimetype": "text/x-python",
   "name": "python",
   "nbconvert_exporter": "python",
   "pygments_lexer": "ipython2",
   "version": "2.7.10"
  }
 },
 "nbformat": 4,
 "nbformat_minor": 0
}
