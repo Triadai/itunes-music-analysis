{
 "cells": [
  {
   "cell_type": "markdown",
   "metadata": {},
   "source": [
    "# 07. Machine Learning for music playlists: Support Vector classification\n",
    "This is the 7th post in a series of posts devoted to analysis of iTunes music library using Scikit-Learn tools.   \n",
    "The purpose of the analysis is to detect tracks in my iTunes music library that would suit my fitness practices, which are \"cycling\", \"yoga\", and \"ballet\". To solve that problem I use supervised ML classification techniques. \n",
    "\n",
    "Previous posts cover the following steps:\n",
    "* [00_Summary](http://localhost:8888/notebooks/00_Summary.ipynb) — Summary of this analysis, its goals and methods, installation notes.\n",
    "* [01_Data_preparation](http://localhost:8888/notebooks/01_Data_preparation.ipynb) — Data gathering and cleaning.\n",
    "* [02_Data_visualisation](http://localhost:8888/notebooks/02_Data_Visualisation.ipynb) — Visualisation and overview of data.\n",
    "* [03_Preprocessing](http://localhost:8888/notebooks/03_Preprocessing.ipynb) — Data preprocessing to use it as input for Scikit-learn machine learning algorithms.\n",
    "* [04_Novelty_detection](http://localhost:8888/notebooks/04_Novelty_detection.ipynb) — One-Class SVM algorithm to identify matching tracks in the unlabeled dataset.\n",
    "* [05_kNN_classifier](http://localhost:8888/notebooks/05_kNN_classifier.ipynb) — K-nearest neighbors classification to assign class labels to 289 tracks in the test set.\n",
    "* [06_Random_forest_classifier](http://localhost:8888/notebooks/06_Random_forest_classifier.ipynb#) — Random Forest classification.\n",
    "\n",
    "I have two tables in HDF5 format: \n",
    "* training set contains 88 tracks labeled with one of the three classes: \"ballet\", \"cycling\", \"yoga\". Labels are stored as a pandas Series;\n",
    "* test set contains 289 tracks labeled as matching the training set and 155 tracks as non-matching. In the [04_Novelty_detection](http://localhost:8888/notebooks/04_Novelty_detection.ipynb) notebook I used One-Class SVM to choose tracks in the test set that match training data. As a result, each track was identified either as matching or not.\n",
    "\n",
    "In this post I continue testing different supervised ML classifiers. This time I apply **[Support Vector classifier](http://scikit-learn.org/stable/modules/generated/sklearn.svm.SVC.html#sklearn.svm.SVC)** to assign every track in the matching group one of the classes. \n",
    "\n",
    "As a shortcut, I import modules:\n",
    "* \"data_processing\" with functions from the [01_Data_preparation](http://localhost:8888/notebooks/01_Data_preparation.ipynb) and [03_Preprocessing](http://localhost:8888/notebooks/03_Preprocessing.ipynb) notebooks;\n",
    "* \"estimator_handling\" with functions from the [05_kNN_classification](http://localhost:8888/notebooks/05_KNN_classification.ipynb) notebook. In this post I will not go into detail about algorithms I used in the previous post [05_kNN_classification](http://localhost:8888/notebooks/05_KNN_classification.ipynb).\n",
    "\n",
    "I start with importing the modules required in the following notebook."
   ]
  },
  {
   "cell_type": "code",
   "execution_count": 1,
   "metadata": {
    "collapsed": true
   },
   "outputs": [],
   "source": [
    "%matplotlib inline\n",
    "import matplotlib\n",
    "import matplotlib.pyplot as plt\n",
    "from IPython.display import display\n",
    "import pandas as pd\n",
    "import numpy as np\n",
    "\n",
    "# import my modules\n",
    "import data_processing as prs\n",
    "import estimator_handling as esh\n",
    "\n",
    "# set seaborn plot defaults\n",
    "import seaborn as sns; \n",
    "sns.set(palette=\"husl\")\n",
    "sns.set_context(\"notebook\")\n",
    "sns.set_style(\"ticks\")\n",
    "\n",
    "# format floating point numbers\n",
    "# within pandas data structures\n",
    "pd.set_option('float_format', '{:.2f}'.format)"
   ]
  },
  {
   "cell_type": "markdown",
   "metadata": {},
   "source": [
    "### Read in data"
   ]
  },
  {
   "cell_type": "code",
   "execution_count": 2,
   "metadata": {
    "collapsed": false
   },
   "outputs": [
    {
     "data": {
      "text/plain": [
       "<class 'pandas.io.pytables.HDFStore'>\n",
       "File path: music_data.h5\n",
       "/knn_df               frame_table  (typ->appendable,nrows->289,ncols->14,indexers->[index])\n",
       "/rfc_df               frame_table  (typ->appendable,nrows->289,ncols->14,indexers->[index])\n",
       "/target               series       (shape->[88])                                           \n",
       "/test_svm             frame_table  (typ->appendable,nrows->444,ncols->12,indexers->[index])\n",
       "/train_std            frame_table  (typ->appendable,nrows->88,ncols->11,indexers->[index]) "
      ]
     },
     "execution_count": 2,
     "metadata": {},
     "output_type": "execute_result"
    }
   ],
   "source": [
    "# open an hdf5 file\n",
    "store = pd.HDFStore('music_data.h5')\n",
    "store"
   ]
  },
  {
   "cell_type": "markdown",
   "metadata": {},
   "source": [
    "Both sets are stored as pandas DataFrames. I convert these to numpy arrays because Scikit-Learn algorithms expect a numpy array as input. I also save index in the test set as a column when converting it to a numpy array. Thus it will be easier to identify each track after classification, where I'll be using only tracks labeled as matching.\n",
    "Data in both sets were standardized in the pre-processing step."
   ]
  },
  {
   "cell_type": "code",
   "execution_count": 3,
   "metadata": {
    "collapsed": true
   },
   "outputs": [],
   "source": [
    "# get training data (standardized) and convert to numpy array\n",
    "train_std = prs.convert_df_to_array(store['train_std'])\n",
    "\n",
    "# get test data (standardized) and convert to numpy array\n",
    "test_std = prs.convert_df_to_array(store['test_svm'].reset_index())\n",
    "\n",
    "# matching tracks\n",
    "match_test = test_std[(test_std[:, 12] == 1)]\n",
    "\n",
    "# target data as numpy array\n",
    "target = store['target'].values\n",
    "\n",
    "# list class labels\n",
    "labels = ['ballet', 'cycling', 'yoga']"
   ]
  },
  {
   "cell_type": "code",
   "execution_count": 4,
   "metadata": {
    "collapsed": false
   },
   "outputs": [
    {
     "name": "stdout",
     "output_type": "stream",
     "text": [
      "Data overview: \n",
      "Train data shape: (88, 11)\n",
      "Test data shape: (444, 13)\n",
      "Test data only with matching tracks: (289, 13)\n"
     ]
    }
   ],
   "source": [
    "print \"Data overview: \"\n",
    "print \"Train data shape:\", train_std.shape\n",
    "print \"Test data shape:\", test_std.shape\n",
    "print \"Test data only with matching tracks:\", match_test.shape"
   ]
  },
  {
   "cell_type": "markdown",
   "metadata": {},
   "source": [
    "## Support Vector Classifier\n",
    "Support Vector Machine Classifier is a discriminative classifier: that is, it draws a boundary between clusters of data, looking for the hyperplane that maximizes the distance to the nearest point in each class.  \n",
    "\n",
    "I'll plot the training dataset to see if there is such hyperplane. Since it's hard to plot 11 dimensions in a 2 dimensional space, I need to perform dimensionality reduction with a PCA algorithm. For the details on the algorithm refer to post [03_Preprocessing](http://localhost:8888/notebooks/03_Preprocessing.ipynb#Dimensionality-reduction)."
   ]
  },
  {
   "cell_type": "code",
   "execution_count": 9,
   "metadata": {
    "collapsed": false
   },
   "outputs": [],
   "source": [
    "# reduce dimensions\n",
    "from sklearn.decomposition import PCA\n",
    "train_2d = PCA(n_components=2).fit_transform(train_std)"
   ]
  },
  {
   "cell_type": "markdown",
   "metadata": {},
   "source": [
    "#### Make a plot"
   ]
  },
  {
   "cell_type": "code",
   "execution_count": 14,
   "metadata": {
    "collapsed": false
   },
   "outputs": [
    {
     "data": {
      "image/png": "[encoded data removed]",
      "text/plain": [
       "<matplotlib.figure.Figure at 0x115980c50>"
      ]
     },
     "metadata": {},
     "output_type": "display_data"
    }
   ],
   "source": [
    "for l,c,m in zip(range(0,3), \n",
    "                 ('olive', 'teal', 'purple'), \n",
    "                 ('^', 's', 'o')):\n",
    "    plt.scatter(train_2d[target==l, 0], \n",
    "                train_2d[target==l, 1],\n",
    "                color=c,\n",
    "                label=labels[l],\n",
    "                marker=m)\n",
    "    \n",
    "plt.xlabel('1st principal component')\n",
    "plt.ylabel('2nd principal component')\n",
    "plt.legend(bbox_to_anchor=(1.05, 1), borderaxespad=0.,\n",
    "           loc=2)\n",
    "plt.title('Training data in 2-dimentional space')\n",
    "plt.grid()\n",
    "sns.despine()"
   ]
  },
  {
   "cell_type": "markdown",
   "metadata": {},
   "source": [
    "There is no line that would perfectly separate the three classes. However the assumption behind SVM classifier is that a dataset D that is not linearly separable in N-dimentional space may be linearly separable in a higher-dimensional space M (where M > N). Thus, if we have a transformation that lifts the dataset D to a higher-dimensional D' such that  is linearly separable, then we can train SVM on D' to find a linear decision boundary that separates the classes in D'. Projecting the decision boundary found in D' back to the original space N will yield a nonlinear decision boundary. There is a nice [visualization](https://www.youtube.com/watch?v=3liCbRZPrZA) of that method.\n",
    "\n",
    "SVM has no need to explicitly work in the higher-dimensional space at training or testing time. During training, the optimization problem only uses the training examples to compute pair-wise dot products. This is know as a \"kernel trick\", which is some functional transformation of the input data. Kernel functions effectively compute dot products in a higher-dimensional space M while remaining in N-dimentional space.\n",
    "\n",
    "Let's try the classifier on my data. "
   ]
  },
  {
   "cell_type": "code",
   "execution_count": 16,
   "metadata": {
    "collapsed": true
   },
   "outputs": [],
   "source": [
    "from sklearn.svm import SVC"
   ]
  },
  {
   "cell_type": "markdown",
   "metadata": {},
   "source": [
    "The process I use for classification task is as follows:\n",
    "1. Tune parameters using GridSearchCV.\n",
    "2. Create and train the model.\n",
    "3. Estimate model accuracy score.\n",
    "4. Make predictions and estimate probability.\n",
    "5. Record the result to the set and DF.\n",
    "6. Review the results.\n",
    "7. Visualize the model.\n",
    "8. Apply probability threshold.\n",
    "9. Summary\n",
    "\n",
    "### 1. Tune parameters using GridSearchCV\n",
    "Proper model selection and additional parameters is critical to achieve good performance of the classifier. \n",
    "I apply GridSearchCV parameter tuning to choose:\n",
    "* the 'gamma' parameter defines how far the influence of a single training example reaches, with low values meaning ‘far’ and high values meaning ‘close’;\n",
    "* the 'C' parameter trades off misclassification of training examples against simplicity of the decision surface. A low C makes the decision surface smooth, while a high C aims at classifying all training examples correctly by giving the model freedom to select more samples as support vectors.\n",
    "I use the default 'rbf' kernel, or radial basis function. "
   ]
  },
  {
   "cell_type": "code",
   "execution_count": 98,
   "metadata": {
    "collapsed": false
   },
   "outputs": [],
   "source": [
    "# set parameter range\n",
    "C_range = np.logspace(-2, 10, 13)\n",
    "gamma_range = np.logspace(-4, 4, 13)"
   ]
  },
  {
   "cell_type": "code",
   "execution_count": 99,
   "metadata": {
    "collapsed": false
   },
   "outputs": [],
   "source": [
    "from sklearn.grid_search import GridSearchCV\n",
    "\n",
    "parameter_grid = {'C': C_range,\n",
    "                  'gamma': gamma_range}\n",
    "\n",
    "grid_search = GridSearchCV(SVC(), parameter_grid, \n",
    "                           cv=5)"
   ]
  },
  {
   "cell_type": "code",
   "execution_count": 100,
   "metadata": {
    "collapsed": false,
    "scrolled": true
   },
   "outputs": [
    {
     "data": {
      "text/plain": [
       "GridSearchCV(cv=5, error_score='raise',\n",
       "       estimator=SVC(C=1.0, cache_size=200, class_weight=None, coef0=0.0, degree=3, gamma=0.0,\n",
       "  kernel='rbf', max_iter=-1, probability=False, random_state=None,\n",
       "  shrinking=True, tol=0.001, verbose=False),\n",
       "       fit_params={}, iid=True, loss_func=None, n_jobs=1,\n",
       "       param_grid={'C': array([  1.00000e-02,   1.00000e-01,   1.00000e+00,   1.00000e+01,\n",
       "         1.00000e+02,   1.00000e+03,   1.00000e+04,   1.00000e+05,\n",
       "         1.00000e+06,   1.00000e+07,   1.00000e+08,   1.00000e+09,\n",
       "         1.00000e+10]), 'gamma': array([  1.00000e-04,   4.64159e-04,   2.15443e-03,   1.00000e-02,\n",
       "         4.64159e-02,   2.15443e-01,   1.00000e+00,   4.64159e+00,\n",
       "         2.15443e+01,   1.00000e+02,   4.64159e+02,   2.15443e+03,\n",
       "         1.00000e+04])},\n",
       "       pre_dispatch='2*n_jobs', refit=True, score_func=None, scoring=None,\n",
       "       verbose=0)"
      ]
     },
     "execution_count": 100,
     "metadata": {},
     "output_type": "execute_result"
    }
   ],
   "source": [
    "grid_search.fit(train_std, target)"
   ]
  },
  {
   "cell_type": "code",
   "execution_count": 101,
   "metadata": {
    "collapsed": false,
    "scrolled": true
   },
   "outputs": [
    {
     "data": {
      "text/plain": [
       "[mean: 0.81818, std: 0.08366, params: {'C': 1000.0, 'gamma': 0.00046415888336127773},\n",
       " mean: 0.81818, std: 0.10392, params: {'C': 1000.0, 'gamma': 0.21544346900318823},\n",
       " mean: 0.81818, std: 0.08804, params: {'C': 10000.0, 'gamma': 0.00046415888336127773},\n",
       " mean: 0.81818, std: 0.10392, params: {'C': 10000.0, 'gamma': 0.21544346900318823},\n",
       " mean: 0.81818, std: 0.10392, params: {'C': 100000.0, 'gamma': 0.21544346900318823},\n",
       " mean: 0.81818, std: 0.10392, params: {'C': 1000000.0, 'gamma': 0.21544346900318823},\n",
       " mean: 0.81818, std: 0.10392, params: {'C': 10000000.0, 'gamma': 0.21544346900318823},\n",
       " mean: 0.81818, std: 0.10392, params: {'C': 100000000.0, 'gamma': 0.21544346900318823},\n",
       " mean: 0.81818, std: 0.10392, params: {'C': 1000000000.0, 'gamma': 0.21544346900318823},\n",
       " mean: 0.81818, std: 0.10392, params: {'C': 10000000000.0, 'gamma': 0.21544346900318823}]"
      ]
     },
     "execution_count": 101,
     "metadata": {},
     "output_type": "execute_result"
    }
   ],
   "source": [
    "# review the result (only the last 10 with the higest score)\n",
    "sorted(grid_search.grid_scores_, \n",
    "       key=lambda x: x.mean_validation_score)[-10:]"
   ]
  },
  {
   "cell_type": "code",
   "execution_count": 102,
   "metadata": {
    "collapsed": false
   },
   "outputs": [
    {
     "name": "stdout",
     "output_type": "stream",
     "text": [
      "The best-performing tuning parameters\n",
      "Best score: 0.8182;\n",
      "Parameters: {'C': 10.0, 'gamma': 0.21544346900318823}\n"
     ]
    }
   ],
   "source": [
    "# define the winner\n",
    "svc_best_score = grid_search.best_score_\n",
    "best_params = grid_search.best_params_\n",
    "\n",
    "print (\"The best-performing tuning parameters\"\n",
    "       \"\\nBest score: {0:.4f};\"\n",
    "       \"\\nParameters: {1}\"\n",
    "       .format(svc_best_score,\n",
    "               best_params))"
   ]
  },
  {
   "cell_type": "markdown",
   "metadata": {},
   "source": [
    "#### Plot Validation Curve"
   ]
  },
  {
   "cell_type": "code",
   "execution_count": 116,
   "metadata": {
    "collapsed": false
   },
   "outputs": [
    {
     "data": {
      "image/png": "[encoded data removed]",
      "text/plain": [
       "<matplotlib.figure.Figure at 0x115d15c90>"
      ]
     },
     "metadata": {},
     "output_type": "display_data"
    }
   ],
   "source": [
    "from sklearn.learning_curve import validation_curve\n",
    "\n",
    "fig, (ax1, ax2) = plt.subplots(ncols=2, figsize=(15,4))\n",
    "fig.suptitle(\"Validation Curve with SVC\")\n",
    "\n",
    "def plot_val_curve(ax, train_data, target, param_name, param_range):\n",
    "\n",
    "    train_scores, test_scores = validation_curve(\n",
    "        SVC(), train_data, target, \n",
    "        param_name=param_name, \n",
    "        param_range=param_range,\n",
    "        cv=10, scoring=\"accuracy\", n_jobs=1)\n",
    "    \n",
    "    train_scores_mean = np.mean(train_scores, axis=1)\n",
    "    train_scores_std = np.std(train_scores, axis=1)\n",
    "    test_scores_mean = np.mean(test_scores, axis=1)\n",
    "    test_scores_std = np.std(test_scores, axis=1)\n",
    "\n",
    "    ax.set_xlabel(param_name)\n",
    "    ax.set_ylabel(\"Score\")\n",
    "    ax.set_ylim(0.0, 1.1)\n",
    "    \n",
    "    ax.semilogx(param_range, train_scores_mean, label=\"Training score\", color=\"r\")\n",
    "    ax.fill_between(param_range, train_scores_mean - train_scores_std,\n",
    "                     train_scores_mean + train_scores_std, alpha=0.2, color=\"r\")\n",
    "    ax.semilogx(param_range, test_scores_mean, label=\"Cross-validation score\",\n",
    "                 color=\"g\")\n",
    "    ax.fill_between(param_range, test_scores_mean - test_scores_std,\n",
    "                     test_scores_mean + test_scores_std, alpha=0.2, color=\"g\")\n",
    "\n",
    "# plot gamma\n",
    "plot_val_curve(ax1, train_std, target, \"gamma\", gamma_range)\n",
    "\n",
    "# plot C\n",
    "plot_val_curve(ax2, train_std, target, \"C\", C_range)\n",
    "\n",
    "# add legend\n",
    "plt.legend(bbox_to_anchor=(1.05, 1), borderaxespad=0.,\n",
    "           loc=2)\n",
    "sns.despine()"
   ]
  },
  {
   "cell_type": "code",
   "execution_count": 117,
   "metadata": {
    "collapsed": true
   },
   "outputs": [],
   "source": [
    "learning_curve?"
   ]
  },
  {
   "cell_type": "code",
   "execution_count": 140,
   "metadata": {
    "collapsed": false
   },
   "outputs": [
    {
     "data": {
      "image/png": "[encoded data removed]",
      "text/plain": [
       "<matplotlib.figure.Figure at 0x11562a450>"
      ]
     },
     "metadata": {},
     "output_type": "display_data"
    }
   ],
   "source": [
    "from sklearn.learning_curve import learning_curve\n",
    "from sklearn.cross_validation import StratifiedShuffleSplit\n",
    "\n",
    "sns.set()\n",
    "\n",
    "def rms_error(model, train_data, target):\n",
    "    y_pred = model.predict(train_data)\n",
    "    return np.sqrt(np.mean((target - y_pred) ** 2))\n",
    "\n",
    "def plot_with_err(x, data, **kwargs):\n",
    "    mu, std = data.mean(1), data.std(1)\n",
    "    lines = plt.plot(x, mu, '-', **kwargs)\n",
    "    plt.fill_between(x, mu - std, mu + std, edgecolor='none',\n",
    "                     facecolor=lines[0].get_color(), alpha=0.2)\n",
    "\n",
    "def plot_learning_curve(model, train_data, target):\n",
    "    train_sizes = np.linspace(0.05, 1, 10)\n",
    "    N_train, val_train, val_test = learning_curve(model, train_data, target, \n",
    "                                                  train_sizes, \n",
    "                                                  cv=StratifiedShuffleSplit(target),\n",
    "                                                 scoring=rms_error)\n",
    "    \n",
    "    plot_with_err(N_train, val_train, label='training scores')\n",
    "    plot_with_err(N_train, val_test, label='validation scores')\n",
    "    plt.xlabel('Training Set Size'); plt.ylabel('rms error')\n",
    "    plt.ylim(0, 3)\n",
    "    plt.xlim(5, 80)\n",
    "    plt.legend()\n",
    "    \n",
    "plot_learning_curve(svc, train_std, target)"
   ]
  },
  {
   "cell_type": "code",
   "execution_count": null,
   "metadata": {
    "collapsed": true
   },
   "outputs": [],
   "source": []
  },
  {
   "cell_type": "code",
   "execution_count": 125,
   "metadata": {
    "collapsed": true
   },
   "outputs": [],
   "source": [
    "learning_curve?"
   ]
  },
  {
   "cell_type": "code",
   "execution_count": 130,
   "metadata": {
    "collapsed": false
   },
   "outputs": [],
   "source": [
    "\n",
    "cv = StratifiedShuffleSplit(target)"
   ]
  },
  {
   "cell_type": "code",
   "execution_count": 132,
   "metadata": {
    "collapsed": false
   },
   "outputs": [],
   "source": [
    "train_sizes = np.linspace(0.05, 1, 20)\n",
    "N_train, val_train, val_test = learning_curve(SVC(C=best_params['C'], \n",
    "                                                  gamma=best_params['gamma']), \n",
    "                                              train_std, target, train_sizes, cv=StratifiedShuffleSplit(target))"
   ]
  },
  {
   "cell_type": "code",
   "execution_count": null,
   "metadata": {
    "collapsed": true
   },
   "outputs": [],
   "source": [
    "plot_with_err(N_train, val_train, label='training scores')\n",
    "plot_with_err(N_train, val_test, label='validation scores')\n",
    "    plt.xlabel('Training Set Size'); plt.ylabel('rms error')\n",
    "    plt.ylim(0, 3)\n",
    "    plt.xlim(5, 80)\n",
    "    plt.legend()"
   ]
  },
  {
   "cell_type": "markdown",
   "metadata": {},
   "source": [
    "\n",
    "\n",
    "### 2. Create and train the model\n",
    "Next I create a model using the parameters defined by GridSearchCV.\n",
    "I also add probability=True to parameters. Training SVMs with probability=True can be quite a lot more expensive than a non-probabilistic SVM. But since it's a small set it doesn't make much difference. "
   ]
  },
  {
   "cell_type": "code",
   "execution_count": 59,
   "metadata": {
    "collapsed": false
   },
   "outputs": [
    {
     "data": {
      "text/plain": [
       "SVC(C=10.0, cache_size=200, class_weight=None, coef0=0.0, degree=3,\n",
       "  gamma=0.01, kernel='rbf', max_iter=-1, probability=True,\n",
       "  random_state=None, shrinking=True, tol=0.001, verbose=False)"
      ]
     },
     "execution_count": 59,
     "metadata": {},
     "output_type": "execute_result"
    }
   ],
   "source": [
    "# create the model\n",
    "svc = SVC(kernel='rbf', \n",
    "                C=best_params['C'], \n",
    "               gamma=best_params['gamma'],\n",
    "               probability=True)\n",
    "\n",
    "# train the model\n",
    "svc.fit(train_std, target)"
   ]
  },
  {
   "cell_type": "markdown",
   "metadata": {},
   "source": [
    "### 3. Estimate model accuracy score\n",
    "I use 10-fold cross validation."
   ]
  },
  {
   "cell_type": "code",
   "execution_count": 60,
   "metadata": {
    "collapsed": true
   },
   "outputs": [],
   "source": [
    "from sklearn.cross_validation import cross_val_score\n",
    "\n",
    "# calculate model accuracy score\n",
    "cvs = cross_val_score(svc, train_std, target, \n",
    "                    scoring='accuracy', cv=10).mean()"
   ]
  },
  {
   "cell_type": "code",
   "execution_count": 61,
   "metadata": {
    "collapsed": false
   },
   "outputs": [
    {
     "name": "stdout",
     "output_type": "stream",
     "text": [
      "Support Vector classification model accuracy score: 0.761\n",
      "Model report \n",
      "             precision    recall  f1-score   support\n",
      "\n",
      "     ballet       0.67      0.76      0.71        34\n",
      "    cycling       0.93      0.90      0.92        31\n",
      "       yoga       0.68      0.57      0.62        23\n",
      "\n",
      "avg / total       0.77      0.76      0.76        88\n",
      "\n"
     ]
    }
   ],
   "source": [
    "# Build a text report showing the main classification metrics\n",
    "from sklearn.cross_validation import cross_val_predict\n",
    "from sklearn.metrics import classification_report\n",
    "    \n",
    "predicted = cross_val_predict(svc, train_std, \n",
    "                            target, cv=10)\n",
    "\n",
    "print (\"Support Vector classification model \"\n",
    "       \"accuracy score: {:.3f}\"\n",
    "       .format(cvs))\n",
    "print \"Model report \\n\", \n",
    "print classification_report(target, predicted, \n",
    "                            target_names=labels)"
   ]
  },
  {
   "cell_type": "markdown",
   "metadata": {},
   "source": [
    "The overall accuracy of the model is high. All three classes have high scores. \n",
    "\n",
    "The \"cycling\" class has the highest precision and recall ratio. That means that the pureness of model prediction for that class is 0.97 (3% of tracks assigned this class have a different label). At the same time 97% of tracks belonging to that class were identified correctly by the model.\n",
    "\n",
    "The \"ballet\" class is easier to identify (88% of tracks belonging to that class were identified correctly by the model) however the precision ratio is a bit lower (0.76). It looks like some tracks from the \"yoga\" class were assigned the \"ballet\" label.\n",
    "\n",
    "The \"yoga\" class has the lowest recall ratio. The precision ratio, however, is high. That means that just 17% of tracks assigned the \"yoga\" label have a different label but at the same time 35% of tracks with the \"yoga\" label were assigned a different class.\n",
    "\n",
    "### 4. Make predictions and estimate probability\n",
    "Satisfied with the model performance on the training set, I apply it to the test set to make predictions using predict method. "
   ]
  },
  {
   "cell_type": "code",
   "execution_count": 62,
   "metadata": {
    "collapsed": true
   },
   "outputs": [],
   "source": [
    "# make predictions\n",
    "# exclude index and novelty result\n",
    "svc_output = svc.predict(match_test[:, 1:12])"
   ]
  },
  {
   "cell_type": "markdown",
   "metadata": {},
   "source": [
    "I call predict_proba method that can predict the probability of class membership. For every query point it will calculate the probablity of belonging to each class. I use [that function](http://localhost:8888/notebooks/05_KNN_classification.ipynb#4.-Make-predictions-and-estimate-probability) from the previous post."
   ]
  },
  {
   "cell_type": "code",
   "execution_count": 63,
   "metadata": {
    "collapsed": true
   },
   "outputs": [],
   "source": [
    "# classification probability\n",
    "svc_prob = esh.class_prob(svc, match_test[:, 1:12])"
   ]
  },
  {
   "cell_type": "markdown",
   "metadata": {},
   "source": [
    "### 5. Record the result\n",
    "I add the model prediction and probability to the matching set and then to the DF. I store the resulting dataframe as a hdf5 file. "
   ]
  },
  {
   "cell_type": "code",
   "execution_count": 64,
   "metadata": {
    "collapsed": false
   },
   "outputs": [
    {
     "name": "stdout",
     "output_type": "stream",
     "text": [
      "(289, 15)\n",
      "\n",
      "Sample of the resulting set: \n"
     ]
    },
    {
     "data": {
      "text/plain": [
       "array([[ 0.        , -1.20843788,  0.63488137,  1.25808605, -0.88779748,\n",
       "        -0.49132844,  0.78719594, -1.1740436 , -0.39262975, -0.74488995,\n",
       "         0.43101536,  0.57687657,  1.        ,  1.        ,  0.57128021],\n",
       "       [ 1.        , -0.2793643 , -0.95059729, -0.59717964,  1.12009741,\n",
       "         1.26151896,  0.17775694, -1.1740436 , -0.80693268,  0.63767235,\n",
       "        -0.87689333, -0.01472446,  1.        ,  0.        ,  0.67971687],\n",
       "       [ 2.        ,  0.72038789,  1.90749621, -0.54831972,  1.14486486,\n",
       "         0.38509526, -0.33955242,  0.85175712, -0.08956489,  0.29581684,\n",
       "         0.43101536,  1.24591181,  1.        ,  0.        ,  0.62825386]])"
      ]
     },
     "execution_count": 64,
     "metadata": {},
     "output_type": "execute_result"
    }
   ],
   "source": [
    "# add the result to the matching set\n",
    "svc_set = np.concatenate((match_test, svc_output[:, None], svc_prob), 1)\n",
    "\n",
    "# review the result\n",
    "print svc_set.shape\n",
    "print \"\\nSample of the resulting set: \"\n",
    "svc_set[:3]"
   ]
  },
  {
   "cell_type": "code",
   "execution_count": 65,
   "metadata": {
    "collapsed": false
   },
   "outputs": [
    {
     "data": {
      "text/html": [
       "<div>\n",
       "<table border=\"1\" class=\"dataframe\">\n",
       "  <thead>\n",
       "    <tr style=\"text-align: right;\">\n",
       "      <th></th>\n",
       "      <th>acousticness</th>\n",
       "      <th>danceability</th>\n",
       "      <th>energy</th>\n",
       "      <th>instrumentalness</th>\n",
       "      <th>key</th>\n",
       "      <th>loudness</th>\n",
       "      <th>mode</th>\n",
       "      <th>speechiness</th>\n",
       "      <th>tempo</th>\n",
       "      <th>time_signature</th>\n",
       "      <th>valence</th>\n",
       "      <th>match</th>\n",
       "      <th>label</th>\n",
       "      <th>prob</th>\n",
       "    </tr>\n",
       "    <tr>\n",
       "      <th>index</th>\n",
       "      <th></th>\n",
       "      <th></th>\n",
       "      <th></th>\n",
       "      <th></th>\n",
       "      <th></th>\n",
       "      <th></th>\n",
       "      <th></th>\n",
       "      <th></th>\n",
       "      <th></th>\n",
       "      <th></th>\n",
       "      <th></th>\n",
       "      <th></th>\n",
       "      <th></th>\n",
       "      <th></th>\n",
       "    </tr>\n",
       "  </thead>\n",
       "  <tbody>\n",
       "    <tr>\n",
       "      <th>375</th>\n",
       "      <td>-1.07</td>\n",
       "      <td>0.88</td>\n",
       "      <td>0.88</td>\n",
       "      <td>-0.91</td>\n",
       "      <td>-1.37</td>\n",
       "      <td>1.13</td>\n",
       "      <td>0.85</td>\n",
       "      <td>-0.64</td>\n",
       "      <td>-0.78</td>\n",
       "      <td>0.43</td>\n",
       "      <td>1.48</td>\n",
       "      <td>1</td>\n",
       "      <td>1</td>\n",
       "      <td>0.94</td>\n",
       "    </tr>\n",
       "    <tr>\n",
       "      <th>278</th>\n",
       "      <td>-1.14</td>\n",
       "      <td>0.67</td>\n",
       "      <td>0.84</td>\n",
       "      <td>0.96</td>\n",
       "      <td>0.39</td>\n",
       "      <td>0.12</td>\n",
       "      <td>0.85</td>\n",
       "      <td>-0.06</td>\n",
       "      <td>-0.62</td>\n",
       "      <td>0.43</td>\n",
       "      <td>-0.12</td>\n",
       "      <td>1</td>\n",
       "      <td>0</td>\n",
       "      <td>0.60</td>\n",
       "    </tr>\n",
       "    <tr>\n",
       "      <th>21</th>\n",
       "      <td>-0.20</td>\n",
       "      <td>0.42</td>\n",
       "      <td>1.08</td>\n",
       "      <td>-0.91</td>\n",
       "      <td>-0.49</td>\n",
       "      <td>0.76</td>\n",
       "      <td>-1.17</td>\n",
       "      <td>1.34</td>\n",
       "      <td>-1.35</td>\n",
       "      <td>0.43</td>\n",
       "      <td>0.73</td>\n",
       "      <td>1</td>\n",
       "      <td>0</td>\n",
       "      <td>0.58</td>\n",
       "    </tr>\n",
       "  </tbody>\n",
       "</table>\n",
       "</div>"
      ],
      "text/plain": [
       "       acousticness  danceability  energy  instrumentalness   key  loudness  \\\n",
       "index                                                                         \n",
       "375           -1.07          0.88    0.88             -0.91 -1.37      1.13   \n",
       "278           -1.14          0.67    0.84              0.96  0.39      0.12   \n",
       "21            -0.20          0.42    1.08             -0.91 -0.49      0.76   \n",
       "\n",
       "       mode  speechiness  tempo  time_signature  valence  match  label  prob  \n",
       "index                                                                         \n",
       "375    0.85        -0.64  -0.78            0.43     1.48      1      1  0.94  \n",
       "278    0.85        -0.06  -0.62            0.43    -0.12      1      0  0.60  \n",
       "21    -1.17         1.34  -1.35            0.43     0.73      1      0  0.58  "
      ]
     },
     "execution_count": 65,
     "metadata": {},
     "output_type": "execute_result"
    }
   ],
   "source": [
    "# transform the set back into pandas dataframe\n",
    "svc_df = esh.nparray_to_df(svc_set, store)\n",
    "\n",
    "# review the result\n",
    "svc_df.sample(3)"
   ]
  },
  {
   "cell_type": "code",
   "execution_count": 66,
   "metadata": {
    "collapsed": true
   },
   "outputs": [],
   "source": [
    "# save in HDF5\n",
    "svc_df.to_hdf('music_data.h5', 'svc_df', format='table')"
   ]
  },
  {
   "cell_type": "markdown",
   "metadata": {},
   "source": [
    "### 6. Review the result\n",
    "I use [that function](http://localhost:8888/notebooks/05_KNN_classification.ipynb#6.-Review-the-result) from the previous post."
   ]
  },
  {
   "cell_type": "code",
   "execution_count": 67,
   "metadata": {
    "collapsed": false
   },
   "outputs": [
    {
     "name": "stdout",
     "output_type": "stream",
     "text": [
      "Summary of the Support Vector classifier performance\n",
      "\n",
      "Model: \n",
      "SVC(C=10.0, cache_size=200, class_weight=None, coef0=0.0, degree=3,\n",
      "  gamma=0.01, kernel='rbf', max_iter=-1, probability=True,\n",
      "  random_state=None, shrinking=True, tol=0.001, verbose=False)\n",
      "\n",
      "Model accuracy score: 0.761\n",
      "\n",
      "Number of tracks in the test set: 289.\n",
      "Number of tracks assigned to the \"ballet\" class: 145, or 50.17% of all tracks.\n",
      "Number of tracks assigned to the \"cycling\" class: 135, or 46.71% of all tracks.\n",
      "Number of tracks assigned to the \"yoga\" class: 9, or 3.11% of all tracks.\n",
      "\n",
      "Mean probability for each category\n",
      "label\n",
      "0   0.66\n",
      "1   0.75\n",
      "2   0.53\n",
      "Name: prob, dtype: float64\n"
     ]
    }
   ],
   "source": [
    "# print the summary\n",
    "esh.model_summary(svc_df, svc, 'Support Vector', labels, cvs)"
   ]
  },
  {
   "cell_type": "markdown",
   "metadata": {},
   "source": [
    "### 7. Apply probability threshold\n",
    "In my playlists I want to keep only tracks with high probability of class membership. To decide on the threshold for  probability estimate I plot number of tracks in each class with a threshold varying from 0 to 100%. \n",
    "#### Make a plot\n",
    "I call plot_prob_thres function from the previous notebook."
   ]
  },
  {
   "cell_type": "code",
   "execution_count": 69,
   "metadata": {
    "collapsed": false
   },
   "outputs": [
    {
     "ename": "AttributeError",
     "evalue": "'module' object has no attribute 'plot_prob_thres'",
     "output_type": "error",
     "traceback": [
      "\u001b[0;31m---------------------------------------------------------------------------\u001b[0m",
      "\u001b[0;31mAttributeError\u001b[0m                            Traceback (most recent call last)",
      "\u001b[0;32m<ipython-input-69-4bd6b019371d>\u001b[0m in \u001b[0;36m<module>\u001b[0;34m()\u001b[0m\n\u001b[0;32m----> 1\u001b[0;31m \u001b[0mesh\u001b[0m\u001b[0;34m.\u001b[0m\u001b[0mplot_prob_thres\u001b[0m\u001b[0;34m(\u001b[0m\u001b[0msvc_df\u001b[0m\u001b[0;34m,\u001b[0m \u001b[0mlabels\u001b[0m\u001b[0;34m)\u001b[0m\u001b[0;34m\u001b[0m\u001b[0m\n\u001b[0m",
      "\u001b[0;31mAttributeError\u001b[0m: 'module' object has no attribute 'plot_prob_thres'"
     ]
    }
   ],
   "source": [
    "esh.plot_prob_thres(svc_df, labels)"
   ]
  },
  {
   "cell_type": "markdown",
   "metadata": {},
   "source": [
    "As in the [previous post](http://localhost:8888/notebooks/05_KNN_classification.ipynb#Make-a-plot), I apply the 0.7 probability threshold to data and review the result. It filters out some tracks in each class, eliminating tracks with lower certainty of class membership and, thus, making the playlists more accurate."
   ]
  },
  {
   "cell_type": "code",
   "execution_count": 73,
   "metadata": {
    "collapsed": false
   },
   "outputs": [
    {
     "name": "stdout",
     "output_type": "stream",
     "text": [
      "Total number of tracks to classify: 289.\n",
      "Number of tracks with 0.7 probability of class membership: 136.\n",
      "Among which...\n",
      "...assigned the \"ballet\" class: 55 (145 without the threshold).\n",
      "...assigned the \"cycling\" class: 80 (135 without the threshold).\n",
      "...assigned the \"yoga\" class: 1 (9 without the threshold).\n",
      "\n",
      "Mean probability for each class\n",
      "label\n",
      "0   0.76\n",
      "1   0.87\n",
      "2   0.70\n",
      "Name: prob, dtype: float64\n"
     ]
    }
   ],
   "source": [
    "# print summary \n",
    "esh.summary_of_prob_with_thres(svc_df, 0.7, labels)"
   ]
  },
  {
   "cell_type": "markdown",
   "metadata": {},
   "source": [
    "### Summary\n",
    "In this notebook I applied **Support Vector Machine classification** tecnique to identify class membership of every track in the matching group and assign a class label. I started by tuning model parameters using scikit-learn tool GridSearchCV. I estimated model accuracy using K-fold cross validation tecnique.  \n",
    "\n",
    "The estimated **model accuracy score** equals **0.761**.  \n",
    "\n",
    "Model prediction results: \n",
    "* \"ballet\" class: 112, or 38.75% of all tracks.\n",
    "* \"cycling\" class: 172, or 59.52% of all tracks.\n",
    "* \"yoga\" class: 5, or 1.73% of all tracks.\n",
    "\n",
    "The \"cycling\" class has the highest mean probability, which means that on average tracks are assigned this class with 83% certainty. At the same time this is the most popular class — almost 60% of all tracks in the test set are assigned the \"cycling\" class. \n",
    "\n",
    "The \"ballet\" class is doing alright. Almost 40% of all tracks are assigned this class label with 72% certainty on average. \n",
    "\n",
    "The \"yoga\" class has the fewest representatives in the test set. Only 5 tracks were assigned this class label. The mean probability is the lowest among the three classes (63%).\n",
    "\n",
    "I applied 0.7 probability threshold to model predictions of class membership. As a result the \"ballet\" class lost 35% of tracks (73 are left), the \"cycling\" class lost about 24% (131 tracks left), and the \"yoga\" class is left with only 2 tracks (60% lost).\n",
    "\n",
    "Data and results of this classification are stored in a HDF5 file. \n",
    "\n",
    "In the next post I compare the results of all applied classifiers so far."
   ]
  }
 ],
 "metadata": {
  "kernelspec": {
   "display_name": "Python 2",
   "language": "python",
   "name": "python2"
  },
  "language_info": {
   "codemirror_mode": {
    "name": "ipython",
    "version": 2
   },
   "file_extension": ".py",
   "mimetype": "text/x-python",
   "name": "python",
   "nbconvert_exporter": "python",
   "pygments_lexer": "ipython2",
   "version": "2.7.10"
  }
 },
 "nbformat": 4,
 "nbformat_minor": 0
}
