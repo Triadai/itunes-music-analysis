{
 "cells": [
  {
   "cell_type": "markdown",
   "metadata": {},
   "source": [
    "# iTunes music library analysis: Preprocessing Data\n",
    "\n",
    "This is the third post in a series of posts devoted to analysis of iTunes music library using Scikit-Learn tools.   \n",
    "This notebook covers steps necessary to preprocess data to use it as input for Scikit-learn machine learning algorithms. \n",
    "\n",
    "The previous posts cover the following steps:\n",
    "1. [00_Summary]() — Summary of this analysis, its goals and methods, installation notes.\n",
    "2. [01_Data_preparation]() — Data gathering and cleaning.\n",
    "3. [02_Data_visualisation]() — Visualisation and overview of data.\n",
    "\n",
    "As a result of previous manipulations I have two databases (DBs): \n",
    "* training DB contains 88 labeled tracks with one of the three classes: \"ballet\", \"cycling\", \"yoga\";\n",
    "* test DB contains 444 non-labeled tracks. \n",
    "\n",
    "As a shortcut, in this notebook I import module \"data_cleaning.py\" where I perform steps from the [01_Data_preparation]() notebook. I start with importing the modules required in the following notebook."
   ]
  },
  {
   "cell_type": "code",
   "execution_count": 1,
   "metadata": {
    "collapsed": true
   },
   "outputs": [],
   "source": [
    "%matplotlib inline\n",
    "import matplotlib\n",
    "import matplotlib.pyplot as plt\n",
    "from IPython.display import display\n",
    "import pandas as pd\n",
    "import numpy as np\n",
    "from sqlitedict import SqliteDict\n",
    "\n",
    "# import my module from the previous notebook\n",
    "import data_cleaning as cln\n",
    "\n",
    "# set seaborn plot defaults\n",
    "import seaborn as sns; \n",
    "sns.set(palette=\"husl\")\n",
    "sns.set_style(\"ticks\")\n",
    "\n",
    "# format floating point numbers\n",
    "# within pandas data structures\n",
    "pd.set_option('float_format', '{:.2f}'.format)"
   ]
  },
  {
   "cell_type": "markdown",
   "metadata": {},
   "source": [
    "#### Read in datasets"
   ]
  },
  {
   "cell_type": "code",
   "execution_count": 12,
   "metadata": {
    "collapsed": false
   },
   "outputs": [
    {
     "data": {
      "text/html": [
       "<div>\n",
       "<table border=\"1\" class=\"dataframe\">\n",
       "  <thead>\n",
       "    <tr style=\"text-align: right;\">\n",
       "      <th></th>\n",
       "      <th>song_title</th>\n",
       "      <th>acousticness</th>\n",
       "      <th>artist</th>\n",
       "      <th>category</th>\n",
       "      <th>danceability</th>\n",
       "      <th>energy</th>\n",
       "      <th>instrumentalness</th>\n",
       "      <th>key</th>\n",
       "      <th>loudness</th>\n",
       "      <th>mode</th>\n",
       "      <th>speechiness</th>\n",
       "      <th>tempo</th>\n",
       "      <th>time_signature</th>\n",
       "      <th>valence</th>\n",
       "    </tr>\n",
       "  </thead>\n",
       "  <tbody>\n",
       "    <tr>\n",
       "      <th>44</th>\n",
       "      <td>Return To</td>\n",
       "      <td>0.77</td>\n",
       "      <td>#1 Dads</td>\n",
       "      <td>ballet</td>\n",
       "      <td>0.47</td>\n",
       "      <td>0.29</td>\n",
       "      <td>0.05</td>\n",
       "      <td>6</td>\n",
       "      <td>-13.80</td>\n",
       "      <td>0</td>\n",
       "      <td>0.03</td>\n",
       "      <td>127.81</td>\n",
       "      <td>4</td>\n",
       "      <td>0.12</td>\n",
       "    </tr>\n",
       "    <tr>\n",
       "      <th>23</th>\n",
       "      <td>Gusts of Wind Blowing in Different Directions</td>\n",
       "      <td>0.96</td>\n",
       "      <td>The Last Dinosaur</td>\n",
       "      <td>yoga</td>\n",
       "      <td>0.36</td>\n",
       "      <td>0.01</td>\n",
       "      <td>0.94</td>\n",
       "      <td>6</td>\n",
       "      <td>-27.53</td>\n",
       "      <td>1</td>\n",
       "      <td>0.04</td>\n",
       "      <td>98.78</td>\n",
       "      <td>1</td>\n",
       "      <td>0.21</td>\n",
       "    </tr>\n",
       "    <tr>\n",
       "      <th>77</th>\n",
       "      <td>Undercover Martyn</td>\n",
       "      <td>0.00</td>\n",
       "      <td>Two door cinema club</td>\n",
       "      <td>cycling</td>\n",
       "      <td>0.44</td>\n",
       "      <td>0.86</td>\n",
       "      <td>0.00</td>\n",
       "      <td>11</td>\n",
       "      <td>-4.82</td>\n",
       "      <td>0</td>\n",
       "      <td>0.17</td>\n",
       "      <td>159.82</td>\n",
       "      <td>4</td>\n",
       "      <td>0.57</td>\n",
       "    </tr>\n",
       "  </tbody>\n",
       "</table>\n",
       "</div>"
      ],
      "text/plain": [
       "                                       song_title  acousticness  \\\n",
       "44                                      Return To          0.77   \n",
       "23  Gusts of Wind Blowing in Different Directions          0.96   \n",
       "77                              Undercover Martyn          0.00   \n",
       "\n",
       "                  artist category  danceability  energy  instrumentalness  \\\n",
       "44               #1 Dads   ballet          0.47    0.29              0.05   \n",
       "23     The Last Dinosaur     yoga          0.36    0.01              0.94   \n",
       "77  Two door cinema club  cycling          0.44    0.86              0.00   \n",
       "\n",
       "    key  loudness  mode  speechiness  tempo  time_signature  valence  \n",
       "44    6    -13.80     0         0.03 127.81               4     0.12  \n",
       "23    6    -27.53     1         0.04  98.78               1     0.21  \n",
       "77   11     -4.82     0         0.17 159.82               4     0.57  "
      ]
     },
     "execution_count": 12,
     "metadata": {},
     "output_type": "execute_result"
    }
   ],
   "source": [
    "# train DB\n",
    "train_db = SqliteDict('./labeled_tracks', autocommit=True)\n",
    "\n",
    "# create a df with training data\n",
    "train_df = cln.read_db_in_pandas(train_db)\n",
    "\n",
    "train_df.sample(3)"
   ]
  },
  {
   "cell_type": "code",
   "execution_count": 13,
   "metadata": {
    "collapsed": false
   },
   "outputs": [
    {
     "data": {
      "text/html": [
       "<div>\n",
       "<table border=\"1\" class=\"dataframe\">\n",
       "  <thead>\n",
       "    <tr style=\"text-align: right;\">\n",
       "      <th></th>\n",
       "      <th>song_title</th>\n",
       "      <th>acousticness</th>\n",
       "      <th>artist</th>\n",
       "      <th>danceability</th>\n",
       "      <th>energy</th>\n",
       "      <th>instrumentalness</th>\n",
       "      <th>key</th>\n",
       "      <th>loudness</th>\n",
       "      <th>mode</th>\n",
       "      <th>speechiness</th>\n",
       "      <th>tempo</th>\n",
       "      <th>time_signature</th>\n",
       "      <th>valence</th>\n",
       "    </tr>\n",
       "  </thead>\n",
       "  <tbody>\n",
       "    <tr>\n",
       "      <th>360</th>\n",
       "      <td>The Birds and the Bees</td>\n",
       "      <td>0.36</td>\n",
       "      <td>Patrick &amp; Eugene</td>\n",
       "      <td>0.85</td>\n",
       "      <td>0.92</td>\n",
       "      <td>0.00</td>\n",
       "      <td>1</td>\n",
       "      <td>-7.55</td>\n",
       "      <td>1</td>\n",
       "      <td>0.09</td>\n",
       "      <td>123.99</td>\n",
       "      <td>4</td>\n",
       "      <td>0.90</td>\n",
       "    </tr>\n",
       "    <tr>\n",
       "      <th>441</th>\n",
       "      <td>the music scene</td>\n",
       "      <td>0.62</td>\n",
       "      <td>blockhead</td>\n",
       "      <td>0.69</td>\n",
       "      <td>0.66</td>\n",
       "      <td>0.36</td>\n",
       "      <td>7</td>\n",
       "      <td>-10.46</td>\n",
       "      <td>1</td>\n",
       "      <td>0.08</td>\n",
       "      <td>100.00</td>\n",
       "      <td>4</td>\n",
       "      <td>0.60</td>\n",
       "    </tr>\n",
       "    <tr>\n",
       "      <th>404</th>\n",
       "      <td>We Have Everything</td>\n",
       "      <td>0.00</td>\n",
       "      <td>Young Galaxy</td>\n",
       "      <td>0.60</td>\n",
       "      <td>0.87</td>\n",
       "      <td>0.55</td>\n",
       "      <td>5</td>\n",
       "      <td>-8.06</td>\n",
       "      <td>0</td>\n",
       "      <td>0.04</td>\n",
       "      <td>125.00</td>\n",
       "      <td>4</td>\n",
       "      <td>0.20</td>\n",
       "    </tr>\n",
       "  </tbody>\n",
       "</table>\n",
       "</div>"
      ],
      "text/plain": [
       "                 song_title  acousticness            artist  danceability  \\\n",
       "360  The Birds and the Bees          0.36  Patrick & Eugene          0.85   \n",
       "441         the music scene          0.62         blockhead          0.69   \n",
       "404      We Have Everything          0.00      Young Galaxy          0.60   \n",
       "\n",
       "     energy  instrumentalness  key  loudness  mode  speechiness  tempo  \\\n",
       "360    0.92              0.00    1     -7.55     1         0.09 123.99   \n",
       "441    0.66              0.36    7    -10.46     1         0.08 100.00   \n",
       "404    0.87              0.55    5     -8.06     0         0.04 125.00   \n",
       "\n",
       "     time_signature  valence  \n",
       "360               4     0.90  \n",
       "441               4     0.60  \n",
       "404               4     0.20  "
      ]
     },
     "execution_count": 13,
     "metadata": {},
     "output_type": "execute_result"
    }
   ],
   "source": [
    "# test DB\n",
    "test_db = SqliteDict('./itunes_tracks',\n",
    "                     autocommit=True)\n",
    "# create a df with test data\n",
    "test_df = cln.read_db_in_pandas(test_db)\n",
    "\n",
    "test_df.sample(3)"
   ]
  },
  {
   "cell_type": "markdown",
   "metadata": {
    "collapsed": true
   },
   "source": [
    "In this post, I will go through the following steps:\n",
    "1. Transform sets to numerical (Numpy) arrays;\n",
    "2. Standardisation of the features;\n",
    "3. Dimensionality reduction.\n",
    "\n",
    "## Transform sets\n",
    "To work with scikit-learn library, both datasets need to be shaped a bit.\n",
    "Most machine learning algorithms implemented in scikit-learn expect a numpy array as input. The expected shape of the input is (n_samples, n_features). This applies both to the training and test datasets.\n",
    "n_samples: the number of samples; each sample is an item to be classified. In our case this would be a track.\n",
    "n_features: the number of features or distinct traits that can be used to describe each item in a quantitative manner. In our case these are the track attributes. Features like \"song_title\" and \"artist\" are not quantitative and are not relevant for the classification task, that's why I exclude these from both inputs.\n",
    "\n",
    "I transform both dataframes to numerical (Numpy) arrays. I copy the original sets and apply the required changes to copies not to loose any data.\n",
    "\n",
    "### — Training set —\n",
    "I start with the training set. \"category\" column in the training set has to be transformed into numerical format to be processed by scikit-learn algorithms as target data (labels). \"Typical\" machine learning algorithms handle class labels with \"no order implied\" - unless a ranking classifier (e.g., SVM-rank) is used. Thus, it is save to use a simple set-item-enumeration to convert the class labels from a string representation into integers.\n",
    "\n",
    "I use LabelEncoder scikit-learn function, which encodes labels with values between 0 and n_classes-1. "
   ]
  },
  {
   "cell_type": "code",
   "execution_count": 14,
   "metadata": {
    "collapsed": false
   },
   "outputs": [
    {
     "data": {
      "text/plain": [
       "[u'ballet', u'cycling', u'yoga']"
      ]
     },
     "execution_count": 14,
     "metadata": {},
     "output_type": "execute_result"
    }
   ],
   "source": [
    "# transform target classes to numerical labels\n",
    "from sklearn import preprocessing\n",
    "le = preprocessing.LabelEncoder()\n",
    "\n",
    "# list the three categories\n",
    "categories = list(pd.unique(train_df.category.ravel()))\n",
    "le.fit(categories)\n",
    "\n",
    "# list target classes\n",
    "list(le.classes_)"
   ]
  },
  {
   "cell_type": "code",
   "execution_count": 15,
   "metadata": {
    "collapsed": false
   },
   "outputs": [
    {
     "data": {
      "text/plain": [
       "array([1, 2, 2, 2, 1, 0, 2, 0, 1, 2, 1, 2, 2, 1, 0, 0, 2, 1, 1, 1, 0, 2, 1,\n",
       "       2, 1, 1, 1, 2, 0, 1, 1, 2, 0, 0, 0, 0, 1, 2, 0, 1, 0, 2, 2, 0, 0, 2,\n",
       "       0, 0, 0, 0, 0, 1, 0, 1, 0, 1, 1, 0, 2, 0, 2, 0, 0, 1, 1, 0, 0, 2, 2,\n",
       "       1, 1, 0, 1, 0, 1, 1, 0, 1, 0, 1, 1, 0, 2, 1, 1, 0, 2, 2])"
      ]
     },
     "execution_count": 15,
     "metadata": {},
     "output_type": "execute_result"
    }
   ],
   "source": [
    "# create an array with target labels\n",
    "target = le.transform(train_df['category'])\n",
    "target"
   ]
  },
  {
   "cell_type": "markdown",
   "metadata": {},
   "source": [
    "I set up a matrix so that each track (observation) forms a row, and the track attributes (features) form columns."
   ]
  },
  {
   "cell_type": "code",
   "execution_count": 16,
   "metadata": {
    "collapsed": false
   },
   "outputs": [
    {
     "data": {
      "text/html": [
       "<div>\n",
       "<table border=\"1\" class=\"dataframe\">\n",
       "  <thead>\n",
       "    <tr style=\"text-align: right;\">\n",
       "      <th></th>\n",
       "      <th>acousticness</th>\n",
       "      <th>danceability</th>\n",
       "      <th>energy</th>\n",
       "      <th>instrumentalness</th>\n",
       "      <th>key</th>\n",
       "      <th>loudness</th>\n",
       "      <th>mode</th>\n",
       "      <th>speechiness</th>\n",
       "      <th>tempo</th>\n",
       "      <th>time_signature</th>\n",
       "      <th>valence</th>\n",
       "    </tr>\n",
       "  </thead>\n",
       "  <tbody>\n",
       "    <tr>\n",
       "      <th>0</th>\n",
       "      <td>0.66</td>\n",
       "      <td>0.39</td>\n",
       "      <td>0.60</td>\n",
       "      <td>0.00</td>\n",
       "      <td>1</td>\n",
       "      <td>-9.80</td>\n",
       "      <td>1</td>\n",
       "      <td>0.03</td>\n",
       "      <td>190.04</td>\n",
       "      <td>4</td>\n",
       "      <td>0.58</td>\n",
       "    </tr>\n",
       "    <tr>\n",
       "      <th>1</th>\n",
       "      <td>0.98</td>\n",
       "      <td>0.09</td>\n",
       "      <td>0.01</td>\n",
       "      <td>0.96</td>\n",
       "      <td>6</td>\n",
       "      <td>-29.25</td>\n",
       "      <td>1</td>\n",
       "      <td>0.04</td>\n",
       "      <td>87.99</td>\n",
       "      <td>4</td>\n",
       "      <td>0.03</td>\n",
       "    </tr>\n",
       "    <tr>\n",
       "      <th>2</th>\n",
       "      <td>0.95</td>\n",
       "      <td>0.06</td>\n",
       "      <td>0.07</td>\n",
       "      <td>0.91</td>\n",
       "      <td>8</td>\n",
       "      <td>-24.79</td>\n",
       "      <td>0</td>\n",
       "      <td>0.04</td>\n",
       "      <td>67.25</td>\n",
       "      <td>5</td>\n",
       "      <td>0.03</td>\n",
       "    </tr>\n",
       "    <tr>\n",
       "      <th>3</th>\n",
       "      <td>0.82</td>\n",
       "      <td>0.17</td>\n",
       "      <td>0.19</td>\n",
       "      <td>0.80</td>\n",
       "      <td>6</td>\n",
       "      <td>-25.12</td>\n",
       "      <td>1</td>\n",
       "      <td>0.05</td>\n",
       "      <td>127.61</td>\n",
       "      <td>4</td>\n",
       "      <td>0.11</td>\n",
       "    </tr>\n",
       "    <tr>\n",
       "      <th>4</th>\n",
       "      <td>0.36</td>\n",
       "      <td>0.40</td>\n",
       "      <td>0.55</td>\n",
       "      <td>0.00</td>\n",
       "      <td>1</td>\n",
       "      <td>-8.60</td>\n",
       "      <td>0</td>\n",
       "      <td>0.03</td>\n",
       "      <td>77.73</td>\n",
       "      <td>4</td>\n",
       "      <td>0.85</td>\n",
       "    </tr>\n",
       "  </tbody>\n",
       "</table>\n",
       "</div>"
      ],
      "text/plain": [
       "   acousticness  danceability  energy  instrumentalness  key  loudness  mode  \\\n",
       "0          0.66          0.39    0.60              0.00    1     -9.80     1   \n",
       "1          0.98          0.09    0.01              0.96    6    -29.25     1   \n",
       "2          0.95          0.06    0.07              0.91    8    -24.79     0   \n",
       "3          0.82          0.17    0.19              0.80    6    -25.12     1   \n",
       "4          0.36          0.40    0.55              0.00    1     -8.60     0   \n",
       "\n",
       "   speechiness  tempo  time_signature  valence  \n",
       "0         0.03 190.04               4     0.58  \n",
       "1         0.04  87.99               4     0.03  \n",
       "2         0.04  67.25               5     0.03  \n",
       "3         0.05 127.61               4     0.11  \n",
       "4         0.03  77.73               4     0.85  "
      ]
     },
     "execution_count": 16,
     "metadata": {},
     "output_type": "execute_result"
    }
   ],
   "source": [
    "# make a copy of the training df\n",
    "# keep only numerical values\n",
    "cols = train_df.select_dtypes(exclude=[object]).columns\n",
    "train_matrix = train_df[cols]\n",
    "\n",
    "# review the set\n",
    "train_matrix.head()"
   ]
  },
  {
   "cell_type": "code",
   "execution_count": 17,
   "metadata": {
    "collapsed": false
   },
   "outputs": [
    {
     "data": {
      "text/plain": [
       "(88, 11)"
      ]
     },
     "execution_count": 17,
     "metadata": {},
     "output_type": "execute_result"
    }
   ],
   "source": [
    "# convert to a numerical (Numpy) array\n",
    "train_data = np.nan_to_num(train_matrix.values)\n",
    "train_data.shape"
   ]
  },
  {
   "cell_type": "markdown",
   "metadata": {},
   "source": [
    "### — Test set —"
   ]
  },
  {
   "cell_type": "code",
   "execution_count": 18,
   "metadata": {
    "collapsed": false
   },
   "outputs": [
    {
     "data": {
      "text/html": [
       "<div>\n",
       "<table border=\"1\" class=\"dataframe\">\n",
       "  <thead>\n",
       "    <tr style=\"text-align: right;\">\n",
       "      <th></th>\n",
       "      <th>acousticness</th>\n",
       "      <th>danceability</th>\n",
       "      <th>energy</th>\n",
       "      <th>instrumentalness</th>\n",
       "      <th>key</th>\n",
       "      <th>loudness</th>\n",
       "      <th>mode</th>\n",
       "      <th>speechiness</th>\n",
       "      <th>tempo</th>\n",
       "      <th>time_signature</th>\n",
       "      <th>valence</th>\n",
       "    </tr>\n",
       "  </thead>\n",
       "  <tbody>\n",
       "    <tr>\n",
       "      <th>0</th>\n",
       "      <td>0.01</td>\n",
       "      <td>0.58</td>\n",
       "      <td>0.86</td>\n",
       "      <td>0.01</td>\n",
       "      <td>4</td>\n",
       "      <td>-7.14</td>\n",
       "      <td>0</td>\n",
       "      <td>0.04</td>\n",
       "      <td>99.01</td>\n",
       "      <td>4</td>\n",
       "      <td>0.54</td>\n",
       "    </tr>\n",
       "    <tr>\n",
       "      <th>1</th>\n",
       "      <td>0.39</td>\n",
       "      <td>0.31</td>\n",
       "      <td>0.30</td>\n",
       "      <td>0.85</td>\n",
       "      <td>10</td>\n",
       "      <td>-11.28</td>\n",
       "      <td>0</td>\n",
       "      <td>0.03</td>\n",
       "      <td>142.21</td>\n",
       "      <td>3</td>\n",
       "      <td>0.37</td>\n",
       "    </tr>\n",
       "    <tr>\n",
       "      <th>2</th>\n",
       "      <td>0.80</td>\n",
       "      <td>0.80</td>\n",
       "      <td>0.31</td>\n",
       "      <td>0.86</td>\n",
       "      <td>7</td>\n",
       "      <td>-14.80</td>\n",
       "      <td>1</td>\n",
       "      <td>0.05</td>\n",
       "      <td>131.53</td>\n",
       "      <td>4</td>\n",
       "      <td>0.72</td>\n",
       "    </tr>\n",
       "    <tr>\n",
       "      <th>3</th>\n",
       "      <td>0.58</td>\n",
       "      <td>0.71</td>\n",
       "      <td>0.51</td>\n",
       "      <td>0.90</td>\n",
       "      <td>5</td>\n",
       "      <td>-10.88</td>\n",
       "      <td>1</td>\n",
       "      <td>0.03</td>\n",
       "      <td>93.03</td>\n",
       "      <td>4</td>\n",
       "      <td>0.44</td>\n",
       "    </tr>\n",
       "    <tr>\n",
       "      <th>4</th>\n",
       "      <td>0.10</td>\n",
       "      <td>0.52</td>\n",
       "      <td>0.93</td>\n",
       "      <td>0.00</td>\n",
       "      <td>11</td>\n",
       "      <td>-8.22</td>\n",
       "      <td>0</td>\n",
       "      <td>0.04</td>\n",
       "      <td>103.05</td>\n",
       "      <td>4</td>\n",
       "      <td>0.31</td>\n",
       "    </tr>\n",
       "  </tbody>\n",
       "</table>\n",
       "</div>"
      ],
      "text/plain": [
       "   acousticness  danceability  energy  instrumentalness  key  loudness  mode  \\\n",
       "0          0.01          0.58    0.86              0.01    4     -7.14     0   \n",
       "1          0.39          0.31    0.30              0.85   10    -11.28     0   \n",
       "2          0.80          0.80    0.31              0.86    7    -14.80     1   \n",
       "3          0.58          0.71    0.51              0.90    5    -10.88     1   \n",
       "4          0.10          0.52    0.93              0.00   11     -8.22     0   \n",
       "\n",
       "   speechiness  tempo  time_signature  valence  \n",
       "0         0.04  99.01               4     0.54  \n",
       "1         0.03 142.21               3     0.37  \n",
       "2         0.05 131.53               4     0.72  \n",
       "3         0.03  93.03               4     0.44  \n",
       "4         0.04 103.05               4     0.31  "
      ]
     },
     "execution_count": 18,
     "metadata": {},
     "output_type": "execute_result"
    }
   ],
   "source": [
    "# make a copy of the test df\n",
    "# keep only numerical values\n",
    "cols = test_df.select_dtypes(exclude=[object]).columns\n",
    "test_matrix = test_df[cols]\n",
    "\n",
    "# review the set\n",
    "test_matrix.head()"
   ]
  },
  {
   "cell_type": "code",
   "execution_count": 19,
   "metadata": {
    "collapsed": false
   },
   "outputs": [
    {
     "data": {
      "text/plain": [
       "(444, 11)"
      ]
     },
     "execution_count": 19,
     "metadata": {},
     "output_type": "execute_result"
    }
   ],
   "source": [
    "# convert to a numerical (Numpy) array\n",
    "test_data = np.nan_to_num(test_matrix.values)\n",
    "test_data.shape"
   ]
  },
  {
   "cell_type": "markdown",
   "metadata": {},
   "source": [
    "## Data Standardization\n",
    "It is necessary to perform standardization of features in both sets. This step is required because when training the models estimators might behave badly if the individual features do not more or less look like standard normally distributed data: Gaussian with zero mean and unit variance. If a feature has a variance that is orders of magnitude larger that others, it might dominate the objective function and make the estimator unable to learn from other features correctly as expected. In our case \"tempo\" attribute varies from 46.22 to 194.90, whereas \"loudness\" is in range [-35.89, -1.84], and most features are whithin [0, 1] boundaries. The estimator will be unable to learn from other features correctly as expected.  \n",
    " \n",
    "So it is essential to rescale the inputs so that their variability reflects their importance, or at least is not in\n",
    "inverse relation to their importance. For lack of better prior information, I standardize each input to the same standard deviation. \n",
    "\n",
    "I use scikit-learn module StandardScaler() for this purpose. Centering and scaling happen independently on each feature by computing the relevant statistics on the samples in the training set. Mean and standard deviation are then stored to be used on later data using the transform method."
   ]
  },
  {
   "cell_type": "code",
   "execution_count": 81,
   "metadata": {
    "collapsed": false
   },
   "outputs": [
    {
     "name": "stdout",
     "output_type": "stream",
     "text": [
      "Mean after standardization:\n",
      "Acousticness=-0.00, Loudness=-0.00, Mode=-0.00, Tempo=-0.00\n",
      "\n",
      "Standard deviation after standardization:\n",
      "Acousticness=1.00, Loudness=1.00, Mode=1.00, Tempo=1.00\n"
     ]
    }
   ],
   "source": [
    "# perform standardization of features\n",
    "from sklearn import preprocessing\n",
    "std_scale = preprocessing.StandardScaler().fit(train_data)\n",
    "train_std = std_scale.transform(train_data)\n",
    "\n",
    "print(\"Mean after standardization:\\nAcousticness={:.2f}, \" \n",
    "      \"Loudness={:.2f}, Mode={:.2f}, Tempo={:.2f}\"\n",
    "      .format(train_std[:,0].mean(), train_std[:,5].mean(),\n",
    "             train_std[:,6].mean(), train_std[:,8].mean()))\n",
    "\n",
    "print(\"\\nStandard deviation after standardization:\"\n",
    "      \"\\nAcousticness={:.2f}, Loudness={:.2f}, \" \n",
    "      \"Mode={:.2f}, Tempo={:.2f}\"\n",
    "      .format(train_std[:,0].std(), train_std[:,5].std(),\n",
    "             train_std[:,6].std(), train_std[:,8].std()))"
   ]
  },
  {
   "cell_type": "markdown",
   "metadata": {},
   "source": [
    "#### Plot the result"
   ]
  },
  {
   "cell_type": "code",
   "execution_count": 103,
   "metadata": {
    "collapsed": false
   },
   "outputs": [
    {
     "data": {
      "text/plain": [
       "<matplotlib.text.Text at 0x113f06cd0>"
      ]
     },
     "execution_count": 103,
     "metadata": {},
     "output_type": "execute_result"
    },
    {
     "data": {
      "image/png": "[encoded data removed]",
      "text/plain": [
       "<matplotlib.figure.Figure at 0x1102c9710>"
      ]
     },
     "metadata": {},
     "output_type": "display_data"
    }
   ],
   "source": [
    "fig, (ax1, ax2) = plt.subplots(nrows=1, ncols=2, \n",
    "                               sharey=False,\n",
    "                               figsize=(15,6))\n",
    "\n",
    "# space between the title and the plot\n",
    "plt.subplots_adjust(top=0.85) \n",
    "# add a title\n",
    "fig.suptitle('Acousticness and Tempo before and after standardization')\n",
    "\n",
    "# remove the top and right spines from plots\n",
    "sns.despine()\n",
    "\n",
    "# make a scatterplot\n",
    "sns.regplot(x=train_std[:,0], y=train_std[:,8], data=train_std, ax=ax1)\n",
    "sns.regplot(x=train_data[:,0], y=train_data[:,8], data=train_data, ax=ax2)\n",
    "plt.xlabel('Acousticness')\n",
    "plt.ylabel('Tempo')"
   ]
  },
  {
   "cell_type": "code",
   "execution_count": null,
   "metadata": {
    "collapsed": true
   },
   "outputs": [],
   "source": []
  }
 ],
 "metadata": {
  "kernelspec": {
   "display_name": "Python 2",
   "language": "python",
   "name": "python2"
  },
  "language_info": {
   "codemirror_mode": {
    "name": "ipython",
    "version": 2
   },
   "file_extension": ".py",
   "mimetype": "text/x-python",
   "name": "python",
   "nbconvert_exporter": "python",
   "pygments_lexer": "ipython2",
   "version": "2.7.10"
  }
 },
 "nbformat": 4,
 "nbformat_minor": 0
}
